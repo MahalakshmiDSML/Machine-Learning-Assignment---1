{
  "nbformat": 4,
  "nbformat_minor": 0,
  "metadata": {
    "colab": {
      "provenance": [],
      "authorship_tag": "ABX9TyMxshH8Lr1CNWKxn/Ze1yeh",
      "include_colab_link": true
    },
    "kernelspec": {
      "name": "python3",
      "display_name": "Python 3"
    },
    "language_info": {
      "name": "python"
    }
  },
  "cells": [
    {
      "cell_type": "markdown",
      "metadata": {
        "id": "view-in-github",
        "colab_type": "text"
      },
      "source": [
        "<a href=\"https://colab.research.google.com/github/MahalakshmiDSML/Machine-Learning-Assignment---1/blob/main/ML_Assignment_1_Statistical_Measures_and_Hypothesis_Testing.ipynb\" target=\"_parent\"><img src=\"https://colab.research.google.com/assets/colab-badge.svg\" alt=\"Open In Colab\"/></a>"
      ]
    },
    {
      "cell_type": "markdown",
      "source": [
        "#**ML Assignment 1 – Statistical Measures and Hypothesis Testing**\n",
        "\n",
        "\n",
        "\n",
        "##**Students Performance in Exams - Statistical Analysis**\n"
      ],
      "metadata": {
        "id": "zkAm2fxPzuOe"
      }
    },
    {
      "cell_type": "markdown",
      "source": [
        "##**Analysis Steps:-**\n",
        "\n",
        "###**Descriptive Statistics:**\n",
        "\n",
        "Compute the following descriptive statistics for each of the score columns **math score, reading score, and writing score:**\n",
        "\n",
        "Mean\n",
        "\n",
        "Median\n",
        "\n",
        "Mode\n",
        "\n",
        "Minimum\n",
        "\n",
        "Maximum\n",
        "\n",
        "Standard Deviation\n",
        "\n",
        "Provide a summary of these statistics and discuss any interesting observations.\n"
      ],
      "metadata": {
        "id": "ewHqagj8z_Zl"
      }
    },
    {
      "cell_type": "code",
      "source": [
        "import numpy as np\n",
        "import pandas as pd\n",
        "import matplotlib.pyplot as plt\n",
        "import seaborn as sns\n",
        "import scipy.stats as stats\n",
        "import plotly.express as px\n",
        "import plotly.figure_factory as ff\n",
        "\n",
        "csvfile=\"/content/ML Assignment 1 – Statistical Measures and Hypothesis Testing dataset.txt\"\n",
        "df=pd.read_csv(csvfile)\n",
        "\n",
        "df.info()      # to show no of rows, columns , datatype and null value count also."
      ],
      "metadata": {
        "colab": {
          "base_uri": "https://localhost:8080/"
        },
        "id": "YUQBwkKp1kO_",
        "outputId": "a7010ade-7bd1-4a82-c01a-6f97e2514df2"
      },
      "execution_count": null,
      "outputs": [
        {
          "output_type": "stream",
          "name": "stdout",
          "text": [
            "<class 'pandas.core.frame.DataFrame'>\n",
            "RangeIndex: 1000 entries, 0 to 999\n",
            "Data columns (total 8 columns):\n",
            " #   Column                       Non-Null Count  Dtype \n",
            "---  ------                       --------------  ----- \n",
            " 0   gender                       1000 non-null   object\n",
            " 1   race/ethnicity               1000 non-null   object\n",
            " 2   parental level of education  1000 non-null   object\n",
            " 3   lunch                        1000 non-null   object\n",
            " 4   test preparation course      1000 non-null   object\n",
            " 5   math score                   1000 non-null   int64 \n",
            " 6   reading score                1000 non-null   int64 \n",
            " 7   writing score                1000 non-null   int64 \n",
            "dtypes: int64(3), object(5)\n",
            "memory usage: 62.6+ KB\n"
          ]
        }
      ]
    },
    {
      "cell_type": "code",
      "source": [
        "df.head()    # to show first 5 rows"
      ],
      "metadata": {
        "colab": {
          "base_uri": "https://localhost:8080/",
          "height": 206
        },
        "id": "1cIR3GE41kbk",
        "outputId": "c5a3235b-2811-431e-908e-22b248d2660e"
      },
      "execution_count": null,
      "outputs": [
        {
          "output_type": "execute_result",
          "data": {
            "text/plain": [
              "   gender race/ethnicity parental level of education         lunch  \\\n",
              "0  female        group B           bachelor's degree      standard   \n",
              "1  female        group C                some college      standard   \n",
              "2  female        group B             master's degree      standard   \n",
              "3    male        group A          associate's degree  free/reduced   \n",
              "4    male        group C                some college      standard   \n",
              "\n",
              "  test preparation course  math score  reading score  writing score  \n",
              "0                    none          72             72             74  \n",
              "1               completed          69             90             88  \n",
              "2                    none          90             95             93  \n",
              "3                    none          47             57             44  \n",
              "4                    none          76             78             75  "
            ],
            "text/html": [
              "\n",
              "  <div id=\"df-bfb1314f-5ef2-44e2-9f25-f06a8f5fea99\" class=\"colab-df-container\">\n",
              "    <div>\n",
              "<style scoped>\n",
              "    .dataframe tbody tr th:only-of-type {\n",
              "        vertical-align: middle;\n",
              "    }\n",
              "\n",
              "    .dataframe tbody tr th {\n",
              "        vertical-align: top;\n",
              "    }\n",
              "\n",
              "    .dataframe thead th {\n",
              "        text-align: right;\n",
              "    }\n",
              "</style>\n",
              "<table border=\"1\" class=\"dataframe\">\n",
              "  <thead>\n",
              "    <tr style=\"text-align: right;\">\n",
              "      <th></th>\n",
              "      <th>gender</th>\n",
              "      <th>race/ethnicity</th>\n",
              "      <th>parental level of education</th>\n",
              "      <th>lunch</th>\n",
              "      <th>test preparation course</th>\n",
              "      <th>math score</th>\n",
              "      <th>reading score</th>\n",
              "      <th>writing score</th>\n",
              "    </tr>\n",
              "  </thead>\n",
              "  <tbody>\n",
              "    <tr>\n",
              "      <th>0</th>\n",
              "      <td>female</td>\n",
              "      <td>group B</td>\n",
              "      <td>bachelor's degree</td>\n",
              "      <td>standard</td>\n",
              "      <td>none</td>\n",
              "      <td>72</td>\n",
              "      <td>72</td>\n",
              "      <td>74</td>\n",
              "    </tr>\n",
              "    <tr>\n",
              "      <th>1</th>\n",
              "      <td>female</td>\n",
              "      <td>group C</td>\n",
              "      <td>some college</td>\n",
              "      <td>standard</td>\n",
              "      <td>completed</td>\n",
              "      <td>69</td>\n",
              "      <td>90</td>\n",
              "      <td>88</td>\n",
              "    </tr>\n",
              "    <tr>\n",
              "      <th>2</th>\n",
              "      <td>female</td>\n",
              "      <td>group B</td>\n",
              "      <td>master's degree</td>\n",
              "      <td>standard</td>\n",
              "      <td>none</td>\n",
              "      <td>90</td>\n",
              "      <td>95</td>\n",
              "      <td>93</td>\n",
              "    </tr>\n",
              "    <tr>\n",
              "      <th>3</th>\n",
              "      <td>male</td>\n",
              "      <td>group A</td>\n",
              "      <td>associate's degree</td>\n",
              "      <td>free/reduced</td>\n",
              "      <td>none</td>\n",
              "      <td>47</td>\n",
              "      <td>57</td>\n",
              "      <td>44</td>\n",
              "    </tr>\n",
              "    <tr>\n",
              "      <th>4</th>\n",
              "      <td>male</td>\n",
              "      <td>group C</td>\n",
              "      <td>some college</td>\n",
              "      <td>standard</td>\n",
              "      <td>none</td>\n",
              "      <td>76</td>\n",
              "      <td>78</td>\n",
              "      <td>75</td>\n",
              "    </tr>\n",
              "  </tbody>\n",
              "</table>\n",
              "</div>\n",
              "    <div class=\"colab-df-buttons\">\n",
              "\n",
              "  <div class=\"colab-df-container\">\n",
              "    <button class=\"colab-df-convert\" onclick=\"convertToInteractive('df-bfb1314f-5ef2-44e2-9f25-f06a8f5fea99')\"\n",
              "            title=\"Convert this dataframe to an interactive table.\"\n",
              "            style=\"display:none;\">\n",
              "\n",
              "  <svg xmlns=\"http://www.w3.org/2000/svg\" height=\"24px\" viewBox=\"0 -960 960 960\">\n",
              "    <path d=\"M120-120v-720h720v720H120Zm60-500h600v-160H180v160Zm220 220h160v-160H400v160Zm0 220h160v-160H400v160ZM180-400h160v-160H180v160Zm440 0h160v-160H620v160ZM180-180h160v-160H180v160Zm440 0h160v-160H620v160Z\"/>\n",
              "  </svg>\n",
              "    </button>\n",
              "\n",
              "  <style>\n",
              "    .colab-df-container {\n",
              "      display:flex;\n",
              "      gap: 12px;\n",
              "    }\n",
              "\n",
              "    .colab-df-convert {\n",
              "      background-color: #E8F0FE;\n",
              "      border: none;\n",
              "      border-radius: 50%;\n",
              "      cursor: pointer;\n",
              "      display: none;\n",
              "      fill: #1967D2;\n",
              "      height: 32px;\n",
              "      padding: 0 0 0 0;\n",
              "      width: 32px;\n",
              "    }\n",
              "\n",
              "    .colab-df-convert:hover {\n",
              "      background-color: #E2EBFA;\n",
              "      box-shadow: 0px 1px 2px rgba(60, 64, 67, 0.3), 0px 1px 3px 1px rgba(60, 64, 67, 0.15);\n",
              "      fill: #174EA6;\n",
              "    }\n",
              "\n",
              "    .colab-df-buttons div {\n",
              "      margin-bottom: 4px;\n",
              "    }\n",
              "\n",
              "    [theme=dark] .colab-df-convert {\n",
              "      background-color: #3B4455;\n",
              "      fill: #D2E3FC;\n",
              "    }\n",
              "\n",
              "    [theme=dark] .colab-df-convert:hover {\n",
              "      background-color: #434B5C;\n",
              "      box-shadow: 0px 1px 3px 1px rgba(0, 0, 0, 0.15);\n",
              "      filter: drop-shadow(0px 1px 2px rgba(0, 0, 0, 0.3));\n",
              "      fill: #FFFFFF;\n",
              "    }\n",
              "  </style>\n",
              "\n",
              "    <script>\n",
              "      const buttonEl =\n",
              "        document.querySelector('#df-bfb1314f-5ef2-44e2-9f25-f06a8f5fea99 button.colab-df-convert');\n",
              "      buttonEl.style.display =\n",
              "        google.colab.kernel.accessAllowed ? 'block' : 'none';\n",
              "\n",
              "      async function convertToInteractive(key) {\n",
              "        const element = document.querySelector('#df-bfb1314f-5ef2-44e2-9f25-f06a8f5fea99');\n",
              "        const dataTable =\n",
              "          await google.colab.kernel.invokeFunction('convertToInteractive',\n",
              "                                                    [key], {});\n",
              "        if (!dataTable) return;\n",
              "\n",
              "        const docLinkHtml = 'Like what you see? Visit the ' +\n",
              "          '<a target=\"_blank\" href=https://colab.research.google.com/notebooks/data_table.ipynb>data table notebook</a>'\n",
              "          + ' to learn more about interactive tables.';\n",
              "        element.innerHTML = '';\n",
              "        dataTable['output_type'] = 'display_data';\n",
              "        await google.colab.output.renderOutput(dataTable, element);\n",
              "        const docLink = document.createElement('div');\n",
              "        docLink.innerHTML = docLinkHtml;\n",
              "        element.appendChild(docLink);\n",
              "      }\n",
              "    </script>\n",
              "  </div>\n",
              "\n",
              "\n",
              "    <div id=\"df-a638916e-4039-448d-bb53-c4a24a35cdde\">\n",
              "      <button class=\"colab-df-quickchart\" onclick=\"quickchart('df-a638916e-4039-448d-bb53-c4a24a35cdde')\"\n",
              "                title=\"Suggest charts\"\n",
              "                style=\"display:none;\">\n",
              "\n",
              "<svg xmlns=\"http://www.w3.org/2000/svg\" height=\"24px\"viewBox=\"0 0 24 24\"\n",
              "     width=\"24px\">\n",
              "    <g>\n",
              "        <path d=\"M19 3H5c-1.1 0-2 .9-2 2v14c0 1.1.9 2 2 2h14c1.1 0 2-.9 2-2V5c0-1.1-.9-2-2-2zM9 17H7v-7h2v7zm4 0h-2V7h2v10zm4 0h-2v-4h2v4z\"/>\n",
              "    </g>\n",
              "</svg>\n",
              "      </button>\n",
              "\n",
              "<style>\n",
              "  .colab-df-quickchart {\n",
              "      --bg-color: #E8F0FE;\n",
              "      --fill-color: #1967D2;\n",
              "      --hover-bg-color: #E2EBFA;\n",
              "      --hover-fill-color: #174EA6;\n",
              "      --disabled-fill-color: #AAA;\n",
              "      --disabled-bg-color: #DDD;\n",
              "  }\n",
              "\n",
              "  [theme=dark] .colab-df-quickchart {\n",
              "      --bg-color: #3B4455;\n",
              "      --fill-color: #D2E3FC;\n",
              "      --hover-bg-color: #434B5C;\n",
              "      --hover-fill-color: #FFFFFF;\n",
              "      --disabled-bg-color: #3B4455;\n",
              "      --disabled-fill-color: #666;\n",
              "  }\n",
              "\n",
              "  .colab-df-quickchart {\n",
              "    background-color: var(--bg-color);\n",
              "    border: none;\n",
              "    border-radius: 50%;\n",
              "    cursor: pointer;\n",
              "    display: none;\n",
              "    fill: var(--fill-color);\n",
              "    height: 32px;\n",
              "    padding: 0;\n",
              "    width: 32px;\n",
              "  }\n",
              "\n",
              "  .colab-df-quickchart:hover {\n",
              "    background-color: var(--hover-bg-color);\n",
              "    box-shadow: 0 1px 2px rgba(60, 64, 67, 0.3), 0 1px 3px 1px rgba(60, 64, 67, 0.15);\n",
              "    fill: var(--button-hover-fill-color);\n",
              "  }\n",
              "\n",
              "  .colab-df-quickchart-complete:disabled,\n",
              "  .colab-df-quickchart-complete:disabled:hover {\n",
              "    background-color: var(--disabled-bg-color);\n",
              "    fill: var(--disabled-fill-color);\n",
              "    box-shadow: none;\n",
              "  }\n",
              "\n",
              "  .colab-df-spinner {\n",
              "    border: 2px solid var(--fill-color);\n",
              "    border-color: transparent;\n",
              "    border-bottom-color: var(--fill-color);\n",
              "    animation:\n",
              "      spin 1s steps(1) infinite;\n",
              "  }\n",
              "\n",
              "  @keyframes spin {\n",
              "    0% {\n",
              "      border-color: transparent;\n",
              "      border-bottom-color: var(--fill-color);\n",
              "      border-left-color: var(--fill-color);\n",
              "    }\n",
              "    20% {\n",
              "      border-color: transparent;\n",
              "      border-left-color: var(--fill-color);\n",
              "      border-top-color: var(--fill-color);\n",
              "    }\n",
              "    30% {\n",
              "      border-color: transparent;\n",
              "      border-left-color: var(--fill-color);\n",
              "      border-top-color: var(--fill-color);\n",
              "      border-right-color: var(--fill-color);\n",
              "    }\n",
              "    40% {\n",
              "      border-color: transparent;\n",
              "      border-right-color: var(--fill-color);\n",
              "      border-top-color: var(--fill-color);\n",
              "    }\n",
              "    60% {\n",
              "      border-color: transparent;\n",
              "      border-right-color: var(--fill-color);\n",
              "    }\n",
              "    80% {\n",
              "      border-color: transparent;\n",
              "      border-right-color: var(--fill-color);\n",
              "      border-bottom-color: var(--fill-color);\n",
              "    }\n",
              "    90% {\n",
              "      border-color: transparent;\n",
              "      border-bottom-color: var(--fill-color);\n",
              "    }\n",
              "  }\n",
              "</style>\n",
              "\n",
              "      <script>\n",
              "        async function quickchart(key) {\n",
              "          const quickchartButtonEl =\n",
              "            document.querySelector('#' + key + ' button');\n",
              "          quickchartButtonEl.disabled = true;  // To prevent multiple clicks.\n",
              "          quickchartButtonEl.classList.add('colab-df-spinner');\n",
              "          try {\n",
              "            const charts = await google.colab.kernel.invokeFunction(\n",
              "                'suggestCharts', [key], {});\n",
              "          } catch (error) {\n",
              "            console.error('Error during call to suggestCharts:', error);\n",
              "          }\n",
              "          quickchartButtonEl.classList.remove('colab-df-spinner');\n",
              "          quickchartButtonEl.classList.add('colab-df-quickchart-complete');\n",
              "        }\n",
              "        (() => {\n",
              "          let quickchartButtonEl =\n",
              "            document.querySelector('#df-a638916e-4039-448d-bb53-c4a24a35cdde button');\n",
              "          quickchartButtonEl.style.display =\n",
              "            google.colab.kernel.accessAllowed ? 'block' : 'none';\n",
              "        })();\n",
              "      </script>\n",
              "    </div>\n",
              "\n",
              "    </div>\n",
              "  </div>\n"
            ],
            "application/vnd.google.colaboratory.intrinsic+json": {
              "type": "dataframe",
              "variable_name": "df",
              "summary": "{\n  \"name\": \"df\",\n  \"rows\": 1000,\n  \"fields\": [\n    {\n      \"column\": \"gender\",\n      \"properties\": {\n        \"dtype\": \"category\",\n        \"num_unique_values\": 2,\n        \"samples\": [\n          \"male\",\n          \"female\"\n        ],\n        \"semantic_type\": \"\",\n        \"description\": \"\"\n      }\n    },\n    {\n      \"column\": \"race/ethnicity\",\n      \"properties\": {\n        \"dtype\": \"category\",\n        \"num_unique_values\": 5,\n        \"samples\": [\n          \"group C\",\n          \"group E\"\n        ],\n        \"semantic_type\": \"\",\n        \"description\": \"\"\n      }\n    },\n    {\n      \"column\": \"parental level of education\",\n      \"properties\": {\n        \"dtype\": \"category\",\n        \"num_unique_values\": 6,\n        \"samples\": [\n          \"bachelor's degree\",\n          \"some college\"\n        ],\n        \"semantic_type\": \"\",\n        \"description\": \"\"\n      }\n    },\n    {\n      \"column\": \"lunch\",\n      \"properties\": {\n        \"dtype\": \"category\",\n        \"num_unique_values\": 2,\n        \"samples\": [\n          \"free/reduced\",\n          \"standard\"\n        ],\n        \"semantic_type\": \"\",\n        \"description\": \"\"\n      }\n    },\n    {\n      \"column\": \"test preparation course\",\n      \"properties\": {\n        \"dtype\": \"category\",\n        \"num_unique_values\": 2,\n        \"samples\": [\n          \"completed\",\n          \"none\"\n        ],\n        \"semantic_type\": \"\",\n        \"description\": \"\"\n      }\n    },\n    {\n      \"column\": \"math score\",\n      \"properties\": {\n        \"dtype\": \"number\",\n        \"std\": 15,\n        \"min\": 0,\n        \"max\": 100,\n        \"num_unique_values\": 81,\n        \"samples\": [\n          55,\n          72\n        ],\n        \"semantic_type\": \"\",\n        \"description\": \"\"\n      }\n    },\n    {\n      \"column\": \"reading score\",\n      \"properties\": {\n        \"dtype\": \"number\",\n        \"std\": 14,\n        \"min\": 17,\n        \"max\": 100,\n        \"num_unique_values\": 72,\n        \"samples\": [\n          78,\n          23\n        ],\n        \"semantic_type\": \"\",\n        \"description\": \"\"\n      }\n    },\n    {\n      \"column\": \"writing score\",\n      \"properties\": {\n        \"dtype\": \"number\",\n        \"std\": 15,\n        \"min\": 10,\n        \"max\": 100,\n        \"num_unique_values\": 77,\n        \"samples\": [\n          75,\n          76\n        ],\n        \"semantic_type\": \"\",\n        \"description\": \"\"\n      }\n    }\n  ]\n}"
            }
          },
          "metadata": {},
          "execution_count": 67
        }
      ]
    },
    {
      "cell_type": "code",
      "source": [
        "sns.get_dataset_names()      # to show all dataset names"
      ],
      "metadata": {
        "id": "7GCL0_4u1klm",
        "colab": {
          "base_uri": "https://localhost:8080/"
        },
        "outputId": "2d5a90df-aebf-4f71-ab1f-671d22f48a89"
      },
      "execution_count": null,
      "outputs": [
        {
          "output_type": "execute_result",
          "data": {
            "text/plain": [
              "['anagrams',\n",
              " 'anscombe',\n",
              " 'attention',\n",
              " 'brain_networks',\n",
              " 'car_crashes',\n",
              " 'diamonds',\n",
              " 'dots',\n",
              " 'dowjones',\n",
              " 'exercise',\n",
              " 'flights',\n",
              " 'fmri',\n",
              " 'geyser',\n",
              " 'glue',\n",
              " 'healthexp',\n",
              " 'iris',\n",
              " 'mpg',\n",
              " 'penguins',\n",
              " 'planets',\n",
              " 'seaice',\n",
              " 'taxis',\n",
              " 'tips',\n",
              " 'titanic']"
            ]
          },
          "metadata": {},
          "execution_count": 68
        }
      ]
    },
    {
      "cell_type": "code",
      "source": [
        "df.describe()        # to show no of count, Mean , Minimum, Maximum, Standard Deviation."
      ],
      "metadata": {
        "id": "Fr7cNjhd1krT",
        "colab": {
          "base_uri": "https://localhost:8080/",
          "height": 300
        },
        "outputId": "e79cb0ff-2a23-47bb-cb6f-d3640ebc5fb2"
      },
      "execution_count": null,
      "outputs": [
        {
          "output_type": "execute_result",
          "data": {
            "text/plain": [
              "       math score  reading score  writing score\n",
              "count  1000.00000    1000.000000    1000.000000\n",
              "mean     66.08900      69.169000      68.054000\n",
              "std      15.16308      14.600192      15.195657\n",
              "min       0.00000      17.000000      10.000000\n",
              "25%      57.00000      59.000000      57.750000\n",
              "50%      66.00000      70.000000      69.000000\n",
              "75%      77.00000      79.000000      79.000000\n",
              "max     100.00000     100.000000     100.000000"
            ],
            "text/html": [
              "\n",
              "  <div id=\"df-20133d7a-8c97-4527-8eb5-907209b3540a\" class=\"colab-df-container\">\n",
              "    <div>\n",
              "<style scoped>\n",
              "    .dataframe tbody tr th:only-of-type {\n",
              "        vertical-align: middle;\n",
              "    }\n",
              "\n",
              "    .dataframe tbody tr th {\n",
              "        vertical-align: top;\n",
              "    }\n",
              "\n",
              "    .dataframe thead th {\n",
              "        text-align: right;\n",
              "    }\n",
              "</style>\n",
              "<table border=\"1\" class=\"dataframe\">\n",
              "  <thead>\n",
              "    <tr style=\"text-align: right;\">\n",
              "      <th></th>\n",
              "      <th>math score</th>\n",
              "      <th>reading score</th>\n",
              "      <th>writing score</th>\n",
              "    </tr>\n",
              "  </thead>\n",
              "  <tbody>\n",
              "    <tr>\n",
              "      <th>count</th>\n",
              "      <td>1000.00000</td>\n",
              "      <td>1000.000000</td>\n",
              "      <td>1000.000000</td>\n",
              "    </tr>\n",
              "    <tr>\n",
              "      <th>mean</th>\n",
              "      <td>66.08900</td>\n",
              "      <td>69.169000</td>\n",
              "      <td>68.054000</td>\n",
              "    </tr>\n",
              "    <tr>\n",
              "      <th>std</th>\n",
              "      <td>15.16308</td>\n",
              "      <td>14.600192</td>\n",
              "      <td>15.195657</td>\n",
              "    </tr>\n",
              "    <tr>\n",
              "      <th>min</th>\n",
              "      <td>0.00000</td>\n",
              "      <td>17.000000</td>\n",
              "      <td>10.000000</td>\n",
              "    </tr>\n",
              "    <tr>\n",
              "      <th>25%</th>\n",
              "      <td>57.00000</td>\n",
              "      <td>59.000000</td>\n",
              "      <td>57.750000</td>\n",
              "    </tr>\n",
              "    <tr>\n",
              "      <th>50%</th>\n",
              "      <td>66.00000</td>\n",
              "      <td>70.000000</td>\n",
              "      <td>69.000000</td>\n",
              "    </tr>\n",
              "    <tr>\n",
              "      <th>75%</th>\n",
              "      <td>77.00000</td>\n",
              "      <td>79.000000</td>\n",
              "      <td>79.000000</td>\n",
              "    </tr>\n",
              "    <tr>\n",
              "      <th>max</th>\n",
              "      <td>100.00000</td>\n",
              "      <td>100.000000</td>\n",
              "      <td>100.000000</td>\n",
              "    </tr>\n",
              "  </tbody>\n",
              "</table>\n",
              "</div>\n",
              "    <div class=\"colab-df-buttons\">\n",
              "\n",
              "  <div class=\"colab-df-container\">\n",
              "    <button class=\"colab-df-convert\" onclick=\"convertToInteractive('df-20133d7a-8c97-4527-8eb5-907209b3540a')\"\n",
              "            title=\"Convert this dataframe to an interactive table.\"\n",
              "            style=\"display:none;\">\n",
              "\n",
              "  <svg xmlns=\"http://www.w3.org/2000/svg\" height=\"24px\" viewBox=\"0 -960 960 960\">\n",
              "    <path d=\"M120-120v-720h720v720H120Zm60-500h600v-160H180v160Zm220 220h160v-160H400v160Zm0 220h160v-160H400v160ZM180-400h160v-160H180v160Zm440 0h160v-160H620v160ZM180-180h160v-160H180v160Zm440 0h160v-160H620v160Z\"/>\n",
              "  </svg>\n",
              "    </button>\n",
              "\n",
              "  <style>\n",
              "    .colab-df-container {\n",
              "      display:flex;\n",
              "      gap: 12px;\n",
              "    }\n",
              "\n",
              "    .colab-df-convert {\n",
              "      background-color: #E8F0FE;\n",
              "      border: none;\n",
              "      border-radius: 50%;\n",
              "      cursor: pointer;\n",
              "      display: none;\n",
              "      fill: #1967D2;\n",
              "      height: 32px;\n",
              "      padding: 0 0 0 0;\n",
              "      width: 32px;\n",
              "    }\n",
              "\n",
              "    .colab-df-convert:hover {\n",
              "      background-color: #E2EBFA;\n",
              "      box-shadow: 0px 1px 2px rgba(60, 64, 67, 0.3), 0px 1px 3px 1px rgba(60, 64, 67, 0.15);\n",
              "      fill: #174EA6;\n",
              "    }\n",
              "\n",
              "    .colab-df-buttons div {\n",
              "      margin-bottom: 4px;\n",
              "    }\n",
              "\n",
              "    [theme=dark] .colab-df-convert {\n",
              "      background-color: #3B4455;\n",
              "      fill: #D2E3FC;\n",
              "    }\n",
              "\n",
              "    [theme=dark] .colab-df-convert:hover {\n",
              "      background-color: #434B5C;\n",
              "      box-shadow: 0px 1px 3px 1px rgba(0, 0, 0, 0.15);\n",
              "      filter: drop-shadow(0px 1px 2px rgba(0, 0, 0, 0.3));\n",
              "      fill: #FFFFFF;\n",
              "    }\n",
              "  </style>\n",
              "\n",
              "    <script>\n",
              "      const buttonEl =\n",
              "        document.querySelector('#df-20133d7a-8c97-4527-8eb5-907209b3540a button.colab-df-convert');\n",
              "      buttonEl.style.display =\n",
              "        google.colab.kernel.accessAllowed ? 'block' : 'none';\n",
              "\n",
              "      async function convertToInteractive(key) {\n",
              "        const element = document.querySelector('#df-20133d7a-8c97-4527-8eb5-907209b3540a');\n",
              "        const dataTable =\n",
              "          await google.colab.kernel.invokeFunction('convertToInteractive',\n",
              "                                                    [key], {});\n",
              "        if (!dataTable) return;\n",
              "\n",
              "        const docLinkHtml = 'Like what you see? Visit the ' +\n",
              "          '<a target=\"_blank\" href=https://colab.research.google.com/notebooks/data_table.ipynb>data table notebook</a>'\n",
              "          + ' to learn more about interactive tables.';\n",
              "        element.innerHTML = '';\n",
              "        dataTable['output_type'] = 'display_data';\n",
              "        await google.colab.output.renderOutput(dataTable, element);\n",
              "        const docLink = document.createElement('div');\n",
              "        docLink.innerHTML = docLinkHtml;\n",
              "        element.appendChild(docLink);\n",
              "      }\n",
              "    </script>\n",
              "  </div>\n",
              "\n",
              "\n",
              "    <div id=\"df-b7e4685d-8b44-490a-832b-effa4a61ae05\">\n",
              "      <button class=\"colab-df-quickchart\" onclick=\"quickchart('df-b7e4685d-8b44-490a-832b-effa4a61ae05')\"\n",
              "                title=\"Suggest charts\"\n",
              "                style=\"display:none;\">\n",
              "\n",
              "<svg xmlns=\"http://www.w3.org/2000/svg\" height=\"24px\"viewBox=\"0 0 24 24\"\n",
              "     width=\"24px\">\n",
              "    <g>\n",
              "        <path d=\"M19 3H5c-1.1 0-2 .9-2 2v14c0 1.1.9 2 2 2h14c1.1 0 2-.9 2-2V5c0-1.1-.9-2-2-2zM9 17H7v-7h2v7zm4 0h-2V7h2v10zm4 0h-2v-4h2v4z\"/>\n",
              "    </g>\n",
              "</svg>\n",
              "      </button>\n",
              "\n",
              "<style>\n",
              "  .colab-df-quickchart {\n",
              "      --bg-color: #E8F0FE;\n",
              "      --fill-color: #1967D2;\n",
              "      --hover-bg-color: #E2EBFA;\n",
              "      --hover-fill-color: #174EA6;\n",
              "      --disabled-fill-color: #AAA;\n",
              "      --disabled-bg-color: #DDD;\n",
              "  }\n",
              "\n",
              "  [theme=dark] .colab-df-quickchart {\n",
              "      --bg-color: #3B4455;\n",
              "      --fill-color: #D2E3FC;\n",
              "      --hover-bg-color: #434B5C;\n",
              "      --hover-fill-color: #FFFFFF;\n",
              "      --disabled-bg-color: #3B4455;\n",
              "      --disabled-fill-color: #666;\n",
              "  }\n",
              "\n",
              "  .colab-df-quickchart {\n",
              "    background-color: var(--bg-color);\n",
              "    border: none;\n",
              "    border-radius: 50%;\n",
              "    cursor: pointer;\n",
              "    display: none;\n",
              "    fill: var(--fill-color);\n",
              "    height: 32px;\n",
              "    padding: 0;\n",
              "    width: 32px;\n",
              "  }\n",
              "\n",
              "  .colab-df-quickchart:hover {\n",
              "    background-color: var(--hover-bg-color);\n",
              "    box-shadow: 0 1px 2px rgba(60, 64, 67, 0.3), 0 1px 3px 1px rgba(60, 64, 67, 0.15);\n",
              "    fill: var(--button-hover-fill-color);\n",
              "  }\n",
              "\n",
              "  .colab-df-quickchart-complete:disabled,\n",
              "  .colab-df-quickchart-complete:disabled:hover {\n",
              "    background-color: var(--disabled-bg-color);\n",
              "    fill: var(--disabled-fill-color);\n",
              "    box-shadow: none;\n",
              "  }\n",
              "\n",
              "  .colab-df-spinner {\n",
              "    border: 2px solid var(--fill-color);\n",
              "    border-color: transparent;\n",
              "    border-bottom-color: var(--fill-color);\n",
              "    animation:\n",
              "      spin 1s steps(1) infinite;\n",
              "  }\n",
              "\n",
              "  @keyframes spin {\n",
              "    0% {\n",
              "      border-color: transparent;\n",
              "      border-bottom-color: var(--fill-color);\n",
              "      border-left-color: var(--fill-color);\n",
              "    }\n",
              "    20% {\n",
              "      border-color: transparent;\n",
              "      border-left-color: var(--fill-color);\n",
              "      border-top-color: var(--fill-color);\n",
              "    }\n",
              "    30% {\n",
              "      border-color: transparent;\n",
              "      border-left-color: var(--fill-color);\n",
              "      border-top-color: var(--fill-color);\n",
              "      border-right-color: var(--fill-color);\n",
              "    }\n",
              "    40% {\n",
              "      border-color: transparent;\n",
              "      border-right-color: var(--fill-color);\n",
              "      border-top-color: var(--fill-color);\n",
              "    }\n",
              "    60% {\n",
              "      border-color: transparent;\n",
              "      border-right-color: var(--fill-color);\n",
              "    }\n",
              "    80% {\n",
              "      border-color: transparent;\n",
              "      border-right-color: var(--fill-color);\n",
              "      border-bottom-color: var(--fill-color);\n",
              "    }\n",
              "    90% {\n",
              "      border-color: transparent;\n",
              "      border-bottom-color: var(--fill-color);\n",
              "    }\n",
              "  }\n",
              "</style>\n",
              "\n",
              "      <script>\n",
              "        async function quickchart(key) {\n",
              "          const quickchartButtonEl =\n",
              "            document.querySelector('#' + key + ' button');\n",
              "          quickchartButtonEl.disabled = true;  // To prevent multiple clicks.\n",
              "          quickchartButtonEl.classList.add('colab-df-spinner');\n",
              "          try {\n",
              "            const charts = await google.colab.kernel.invokeFunction(\n",
              "                'suggestCharts', [key], {});\n",
              "          } catch (error) {\n",
              "            console.error('Error during call to suggestCharts:', error);\n",
              "          }\n",
              "          quickchartButtonEl.classList.remove('colab-df-spinner');\n",
              "          quickchartButtonEl.classList.add('colab-df-quickchart-complete');\n",
              "        }\n",
              "        (() => {\n",
              "          let quickchartButtonEl =\n",
              "            document.querySelector('#df-b7e4685d-8b44-490a-832b-effa4a61ae05 button');\n",
              "          quickchartButtonEl.style.display =\n",
              "            google.colab.kernel.accessAllowed ? 'block' : 'none';\n",
              "        })();\n",
              "      </script>\n",
              "    </div>\n",
              "\n",
              "    </div>\n",
              "  </div>\n"
            ],
            "application/vnd.google.colaboratory.intrinsic+json": {
              "type": "dataframe",
              "summary": "{\n  \"name\": \"df\",\n  \"rows\": 8,\n  \"fields\": [\n    {\n      \"column\": \"math score\",\n      \"properties\": {\n        \"dtype\": \"number\",\n        \"std\": 335.8676421540409,\n        \"min\": 0.0,\n        \"max\": 1000.0,\n        \"num_unique_values\": 8,\n        \"samples\": [\n          66.089,\n          66.0,\n          1000.0\n        ],\n        \"semantic_type\": \"\",\n        \"description\": \"\"\n      }\n    },\n    {\n      \"column\": \"reading score\",\n      \"properties\": {\n        \"dtype\": \"number\",\n        \"std\": 334.2004716262942,\n        \"min\": 14.60019193725222,\n        \"max\": 1000.0,\n        \"num_unique_values\": 8,\n        \"samples\": [\n          69.169,\n          70.0,\n          1000.0\n        ],\n        \"semantic_type\": \"\",\n        \"description\": \"\"\n      }\n    },\n    {\n      \"column\": \"writing score\",\n      \"properties\": {\n        \"dtype\": \"number\",\n        \"std\": 334.8025670597152,\n        \"min\": 10.0,\n        \"max\": 1000.0,\n        \"num_unique_values\": 8,\n        \"samples\": [\n          68.054,\n          69.0,\n          1000.0\n        ],\n        \"semantic_type\": \"\",\n        \"description\": \"\"\n      }\n    }\n  ]\n}"
            }
          },
          "metadata": {},
          "execution_count": 69
        }
      ]
    },
    {
      "cell_type": "code",
      "source": [
        "df.shape        # to show no of roes& columns"
      ],
      "metadata": {
        "colab": {
          "base_uri": "https://localhost:8080/"
        },
        "id": "9B_zQ1o5KajA",
        "outputId": "f7f5b26c-9e2b-41c9-d31c-bd6b5d724550"
      },
      "execution_count": null,
      "outputs": [
        {
          "output_type": "execute_result",
          "data": {
            "text/plain": [
              "(1000, 8)"
            ]
          },
          "metadata": {},
          "execution_count": 70
        }
      ]
    },
    {
      "cell_type": "code",
      "source": [
        "mean_mathscore=df['math score'].mean()\n",
        "median_mathscore=df['math score'].median()\n",
        "mode_mathscore=df['math score'].mode()[0]\n",
        "min_mathscore=df['math score'].min()\n",
        "max_mathscore=df['math score'].max()\n",
        "std_mathscore=df['math score'].std()\n",
        "\n",
        "print(f\"\"\" Descriptive Statistics for math score column\n",
        "mean_mathscore: {mean_mathscore}\n",
        "median_mathscore:{median_mathscore}\n",
        "mode_mathscore : {mode_mathscore }\n",
        "min_mathscore : {min_mathscore}\n",
        "max_mathscore : {max_mathscore}\n",
        "std_mathscore : {std_mathscore}\"\"\")"
      ],
      "metadata": {
        "id": "Enfn7B8J1kvh",
        "colab": {
          "base_uri": "https://localhost:8080/"
        },
        "outputId": "2f84057d-b30b-4d5e-885b-bc2eba950605"
      },
      "execution_count": null,
      "outputs": [
        {
          "output_type": "stream",
          "name": "stdout",
          "text": [
            " Descriptive Statistics for math score column \n",
            "mean_mathscore: 66.089  \n",
            "median_mathscore:66.0 \n",
            "mode_mathscore : 65\n",
            "min_mathscore : 0\n",
            "max_mathscore : 100\n",
            "std_mathscore : 15.163080096009468\n"
          ]
        }
      ]
    },
    {
      "cell_type": "markdown",
      "source": [
        "**SUMMARY:TO SHOW MEAN , MEDIAN,  MODE, MINIMUM, MAXIMUM, STANDARD DEVIATION FOR MATH SCORE COLUMN.**"
      ],
      "metadata": {
        "id": "CwN53_hD49sr"
      }
    },
    {
      "cell_type": "code",
      "source": [
        "mean_readscore=df['reading score'].mean()\n",
        "median_readscore=df['reading score'].median()\n",
        "mode_readscore=df['reading score'].mode()[0]\n",
        "min_readscore=df['reading score'].min()\n",
        "max_readscore=df['reading score'].max()\n",
        "std_readscore=df['reading score'].std()\n",
        "\n",
        "print(f\"\"\"Descriptive Statistics for reading score column\n",
        "mean_reading score: {mean_readscore}\n",
        "median_reading score:{median_readscore}\n",
        "mode_reading score : {mode_readscore }\n",
        "min_reading score : {min_readscore}\n",
        "max_reading score : {max_readscore}\n",
        "std_reading score : {std_readscore}\"\"\")"
      ],
      "metadata": {
        "id": "SMezYPPs1kyb",
        "colab": {
          "base_uri": "https://localhost:8080/"
        },
        "outputId": "e6618875-c42e-440a-85d3-6878c8f13edf"
      },
      "execution_count": null,
      "outputs": [
        {
          "output_type": "stream",
          "name": "stdout",
          "text": [
            "Descriptive Statistics for reading score column  \n",
            "mean_reading score: 69.169  \n",
            "median_reading score:70.0 \n",
            "mode_reading score : 72\n",
            "min_reading score : 17\n",
            "max_reading score : 100\n",
            "std_reading score : 14.60019193725222\n"
          ]
        }
      ]
    },
    {
      "cell_type": "markdown",
      "source": [
        "**SUMMARY:**\n",
        "**TO SHOW MEAN , MEDIAN, MODE, MINIMUM, MAXIMUM, STANDARD DEVIATION FOR READING SCORE COLUMN.**"
      ],
      "metadata": {
        "id": "BCgfruxj5cpp"
      }
    },
    {
      "cell_type": "code",
      "source": [
        "mean_writescore=df['writing score'].mean()\n",
        "median_writescore=df['writing score'].median()\n",
        "mode_writescore=df['writing score'].mode()[0]\n",
        "min_writescore=df['writing score'].min()\n",
        "max_writescore=df['writing score'].max()\n",
        "std_writescore=df['writing score'].std()\n",
        "\n",
        "print(f\"\"\"Descriptive Statistics for writing score column\n",
        "mean_writing score {mean_writescore}\n",
        "median_writing score:{median_writescore}\n",
        "mode_writing score : {mode_writescore }\n",
        "min_writing score : {min_writescore}\n",
        "max_writing score : {max_writescore}\n",
        "std_writing score : {std_writescore}\"\"\")"
      ],
      "metadata": {
        "id": "mYeFBq_01d2r",
        "colab": {
          "base_uri": "https://localhost:8080/"
        },
        "outputId": "5e05132e-3330-4f49-894f-176740708f65"
      },
      "execution_count": null,
      "outputs": [
        {
          "output_type": "stream",
          "name": "stdout",
          "text": [
            "Descriptive Statistics for writing score column  \n",
            "mean_writing score 68.054  \n",
            "median_writing score:69.0 \n",
            "mode_writing score : 74\n",
            "min_writing score : 10\n",
            "max_writing score : 100\n",
            "std_writing score : 15.195657010869642\n"
          ]
        }
      ]
    },
    {
      "cell_type": "markdown",
      "source": [
        "**SUMMARY:TO SHOW MEAN , MEDIAN,  MODE, MINIMUM, MAXIMUM, STANDARD DEVIATION FOR WRITING SCORE COLUMN.**"
      ],
      "metadata": {
        "id": "Hqz7Tbr055M3"
      }
    },
    {
      "cell_type": "markdown",
      "source": [
        "##**Identify and Handle Outliers:**\n",
        "\n",
        "**Use boxplots to visually identify outliers in the math score, reading score, and writing score columns.**\n",
        "\n",
        "**Calculate the Interquartile Range (IQR) for each of these score columns.**\n",
        "\n",
        "**Determine the lower and upper bounds for outliers using the IQR method.**\n",
        "\n",
        "**Handle the outliers by removing them from the dataset.**\n"
      ],
      "metadata": {
        "id": "Y46Wpfo80MGc"
      }
    },
    {
      "cell_type": "markdown",
      "source": [
        "###**Math Score column:**\n",
        "\n",
        "**checking outliers, skewness, and calculate**\n",
        "\n",
        " Q1\n",
        "\n",
        " Q3\n",
        "\n",
        " IQR\n",
        "\n",
        " Lowerbound\n",
        "\n",
        " Upperbound\n",
        "\n",
        " Outlier Removal\n",
        "\n",
        "\n",
        "\n",
        "\n"
      ],
      "metadata": {
        "id": "Lx7HwOXSNODX"
      }
    },
    {
      "cell_type": "code",
      "source": [
        "sns.boxplot(df['math score'])    # Before outlier removal , in this graph has many ouliers."
      ],
      "metadata": {
        "id": "OD2FcTdO1fH3",
        "colab": {
          "base_uri": "https://localhost:8080/",
          "height": 428
        },
        "outputId": "1d7e7b25-96cb-4035-8cc1-502a2133141d"
      },
      "execution_count": null,
      "outputs": [
        {
          "output_type": "execute_result",
          "data": {
            "text/plain": [
              "<Axes: ylabel='math score'>"
            ]
          },
          "metadata": {},
          "execution_count": 74
        },
        {
          "output_type": "display_data",
          "data": {
            "text/plain": [
              "<Figure size 640x480 with 1 Axes>"
            ],
            "image/png": "[encoded data removed]"
          },
          "metadata": {}
        }
      ]
    },
    {
      "cell_type": "code",
      "source": [
        "fig=ff.create_distplot([df['math score']],['mathscore data'],show_hist=False)    #   before Skewness graph\n",
        "fig.show()"
      ],
      "metadata": {
        "colab": {
          "base_uri": "https://localhost:8080/",
          "height": 542
        },
        "id": "ywiLoFJSLM_S",
        "outputId": "c09bf3a8-1776-4921-d817-4f184854fcf5"
      },
      "execution_count": null,
      "outputs": [
        {
          "output_type": "display_data",
          "data": {
            "text/html": [
              "<html>\n",
              "<head><meta charset=\"utf-8\" /></head>\n",
              "<body>\n",
              "    <div>            <script src=\"https://cdnjs.cloudflare.com/ajax/libs/mathjax/2.7.5/MathJax.js?config=TeX-AMS-MML_SVG\"></script><script type=\"text/javascript\">if (window.MathJax && window.MathJax.Hub && window.MathJax.Hub.Config) {window.MathJax.Hub.Config({SVG: {font: \"STIX-Web\"}});}</script>                <script type=\"text/javascript\">window.PlotlyConfig = {MathJaxConfig: 'local'};</script>\n",
              "        <script charset=\"utf-8\" src=\"https://cdn.plot.ly/plotly-2.35.2.min.js\"></script>                <div id=\"c267bc50-b934-411d-9d69-439b0d140012\" class=\"plotly-graph-div\" style=\"height:525px; width:100%;\"></div>            <script type=\"text/javascript\">                                    window.PLOTLYENV=window.PLOTLYENV || {};                                    if (document.getElementById(\"c267bc50-b934-411d-9d69-439b0d140012\")) {                    Plotly.newPlot(                        \"c267bc50-b934-411d-9d69-439b0d140012\",                        [{\"legendgroup\":\"mathscore data\",\"marker\":{\"color\":\"rgb(31, 119, 180)\"},\"mode\":\"lines\",\"name\":\"mathscore data\",\"showlegend\":true,\"x\":[0.0,0.2,0.4,0.6,0.8,1.0,1.2,1.4,1.6,1.8,2.0,2.2,2.4,2.6,2.8,3.0,3.2,3.4,3.6,3.8,4.0,4.2,4.4,4.6,4.8,5.0,5.2,5.4,5.6,5.8,6.0,6.2,6.4,6.6,6.8,7.0,7.2,7.4,7.6,7.8,8.0,8.2,8.4,8.6,8.8,9.0,9.2,9.4,9.6,9.8,10.0,10.2,10.4,10.6,10.8,11.0,11.2,11.4,11.6,11.8,12.0,12.2,12.4,12.6,12.8,13.0,13.2,13.4,13.6,13.8,14.0,14.2,14.4,14.6,14.8,15.0,15.2,15.4,15.6,15.8,16.0,16.2,16.4,16.6,16.8,17.0,17.2,17.4,17.6,17.8,18.0,18.2,18.4,18.6,18.8,19.0,19.2,19.4,19.6,19.8,20.0,20.2,20.4,20.6,20.8,21.0,21.2,21.4,21.6,21.8,22.0,22.2,22.4,22.6,22.8,23.0,23.2,23.4,23.6,23.8,24.0,24.2,24.4,24.6,24.8,25.0,25.2,25.4,25.6,25.8,26.0,26.2,26.4,26.6,26.8,27.0,27.2,27.4,27.6,27.8,28.0,28.2,28.4,28.6,28.8,29.0,29.2,29.4,29.6,29.8,30.0,30.2,30.4,30.6,30.8,31.0,31.2,31.4,31.6,31.8,32.0,32.2,32.4,32.6,32.8,33.0,33.2,33.4,33.6,33.8,34.0,34.2,34.4,34.6,34.8,35.0,35.2,35.4,35.6,35.8,36.0,36.2,36.4,36.6,36.8,37.0,37.2,37.4,37.6,37.8,38.0,38.2,38.4,38.6,38.8,39.0,39.2,39.4,39.6,39.8,40.0,40.2,40.4,40.6,40.8,41.0,41.2,41.4,41.6,41.8,42.0,42.2,42.4,42.6,42.8,43.0,43.2,43.4,43.6,43.8,44.0,44.2,44.4,44.6,44.8,45.0,45.2,45.4,45.6,45.8,46.0,46.2,46.4,46.6,46.8,47.0,47.2,47.4,47.6,47.8,48.0,48.2,48.4,48.6,48.8,49.0,49.2,49.4,49.6,49.8,50.0,50.2,50.4,50.6,50.8,51.0,51.2,51.4,51.6,51.8,52.0,52.2,52.4,52.6,52.8,53.0,53.2,53.4,53.6,53.8,54.0,54.2,54.4,54.6,54.8,55.0,55.2,55.4,55.6,55.8,56.0,56.2,56.4,56.6,56.8,57.0,57.2,57.4,57.6,57.8,58.0,58.2,58.4,58.6,58.8,59.0,59.2,59.4,59.6,59.8,60.0,60.2,60.4,60.6,60.8,61.0,61.2,61.4,61.6,61.8,62.0,62.2,62.4,62.6,62.8,63.0,63.2,63.4,63.6,63.8,64.0,64.2,64.4,64.6,64.8,65.0,65.2,65.4,65.6,65.8,66.0,66.2,66.4,66.6,66.8,67.0,67.2,67.4,67.6,67.8,68.0,68.2,68.4,68.6,68.8,69.0,69.2,69.4,69.6,69.8,70.0,70.2,70.4,70.6,70.8,71.0,71.2,71.4,71.6,71.8,72.0,72.2,72.4,72.6,72.8,73.0,73.2,73.4,73.6,73.8,74.0,74.2,74.4,74.6,74.8,75.0,75.2,75.4,75.6,75.8,76.0,76.2,76.4,76.6,76.8,77.0,77.2,77.4,77.6,77.8,78.0,78.2,78.4,78.6,78.8,79.0,79.2,79.4,79.6,79.8,80.0,80.2,80.4,80.6,80.8,81.0,81.2,81.4,81.6,81.8,82.0,82.2,82.4,82.6,82.8,83.0,83.2,83.4,83.6,83.8,84.0,84.2,84.4,84.6,84.8,85.0,85.2,85.4,85.6,85.8,86.0,86.2,86.4,86.6,86.8,87.0,87.2,87.4,87.6,87.8,88.0,88.2,88.4,88.6,88.8,89.0,89.2,89.4,89.6,89.8,90.0,90.2,90.4,90.6,90.8,91.0,91.2,91.4,91.6,91.8,92.0,92.2,92.4,92.6,92.8,93.0,93.2,93.4,93.6,93.8,94.0,94.2,94.4,94.6,94.8,95.0,95.2,95.4,95.6,95.8,96.0,96.2,96.4,96.6,96.8,97.0,97.2,97.4,97.6,97.8,98.0,98.2,98.4,98.6,98.8,99.0,99.2,99.4,99.6,99.8],\"xaxis\":\"x\",\"y\":[0.00011628247548045419,0.00011746636028489482,0.0001184762385773975,0.0001193200113550712,0.00012000735801946888,0.00012054955455918009,0.00012095926044167587,0.00012125027801350937,0.0001214372888961515,0.00012153557246554199,0.00012156071200036792,0.00012152829446303828,0.00012145361012697487,0.00012135135837600033,0.00012123536597146979,0.0001211183239090997,0.00012101154867254663,0.00012092477324059599,0.00012086597262868419,0.00012084122805594756,0.00012085463304148915,0.00012090824386599237,0.00012100207590709427,0.00012113414639048229,0.00012130056311582622,0.00012149565774009961,0.00012171216125303586,0.00012194141838204313,0.00012217363683715457,0.0001223981665689192,0.00012260380357963967,0.000122779112314429,0.00012291276027356899,0.00012299385823879197,0.0001230122993971968,0.00012295909067802142,0.00012282666978658463,0.0001226092017203978,0.0001223028489758291,0.000121906010188298,0.00012141952258105399,0.00012084682431165102,0.00012019407358440491,0.00011947022222370198,0.00011868704225891796,0.0001178591049388915,0.00011700371245489948,0.00011614078348933924,0.00011529269450755789,0.00011448407945875995,0.0001137415912367335,0.00011309362886225678,0.0001125700348784891,0.00011220176789244053,0.000112020555545771,0.00011205853345456362,0.00011234787581997091,0.00011292042348090141,0.00011380731515871192,0.00011503862753585285,0.00011664302962017334,0.00011864745657947048,0.0001210768078927768,0.0001239536742621827,0.00012729809726835196,0.00013112736524124253,0.0001354558482620223,0.00014029487462006413,0.0001456526504277456,0.00015153422345323973,0.00015794149157551108,0.0001648732556045108,0.00017232531555148002,0.00018029060878802685,0.00018875938790703173,0.00019771943550243108,0.00020715631252745813,0.00021705363638076244,0.00022739338441544787,0.00023815621817538406,0.00024932182334331496,0.00026086926014252373,0.00027277731877313314,0.000285024874389104,0.0002975912361348087,0.0003104564848609991,0.00032360179432780017,0.0003370097309739396,0.00035066452768192045,0.0003645523273919578,0.00037866139290535547,0.0003929822797616286,0.00040750796966320876,0.00042223396254637355,0.0004371583260463786,0.00045228170176774793,0.0004676072684367574,0.000483140662672428,0.0004988898587556038,0.0005148650093947343,0.000531078250074642,0.0005475434701247071,0.0005642760541505439,0.0005812925979341414,0.0005986106033183671,0.0006162481569497807,0.0006342235980565203,0.0006525551806833336,0.0006712607359912217,0.000690357340352102,0.0007098609950263184,0.000729786323199509,0.0007501462900712902,0.0007709519515275759,0.0007922122366868729,0.0008139337692846243,0.0008361207324453903,0.0008587747808876455,0.000881895004009546,0.0009054779426167466,0.0009295176612783284,0.0009540058774401218,0.0009789321474943922,0.0010042841090133336,0.0010300477773156605,0.001056207893469183,0.0010827483197585412,0.0011096524775896948,0.001136903821786775,0.001164486344289112,0.0011923850994036349,0.0012205867420369554,0.0012490800697471619,0.0012778565590403277,0.0013069108861097237,0.0013362414221917112,0.001365850693900459,0.0013957457993077488,0.001425938771151951,0.001456446879382197,0.0014872928662552423,0.0015185051083811347,0.001550117701433032,0.0015821704646640086,0.001614708863873513,0.001647783852999847,0.00168145163604245,0.0017157733524987184,0.0017508146908962652,0.001786645436276549,0.0018233389586086587,0.0018609716500554404,0.0018996223197587918,0.001939371555343089,0.001980301060649784,0.002022492979314362,0.0020660292136878556,0.0021109907483057096,0.0021574569866389666,0.0022055051092540216,0.0022552094607888357,0.0023066409723590696,0.00235986662517094,0.0024149489602732005,0.0024719456385580998,0.0025309090543493454,0.002591886005214678,0.002654917420028224,0.0027200381467930804,0.002787276801317282,0.0028566556775142197,0.0029281907198558292,0.003001891558327404,0.0030777616060923435,0.0031557982199444893,0.0032359929234783156,0.003318331692709638,0.003402795303605264,0.003489359740603029,0.0035779966647028773,0.0036686739390719304,0.003761356209325752,0.003856005534725223,0.00395258206547889,0.004051044760180941,0.004151352136180339,0.004253463044401212,0.004357337458865978,0.004462937269961595,0.004570227069386438,0.004679174913779725,0.004789753053315436,0.004901938611090829,0.005015714198997326,0.005131068455962562,0.005247996495021815,0.00536650024662533,0.0054865886869150905,0.005608277941394233,0.005731591256437385,0.005856558833406995,0.005983217522698317,0.006111610377767115,0.006241786072029606,0.006373798184384496,0.0065077043619115975,0.006643565370969764,0.0067814440503719785,0.006921404182483054,0.007063509299906204,0.007207821446842735,0.007354399915189633,0.007503299975954569,0.0076545716266117865,0.007808258374600102,0.007964396076299307,0.008123011849551958,0.008284123076173204,0.008447736508973725,0.008613847495680858,0.00878243932985629,0.00895348273655385,0.009126935498117668,0.009302742223262037,0.009480834260470056,0.00966112975485566,0.009843533846001421,0.010027939002944753,0.010214225491456598,0.010402261968040342,0.01059190619466178,0.010783005868074525,0.010975399557682126,0.011168917746127657,0.011363383967150777,0.011558616035633027,0.01175442736508685,0.011950628368049372,0.012147027934855607,0.012343434986010007,0.012539660092801969,0.012735517159881596,0.012930825162193302,0.013125409926968616,0.01331910594940884,0.01351175822829294,0.01370322410508874,0.013893375087298125,0.014082098633851363,0.014269299877478572,0.01445490325627579,0.014638854024282038,0.014821119608926283,0.015001690781846716,0.015180582608935407,0.015357835145655713,0.015533513844803615,0.015707709646003525,0.015880538719398207,0.016052141840200446,0.016222683376005725,0.01639234987495119,0.01656134824983127,0.01672990356102846,0.016898256409389373,0.017066659958796433,0.017235376616914128,0.0174046744111948,0.01757482310546434,0.01774609011002317,0.017918736244952552,0.018093011421993047,0.018269150314750883,0.018447368089938587,0.018627856273717228,0.018810778826921618,0.018996268500952665,0.019184423542440376,0.019375304809475677,0.01956893335537746,0.019765288527774656,0.019964306621423795,0.020165880112881552,0.0203698574941776,0.020576043711243126,0.020784201201349786,0.02099405151248113,0.021205277476673983,0.02141752589920651,0.02163041071629855,0.021843516565956643,0.02205640270990147,0.022268607239306078,0.02247965149342867,0.022689044618200697,0.022896288191425394,0.02310088084241299,0.023302322796546874,0.023500120279320885,0.02369378971965959,0.02388286169866022,0.02406688459707664,0.02424542790269719,0.02441808514703216,0.024584476449202947,0.024744250653411622,0.02489708705465429,0.025042696715244544,0.025180823382070443,0.02531124402116465,0.025433768992017405,0.025548241888999856,0.02565453908123563,0.025752568985211884,0.02584227110636067,0.025923614886762942,0.025996598396088675,0.026061246901932286,0.026117611353920933,0.026165766813459227,0.026205810857838054,0.026237861983797132,0.026262058031626904,0.02627855464664712,0.026287523790554577,0.02628915231081478,0.026283640572111903,0.026271201149989168,0.026252057583313566,0.026226443179178997,0.026194599861402643,0.026156777051923864,0.026113230573235755,0.02606422155947423,0.02601001536396814,0.025950880451888814,0.025887087268090886,0.025818907072238193,0.02574661073579183,0.025670467498292077,0.02559074368349664,0.02550770137921659,0.02542159708800337,0.025332680359050994,0.02524119241467452,0.02514736478737698,0.025051417985734972,0.02495356020900615,0.02485398613143059,0.024752875777596207,0.024650393509946283,0.024546687148506375,0.02444188724122282,0.024336106500979483,0.024229439422450975,0.02412196208855752,0.024013732172505783,0.023904789137362943,0.02379515463093778,0.02368483306958448,0.023573812400533512,0.023462065028628545,0.023349548890034513,0.02323620865269711,0.023121977021164992,0.02300677612191332,0.022890518944574677,0.022773110814510788,0.022654450872939495,0.02253443354233034,0.022412949956929655,0.022289889340992994,0.022165140320468135,0.022038592157364152,0.021910135899713738,0.02177966544374164,0.021647078508436213,0.021512277526036044,0.021375170454853674,0.021235671523236424,0.021093701915211028,0.020949190409394282,0.020802073983030734,0.020652298392516085,0.020499818740503245,0.020344600037706606,0.020186617764900876,0.020025858437457855,0.019862320171213223,0.01969601324464929,0.019526960648500777,0.01935519861009811,0.019180777076249766,0.019003760135397518,0.018824226357320426,0.018642269026959243,0.018457996248103337,0.018271530892813942,0.018083010373615354,0.01789258621767234,0.01770042342539339,0.01750669960006829,0.017311603840192463,0.017115335391906444,0.016918102065318717,0.016720118425209447,0.016521603773503434,0.01632277994774207,0.01612386896634425,0.0159250905574899,0.015726659613788625,0.015528783619291187,0.015331660098707687,0.015135474140767238,0.014940396048373787,0.014746579167547718,0.014554157945038957,0.014363246261010975,0.014173936078379168,0.013986296444357303,0.013800372872682697,0.013616187127024715,0.013433737417460827,0.013252999012854927,0.013073925262740886,0.012896449013162727,0.012720484392086373,0.012545928931730425,0.012372665987676394,0.012200567408104105,0.012029496401134553,0.01185931054415886,0.011689864876295147,0.01152101501378333,0.011352620228209754,0.011184546428922387,0.011016668993771886,0.010848875396296266,0.010681067582519877,0.010513164056492367,0.010345101640385285,0.010176836882184952,0.010008347091585747,0.009839630992393109,0.00967070898740109,0.009501623039141817,0.009332436176942757,0.009163231647243605,0.008994111729989686,0.008825196249049224,0.008656620808932014,0.008488534793573727,0.008321099165589351,0.008154484106193419,0.007988866536969258,0.007824427564895264,0.007661349891561542,0.007499815226415112,0.007340001742231262,0.007182081608909855,0.007026218639219137,0.00687256607733685,0.00672126455804192,0.006572440261256115,0.0064262032833795,0.006282646243555388,0.006141843139673211,0.006003848465602376,0.005868696597863724,0.0057364014566998476,0.005606956443309549,0.005480334651866178,0.005356489351848609,0.00523535473317794,0.005116846903677489,0.0050008651254679235,0.004887293274084071,0.004776001501377576,0.004666848080672762,0.00455968141020395,0.0044543421486196635,0.00435066545433213,0.004248483298765598,0.004147626822161414,0.004047928699576929,0.0039492254841142415,0.0038513598942732617,0.0037541830126745003,0.0036575563642660784,0.003561353843529128,0.003465463462131966,0.0033697888909422877,0.0032742507732669676,0.0031787877896132413,0.0030833574580997596,0.0029879366588315874,0.0028925218750108393,0.0027971291482020754,0.0027017937499161414,0.0026065695764191463],\"yaxis\":\"y\",\"type\":\"scatter\"},{\"legendgroup\":\"mathscore data\",\"marker\":{\"color\":\"rgb(31, 119, 180)\",\"symbol\":\"line-ns-open\"},\"mode\":\"markers\",\"name\":\"mathscore data\",\"showlegend\":false,\"x\":[72,69,90,47,76,71,88,40,64,38,58,40,65,78,50,69,88,18,46,54,66,65,44,69,74,73,69,67,70,62,69,63,56,40,97,81,74,50,75,57,55,58,53,59,50,65,55,66,57,82,53,77,53,88,71,33,82,52,58,0,79,39,62,69,59,67,45,60,61,39,58,63,41,61,49,44,30,80,61,62,47,49,50,72,42,73,76,71,58,73,65,27,71,43,79,78,65,63,58,65,79,68,85,60,98,58,87,66,52,70,77,62,54,51,99,84,75,78,51,55,79,91,88,63,83,87,72,65,82,51,89,53,87,75,74,58,51,70,59,71,76,59,42,57,88,22,88,73,68,100,62,77,59,54,62,70,66,60,61,66,82,75,49,52,81,96,53,58,68,67,72,94,79,63,43,81,46,71,52,97,62,46,50,65,45,65,80,62,48,77,66,76,62,77,69,61,59,55,45,78,67,65,69,57,59,74,82,81,74,58,80,35,42,60,87,84,83,34,66,61,56,87,55,86,52,45,72,57,68,88,76,46,67,92,83,80,63,64,54,84,73,80,56,59,75,85,89,58,65,68,47,71,60,80,54,62,64,78,70,65,64,79,44,99,76,59,63,69,88,71,69,58,47,65,88,83,85,59,65,73,53,45,73,70,37,81,97,67,88,77,76,86,63,65,78,67,46,71,40,90,81,56,67,80,74,69,99,51,53,49,73,66,67,68,59,71,77,83,63,56,67,75,71,43,41,82,61,28,82,41,71,47,62,90,83,61,76,49,24,35,58,61,69,67,79,72,62,77,75,87,52,66,63,46,59,61,63,42,59,80,58,85,52,27,59,49,69,61,44,73,84,45,74,82,59,46,80,85,71,66,80,87,79,38,38,67,64,57,62,73,73,77,76,57,65,48,50,85,74,60,59,53,49,88,54,63,65,82,52,87,70,84,71,63,51,84,71,74,68,57,82,57,47,59,41,62,86,69,65,68,64,61,61,47,73,50,75,75,70,89,67,78,59,73,79,67,69,86,47,81,64,100,65,65,53,37,79,53,100,72,53,54,71,77,75,84,26,72,77,91,83,63,68,59,90,71,76,80,55,76,73,52,68,59,49,70,61,60,64,79,65,64,83,81,54,68,54,59,66,76,74,94,63,95,40,82,68,55,79,86,76,64,62,54,77,76,74,66,66,67,71,91,69,54,53,68,56,36,29,62,68,47,62,79,73,66,51,51,85,97,75,79,81,82,64,78,92,72,62,79,79,87,40,77,53,32,55,61,53,73,74,63,96,63,48,48,92,61,63,68,71,91,53,50,74,40,61,81,48,53,81,77,63,73,69,65,55,44,54,48,58,71,68,74,92,56,30,53,69,65,54,29,76,60,84,75,85,40,61,58,69,58,94,65,82,60,37,88,95,65,35,62,58,100,61,100,69,61,49,44,67,79,66,75,84,71,67,80,86,76,41,74,72,74,70,65,59,64,50,69,51,68,85,65,73,62,77,69,43,90,74,73,55,65,80,50,63,77,73,81,66,52,69,65,69,50,73,70,81,63,67,60,62,29,62,94,85,77,53,93,49,73,66,77,49,79,75,59,57,66,79,57,87,63,59,62,46,66,89,42,93,80,98,81,60,76,73,96,76,91,62,55,74,50,47,81,65,68,73,53,68,55,87,55,53,67,92,53,81,61,80,37,81,59,55,72,69,69,50,87,71,68,79,77,58,84,55,70,52,69,53,48,78,62,60,74,58,76,68,58,52,75,52,62,66,49,66,35,72,94,46,77,76,52,91,32,72,19,68,52,48,60,66,89,42,57,70,70,69,52,67,76,87,82,73,75,64,41,90,59,51,45,54,87,72,94,45,61,60,77,85,78,49,71,48,62,56,65,69,68,61,74,64,77,58,60,73,75,58,66,39,64,23,74,40,90,91,64,59,80,71,61,87,82,62,97,75,65,52,87,53,81,39,71,97,82,59,61,78,49,59,70,82,90,43,80,81,57,59,64,63,71,64,55,51,62,93,54,69,44,86,85,50,88,59,32,36,63,67,65,85,73,34,93,67,88,57,79,67,70,50,69,52,47,46,68,100,44,57,91,69,35,72,54,74,74,64,65,46,48,67,62,61,70,98,70,67,57,85,77,72,78,81,61,58,54,82,49,49,57,94,75,74,58,62,72,84,92,45,75,56,48,100,65,72,62,66,63,68,75,89,78,53,49,54,64,60,62,55,91,8,81,79,78,74,57,40,81,44,67,86,65,55,62,63,88,62,59,68,77],\"xaxis\":\"x\",\"y\":[\"mathscore data\",\"mathscore data\",\"mathscore data\",\"mathscore data\",\"mathscore data\",\"mathscore data\",\"mathscore data\",\"mathscore data\",\"mathscore data\",\"mathscore data\",\"mathscore data\",\"mathscore data\",\"mathscore data\",\"mathscore data\",\"mathscore data\",\"mathscore data\",\"mathscore data\",\"mathscore data\",\"mathscore data\",\"mathscore data\",\"mathscore data\",\"mathscore data\",\"mathscore data\",\"mathscore data\",\"mathscore data\",\"mathscore data\",\"mathscore data\",\"mathscore data\",\"mathscore data\",\"mathscore data\",\"mathscore data\",\"mathscore data\",\"mathscore data\",\"mathscore data\",\"mathscore data\",\"mathscore data\",\"mathscore data\",\"mathscore data\",\"mathscore data\",\"mathscore data\",\"mathscore data\",\"mathscore data\",\"mathscore data\",\"mathscore data\",\"mathscore data\",\"mathscore data\",\"mathscore data\",\"mathscore data\",\"mathscore data\",\"mathscore data\",\"mathscore data\",\"mathscore data\",\"mathscore data\",\"mathscore data\",\"mathscore data\",\"mathscore data\",\"mathscore data\",\"mathscore data\",\"mathscore data\",\"mathscore data\",\"mathscore data\",\"mathscore data\",\"mathscore data\",\"mathscore data\",\"mathscore data\",\"mathscore data\",\"mathscore data\",\"mathscore data\",\"mathscore data\",\"mathscore data\",\"mathscore data\",\"mathscore data\",\"mathscore data\",\"mathscore data\",\"mathscore data\",\"mathscore data\",\"mathscore data\",\"mathscore data\",\"mathscore data\",\"mathscore data\",\"mathscore data\",\"mathscore data\",\"mathscore data\",\"mathscore data\",\"mathscore data\",\"mathscore data\",\"mathscore data\",\"mathscore data\",\"mathscore data\",\"mathscore data\",\"mathscore data\",\"mathscore data\",\"mathscore data\",\"mathscore data\",\"mathscore data\",\"mathscore data\",\"mathscore data\",\"mathscore data\",\"mathscore data\",\"mathscore data\",\"mathscore data\",\"mathscore data\",\"mathscore data\",\"mathscore data\",\"mathscore data\",\"mathscore data\",\"mathscore data\",\"mathscore data\",\"mathscore data\",\"mathscore data\",\"mathscore data\",\"mathscore data\",\"mathscore data\",\"mathscore data\",\"mathscore data\",\"mathscore data\",\"mathscore data\",\"mathscore data\",\"mathscore data\",\"mathscore data\",\"mathscore data\",\"mathscore data\",\"mathscore data\",\"mathscore data\",\"mathscore data\",\"mathscore data\",\"mathscore data\",\"mathscore data\",\"mathscore data\",\"mathscore data\",\"mathscore data\",\"mathscore data\",\"mathscore data\",\"mathscore data\",\"mathscore data\",\"mathscore data\",\"mathscore data\",\"mathscore data\",\"mathscore data\",\"mathscore data\",\"mathscore data\",\"mathscore data\",\"mathscore data\",\"mathscore data\",\"mathscore data\",\"mathscore data\",\"mathscore data\",\"mathscore data\",\"mathscore data\",\"mathscore data\",\"mathscore data\",\"mathscore data\",\"mathscore data\",\"mathscore data\",\"mathscore data\",\"mathscore data\",\"mathscore data\",\"mathscore data\",\"mathscore data\",\"mathscore data\",\"mathscore data\",\"mathscore data\",\"mathscore data\",\"mathscore data\",\"mathscore data\",\"mathscore data\",\"mathscore data\",\"mathscore data\",\"mathscore data\",\"mathscore data\",\"mathscore data\",\"mathscore data\",\"mathscore data\",\"mathscore data\",\"mathscore data\",\"mathscore data\",\"mathscore data\",\"mathscore data\",\"mathscore data\",\"mathscore data\",\"mathscore data\",\"mathscore data\",\"mathscore data\",\"mathscore data\",\"mathscore data\",\"mathscore data\",\"mathscore data\",\"mathscore data\",\"mathscore data\",\"mathscore data\",\"mathscore data\",\"mathscore data\",\"mathscore data\",\"mathscore data\",\"mathscore data\",\"mathscore data\",\"mathscore data\",\"mathscore data\",\"mathscore data\",\"mathscore data\",\"mathscore data\",\"mathscore data\",\"mathscore data\",\"mathscore data\",\"mathscore data\",\"mathscore data\",\"mathscore data\",\"mathscore data\",\"mathscore data\",\"mathscore data\",\"mathscore data\",\"mathscore data\",\"mathscore data\",\"mathscore data\",\"mathscore data\",\"mathscore data\",\"mathscore data\",\"mathscore data\",\"mathscore data\",\"mathscore data\",\"mathscore data\",\"mathscore data\",\"mathscore data\",\"mathscore data\",\"mathscore data\",\"mathscore data\",\"mathscore data\",\"mathscore data\",\"mathscore data\",\"mathscore data\",\"mathscore data\",\"mathscore data\",\"mathscore data\",\"mathscore data\",\"mathscore data\",\"mathscore data\",\"mathscore data\",\"mathscore data\",\"mathscore data\",\"mathscore data\",\"mathscore data\",\"mathscore data\",\"mathscore data\",\"mathscore data\",\"mathscore data\",\"mathscore data\",\"mathscore data\",\"mathscore data\",\"mathscore data\",\"mathscore data\",\"mathscore data\",\"mathscore data\",\"mathscore data\",\"mathscore data\",\"mathscore data\",\"mathscore data\",\"mathscore data\",\"mathscore data\",\"mathscore data\",\"mathscore data\",\"mathscore data\",\"mathscore data\",\"mathscore data\",\"mathscore data\",\"mathscore data\",\"mathscore data\",\"mathscore data\",\"mathscore data\",\"mathscore data\",\"mathscore data\",\"mathscore data\",\"mathscore data\",\"mathscore data\",\"mathscore data\",\"mathscore data\",\"mathscore data\",\"mathscore data\",\"mathscore data\",\"mathscore data\",\"mathscore data\",\"mathscore data\",\"mathscore data\",\"mathscore data\",\"mathscore data\",\"mathscore data\",\"mathscore data\",\"mathscore data\",\"mathscore data\",\"mathscore data\",\"mathscore data\",\"mathscore data\",\"mathscore data\",\"mathscore data\",\"mathscore data\",\"mathscore data\",\"mathscore data\",\"mathscore data\",\"mathscore data\",\"mathscore data\",\"mathscore data\",\"mathscore data\",\"mathscore data\",\"mathscore data\",\"mathscore data\",\"mathscore data\",\"mathscore data\",\"mathscore data\",\"mathscore data\",\"mathscore data\",\"mathscore data\",\"mathscore data\",\"mathscore data\",\"mathscore data\",\"mathscore data\",\"mathscore data\",\"mathscore data\",\"mathscore data\",\"mathscore data\",\"mathscore data\",\"mathscore data\",\"mathscore data\",\"mathscore data\",\"mathscore data\",\"mathscore data\",\"mathscore data\",\"mathscore data\",\"mathscore data\",\"mathscore data\",\"mathscore data\",\"mathscore data\",\"mathscore data\",\"mathscore data\",\"mathscore data\",\"mathscore data\",\"mathscore data\",\"mathscore data\",\"mathscore data\",\"mathscore data\",\"mathscore data\",\"mathscore data\",\"mathscore data\",\"mathscore data\",\"mathscore data\",\"mathscore data\",\"mathscore data\",\"mathscore data\",\"mathscore data\",\"mathscore data\",\"mathscore data\",\"mathscore data\",\"mathscore data\",\"mathscore data\",\"mathscore data\",\"mathscore data\",\"mathscore data\",\"mathscore data\",\"mathscore data\",\"mathscore data\",\"mathscore data\",\"mathscore data\",\"mathscore data\",\"mathscore data\",\"mathscore data\",\"mathscore data\",\"mathscore data\",\"mathscore data\",\"mathscore data\",\"mathscore data\",\"mathscore data\",\"mathscore data\",\"mathscore data\",\"mathscore data\",\"mathscore data\",\"mathscore data\",\"mathscore data\",\"mathscore data\",\"mathscore data\",\"mathscore data\",\"mathscore data\",\"mathscore data\",\"mathscore data\",\"mathscore data\",\"mathscore data\",\"mathscore data\",\"mathscore data\",\"mathscore data\",\"mathscore data\",\"mathscore data\",\"mathscore data\",\"mathscore data\",\"mathscore data\",\"mathscore data\",\"mathscore data\",\"mathscore data\",\"mathscore data\",\"mathscore data\",\"mathscore data\",\"mathscore data\",\"mathscore data\",\"mathscore data\",\"mathscore data\",\"mathscore data\",\"mathscore data\",\"mathscore data\",\"mathscore data\",\"mathscore data\",\"mathscore data\",\"mathscore data\",\"mathscore data\",\"mathscore data\",\"mathscore data\",\"mathscore data\",\"mathscore data\",\"mathscore data\",\"mathscore data\",\"mathscore data\",\"mathscore data\",\"mathscore data\",\"mathscore data\",\"mathscore data\",\"mathscore data\",\"mathscore data\",\"mathscore data\",\"mathscore data\",\"mathscore data\",\"mathscore data\",\"mathscore data\",\"mathscore data\",\"mathscore data\",\"mathscore data\",\"mathscore data\",\"mathscore data\",\"mathscore data\",\"mathscore data\",\"mathscore data\",\"mathscore data\",\"mathscore data\",\"mathscore data\",\"mathscore data\",\"mathscore data\",\"mathscore data\",\"mathscore data\",\"mathscore data\",\"mathscore data\",\"mathscore data\",\"mathscore data\",\"mathscore data\",\"mathscore data\",\"mathscore data\",\"mathscore data\",\"mathscore data\",\"mathscore data\",\"mathscore data\",\"mathscore data\",\"mathscore data\",\"mathscore data\",\"mathscore data\",\"mathscore data\",\"mathscore data\",\"mathscore data\",\"mathscore data\",\"mathscore data\",\"mathscore data\",\"mathscore data\",\"mathscore data\",\"mathscore data\",\"mathscore data\",\"mathscore data\",\"mathscore data\",\"mathscore data\",\"mathscore data\",\"mathscore data\",\"mathscore data\",\"mathscore data\",\"mathscore data\",\"mathscore data\",\"mathscore data\",\"mathscore data\",\"mathscore data\",\"mathscore data\",\"mathscore data\",\"mathscore data\",\"mathscore data\",\"mathscore data\",\"mathscore data\",\"mathscore data\",\"mathscore data\",\"mathscore data\",\"mathscore data\",\"mathscore data\",\"mathscore data\",\"mathscore data\",\"mathscore data\",\"mathscore data\",\"mathscore data\",\"mathscore data\",\"mathscore data\",\"mathscore data\",\"mathscore data\",\"mathscore data\",\"mathscore data\",\"mathscore data\",\"mathscore data\",\"mathscore data\",\"mathscore data\",\"mathscore data\",\"mathscore data\",\"mathscore data\",\"mathscore data\",\"mathscore data\",\"mathscore data\",\"mathscore data\",\"mathscore data\",\"mathscore data\",\"mathscore data\",\"mathscore data\",\"mathscore data\",\"mathscore data\",\"mathscore data\",\"mathscore data\",\"mathscore data\",\"mathscore data\",\"mathscore data\",\"mathscore data\",\"mathscore data\",\"mathscore data\",\"mathscore data\",\"mathscore data\",\"mathscore data\",\"mathscore data\",\"mathscore data\",\"mathscore data\",\"mathscore data\",\"mathscore data\",\"mathscore data\",\"mathscore data\",\"mathscore data\",\"mathscore data\",\"mathscore data\",\"mathscore data\",\"mathscore data\",\"mathscore data\",\"mathscore data\",\"mathscore data\",\"mathscore data\",\"mathscore data\",\"mathscore data\",\"mathscore data\",\"mathscore data\",\"mathscore data\",\"mathscore data\",\"mathscore data\",\"mathscore data\",\"mathscore data\",\"mathscore data\",\"mathscore data\",\"mathscore data\",\"mathscore data\",\"mathscore data\",\"mathscore data\",\"mathscore data\",\"mathscore data\",\"mathscore data\",\"mathscore data\",\"mathscore data\",\"mathscore data\",\"mathscore data\",\"mathscore data\",\"mathscore data\",\"mathscore data\",\"mathscore data\",\"mathscore data\",\"mathscore data\",\"mathscore data\",\"mathscore data\",\"mathscore data\",\"mathscore data\",\"mathscore data\",\"mathscore data\",\"mathscore data\",\"mathscore data\",\"mathscore data\",\"mathscore data\",\"mathscore data\",\"mathscore data\",\"mathscore data\",\"mathscore data\",\"mathscore data\",\"mathscore data\",\"mathscore data\",\"mathscore data\",\"mathscore data\",\"mathscore data\",\"mathscore data\",\"mathscore data\",\"mathscore data\",\"mathscore data\",\"mathscore data\",\"mathscore data\",\"mathscore data\",\"mathscore data\",\"mathscore data\",\"mathscore data\",\"mathscore data\",\"mathscore data\",\"mathscore data\",\"mathscore data\",\"mathscore data\",\"mathscore data\",\"mathscore data\",\"mathscore data\",\"mathscore data\",\"mathscore data\",\"mathscore data\",\"mathscore data\",\"mathscore data\",\"mathscore data\",\"mathscore data\",\"mathscore data\",\"mathscore data\",\"mathscore data\",\"mathscore data\",\"mathscore data\",\"mathscore data\",\"mathscore data\",\"mathscore data\",\"mathscore data\",\"mathscore data\",\"mathscore data\",\"mathscore data\",\"mathscore data\",\"mathscore data\",\"mathscore data\",\"mathscore data\",\"mathscore data\",\"mathscore data\",\"mathscore data\",\"mathscore data\",\"mathscore data\",\"mathscore data\",\"mathscore data\",\"mathscore data\",\"mathscore data\",\"mathscore data\",\"mathscore data\",\"mathscore data\",\"mathscore data\",\"mathscore data\",\"mathscore data\",\"mathscore data\",\"mathscore data\",\"mathscore data\",\"mathscore data\",\"mathscore data\",\"mathscore data\",\"mathscore data\",\"mathscore data\",\"mathscore data\",\"mathscore data\",\"mathscore data\",\"mathscore data\",\"mathscore data\",\"mathscore data\",\"mathscore data\",\"mathscore data\",\"mathscore data\",\"mathscore data\",\"mathscore data\",\"mathscore data\",\"mathscore data\",\"mathscore data\",\"mathscore data\",\"mathscore data\",\"mathscore data\",\"mathscore data\",\"mathscore data\",\"mathscore data\",\"mathscore data\",\"mathscore data\",\"mathscore data\",\"mathscore data\",\"mathscore data\",\"mathscore data\",\"mathscore data\",\"mathscore data\",\"mathscore data\",\"mathscore data\",\"mathscore data\",\"mathscore data\",\"mathscore data\",\"mathscore data\",\"mathscore data\",\"mathscore data\",\"mathscore data\",\"mathscore data\",\"mathscore data\",\"mathscore data\",\"mathscore data\",\"mathscore data\",\"mathscore data\",\"mathscore data\",\"mathscore data\",\"mathscore data\",\"mathscore data\",\"mathscore data\",\"mathscore data\",\"mathscore data\",\"mathscore data\",\"mathscore data\",\"mathscore data\",\"mathscore data\",\"mathscore data\",\"mathscore data\",\"mathscore data\",\"mathscore data\",\"mathscore data\",\"mathscore data\",\"mathscore data\",\"mathscore data\",\"mathscore data\",\"mathscore data\",\"mathscore data\",\"mathscore data\",\"mathscore data\",\"mathscore data\",\"mathscore data\",\"mathscore data\",\"mathscore data\",\"mathscore data\",\"mathscore data\",\"mathscore data\",\"mathscore data\",\"mathscore data\",\"mathscore data\",\"mathscore data\",\"mathscore data\",\"mathscore data\",\"mathscore data\",\"mathscore data\",\"mathscore data\",\"mathscore data\",\"mathscore data\",\"mathscore data\",\"mathscore data\",\"mathscore data\",\"mathscore data\",\"mathscore data\",\"mathscore data\",\"mathscore data\",\"mathscore data\",\"mathscore data\",\"mathscore data\",\"mathscore data\",\"mathscore data\",\"mathscore data\",\"mathscore data\",\"mathscore data\",\"mathscore data\",\"mathscore data\",\"mathscore data\",\"mathscore data\",\"mathscore data\",\"mathscore data\",\"mathscore data\",\"mathscore data\",\"mathscore data\",\"mathscore data\",\"mathscore data\",\"mathscore data\",\"mathscore data\",\"mathscore data\",\"mathscore data\",\"mathscore data\",\"mathscore data\",\"mathscore data\",\"mathscore data\",\"mathscore data\",\"mathscore data\",\"mathscore data\",\"mathscore data\",\"mathscore data\",\"mathscore data\",\"mathscore data\",\"mathscore data\",\"mathscore data\",\"mathscore data\",\"mathscore data\",\"mathscore data\",\"mathscore data\",\"mathscore data\",\"mathscore data\",\"mathscore data\",\"mathscore data\",\"mathscore data\",\"mathscore data\",\"mathscore data\",\"mathscore data\",\"mathscore data\",\"mathscore data\",\"mathscore data\",\"mathscore data\",\"mathscore data\",\"mathscore data\",\"mathscore data\",\"mathscore data\",\"mathscore data\",\"mathscore data\",\"mathscore data\",\"mathscore data\",\"mathscore data\",\"mathscore data\",\"mathscore data\",\"mathscore data\",\"mathscore data\",\"mathscore data\",\"mathscore data\",\"mathscore data\",\"mathscore data\",\"mathscore data\",\"mathscore data\",\"mathscore data\",\"mathscore data\",\"mathscore data\",\"mathscore data\",\"mathscore data\",\"mathscore data\",\"mathscore data\",\"mathscore data\",\"mathscore data\",\"mathscore data\",\"mathscore data\",\"mathscore data\",\"mathscore data\",\"mathscore data\",\"mathscore data\",\"mathscore data\",\"mathscore data\",\"mathscore data\",\"mathscore data\",\"mathscore data\",\"mathscore data\",\"mathscore data\",\"mathscore data\",\"mathscore data\",\"mathscore data\",\"mathscore data\",\"mathscore data\",\"mathscore data\",\"mathscore data\",\"mathscore data\",\"mathscore data\",\"mathscore data\",\"mathscore data\",\"mathscore data\",\"mathscore data\",\"mathscore data\",\"mathscore data\",\"mathscore data\",\"mathscore data\",\"mathscore data\",\"mathscore data\",\"mathscore data\",\"mathscore data\",\"mathscore data\",\"mathscore data\",\"mathscore data\",\"mathscore data\",\"mathscore data\",\"mathscore data\",\"mathscore data\",\"mathscore data\",\"mathscore data\",\"mathscore data\",\"mathscore data\",\"mathscore data\",\"mathscore data\",\"mathscore data\",\"mathscore data\",\"mathscore data\",\"mathscore data\",\"mathscore data\",\"mathscore data\",\"mathscore data\",\"mathscore data\",\"mathscore data\",\"mathscore data\",\"mathscore data\",\"mathscore data\",\"mathscore data\",\"mathscore data\",\"mathscore data\",\"mathscore data\",\"mathscore data\",\"mathscore data\",\"mathscore data\",\"mathscore data\",\"mathscore data\",\"mathscore data\",\"mathscore data\",\"mathscore data\",\"mathscore data\",\"mathscore data\",\"mathscore data\",\"mathscore data\",\"mathscore data\",\"mathscore data\",\"mathscore data\",\"mathscore data\",\"mathscore data\",\"mathscore data\",\"mathscore data\",\"mathscore data\",\"mathscore data\",\"mathscore data\",\"mathscore data\",\"mathscore data\",\"mathscore data\",\"mathscore data\",\"mathscore data\",\"mathscore data\",\"mathscore data\",\"mathscore data\",\"mathscore data\",\"mathscore data\",\"mathscore data\",\"mathscore data\",\"mathscore data\",\"mathscore data\",\"mathscore data\",\"mathscore data\",\"mathscore data\",\"mathscore data\",\"mathscore data\",\"mathscore data\",\"mathscore data\",\"mathscore data\",\"mathscore data\",\"mathscore data\",\"mathscore data\",\"mathscore data\",\"mathscore data\",\"mathscore data\",\"mathscore data\",\"mathscore data\",\"mathscore data\",\"mathscore data\",\"mathscore data\",\"mathscore data\",\"mathscore data\",\"mathscore data\",\"mathscore data\",\"mathscore data\",\"mathscore data\",\"mathscore data\",\"mathscore data\",\"mathscore data\",\"mathscore data\",\"mathscore data\",\"mathscore data\",\"mathscore data\",\"mathscore data\",\"mathscore data\",\"mathscore data\",\"mathscore data\",\"mathscore data\",\"mathscore data\",\"mathscore data\",\"mathscore data\",\"mathscore data\",\"mathscore data\",\"mathscore data\",\"mathscore data\",\"mathscore data\",\"mathscore data\",\"mathscore data\",\"mathscore data\",\"mathscore data\",\"mathscore data\",\"mathscore data\",\"mathscore data\",\"mathscore data\",\"mathscore data\",\"mathscore data\",\"mathscore data\",\"mathscore data\",\"mathscore data\",\"mathscore data\",\"mathscore data\",\"mathscore data\",\"mathscore data\",\"mathscore data\",\"mathscore data\",\"mathscore data\",\"mathscore data\",\"mathscore data\",\"mathscore data\",\"mathscore data\",\"mathscore data\",\"mathscore data\",\"mathscore data\"],\"yaxis\":\"y2\",\"type\":\"scatter\"}],                        {\"barmode\":\"overlay\",\"hovermode\":\"closest\",\"legend\":{\"traceorder\":\"reversed\"},\"xaxis\":{\"anchor\":\"y2\",\"domain\":[0.0,1.0],\"zeroline\":false},\"yaxis\":{\"anchor\":\"free\",\"domain\":[0.35,1],\"position\":0.0},\"yaxis2\":{\"anchor\":\"x\",\"domain\":[0,0.25],\"dtick\":1,\"showticklabels\":false},\"template\":{\"data\":{\"histogram2dcontour\":[{\"type\":\"histogram2dcontour\",\"colorbar\":{\"outlinewidth\":0,\"ticks\":\"\"},\"colorscale\":[[0.0,\"#0d0887\"],[0.1111111111111111,\"#46039f\"],[0.2222222222222222,\"#7201a8\"],[0.3333333333333333,\"#9c179e\"],[0.4444444444444444,\"#bd3786\"],[0.5555555555555556,\"#d8576b\"],[0.6666666666666666,\"#ed7953\"],[0.7777777777777778,\"#fb9f3a\"],[0.8888888888888888,\"#fdca26\"],[1.0,\"#f0f921\"]]}],\"choropleth\":[{\"type\":\"choropleth\",\"colorbar\":{\"outlinewidth\":0,\"ticks\":\"\"}}],\"histogram2d\":[{\"type\":\"histogram2d\",\"colorbar\":{\"outlinewidth\":0,\"ticks\":\"\"},\"colorscale\":[[0.0,\"#0d0887\"],[0.1111111111111111,\"#46039f\"],[0.2222222222222222,\"#7201a8\"],[0.3333333333333333,\"#9c179e\"],[0.4444444444444444,\"#bd3786\"],[0.5555555555555556,\"#d8576b\"],[0.6666666666666666,\"#ed7953\"],[0.7777777777777778,\"#fb9f3a\"],[0.8888888888888888,\"#fdca26\"],[1.0,\"#f0f921\"]]}],\"heatmap\":[{\"type\":\"heatmap\",\"colorbar\":{\"outlinewidth\":0,\"ticks\":\"\"},\"colorscale\":[[0.0,\"#0d0887\"],[0.1111111111111111,\"#46039f\"],[0.2222222222222222,\"#7201a8\"],[0.3333333333333333,\"#9c179e\"],[0.4444444444444444,\"#bd3786\"],[0.5555555555555556,\"#d8576b\"],[0.6666666666666666,\"#ed7953\"],[0.7777777777777778,\"#fb9f3a\"],[0.8888888888888888,\"#fdca26\"],[1.0,\"#f0f921\"]]}],\"heatmapgl\":[{\"type\":\"heatmapgl\",\"colorbar\":{\"outlinewidth\":0,\"ticks\":\"\"},\"colorscale\":[[0.0,\"#0d0887\"],[0.1111111111111111,\"#46039f\"],[0.2222222222222222,\"#7201a8\"],[0.3333333333333333,\"#9c179e\"],[0.4444444444444444,\"#bd3786\"],[0.5555555555555556,\"#d8576b\"],[0.6666666666666666,\"#ed7953\"],[0.7777777777777778,\"#fb9f3a\"],[0.8888888888888888,\"#fdca26\"],[1.0,\"#f0f921\"]]}],\"contourcarpet\":[{\"type\":\"contourcarpet\",\"colorbar\":{\"outlinewidth\":0,\"ticks\":\"\"}}],\"contour\":[{\"type\":\"contour\",\"colorbar\":{\"outlinewidth\":0,\"ticks\":\"\"},\"colorscale\":[[0.0,\"#0d0887\"],[0.1111111111111111,\"#46039f\"],[0.2222222222222222,\"#7201a8\"],[0.3333333333333333,\"#9c179e\"],[0.4444444444444444,\"#bd3786\"],[0.5555555555555556,\"#d8576b\"],[0.6666666666666666,\"#ed7953\"],[0.7777777777777778,\"#fb9f3a\"],[0.8888888888888888,\"#fdca26\"],[1.0,\"#f0f921\"]]}],\"surface\":[{\"type\":\"surface\",\"colorbar\":{\"outlinewidth\":0,\"ticks\":\"\"},\"colorscale\":[[0.0,\"#0d0887\"],[0.1111111111111111,\"#46039f\"],[0.2222222222222222,\"#7201a8\"],[0.3333333333333333,\"#9c179e\"],[0.4444444444444444,\"#bd3786\"],[0.5555555555555556,\"#d8576b\"],[0.6666666666666666,\"#ed7953\"],[0.7777777777777778,\"#fb9f3a\"],[0.8888888888888888,\"#fdca26\"],[1.0,\"#f0f921\"]]}],\"mesh3d\":[{\"type\":\"mesh3d\",\"colorbar\":{\"outlinewidth\":0,\"ticks\":\"\"}}],\"scatter\":[{\"fillpattern\":{\"fillmode\":\"overlay\",\"size\":10,\"solidity\":0.2},\"type\":\"scatter\"}],\"parcoords\":[{\"type\":\"parcoords\",\"line\":{\"colorbar\":{\"outlinewidth\":0,\"ticks\":\"\"}}}],\"scatterpolargl\":[{\"type\":\"scatterpolargl\",\"marker\":{\"colorbar\":{\"outlinewidth\":0,\"ticks\":\"\"}}}],\"bar\":[{\"error_x\":{\"color\":\"#2a3f5f\"},\"error_y\":{\"color\":\"#2a3f5f\"},\"marker\":{\"line\":{\"color\":\"#E5ECF6\",\"width\":0.5},\"pattern\":{\"fillmode\":\"overlay\",\"size\":10,\"solidity\":0.2}},\"type\":\"bar\"}],\"scattergeo\":[{\"type\":\"scattergeo\",\"marker\":{\"colorbar\":{\"outlinewidth\":0,\"ticks\":\"\"}}}],\"scatterpolar\":[{\"type\":\"scatterpolar\",\"marker\":{\"colorbar\":{\"outlinewidth\":0,\"ticks\":\"\"}}}],\"histogram\":[{\"marker\":{\"pattern\":{\"fillmode\":\"overlay\",\"size\":10,\"solidity\":0.2}},\"type\":\"histogram\"}],\"scattergl\":[{\"type\":\"scattergl\",\"marker\":{\"colorbar\":{\"outlinewidth\":0,\"ticks\":\"\"}}}],\"scatter3d\":[{\"type\":\"scatter3d\",\"line\":{\"colorbar\":{\"outlinewidth\":0,\"ticks\":\"\"}},\"marker\":{\"colorbar\":{\"outlinewidth\":0,\"ticks\":\"\"}}}],\"scattermapbox\":[{\"type\":\"scattermapbox\",\"marker\":{\"colorbar\":{\"outlinewidth\":0,\"ticks\":\"\"}}}],\"scatterternary\":[{\"type\":\"scatterternary\",\"marker\":{\"colorbar\":{\"outlinewidth\":0,\"ticks\":\"\"}}}],\"scattercarpet\":[{\"type\":\"scattercarpet\",\"marker\":{\"colorbar\":{\"outlinewidth\":0,\"ticks\":\"\"}}}],\"carpet\":[{\"aaxis\":{\"endlinecolor\":\"#2a3f5f\",\"gridcolor\":\"white\",\"linecolor\":\"white\",\"minorgridcolor\":\"white\",\"startlinecolor\":\"#2a3f5f\"},\"baxis\":{\"endlinecolor\":\"#2a3f5f\",\"gridcolor\":\"white\",\"linecolor\":\"white\",\"minorgridcolor\":\"white\",\"startlinecolor\":\"#2a3f5f\"},\"type\":\"carpet\"}],\"table\":[{\"cells\":{\"fill\":{\"color\":\"#EBF0F8\"},\"line\":{\"color\":\"white\"}},\"header\":{\"fill\":{\"color\":\"#C8D4E3\"},\"line\":{\"color\":\"white\"}},\"type\":\"table\"}],\"barpolar\":[{\"marker\":{\"line\":{\"color\":\"#E5ECF6\",\"width\":0.5},\"pattern\":{\"fillmode\":\"overlay\",\"size\":10,\"solidity\":0.2}},\"type\":\"barpolar\"}],\"pie\":[{\"automargin\":true,\"type\":\"pie\"}]},\"layout\":{\"autotypenumbers\":\"strict\",\"colorway\":[\"#636efa\",\"#EF553B\",\"#00cc96\",\"#ab63fa\",\"#FFA15A\",\"#19d3f3\",\"#FF6692\",\"#B6E880\",\"#FF97FF\",\"#FECB52\"],\"font\":{\"color\":\"#2a3f5f\"},\"hovermode\":\"closest\",\"hoverlabel\":{\"align\":\"left\"},\"paper_bgcolor\":\"white\",\"plot_bgcolor\":\"#E5ECF6\",\"polar\":{\"bgcolor\":\"#E5ECF6\",\"angularaxis\":{\"gridcolor\":\"white\",\"linecolor\":\"white\",\"ticks\":\"\"},\"radialaxis\":{\"gridcolor\":\"white\",\"linecolor\":\"white\",\"ticks\":\"\"}},\"ternary\":{\"bgcolor\":\"#E5ECF6\",\"aaxis\":{\"gridcolor\":\"white\",\"linecolor\":\"white\",\"ticks\":\"\"},\"baxis\":{\"gridcolor\":\"white\",\"linecolor\":\"white\",\"ticks\":\"\"},\"caxis\":{\"gridcolor\":\"white\",\"linecolor\":\"white\",\"ticks\":\"\"}},\"coloraxis\":{\"colorbar\":{\"outlinewidth\":0,\"ticks\":\"\"}},\"colorscale\":{\"sequential\":[[0.0,\"#0d0887\"],[0.1111111111111111,\"#46039f\"],[0.2222222222222222,\"#7201a8\"],[0.3333333333333333,\"#9c179e\"],[0.4444444444444444,\"#bd3786\"],[0.5555555555555556,\"#d8576b\"],[0.6666666666666666,\"#ed7953\"],[0.7777777777777778,\"#fb9f3a\"],[0.8888888888888888,\"#fdca26\"],[1.0,\"#f0f921\"]],\"sequentialminus\":[[0.0,\"#0d0887\"],[0.1111111111111111,\"#46039f\"],[0.2222222222222222,\"#7201a8\"],[0.3333333333333333,\"#9c179e\"],[0.4444444444444444,\"#bd3786\"],[0.5555555555555556,\"#d8576b\"],[0.6666666666666666,\"#ed7953\"],[0.7777777777777778,\"#fb9f3a\"],[0.8888888888888888,\"#fdca26\"],[1.0,\"#f0f921\"]],\"diverging\":[[0,\"#8e0152\"],[0.1,\"#c51b7d\"],[0.2,\"#de77ae\"],[0.3,\"#f1b6da\"],[0.4,\"#fde0ef\"],[0.5,\"#f7f7f7\"],[0.6,\"#e6f5d0\"],[0.7,\"#b8e186\"],[0.8,\"#7fbc41\"],[0.9,\"#4d9221\"],[1,\"#276419\"]]},\"xaxis\":{\"gridcolor\":\"white\",\"linecolor\":\"white\",\"ticks\":\"\",\"title\":{\"standoff\":15},\"zerolinecolor\":\"white\",\"automargin\":true,\"zerolinewidth\":2},\"yaxis\":{\"gridcolor\":\"white\",\"linecolor\":\"white\",\"ticks\":\"\",\"title\":{\"standoff\":15},\"zerolinecolor\":\"white\",\"automargin\":true,\"zerolinewidth\":2},\"scene\":{\"xaxis\":{\"backgroundcolor\":\"#E5ECF6\",\"gridcolor\":\"white\",\"linecolor\":\"white\",\"showbackground\":true,\"ticks\":\"\",\"zerolinecolor\":\"white\",\"gridwidth\":2},\"yaxis\":{\"backgroundcolor\":\"#E5ECF6\",\"gridcolor\":\"white\",\"linecolor\":\"white\",\"showbackground\":true,\"ticks\":\"\",\"zerolinecolor\":\"white\",\"gridwidth\":2},\"zaxis\":{\"backgroundcolor\":\"#E5ECF6\",\"gridcolor\":\"white\",\"linecolor\":\"white\",\"showbackground\":true,\"ticks\":\"\",\"zerolinecolor\":\"white\",\"gridwidth\":2}},\"shapedefaults\":{\"line\":{\"color\":\"#2a3f5f\"}},\"annotationdefaults\":{\"arrowcolor\":\"#2a3f5f\",\"arrowhead\":0,\"arrowwidth\":1},\"geo\":{\"bgcolor\":\"white\",\"landcolor\":\"#E5ECF6\",\"subunitcolor\":\"white\",\"showland\":true,\"showlakes\":true,\"lakecolor\":\"white\"},\"title\":{\"x\":0.05},\"mapbox\":{\"style\":\"light\"}}}},                        {\"responsive\": true}                    ).then(function(){\n",
              "                            \n",
              "var gd = document.getElementById('c267bc50-b934-411d-9d69-439b0d140012');\n",
              "var x = new MutationObserver(function (mutations, observer) {{\n",
              "        var display = window.getComputedStyle(gd).display;\n",
              "        if (!display || display === 'none') {{\n",
              "            console.log([gd, 'removed!']);\n",
              "            Plotly.purge(gd);\n",
              "            observer.disconnect();\n",
              "        }}\n",
              "}});\n",
              "\n",
              "// Listen for the removal of the full notebook cells\n",
              "var notebookContainer = gd.closest('#notebook-container');\n",
              "if (notebookContainer) {{\n",
              "    x.observe(notebookContainer, {childList: true});\n",
              "}}\n",
              "\n",
              "// Listen for the clearing of the current output cell\n",
              "var outputEl = gd.closest('.output');\n",
              "if (outputEl) {{\n",
              "    x.observe(outputEl, {childList: true});\n",
              "}}\n",
              "\n",
              "                        })                };                            </script>        </div>\n",
              "</body>\n",
              "</html>"
            ]
          },
          "metadata": {}
        }
      ]
    },
    {
      "cell_type": "code",
      "source": [
        "sscore=df['math score'].skew()                # skewness=0 perfect data, -0.5 to 0.5 =mild skewness ignore it.\n",
        "sscore"
      ],
      "metadata": {
        "colab": {
          "base_uri": "https://localhost:8080/"
        },
        "id": "LqChFRN0L86S",
        "outputId": "f07c972b-9798-4063-d93d-6da8fd965d56"
      },
      "execution_count": null,
      "outputs": [
        {
          "output_type": "execute_result",
          "data": {
            "text/plain": [
              "np.float64(-0.27893514909431694)"
            ]
          },
          "metadata": {},
          "execution_count": 76
        }
      ]
    },
    {
      "cell_type": "code",
      "source": [
        "q1=df['math score'].quantile(0.25)      # to find Q1, Q3, IQR, LowerBound, UpperBound\n",
        "q3=df['math score'].quantile(0.75)\n",
        "IQR=q3-q1\n",
        "lower_bound=q1-1.5*IQR\n",
        "upper_bound=q3+1.5*IQR\n",
        "\n",
        "print(f\"\"\"Q1:{q1}\n",
        "Q3:{q3}\n",
        "IQR:{IQR}\n",
        "Lowerbound:{lower_bound}\n",
        "Upperbound:{upper_bound}\"\"\")\n",
        "\n"
      ],
      "metadata": {
        "colab": {
          "base_uri": "https://localhost:8080/"
        },
        "id": "NSFCuu7G_dqc",
        "outputId": "0b4f48e8-393e-4a42-d4cf-1838aa58dbab"
      },
      "execution_count": null,
      "outputs": [
        {
          "output_type": "stream",
          "name": "stdout",
          "text": [
            "Q1:57.0\n",
            "Q3:77.0\n",
            "IQR:20.0\n",
            "Lowerbound:27.0\n",
            "Upperbound:107.0\n"
          ]
        }
      ]
    },
    {
      "cell_type": "code",
      "source": [
        "df['math score'].shape"
      ],
      "metadata": {
        "colab": {
          "base_uri": "https://localhost:8080/"
        },
        "id": "8UXjuDbF_d-l",
        "outputId": "32d3d5ee-b6ec-458a-8a40-45aba3d34326"
      },
      "execution_count": null,
      "outputs": [
        {
          "output_type": "execute_result",
          "data": {
            "text/plain": [
              "(1000,)"
            ]
          },
          "metadata": {},
          "execution_count": 78
        }
      ]
    },
    {
      "cell_type": "code",
      "source": [
        "newdf=df[(df['math score']>lower_bound) & (df['math score']<upper_bound)]        # outlier removal\n",
        "newdf.shape"
      ],
      "metadata": {
        "colab": {
          "base_uri": "https://localhost:8080/"
        },
        "id": "O_hcVHNsCeXn",
        "outputId": "14c15e2c-157f-40ff-d23a-4070fb9eef69"
      },
      "execution_count": null,
      "outputs": [
        {
          "output_type": "execute_result",
          "data": {
            "text/plain": [
              "(990, 8)"
            ]
          },
          "metadata": {},
          "execution_count": 79
        }
      ]
    },
    {
      "cell_type": "code",
      "source": [
        "1000-990"
      ],
      "metadata": {
        "colab": {
          "base_uri": "https://localhost:8080/"
        },
        "id": "rrJlVNvpIl2m",
        "outputId": "1dce9603-76e0-47ba-9c52-d3aacd6cd957"
      },
      "execution_count": null,
      "outputs": [
        {
          "output_type": "execute_result",
          "data": {
            "text/plain": [
              "10"
            ]
          },
          "metadata": {},
          "execution_count": 80
        }
      ]
    },
    {
      "cell_type": "code",
      "source": [
        "new_msscore=newdf['math score'].skew()               # after oulier removal skewness score\n",
        "\n",
        "new_msscore"
      ],
      "metadata": {
        "colab": {
          "base_uri": "https://localhost:8080/"
        },
        "id": "7pT_sCO4XpfW",
        "outputId": "97703ccb-055c-4cf2-8c92-282f92df1877"
      },
      "execution_count": null,
      "outputs": [
        {
          "output_type": "execute_result",
          "data": {
            "text/plain": [
              "np.float64(-0.04619025513163576)"
            ]
          },
          "metadata": {},
          "execution_count": 99
        }
      ]
    },
    {
      "cell_type": "code",
      "source": [
        "sns.boxplot(x=newdf['math score'])          # after outlier removal"
      ],
      "metadata": {
        "colab": {
          "base_uri": "https://localhost:8080/",
          "height": 466
        },
        "id": "ZqHMvTuqCebc",
        "outputId": "77ac81bd-f47c-452c-cb94-5fe53d23809e"
      },
      "execution_count": null,
      "outputs": [
        {
          "output_type": "execute_result",
          "data": {
            "text/plain": [
              "<Axes: xlabel='math score'>"
            ]
          },
          "metadata": {},
          "execution_count": 81
        },
        {
          "output_type": "display_data",
          "data": {
            "text/plain": [
              "<Figure size 640x480 with 1 Axes>"
            ],
            "image/png": "[encoded data removed]"
          },
          "metadata": {}
        }
      ]
    },
    {
      "cell_type": "code",
      "source": [
        "figm=ff.create_distplot([newdf['math score']],['mathscore data'],show_hist=False)      # after outlier removal\n",
        "figm.show()"
      ],
      "metadata": {
        "colab": {
          "base_uri": "https://localhost:8080/",
          "height": 542
        },
        "id": "0ftS5mQmKnqO",
        "outputId": "360327c9-d772-43c9-f79d-5b317dc23573"
      },
      "execution_count": null,
      "outputs": [
        {
          "output_type": "display_data",
          "data": {
            "text/html": [
              "<html>\n",
              "<head><meta charset=\"utf-8\" /></head>\n",
              "<body>\n",
              "    <div>            <script src=\"https://cdnjs.cloudflare.com/ajax/libs/mathjax/2.7.5/MathJax.js?config=TeX-AMS-MML_SVG\"></script><script type=\"text/javascript\">if (window.MathJax && window.MathJax.Hub && window.MathJax.Hub.Config) {window.MathJax.Hub.Config({SVG: {font: \"STIX-Web\"}});}</script>                <script type=\"text/javascript\">window.PlotlyConfig = {MathJaxConfig: 'local'};</script>\n",
              "        <script charset=\"utf-8\" src=\"https://cdn.plot.ly/plotly-2.35.2.min.js\"></script>                <div id=\"efea5ae4-1577-4d58-bc41-89cae75331df\" class=\"plotly-graph-div\" style=\"height:525px; width:100%;\"></div>            <script type=\"text/javascript\">                                    window.PLOTLYENV=window.PLOTLYENV || {};                                    if (document.getElementById(\"efea5ae4-1577-4d58-bc41-89cae75331df\")) {                    Plotly.newPlot(                        \"efea5ae4-1577-4d58-bc41-89cae75331df\",                        [{\"legendgroup\":\"mathscore data\",\"marker\":{\"color\":\"rgb(31, 119, 180)\"},\"mode\":\"lines\",\"name\":\"mathscore data\",\"showlegend\":true,\"x\":[28.0,28.144,28.288,28.432,28.576,28.72,28.864,29.008,29.152,29.296,29.44,29.584,29.728,29.872,30.016,30.16,30.304,30.448,30.592,30.736,30.88,31.024,31.168,31.312,31.456,31.6,31.744,31.887999999999998,32.032,32.176,32.32,32.464,32.608,32.752,32.896,33.04,33.184,33.328,33.472,33.616,33.76,33.903999999999996,34.048,34.192,34.336,34.480000000000004,34.624,34.768,34.912,35.056,35.2,35.344,35.488,35.632,35.775999999999996,35.92,36.064,36.208,36.352000000000004,36.496,36.64,36.784,36.928,37.072,37.216,37.36,37.504,37.647999999999996,37.792,37.936,38.08,38.224000000000004,38.368,38.512,38.656,38.8,38.944,39.088,39.232,39.376,39.519999999999996,39.664,39.808,39.952,40.096000000000004,40.24,40.384,40.528,40.672,40.816,40.96,41.104,41.248,41.391999999999996,41.536,41.68,41.824,41.968,42.112,42.256,42.4,42.544,42.688,42.832,42.976,43.12,43.263999999999996,43.408,43.552,43.696,43.84,43.984,44.128,44.272,44.416,44.56,44.704,44.848,44.992000000000004,45.135999999999996,45.28,45.424,45.568,45.712,45.856,46.0,46.144,46.288,46.432,46.576,46.72,46.864000000000004,47.007999999999996,47.152,47.296,47.44,47.584,47.728,47.872,48.016,48.16,48.304,48.448,48.592,48.736000000000004,48.879999999999995,49.024,49.168,49.312,49.456,49.6,49.744,49.888000000000005,50.032,50.176,50.32,50.464,50.608000000000004,50.751999999999995,50.896,51.04,51.184,51.328,51.472,51.616,51.760000000000005,51.903999999999996,52.048,52.192,52.336,52.480000000000004,52.623999999999995,52.768,52.912,53.056,53.2,53.344,53.488,53.632000000000005,53.775999999999996,53.92,54.064,54.208,54.352000000000004,54.495999999999995,54.64,54.784,54.928,55.072,55.216,55.36,55.504000000000005,55.647999999999996,55.792,55.936,56.08,56.224000000000004,56.367999999999995,56.512,56.656,56.8,56.944,57.088,57.232,57.376000000000005,57.519999999999996,57.664,57.808,57.952,58.096000000000004,58.239999999999995,58.384,58.528,58.672,58.816,58.96,59.104,59.248000000000005,59.391999999999996,59.536,59.68,59.824,59.968,60.112,60.256,60.4,60.544,60.688,60.832,60.976,61.12,61.264,61.408,61.552,61.696,61.84,61.984,62.128,62.272,62.416,62.56,62.704,62.848,62.992,63.136,63.28,63.424,63.568,63.712,63.856,64.0,64.144,64.288,64.432,64.576,64.72,64.864,65.00800000000001,65.152,65.29599999999999,65.44,65.584,65.72800000000001,65.872,66.01599999999999,66.16,66.304,66.44800000000001,66.592,66.73599999999999,66.88,67.024,67.168,67.312,67.456,67.6,67.744,67.888,68.032,68.176,68.32,68.464,68.608,68.75200000000001,68.896,69.03999999999999,69.184,69.328,69.47200000000001,69.616,69.75999999999999,69.904,70.048,70.19200000000001,70.336,70.47999999999999,70.624,70.768,70.912,71.056,71.2,71.344,71.488,71.632,71.77600000000001,71.92,72.064,72.208,72.352,72.49600000000001,72.64,72.78399999999999,72.928,73.072,73.21600000000001,73.36,73.50399999999999,73.648,73.792,73.936,74.08,74.22399999999999,74.368,74.512,74.656,74.8,74.944,75.088,75.232,75.376,75.52000000000001,75.664,75.80799999999999,75.952,76.096,76.24000000000001,76.384,76.52799999999999,76.672,76.816,76.96000000000001,77.104,77.24799999999999,77.392,77.536,77.68,77.824,77.968,78.112,78.256,78.4,78.544,78.688,78.832,78.976,79.12,79.26400000000001,79.408,79.55199999999999,79.696,79.84,79.98400000000001,80.128,80.27199999999999,80.416,80.56,80.70400000000001,80.848,80.99199999999999,81.136,81.28,81.424,81.568,81.712,81.856,82.0,82.144,82.288,82.432,82.576,82.72,82.864,83.00800000000001,83.152,83.29599999999999,83.44,83.584,83.72800000000001,83.872,84.01599999999999,84.16,84.304,84.44800000000001,84.592,84.73599999999999,84.88,85.024,85.168,85.312,85.456,85.6,85.744,85.888,86.032,86.176,86.32,86.464,86.608,86.75200000000001,86.896,87.03999999999999,87.184,87.328,87.47200000000001,87.616,87.75999999999999,87.904,88.048,88.19200000000001,88.336,88.47999999999999,88.624,88.768,88.912,89.056,89.2,89.344,89.488,89.632,89.77600000000001,89.92,90.064,90.208,90.352,90.49600000000001,90.64,90.78399999999999,90.928,91.072,91.21600000000001,91.36,91.50399999999999,91.648,91.792,91.936,92.08,92.224,92.368,92.512,92.656,92.8,92.944,93.088,93.232,93.376,93.52,93.664,93.808,93.952,94.096,94.24,94.384,94.528,94.672,94.816,94.96,95.104,95.248,95.392,95.536,95.68,95.824,95.968,96.112,96.256,96.4,96.544,96.688,96.832,96.976,97.12,97.264,97.408,97.552,97.696,97.84,97.984,98.128,98.272,98.416,98.56,98.704,98.848,98.992,99.136,99.28,99.424,99.568,99.712,99.856],\"xaxis\":\"x\",\"y\":[0.0010490985410749234,0.0010834692652219014,0.0011181528150560735,0.0011531358780592852,0.0011884069271759128,0.0012239563352258287,0.0012597764731394714,0.0012958617911716275,0.0013322088824443484,0.001368816528368753,0.0014056857256972283,0.00144281969515866,0.0014802238718267103,0.0015179058775618007,0.0015558754760486549,0.0015941445111205313,0.001632726829216106,0.0016716381869537737,0.0017108961449290635,0.0017505199489429289,0.001790530399950915,0.0018309497140855855,0.0018718013741467474,0.0019131099739769155,0.0019549010571436112,0.001997200951336829,0.0020400365998611094,0.002083435391558486,0.002127424990443762,0.002172033166268744,0.002217287627160061,0.0022632158553979567,0.0023098449473236806,0.002357201458282352,0.0024053112534299192,0.0024541993651567232,0.002503889857810375,0.002554405700336293,0.0026057686473975024,0.0026579991294864752,0.0027111161525008266,0.0027651372072216417,0.002820078189107774,0.0028759533287997644,0.0029327751337133966,0.0029905543410917363,0.003049299882876245,0.0031090188627484706,0.003169716545682553,0.003231396360333407,0.003294059914563183,0.003357707024378344,0.0034223357565084252,0.003487942484804583,0.0035545219605701063,0.003622067396853972,0.0036905705666438007,0.0037600219147833794,0.0038304106833162055,0.003901725049816757,0.003973952278121784,0.00404707888071148,0.004121090791821917,0.004195973550195219,0.004271712490197149,0.0043482929398558625,0.004425700424205348,0.004503920872154471,0.004582940824953018,0.004662747644193755,0.00474332971717584,0.004824676657366248,0.004906779497634021,0.0049896308738991875,0.005073225196838639,0.0051575588093247925,0.005242630127341739,0.005328439762228324,0.005414990622237887,0.005502287991578652,0.005590339585307419,0.005679155578686982,0.005768748609884591,0.0058591337551798335,0.0059503284761604465,0.0060423525387113845,0.006135227903939122,0.006228978591515921,0.0063236305162691275,0.006419211299177836,0.0065157500542629785,0.0066132771531636604,0.006711823969479368,0.006811422605214746,0.006912105601891103,0.007013905639081628,0.007116855223280192,0.007220986370127518,0.007326330283089033,0.00743291703170596,0.00754077523252619,0.0076499317357616925,0.007760411320619327,0.007872236402114792,0.007985426752000816,0.008099999236237925,0.008215967571195942,0.008333342100518963,0.00845212959430674,0.008572333071976301,0.00869395164986929,0.008816980414370446,0.008941410321009015,0.009067228119725575,0.00919441630621775,0.009322953099023675,0.009452812441774639,0.009583964029845607,0.009716373360461942,0.009850001805182113,0.00998480670357189,0.01012074147681781,0.010257755759993412,0.010395795551693928,0.010534803379787192,0.010674718482095434,0.01081547700091073,0.010957012190364806,0.011099254635803774,0.011242132484469277,0.011385571686939391,0.011529496248943345,0.011673828493317096,0.011818489332013384,0.011963398548208345,0.012108475088657141,0.0122536373665324,0.012398803575030972,0.012543892012049156,0.012688821416203065,0.01283351131440439,0.01297788238109078,0.01312185680905721,0.013265358691631686,0.01340831441570004,0.013550653064795602,0.013692306831153682,0.013833211435274209,0.013973306551157841,0.01411253623497981,0.014250849354555568,0.014388200016537296,0.014524547987869426,0.014659859107639596,0.014794105685091562,0.014927266879232804,0.015059329055183562,0.01519028611217799,0.015320139777961983,0.015448899864232764,0.015576584477749324,0.01570322018181043,0.015828842102958512,0.01595349397801547,0.016077228136912283,0.016200105417212406,0.016322195006769836,0.016443574211592024,0.016564328146684754,0.01668454934845158,0.016804337308070856,0.016923797926191,0.017043042890237774,0.017162188976619364,0.01728135728111443,0.017400672381736423,0.01752026143935116,0.01764025324228566,0.01776077720206882,0.01788196230829052,0.018003936051329196,0.01812682332236522,0.01825074530066316,0.018375818338546693,0.018502152854810362,0.018629852247489625,0.018759011836951032,0.018889717850162427,0.019022046456748792,0.019156062867050013,0.019291820501861987,0.019429360242878307,0.019568709772059302,0.019709883007250056,0.019852879640367582,0.019997684783383967,0.020144268726169562,0.020292586809044777,0.02044257941163705,0.020594172058366507,0.020747275639613646,0.020901786746370353,0.02105758811495584,0.021214549177218347,0.021372526710545528,0.02153136558099411,0.02169089957193532,0.021850952289800423,0.022011338137822984,0.022171863348102984,0.022332327061880604,0.02249252244760367,0.022652237846196577,0.02281125793290216,0.02296936488515583,0.023126339546166597,0.023281962574212556,0.023436015568100366,0.023588282159782138,0.023738549065758584,0.023886607089605664,0.024032252068744406,0.024175285759405103,0.02431551665460742,0.024452760730884163,0.02458684212038845,0.02471759370594546,0.024844857637516173,0.024968485769433887,0.025088340018628977,0.02520429264487253,0.025316226454841703,0.025424034932515684,0.02552762229906021,0.025626903505936455,0.02572180416547386,0.025812260423577073,0.025898218779586063,0.025979635858579944,0.02605647814160726,0.026128721659439837,0.026196351655482952,0.026259362223439303,0.026317755925218175,0.02637154339440952,0.026420742930405056,0.026465380087966957,0.026505487266696392,0.026541103304479223,0.026572273078560707,0.0265990471174535,0.026621481226408172,0.02663963612868749,0.0266535771243821,0.02666337376801249,0.02666909956565819,0.02667083169187786,0.02666865072621636,0.02666264040865854,0.026652887412975237,0.026639481136546597,0.026622513504905725,0.026602078788971233,0.026578273432701638,0.026551195888722543,0.02652094645935426,0.026487627140401974,0.02645134146505502,0.02641219434529647,0.02637029190832054,0.026325741325622685,0.026278650632627718,0.026229128536988222,0.026177284213981775,0.026123227087777978,0.026067066597719343,0.026008911949154157,0.025948871848782914,0.02588705422490252,0.02582356593336536,0.02575851245049844,0.02569199755463964,0.025624122998344778,0.025554988173679957,0.025484689773349098,0.02541332145068986,0.025340973481812894,0.025267732433344747,0.025193680839363672,0.02511889689118274,0.025043454143639222,0.02496742124148855,0.024890861669372627,0.024813833528644896,0.02473638934408257,0.024658575903210946,0.024580434130600754,0.02450199899909416,0.024423299479470407,0.024344358529576764,0.024265193123451594,0.024185814320446055,0.024106227373826727,0.024026431877818576,0.023946421951543083,0.02386618645781979,0.023785709254343618,0.02370496947434123,0.02362394183344149,0.02354259695918509,0.023460901739348027,0.02337881968507234,0.02329631130468204,0.023213334484016877,0.023129844869150297,0.023045796247458318,0.022961140923176086,0.0228758300838215,0.022789814154160055,0.022703043134747053,0.022615466922487018,0.02252703561109343,0.02243769976981309,0.0223474106992779,0.022256120663860755,0.022163783100417625,0.022070352803810554,0.021975786090084135,0.021880040938618922,0.02178307711500482,0.021684856276734766,0.021585342064130885,0.021484500179153723,0.021382298454926424,0.02127870691889711,0.021173697852592082,0.021067245850855138,0.02095932788333943,0.020849923360806655,0.020739014208513255,0.020626584948615936,0.02051262279312241,0.020397117748457986,0.020280062732214138,0.02016145370211749,0.020041289796697656,0.019919573486573156,0.019796310734710804,0.01967151116346955,0.019545188225719014,0.01941735937684689,0.019288046244039257,0.019157274788852666,0.019025075458802394,0.018891483323476326,0.01875653819055667,0.01862028469709747,0.018482772371466095,0.01834405566151817,0.018204193924833367,0.018063251377193095,0.017921296995931667,0.017778404375323777,0.017634651531788614,0.017490120657374916,0.017344897820737136,0.017199072615603224,0.017052737757566477,0.016905988630878593,0.01675892278777728,0.016611639403725283,0.016464238692760244,0.016316821287932826,0.016169487592540315,0.016022337108519764,0.01587546774894433,0.01572897514204902,0.01558295193460209,0.015437487102700376,0.015292665278233804,0.015148566099286245,0.01500526359265797,0.014862825596471771,0.014721313230491062,0.014580780421317082,0.014441273489065291,0.014302830801442174,0.01416548250037535,0.014029250305497589,0.013894147397857987,0.013760178386255095,0.013627339357564506,0.013495618011385718,0.013364993878275166,0.013235438619784132,0.013106916407490544,0.012979384377226231,0.012852793153763722,0.012727087440360545,0.012602206666765111,0.012478085688594851,0.012354655530394798,0.01223184416419627,0.012109577315018653,0.011987779284498212,0.01186637378368856,0.01174528476605874,0.01162443725181374,0.011503758134873325,0.011383176964167598,0.01126262669132973,0.011142044377380327,0.011021371851597543,0.010900556316435344,0.010779550893084106,0.01065831510304488,0.01053681528190397,0.010415024922330129,0.010292924944163829,0.010170503890313265,0.010047758048002679,0.009924691495724579,0.009801316077019213,0.00967765130293209,0.00955372418567637,0.009429569006643757,0.009305227022461419,0.009180746113278382,0.009056180377879811,0.00893158968057043,0.008807039155041337,0.00868259867063237,0.008558342266537254,0.008434347559560762,0.00831069513104572,0.008187467898532193,0.008064750477608329,0.00794262853926322,0.007821188167860359,0.0077005152246284216,0.007580694721314122,0.0074618102083678205,0.00734394318174526,0.0072271725121070655,0.007111573899892239,0.006997219359434716,0.00688417673498524,0.006772509251202322,0.006662275100380247,0.0065535270684014555,0.006446312201125107,0.006340671512662777,0.006236639736740345,0.006134245122104348,0.006033509272700672,0.005934447033128895,0.005837066419661152,0.005741368596901892,0.005647347899957794,0.005554991901780421,0.005464281525138002,0.0053751911984645,0.0052876890546237065,0.005201737171411377,0.005117291852399722,0.005034303946506075,0.004952719204439968,0.0048724786699533805,0.0047935191035865694,0.004715773436369514,0.0046391712507091575,0.004563639285466303,0.004489101962007592,0.0044154819278100456,0.004342700614000942,0.004270678803039425,0.004199337202589653,0.00412859702150419,0.004058380543732564,0.0039886116958974946,0.003919216604243528,0.0038501241366611138,0.003781266425527283,0.0037125793671830254,0.003644003093987787,0.0035754824150552532,0.003506967221980813,0.0034384128561185437,0.0033697804342547005,0.0033010371298515147,0.003232156407397884,0.003163118207799732,0.0030939090831660072,0.003024522279795593,0.0029549577686376225,0.0028852222229792646,0.00281532894360558,0.0027452977321680023,0.0026751547139871913,0.0026049321119954944],\"yaxis\":\"y\",\"type\":\"scatter\"},{\"legendgroup\":\"mathscore data\",\"marker\":{\"color\":\"rgb(31, 119, 180)\",\"symbol\":\"line-ns-open\"},\"mode\":\"markers\",\"name\":\"mathscore data\",\"showlegend\":false,\"x\":[72,69,90,47,76,71,88,40,64,38,58,40,65,78,50,69,88,46,54,66,65,44,69,74,73,69,67,70,62,69,63,56,40,97,81,74,50,75,57,55,58,53,59,50,65,55,66,57,82,53,77,53,88,71,33,82,52,58,79,39,62,69,59,67,45,60,61,39,58,63,41,61,49,44,30,80,61,62,47,49,50,72,42,73,76,71,58,73,65,71,43,79,78,65,63,58,65,79,68,85,60,98,58,87,66,52,70,77,62,54,51,99,84,75,78,51,55,79,91,88,63,83,87,72,65,82,51,89,53,87,75,74,58,51,70,59,71,76,59,42,57,88,88,73,68,100,62,77,59,54,62,70,66,60,61,66,82,75,49,52,81,96,53,58,68,67,72,94,79,63,43,81,46,71,52,97,62,46,50,65,45,65,80,62,48,77,66,76,62,77,69,61,59,55,45,78,67,65,69,57,59,74,82,81,74,58,80,35,42,60,87,84,83,34,66,61,56,87,55,86,52,45,72,57,68,88,76,46,67,92,83,80,63,64,54,84,73,80,56,59,75,85,89,58,65,68,47,71,60,80,54,62,64,78,70,65,64,79,44,99,76,59,63,69,88,71,69,58,47,65,88,83,85,59,65,73,53,45,73,70,37,81,97,67,88,77,76,86,63,65,78,67,46,71,40,90,81,56,67,80,74,69,99,51,53,49,73,66,67,68,59,71,77,83,63,56,67,75,71,43,41,82,61,28,82,41,71,47,62,90,83,61,76,49,35,58,61,69,67,79,72,62,77,75,87,52,66,63,46,59,61,63,42,59,80,58,85,52,59,49,69,61,44,73,84,45,74,82,59,46,80,85,71,66,80,87,79,38,38,67,64,57,62,73,73,77,76,57,65,48,50,85,74,60,59,53,49,88,54,63,65,82,52,87,70,84,71,63,51,84,71,74,68,57,82,57,47,59,41,62,86,69,65,68,64,61,61,47,73,50,75,75,70,89,67,78,59,73,79,67,69,86,47,81,64,100,65,65,53,37,79,53,100,72,53,54,71,77,75,84,72,77,91,83,63,68,59,90,71,76,80,55,76,73,52,68,59,49,70,61,60,64,79,65,64,83,81,54,68,54,59,66,76,74,94,63,95,40,82,68,55,79,86,76,64,62,54,77,76,74,66,66,67,71,91,69,54,53,68,56,36,29,62,68,47,62,79,73,66,51,51,85,97,75,79,81,82,64,78,92,72,62,79,79,87,40,77,53,32,55,61,53,73,74,63,96,63,48,48,92,61,63,68,71,91,53,50,74,40,61,81,48,53,81,77,63,73,69,65,55,44,54,48,58,71,68,74,92,56,30,53,69,65,54,29,76,60,84,75,85,40,61,58,69,58,94,65,82,60,37,88,95,65,35,62,58,100,61,100,69,61,49,44,67,79,66,75,84,71,67,80,86,76,41,74,72,74,70,65,59,64,50,69,51,68,85,65,73,62,77,69,43,90,74,73,55,65,80,50,63,77,73,81,66,52,69,65,69,50,73,70,81,63,67,60,62,29,62,94,85,77,53,93,49,73,66,77,49,79,75,59,57,66,79,57,87,63,59,62,46,66,89,42,93,80,98,81,60,76,73,96,76,91,62,55,74,50,47,81,65,68,73,53,68,55,87,55,53,67,92,53,81,61,80,37,81,59,55,72,69,69,50,87,71,68,79,77,58,84,55,70,52,69,53,48,78,62,60,74,58,76,68,58,52,75,52,62,66,49,66,35,72,94,46,77,76,52,91,32,72,68,52,48,60,66,89,42,57,70,70,69,52,67,76,87,82,73,75,64,41,90,59,51,45,54,87,72,94,45,61,60,77,85,78,49,71,48,62,56,65,69,68,61,74,64,77,58,60,73,75,58,66,39,64,74,40,90,91,64,59,80,71,61,87,82,62,97,75,65,52,87,53,81,39,71,97,82,59,61,78,49,59,70,82,90,43,80,81,57,59,64,63,71,64,55,51,62,93,54,69,44,86,85,50,88,59,32,36,63,67,65,85,73,34,93,67,88,57,79,67,70,50,69,52,47,46,68,100,44,57,91,69,35,72,54,74,74,64,65,46,48,67,62,61,70,98,70,67,57,85,77,72,78,81,61,58,54,82,49,49,57,94,75,74,58,62,72,84,92,45,75,56,48,100,65,72,62,66,63,68,75,89,78,53,49,54,64,60,62,55,91,81,79,78,74,57,40,81,44,67,86,65,55,62,63,88,62,59,68,77],\"xaxis\":\"x\",\"y\":[\"mathscore data\",\"mathscore data\",\"mathscore data\",\"mathscore data\",\"mathscore data\",\"mathscore data\",\"mathscore data\",\"mathscore data\",\"mathscore data\",\"mathscore data\",\"mathscore data\",\"mathscore data\",\"mathscore data\",\"mathscore data\",\"mathscore data\",\"mathscore data\",\"mathscore data\",\"mathscore data\",\"mathscore data\",\"mathscore data\",\"mathscore data\",\"mathscore data\",\"mathscore data\",\"mathscore data\",\"mathscore data\",\"mathscore data\",\"mathscore data\",\"mathscore data\",\"mathscore data\",\"mathscore data\",\"mathscore data\",\"mathscore data\",\"mathscore data\",\"mathscore data\",\"mathscore data\",\"mathscore data\",\"mathscore data\",\"mathscore data\",\"mathscore data\",\"mathscore data\",\"mathscore data\",\"mathscore data\",\"mathscore data\",\"mathscore data\",\"mathscore data\",\"mathscore data\",\"mathscore data\",\"mathscore data\",\"mathscore data\",\"mathscore data\",\"mathscore data\",\"mathscore data\",\"mathscore data\",\"mathscore data\",\"mathscore data\",\"mathscore data\",\"mathscore data\",\"mathscore data\",\"mathscore data\",\"mathscore data\",\"mathscore data\",\"mathscore data\",\"mathscore data\",\"mathscore data\",\"mathscore data\",\"mathscore data\",\"mathscore data\",\"mathscore data\",\"mathscore data\",\"mathscore data\",\"mathscore data\",\"mathscore data\",\"mathscore data\",\"mathscore data\",\"mathscore data\",\"mathscore data\",\"mathscore data\",\"mathscore data\",\"mathscore data\",\"mathscore data\",\"mathscore data\",\"mathscore data\",\"mathscore data\",\"mathscore data\",\"mathscore data\",\"mathscore data\",\"mathscore data\",\"mathscore data\",\"mathscore data\",\"mathscore data\",\"mathscore data\",\"mathscore data\",\"mathscore data\",\"mathscore data\",\"mathscore data\",\"mathscore data\",\"mathscore data\",\"mathscore data\",\"mathscore data\",\"mathscore data\",\"mathscore data\",\"mathscore data\",\"mathscore data\",\"mathscore data\",\"mathscore data\",\"mathscore data\",\"mathscore data\",\"mathscore data\",\"mathscore data\",\"mathscore data\",\"mathscore data\",\"mathscore data\",\"mathscore data\",\"mathscore data\",\"mathscore data\",\"mathscore data\",\"mathscore data\",\"mathscore data\",\"mathscore data\",\"mathscore data\",\"mathscore data\",\"mathscore data\",\"mathscore data\",\"mathscore data\",\"mathscore data\",\"mathscore data\",\"mathscore data\",\"mathscore data\",\"mathscore data\",\"mathscore data\",\"mathscore data\",\"mathscore data\",\"mathscore data\",\"mathscore data\",\"mathscore data\",\"mathscore data\",\"mathscore data\",\"mathscore data\",\"mathscore data\",\"mathscore data\",\"mathscore data\",\"mathscore data\",\"mathscore data\",\"mathscore data\",\"mathscore data\",\"mathscore data\",\"mathscore data\",\"mathscore data\",\"mathscore data\",\"mathscore data\",\"mathscore data\",\"mathscore data\",\"mathscore data\",\"mathscore data\",\"mathscore data\",\"mathscore data\",\"mathscore data\",\"mathscore data\",\"mathscore data\",\"mathscore data\",\"mathscore data\",\"mathscore data\",\"mathscore data\",\"mathscore data\",\"mathscore data\",\"mathscore data\",\"mathscore data\",\"mathscore data\",\"mathscore data\",\"mathscore data\",\"mathscore data\",\"mathscore data\",\"mathscore data\",\"mathscore data\",\"mathscore data\",\"mathscore data\",\"mathscore data\",\"mathscore data\",\"mathscore data\",\"mathscore data\",\"mathscore data\",\"mathscore data\",\"mathscore data\",\"mathscore data\",\"mathscore data\",\"mathscore data\",\"mathscore data\",\"mathscore data\",\"mathscore data\",\"mathscore data\",\"mathscore data\",\"mathscore data\",\"mathscore data\",\"mathscore data\",\"mathscore data\",\"mathscore data\",\"mathscore data\",\"mathscore data\",\"mathscore data\",\"mathscore data\",\"mathscore data\",\"mathscore data\",\"mathscore data\",\"mathscore data\",\"mathscore data\",\"mathscore data\",\"mathscore data\",\"mathscore data\",\"mathscore data\",\"mathscore data\",\"mathscore data\",\"mathscore data\",\"mathscore data\",\"mathscore data\",\"mathscore data\",\"mathscore data\",\"mathscore data\",\"mathscore data\",\"mathscore data\",\"mathscore data\",\"mathscore data\",\"mathscore data\",\"mathscore data\",\"mathscore data\",\"mathscore data\",\"mathscore data\",\"mathscore data\",\"mathscore data\",\"mathscore data\",\"mathscore data\",\"mathscore data\",\"mathscore data\",\"mathscore data\",\"mathscore data\",\"mathscore data\",\"mathscore data\",\"mathscore data\",\"mathscore data\",\"mathscore data\",\"mathscore data\",\"mathscore data\",\"mathscore data\",\"mathscore data\",\"mathscore data\",\"mathscore data\",\"mathscore data\",\"mathscore data\",\"mathscore data\",\"mathscore data\",\"mathscore data\",\"mathscore data\",\"mathscore data\",\"mathscore data\",\"mathscore data\",\"mathscore data\",\"mathscore data\",\"mathscore data\",\"mathscore data\",\"mathscore data\",\"mathscore data\",\"mathscore data\",\"mathscore data\",\"mathscore data\",\"mathscore data\",\"mathscore data\",\"mathscore data\",\"mathscore data\",\"mathscore data\",\"mathscore data\",\"mathscore data\",\"mathscore data\",\"mathscore data\",\"mathscore data\",\"mathscore data\",\"mathscore data\",\"mathscore data\",\"mathscore data\",\"mathscore data\",\"mathscore data\",\"mathscore data\",\"mathscore data\",\"mathscore data\",\"mathscore data\",\"mathscore data\",\"mathscore data\",\"mathscore data\",\"mathscore data\",\"mathscore data\",\"mathscore data\",\"mathscore data\",\"mathscore data\",\"mathscore data\",\"mathscore data\",\"mathscore data\",\"mathscore data\",\"mathscore data\",\"mathscore data\",\"mathscore data\",\"mathscore data\",\"mathscore data\",\"mathscore data\",\"mathscore data\",\"mathscore data\",\"mathscore data\",\"mathscore data\",\"mathscore data\",\"mathscore data\",\"mathscore data\",\"mathscore data\",\"mathscore data\",\"mathscore data\",\"mathscore data\",\"mathscore data\",\"mathscore data\",\"mathscore data\",\"mathscore data\",\"mathscore data\",\"mathscore data\",\"mathscore data\",\"mathscore data\",\"mathscore data\",\"mathscore data\",\"mathscore data\",\"mathscore data\",\"mathscore data\",\"mathscore data\",\"mathscore data\",\"mathscore data\",\"mathscore data\",\"mathscore data\",\"mathscore data\",\"mathscore data\",\"mathscore data\",\"mathscore data\",\"mathscore data\",\"mathscore data\",\"mathscore data\",\"mathscore data\",\"mathscore data\",\"mathscore data\",\"mathscore data\",\"mathscore data\",\"mathscore data\",\"mathscore data\",\"mathscore data\",\"mathscore data\",\"mathscore data\",\"mathscore data\",\"mathscore data\",\"mathscore data\",\"mathscore data\",\"mathscore data\",\"mathscore data\",\"mathscore data\",\"mathscore data\",\"mathscore data\",\"mathscore data\",\"mathscore data\",\"mathscore data\",\"mathscore data\",\"mathscore data\",\"mathscore data\",\"mathscore data\",\"mathscore data\",\"mathscore data\",\"mathscore data\",\"mathscore data\",\"mathscore data\",\"mathscore data\",\"mathscore data\",\"mathscore data\",\"mathscore data\",\"mathscore data\",\"mathscore data\",\"mathscore data\",\"mathscore data\",\"mathscore data\",\"mathscore data\",\"mathscore data\",\"mathscore data\",\"mathscore data\",\"mathscore data\",\"mathscore data\",\"mathscore data\",\"mathscore data\",\"mathscore data\",\"mathscore data\",\"mathscore data\",\"mathscore data\",\"mathscore data\",\"mathscore data\",\"mathscore data\",\"mathscore data\",\"mathscore data\",\"mathscore data\",\"mathscore data\",\"mathscore data\",\"mathscore data\",\"mathscore data\",\"mathscore data\",\"mathscore data\",\"mathscore data\",\"mathscore data\",\"mathscore data\",\"mathscore data\",\"mathscore data\",\"mathscore data\",\"mathscore data\",\"mathscore data\",\"mathscore data\",\"mathscore data\",\"mathscore data\",\"mathscore data\",\"mathscore data\",\"mathscore data\",\"mathscore data\",\"mathscore data\",\"mathscore data\",\"mathscore data\",\"mathscore data\",\"mathscore data\",\"mathscore data\",\"mathscore data\",\"mathscore data\",\"mathscore data\",\"mathscore data\",\"mathscore data\",\"mathscore data\",\"mathscore data\",\"mathscore data\",\"mathscore data\",\"mathscore data\",\"mathscore data\",\"mathscore data\",\"mathscore data\",\"mathscore data\",\"mathscore data\",\"mathscore data\",\"mathscore data\",\"mathscore data\",\"mathscore data\",\"mathscore data\",\"mathscore data\",\"mathscore data\",\"mathscore data\",\"mathscore data\",\"mathscore data\",\"mathscore data\",\"mathscore data\",\"mathscore data\",\"mathscore data\",\"mathscore data\",\"mathscore data\",\"mathscore data\",\"mathscore data\",\"mathscore data\",\"mathscore data\",\"mathscore data\",\"mathscore data\",\"mathscore data\",\"mathscore data\",\"mathscore data\",\"mathscore data\",\"mathscore data\",\"mathscore data\",\"mathscore data\",\"mathscore data\",\"mathscore data\",\"mathscore data\",\"mathscore data\",\"mathscore data\",\"mathscore data\",\"mathscore data\",\"mathscore data\",\"mathscore data\",\"mathscore data\",\"mathscore data\",\"mathscore data\",\"mathscore data\",\"mathscore data\",\"mathscore data\",\"mathscore data\",\"mathscore data\",\"mathscore data\",\"mathscore data\",\"mathscore data\",\"mathscore data\",\"mathscore data\",\"mathscore data\",\"mathscore data\",\"mathscore data\",\"mathscore data\",\"mathscore data\",\"mathscore data\",\"mathscore data\",\"mathscore data\",\"mathscore data\",\"mathscore data\",\"mathscore data\",\"mathscore data\",\"mathscore data\",\"mathscore data\",\"mathscore data\",\"mathscore data\",\"mathscore data\",\"mathscore data\",\"mathscore data\",\"mathscore data\",\"mathscore data\",\"mathscore data\",\"mathscore data\",\"mathscore data\",\"mathscore data\",\"mathscore data\",\"mathscore data\",\"mathscore data\",\"mathscore data\",\"mathscore data\",\"mathscore data\",\"mathscore data\",\"mathscore data\",\"mathscore data\",\"mathscore data\",\"mathscore data\",\"mathscore data\",\"mathscore data\",\"mathscore data\",\"mathscore data\",\"mathscore data\",\"mathscore data\",\"mathscore data\",\"mathscore data\",\"mathscore data\",\"mathscore data\",\"mathscore data\",\"mathscore data\",\"mathscore data\",\"mathscore data\",\"mathscore data\",\"mathscore data\",\"mathscore data\",\"mathscore data\",\"mathscore data\",\"mathscore data\",\"mathscore data\",\"mathscore data\",\"mathscore data\",\"mathscore data\",\"mathscore data\",\"mathscore data\",\"mathscore data\",\"mathscore data\",\"mathscore data\",\"mathscore data\",\"mathscore data\",\"mathscore data\",\"mathscore data\",\"mathscore data\",\"mathscore data\",\"mathscore data\",\"mathscore data\",\"mathscore data\",\"mathscore data\",\"mathscore data\",\"mathscore data\",\"mathscore data\",\"mathscore data\",\"mathscore data\",\"mathscore data\",\"mathscore data\",\"mathscore data\",\"mathscore data\",\"mathscore data\",\"mathscore data\",\"mathscore data\",\"mathscore data\",\"mathscore data\",\"mathscore data\",\"mathscore data\",\"mathscore data\",\"mathscore data\",\"mathscore data\",\"mathscore data\",\"mathscore data\",\"mathscore data\",\"mathscore data\",\"mathscore data\",\"mathscore data\",\"mathscore data\",\"mathscore data\",\"mathscore data\",\"mathscore data\",\"mathscore data\",\"mathscore data\",\"mathscore data\",\"mathscore data\",\"mathscore data\",\"mathscore data\",\"mathscore data\",\"mathscore data\",\"mathscore data\",\"mathscore data\",\"mathscore data\",\"mathscore data\",\"mathscore data\",\"mathscore data\",\"mathscore data\",\"mathscore data\",\"mathscore data\",\"mathscore data\",\"mathscore data\",\"mathscore data\",\"mathscore data\",\"mathscore data\",\"mathscore data\",\"mathscore data\",\"mathscore data\",\"mathscore data\",\"mathscore data\",\"mathscore data\",\"mathscore data\",\"mathscore data\",\"mathscore data\",\"mathscore data\",\"mathscore data\",\"mathscore data\",\"mathscore data\",\"mathscore data\",\"mathscore data\",\"mathscore data\",\"mathscore data\",\"mathscore data\",\"mathscore data\",\"mathscore data\",\"mathscore data\",\"mathscore data\",\"mathscore data\",\"mathscore data\",\"mathscore data\",\"mathscore data\",\"mathscore data\",\"mathscore data\",\"mathscore data\",\"mathscore data\",\"mathscore data\",\"mathscore data\",\"mathscore data\",\"mathscore data\",\"mathscore data\",\"mathscore data\",\"mathscore data\",\"mathscore data\",\"mathscore data\",\"mathscore data\",\"mathscore data\",\"mathscore data\",\"mathscore data\",\"mathscore data\",\"mathscore data\",\"mathscore data\",\"mathscore data\",\"mathscore data\",\"mathscore data\",\"mathscore data\",\"mathscore data\",\"mathscore data\",\"mathscore data\",\"mathscore data\",\"mathscore data\",\"mathscore data\",\"mathscore data\",\"mathscore data\",\"mathscore data\",\"mathscore data\",\"mathscore data\",\"mathscore data\",\"mathscore data\",\"mathscore data\",\"mathscore data\",\"mathscore data\",\"mathscore data\",\"mathscore data\",\"mathscore data\",\"mathscore data\",\"mathscore data\",\"mathscore data\",\"mathscore data\",\"mathscore data\",\"mathscore data\",\"mathscore data\",\"mathscore data\",\"mathscore data\",\"mathscore data\",\"mathscore data\",\"mathscore data\",\"mathscore data\",\"mathscore data\",\"mathscore data\",\"mathscore data\",\"mathscore data\",\"mathscore data\",\"mathscore data\",\"mathscore data\",\"mathscore data\",\"mathscore data\",\"mathscore data\",\"mathscore data\",\"mathscore data\",\"mathscore data\",\"mathscore data\",\"mathscore data\",\"mathscore data\",\"mathscore data\",\"mathscore data\",\"mathscore data\",\"mathscore data\",\"mathscore data\",\"mathscore data\",\"mathscore data\",\"mathscore data\",\"mathscore data\",\"mathscore data\",\"mathscore data\",\"mathscore data\",\"mathscore data\",\"mathscore data\",\"mathscore data\",\"mathscore data\",\"mathscore data\",\"mathscore data\",\"mathscore data\",\"mathscore data\",\"mathscore data\",\"mathscore data\",\"mathscore data\",\"mathscore data\",\"mathscore data\",\"mathscore data\",\"mathscore data\",\"mathscore data\",\"mathscore data\",\"mathscore data\",\"mathscore data\",\"mathscore data\",\"mathscore data\",\"mathscore data\",\"mathscore data\",\"mathscore data\",\"mathscore data\",\"mathscore data\",\"mathscore data\",\"mathscore data\",\"mathscore data\",\"mathscore data\",\"mathscore data\",\"mathscore data\",\"mathscore data\",\"mathscore data\",\"mathscore data\",\"mathscore data\",\"mathscore data\",\"mathscore data\",\"mathscore data\",\"mathscore data\",\"mathscore data\",\"mathscore data\",\"mathscore data\",\"mathscore data\",\"mathscore data\",\"mathscore data\",\"mathscore data\",\"mathscore data\",\"mathscore data\",\"mathscore data\",\"mathscore data\",\"mathscore data\",\"mathscore data\",\"mathscore data\",\"mathscore data\",\"mathscore data\",\"mathscore data\",\"mathscore data\",\"mathscore data\",\"mathscore data\",\"mathscore data\",\"mathscore data\",\"mathscore data\",\"mathscore data\",\"mathscore data\",\"mathscore data\",\"mathscore data\",\"mathscore data\",\"mathscore data\",\"mathscore data\",\"mathscore data\",\"mathscore data\",\"mathscore data\",\"mathscore data\",\"mathscore data\",\"mathscore data\",\"mathscore data\",\"mathscore data\",\"mathscore data\",\"mathscore data\",\"mathscore data\",\"mathscore data\",\"mathscore data\",\"mathscore data\",\"mathscore data\",\"mathscore data\",\"mathscore data\",\"mathscore data\",\"mathscore data\",\"mathscore data\",\"mathscore data\",\"mathscore data\",\"mathscore data\",\"mathscore data\",\"mathscore data\",\"mathscore data\",\"mathscore data\",\"mathscore data\",\"mathscore data\",\"mathscore data\",\"mathscore data\",\"mathscore data\",\"mathscore data\",\"mathscore data\",\"mathscore data\",\"mathscore data\",\"mathscore data\",\"mathscore data\",\"mathscore data\",\"mathscore data\",\"mathscore data\",\"mathscore data\",\"mathscore data\",\"mathscore data\",\"mathscore data\",\"mathscore data\",\"mathscore data\",\"mathscore data\",\"mathscore data\",\"mathscore data\",\"mathscore data\",\"mathscore data\",\"mathscore data\",\"mathscore data\",\"mathscore data\",\"mathscore data\",\"mathscore data\",\"mathscore data\",\"mathscore data\",\"mathscore data\",\"mathscore data\",\"mathscore data\",\"mathscore data\",\"mathscore data\",\"mathscore data\",\"mathscore data\",\"mathscore data\",\"mathscore data\",\"mathscore data\",\"mathscore data\",\"mathscore data\",\"mathscore data\",\"mathscore data\",\"mathscore data\",\"mathscore data\",\"mathscore data\",\"mathscore data\",\"mathscore data\",\"mathscore data\",\"mathscore data\",\"mathscore data\",\"mathscore data\",\"mathscore data\",\"mathscore data\",\"mathscore data\",\"mathscore data\",\"mathscore data\",\"mathscore data\",\"mathscore data\",\"mathscore data\",\"mathscore data\",\"mathscore data\",\"mathscore data\",\"mathscore data\",\"mathscore data\",\"mathscore data\",\"mathscore data\",\"mathscore data\",\"mathscore data\",\"mathscore data\",\"mathscore data\",\"mathscore data\",\"mathscore data\",\"mathscore data\",\"mathscore data\",\"mathscore data\",\"mathscore data\",\"mathscore data\",\"mathscore data\",\"mathscore data\",\"mathscore data\",\"mathscore data\",\"mathscore data\",\"mathscore data\",\"mathscore data\",\"mathscore data\",\"mathscore data\",\"mathscore data\",\"mathscore data\",\"mathscore data\",\"mathscore data\",\"mathscore data\",\"mathscore data\",\"mathscore data\",\"mathscore data\",\"mathscore data\",\"mathscore data\",\"mathscore data\",\"mathscore data\",\"mathscore data\",\"mathscore data\",\"mathscore data\",\"mathscore data\",\"mathscore data\",\"mathscore data\",\"mathscore data\",\"mathscore data\",\"mathscore data\",\"mathscore data\",\"mathscore data\",\"mathscore data\",\"mathscore data\",\"mathscore data\",\"mathscore data\",\"mathscore data\",\"mathscore data\",\"mathscore data\",\"mathscore data\",\"mathscore data\",\"mathscore data\",\"mathscore data\",\"mathscore data\",\"mathscore data\",\"mathscore data\",\"mathscore data\",\"mathscore data\",\"mathscore data\",\"mathscore data\",\"mathscore data\",\"mathscore data\",\"mathscore data\",\"mathscore data\",\"mathscore data\",\"mathscore data\",\"mathscore data\",\"mathscore data\",\"mathscore data\",\"mathscore data\",\"mathscore data\",\"mathscore data\",\"mathscore data\",\"mathscore data\",\"mathscore data\",\"mathscore data\",\"mathscore data\",\"mathscore data\",\"mathscore data\",\"mathscore data\",\"mathscore data\",\"mathscore data\",\"mathscore data\",\"mathscore data\",\"mathscore data\",\"mathscore data\",\"mathscore data\",\"mathscore data\",\"mathscore data\",\"mathscore data\",\"mathscore data\",\"mathscore data\",\"mathscore data\",\"mathscore data\",\"mathscore data\",\"mathscore data\",\"mathscore data\",\"mathscore data\"],\"yaxis\":\"y2\",\"type\":\"scatter\"}],                        {\"barmode\":\"overlay\",\"hovermode\":\"closest\",\"legend\":{\"traceorder\":\"reversed\"},\"xaxis\":{\"anchor\":\"y2\",\"domain\":[0.0,1.0],\"zeroline\":false},\"yaxis\":{\"anchor\":\"free\",\"domain\":[0.35,1],\"position\":0.0},\"yaxis2\":{\"anchor\":\"x\",\"domain\":[0,0.25],\"dtick\":1,\"showticklabels\":false},\"template\":{\"data\":{\"histogram2dcontour\":[{\"type\":\"histogram2dcontour\",\"colorbar\":{\"outlinewidth\":0,\"ticks\":\"\"},\"colorscale\":[[0.0,\"#0d0887\"],[0.1111111111111111,\"#46039f\"],[0.2222222222222222,\"#7201a8\"],[0.3333333333333333,\"#9c179e\"],[0.4444444444444444,\"#bd3786\"],[0.5555555555555556,\"#d8576b\"],[0.6666666666666666,\"#ed7953\"],[0.7777777777777778,\"#fb9f3a\"],[0.8888888888888888,\"#fdca26\"],[1.0,\"#f0f921\"]]}],\"choropleth\":[{\"type\":\"choropleth\",\"colorbar\":{\"outlinewidth\":0,\"ticks\":\"\"}}],\"histogram2d\":[{\"type\":\"histogram2d\",\"colorbar\":{\"outlinewidth\":0,\"ticks\":\"\"},\"colorscale\":[[0.0,\"#0d0887\"],[0.1111111111111111,\"#46039f\"],[0.2222222222222222,\"#7201a8\"],[0.3333333333333333,\"#9c179e\"],[0.4444444444444444,\"#bd3786\"],[0.5555555555555556,\"#d8576b\"],[0.6666666666666666,\"#ed7953\"],[0.7777777777777778,\"#fb9f3a\"],[0.8888888888888888,\"#fdca26\"],[1.0,\"#f0f921\"]]}],\"heatmap\":[{\"type\":\"heatmap\",\"colorbar\":{\"outlinewidth\":0,\"ticks\":\"\"},\"colorscale\":[[0.0,\"#0d0887\"],[0.1111111111111111,\"#46039f\"],[0.2222222222222222,\"#7201a8\"],[0.3333333333333333,\"#9c179e\"],[0.4444444444444444,\"#bd3786\"],[0.5555555555555556,\"#d8576b\"],[0.6666666666666666,\"#ed7953\"],[0.7777777777777778,\"#fb9f3a\"],[0.8888888888888888,\"#fdca26\"],[1.0,\"#f0f921\"]]}],\"heatmapgl\":[{\"type\":\"heatmapgl\",\"colorbar\":{\"outlinewidth\":0,\"ticks\":\"\"},\"colorscale\":[[0.0,\"#0d0887\"],[0.1111111111111111,\"#46039f\"],[0.2222222222222222,\"#7201a8\"],[0.3333333333333333,\"#9c179e\"],[0.4444444444444444,\"#bd3786\"],[0.5555555555555556,\"#d8576b\"],[0.6666666666666666,\"#ed7953\"],[0.7777777777777778,\"#fb9f3a\"],[0.8888888888888888,\"#fdca26\"],[1.0,\"#f0f921\"]]}],\"contourcarpet\":[{\"type\":\"contourcarpet\",\"colorbar\":{\"outlinewidth\":0,\"ticks\":\"\"}}],\"contour\":[{\"type\":\"contour\",\"colorbar\":{\"outlinewidth\":0,\"ticks\":\"\"},\"colorscale\":[[0.0,\"#0d0887\"],[0.1111111111111111,\"#46039f\"],[0.2222222222222222,\"#7201a8\"],[0.3333333333333333,\"#9c179e\"],[0.4444444444444444,\"#bd3786\"],[0.5555555555555556,\"#d8576b\"],[0.6666666666666666,\"#ed7953\"],[0.7777777777777778,\"#fb9f3a\"],[0.8888888888888888,\"#fdca26\"],[1.0,\"#f0f921\"]]}],\"surface\":[{\"type\":\"surface\",\"colorbar\":{\"outlinewidth\":0,\"ticks\":\"\"},\"colorscale\":[[0.0,\"#0d0887\"],[0.1111111111111111,\"#46039f\"],[0.2222222222222222,\"#7201a8\"],[0.3333333333333333,\"#9c179e\"],[0.4444444444444444,\"#bd3786\"],[0.5555555555555556,\"#d8576b\"],[0.6666666666666666,\"#ed7953\"],[0.7777777777777778,\"#fb9f3a\"],[0.8888888888888888,\"#fdca26\"],[1.0,\"#f0f921\"]]}],\"mesh3d\":[{\"type\":\"mesh3d\",\"colorbar\":{\"outlinewidth\":0,\"ticks\":\"\"}}],\"scatter\":[{\"fillpattern\":{\"fillmode\":\"overlay\",\"size\":10,\"solidity\":0.2},\"type\":\"scatter\"}],\"parcoords\":[{\"type\":\"parcoords\",\"line\":{\"colorbar\":{\"outlinewidth\":0,\"ticks\":\"\"}}}],\"scatterpolargl\":[{\"type\":\"scatterpolargl\",\"marker\":{\"colorbar\":{\"outlinewidth\":0,\"ticks\":\"\"}}}],\"bar\":[{\"error_x\":{\"color\":\"#2a3f5f\"},\"error_y\":{\"color\":\"#2a3f5f\"},\"marker\":{\"line\":{\"color\":\"#E5ECF6\",\"width\":0.5},\"pattern\":{\"fillmode\":\"overlay\",\"size\":10,\"solidity\":0.2}},\"type\":\"bar\"}],\"scattergeo\":[{\"type\":\"scattergeo\",\"marker\":{\"colorbar\":{\"outlinewidth\":0,\"ticks\":\"\"}}}],\"scatterpolar\":[{\"type\":\"scatterpolar\",\"marker\":{\"colorbar\":{\"outlinewidth\":0,\"ticks\":\"\"}}}],\"histogram\":[{\"marker\":{\"pattern\":{\"fillmode\":\"overlay\",\"size\":10,\"solidity\":0.2}},\"type\":\"histogram\"}],\"scattergl\":[{\"type\":\"scattergl\",\"marker\":{\"colorbar\":{\"outlinewidth\":0,\"ticks\":\"\"}}}],\"scatter3d\":[{\"type\":\"scatter3d\",\"line\":{\"colorbar\":{\"outlinewidth\":0,\"ticks\":\"\"}},\"marker\":{\"colorbar\":{\"outlinewidth\":0,\"ticks\":\"\"}}}],\"scattermapbox\":[{\"type\":\"scattermapbox\",\"marker\":{\"colorbar\":{\"outlinewidth\":0,\"ticks\":\"\"}}}],\"scatterternary\":[{\"type\":\"scatterternary\",\"marker\":{\"colorbar\":{\"outlinewidth\":0,\"ticks\":\"\"}}}],\"scattercarpet\":[{\"type\":\"scattercarpet\",\"marker\":{\"colorbar\":{\"outlinewidth\":0,\"ticks\":\"\"}}}],\"carpet\":[{\"aaxis\":{\"endlinecolor\":\"#2a3f5f\",\"gridcolor\":\"white\",\"linecolor\":\"white\",\"minorgridcolor\":\"white\",\"startlinecolor\":\"#2a3f5f\"},\"baxis\":{\"endlinecolor\":\"#2a3f5f\",\"gridcolor\":\"white\",\"linecolor\":\"white\",\"minorgridcolor\":\"white\",\"startlinecolor\":\"#2a3f5f\"},\"type\":\"carpet\"}],\"table\":[{\"cells\":{\"fill\":{\"color\":\"#EBF0F8\"},\"line\":{\"color\":\"white\"}},\"header\":{\"fill\":{\"color\":\"#C8D4E3\"},\"line\":{\"color\":\"white\"}},\"type\":\"table\"}],\"barpolar\":[{\"marker\":{\"line\":{\"color\":\"#E5ECF6\",\"width\":0.5},\"pattern\":{\"fillmode\":\"overlay\",\"size\":10,\"solidity\":0.2}},\"type\":\"barpolar\"}],\"pie\":[{\"automargin\":true,\"type\":\"pie\"}]},\"layout\":{\"autotypenumbers\":\"strict\",\"colorway\":[\"#636efa\",\"#EF553B\",\"#00cc96\",\"#ab63fa\",\"#FFA15A\",\"#19d3f3\",\"#FF6692\",\"#B6E880\",\"#FF97FF\",\"#FECB52\"],\"font\":{\"color\":\"#2a3f5f\"},\"hovermode\":\"closest\",\"hoverlabel\":{\"align\":\"left\"},\"paper_bgcolor\":\"white\",\"plot_bgcolor\":\"#E5ECF6\",\"polar\":{\"bgcolor\":\"#E5ECF6\",\"angularaxis\":{\"gridcolor\":\"white\",\"linecolor\":\"white\",\"ticks\":\"\"},\"radialaxis\":{\"gridcolor\":\"white\",\"linecolor\":\"white\",\"ticks\":\"\"}},\"ternary\":{\"bgcolor\":\"#E5ECF6\",\"aaxis\":{\"gridcolor\":\"white\",\"linecolor\":\"white\",\"ticks\":\"\"},\"baxis\":{\"gridcolor\":\"white\",\"linecolor\":\"white\",\"ticks\":\"\"},\"caxis\":{\"gridcolor\":\"white\",\"linecolor\":\"white\",\"ticks\":\"\"}},\"coloraxis\":{\"colorbar\":{\"outlinewidth\":0,\"ticks\":\"\"}},\"colorscale\":{\"sequential\":[[0.0,\"#0d0887\"],[0.1111111111111111,\"#46039f\"],[0.2222222222222222,\"#7201a8\"],[0.3333333333333333,\"#9c179e\"],[0.4444444444444444,\"#bd3786\"],[0.5555555555555556,\"#d8576b\"],[0.6666666666666666,\"#ed7953\"],[0.7777777777777778,\"#fb9f3a\"],[0.8888888888888888,\"#fdca26\"],[1.0,\"#f0f921\"]],\"sequentialminus\":[[0.0,\"#0d0887\"],[0.1111111111111111,\"#46039f\"],[0.2222222222222222,\"#7201a8\"],[0.3333333333333333,\"#9c179e\"],[0.4444444444444444,\"#bd3786\"],[0.5555555555555556,\"#d8576b\"],[0.6666666666666666,\"#ed7953\"],[0.7777777777777778,\"#fb9f3a\"],[0.8888888888888888,\"#fdca26\"],[1.0,\"#f0f921\"]],\"diverging\":[[0,\"#8e0152\"],[0.1,\"#c51b7d\"],[0.2,\"#de77ae\"],[0.3,\"#f1b6da\"],[0.4,\"#fde0ef\"],[0.5,\"#f7f7f7\"],[0.6,\"#e6f5d0\"],[0.7,\"#b8e186\"],[0.8,\"#7fbc41\"],[0.9,\"#4d9221\"],[1,\"#276419\"]]},\"xaxis\":{\"gridcolor\":\"white\",\"linecolor\":\"white\",\"ticks\":\"\",\"title\":{\"standoff\":15},\"zerolinecolor\":\"white\",\"automargin\":true,\"zerolinewidth\":2},\"yaxis\":{\"gridcolor\":\"white\",\"linecolor\":\"white\",\"ticks\":\"\",\"title\":{\"standoff\":15},\"zerolinecolor\":\"white\",\"automargin\":true,\"zerolinewidth\":2},\"scene\":{\"xaxis\":{\"backgroundcolor\":\"#E5ECF6\",\"gridcolor\":\"white\",\"linecolor\":\"white\",\"showbackground\":true,\"ticks\":\"\",\"zerolinecolor\":\"white\",\"gridwidth\":2},\"yaxis\":{\"backgroundcolor\":\"#E5ECF6\",\"gridcolor\":\"white\",\"linecolor\":\"white\",\"showbackground\":true,\"ticks\":\"\",\"zerolinecolor\":\"white\",\"gridwidth\":2},\"zaxis\":{\"backgroundcolor\":\"#E5ECF6\",\"gridcolor\":\"white\",\"linecolor\":\"white\",\"showbackground\":true,\"ticks\":\"\",\"zerolinecolor\":\"white\",\"gridwidth\":2}},\"shapedefaults\":{\"line\":{\"color\":\"#2a3f5f\"}},\"annotationdefaults\":{\"arrowcolor\":\"#2a3f5f\",\"arrowhead\":0,\"arrowwidth\":1},\"geo\":{\"bgcolor\":\"white\",\"landcolor\":\"#E5ECF6\",\"subunitcolor\":\"white\",\"showland\":true,\"showlakes\":true,\"lakecolor\":\"white\"},\"title\":{\"x\":0.05},\"mapbox\":{\"style\":\"light\"}}}},                        {\"responsive\": true}                    ).then(function(){\n",
              "                            \n",
              "var gd = document.getElementById('efea5ae4-1577-4d58-bc41-89cae75331df');\n",
              "var x = new MutationObserver(function (mutations, observer) {{\n",
              "        var display = window.getComputedStyle(gd).display;\n",
              "        if (!display || display === 'none') {{\n",
              "            console.log([gd, 'removed!']);\n",
              "            Plotly.purge(gd);\n",
              "            observer.disconnect();\n",
              "        }}\n",
              "}});\n",
              "\n",
              "// Listen for the removal of the full notebook cells\n",
              "var notebookContainer = gd.closest('#notebook-container');\n",
              "if (notebookContainer) {{\n",
              "    x.observe(notebookContainer, {childList: true});\n",
              "}}\n",
              "\n",
              "// Listen for the clearing of the current output cell\n",
              "var outputEl = gd.closest('.output');\n",
              "if (outputEl) {{\n",
              "    x.observe(outputEl, {childList: true});\n",
              "}}\n",
              "\n",
              "                        })                };                            </script>        </div>\n",
              "</body>\n",
              "</html>"
            ]
          },
          "metadata": {}
        }
      ]
    },
    {
      "cell_type": "markdown",
      "source": [
        "**SUMMARY: In (math score) column Before Outlier removal i have 1000 records,after outlier removal i have 990 records. 10 data points are outliers.**"
      ],
      "metadata": {
        "id": "Yvbx4IPaJmLT"
      }
    },
    {
      "cell_type": "markdown",
      "source": [
        "###**Reading score column:**\n",
        "\n",
        "**checking outliers, skewness, and calculate**\n",
        "\n",
        " Q1\n",
        "\n",
        " Q3\n",
        "\n",
        " IQR\n",
        "\n",
        " Lowerbound\n",
        "\n",
        " Upperbound\n",
        "\n",
        " Outlier Removal\n"
      ],
      "metadata": {
        "id": "NafsV7zSM8Wn"
      }
    },
    {
      "cell_type": "code",
      "source": [
        "sns.boxplot(df['reading score'])     # Before outlier removal graph show outliers."
      ],
      "metadata": {
        "colab": {
          "base_uri": "https://localhost:8080/",
          "height": 428
        },
        "id": "fhSDAh9I7Php",
        "outputId": "dbe61ee5-e249-4fc9-fd5e-417b4ca39c71"
      },
      "execution_count": null,
      "outputs": [
        {
          "output_type": "execute_result",
          "data": {
            "text/plain": [
              "<Axes: ylabel='reading score'>"
            ]
          },
          "metadata": {},
          "execution_count": 83
        },
        {
          "output_type": "display_data",
          "data": {
            "text/plain": [
              "<Figure size 640x480 with 1 Axes>"
            ],
            "image/png": "[encoded data removed]"
          },
          "metadata": {}
        }
      ]
    },
    {
      "cell_type": "code",
      "source": [
        "fig1=ff.create_distplot([df['reading score']],['readingscore data'],show_hist=False)    #   before outlier removal Skewness graph\n",
        "fig1.show()"
      ],
      "metadata": {
        "colab": {
          "base_uri": "https://localhost:8080/",
          "height": 542
        },
        "id": "LLr7NLT3OIhn",
        "outputId": "67948357-8e52-4c82-80d7-88111b6173e2"
      },
      "execution_count": null,
      "outputs": [
        {
          "output_type": "display_data",
          "data": {
            "text/html": [
              "<html>\n",
              "<head><meta charset=\"utf-8\" /></head>\n",
              "<body>\n",
              "    <div>            <script src=\"https://cdnjs.cloudflare.com/ajax/libs/mathjax/2.7.5/MathJax.js?config=TeX-AMS-MML_SVG\"></script><script type=\"text/javascript\">if (window.MathJax && window.MathJax.Hub && window.MathJax.Hub.Config) {window.MathJax.Hub.Config({SVG: {font: \"STIX-Web\"}});}</script>                <script type=\"text/javascript\">window.PlotlyConfig = {MathJaxConfig: 'local'};</script>\n",
              "        <script charset=\"utf-8\" src=\"https://cdn.plot.ly/plotly-2.35.2.min.js\"></script>                <div id=\"9fba2bae-0d1e-43a9-92c6-52c00c6e7349\" class=\"plotly-graph-div\" style=\"height:525px; width:100%;\"></div>            <script type=\"text/javascript\">                                    window.PLOTLYENV=window.PLOTLYENV || {};                                    if (document.getElementById(\"9fba2bae-0d1e-43a9-92c6-52c00c6e7349\")) {                    Plotly.newPlot(                        \"9fba2bae-0d1e-43a9-92c6-52c00c6e7349\",                        [{\"legendgroup\":\"readingscore data\",\"marker\":{\"color\":\"rgb(31, 119, 180)\"},\"mode\":\"lines\",\"name\":\"readingscore data\",\"showlegend\":true,\"x\":[17.0,17.166,17.332,17.498,17.664,17.83,17.996,18.162,18.328,18.494,18.66,18.826,18.992,19.158,19.323999999999998,19.490000000000002,19.656,19.822,19.988,20.154,20.32,20.486,20.652,20.818,20.984,21.15,21.316,21.482,21.648,21.814,21.98,22.146,22.312,22.478,22.644,22.81,22.976,23.142,23.308,23.474,23.64,23.806,23.972,24.137999999999998,24.304000000000002,24.47,24.636,24.802,24.968,25.134,25.3,25.466,25.631999999999998,25.798000000000002,25.964,26.130000000000003,26.296,26.462,26.628,26.794,26.96,27.125999999999998,27.292,27.458,27.624000000000002,27.79,27.956,28.122,28.288,28.454,28.619999999999997,28.786,28.951999999999998,29.118000000000002,29.284,29.45,29.616,29.782,29.948,30.114,30.28,30.445999999999998,30.612000000000002,30.778,30.944000000000003,31.11,31.276,31.442,31.608,31.774,31.939999999999998,32.106,32.272,32.438,32.604,32.769999999999996,32.936,33.102000000000004,33.268,33.434,33.6,33.766,33.932,34.098,34.263999999999996,34.43,34.596000000000004,34.762,34.928,35.094,35.260000000000005,35.426,35.592,35.757999999999996,35.924,36.09,36.256,36.422,36.588,36.754000000000005,36.92,37.086,37.251999999999995,37.418,37.584,37.75,37.916,38.082,38.248000000000005,38.414,38.58,38.745999999999995,38.912,39.078,39.244,39.41,39.576,39.742000000000004,39.908,40.074,40.239999999999995,40.406,40.572,40.738,40.903999999999996,41.07,41.236000000000004,41.402,41.568,41.734,41.9,42.066,42.232,42.397999999999996,42.564,42.730000000000004,42.896,43.062,43.228,43.394,43.56,43.726,43.891999999999996,44.058,44.224000000000004,44.39,44.556,44.722,44.888000000000005,45.054,45.22,45.385999999999996,45.552,45.718,45.884,46.05,46.216,46.382000000000005,46.548,46.714,46.879999999999995,47.046,47.212,47.378,47.544,47.71,47.876000000000005,48.042,48.208,48.373999999999995,48.54,48.706,48.872,49.038,49.204,49.37,49.536,49.702,49.868,50.034,50.2,50.366,50.532,50.698,50.864,51.03,51.196,51.362,51.528,51.694,51.86,52.026,52.192,52.358,52.524,52.69,52.856,53.022,53.188,53.354,53.52,53.686,53.852,54.018,54.184,54.35,54.516,54.682,54.848,55.014,55.18,55.346,55.512,55.678,55.844,56.01,56.176,56.342,56.508,56.674,56.84,57.006,57.172,57.338,57.504,57.67,57.836,58.002,58.168,58.334,58.5,58.666,58.832,58.998,59.164,59.33,59.496,59.662,59.828,59.994,60.16,60.326,60.492,60.658,60.824,60.99,61.156,61.322,61.488,61.654,61.82,61.986,62.152,62.318,62.484,62.65,62.816,62.982,63.148,63.314,63.48,63.646,63.812,63.978,64.144,64.31,64.476,64.642,64.80799999999999,64.97399999999999,65.14,65.306,65.47200000000001,65.638,65.804,65.97,66.136,66.30199999999999,66.468,66.634,66.8,66.96600000000001,67.132,67.298,67.464,67.63,67.79599999999999,67.962,68.128,68.294,68.46000000000001,68.626,68.792,68.958,69.124,69.28999999999999,69.456,69.622,69.788,69.95400000000001,70.12,70.286,70.452,70.618,70.78399999999999,70.95,71.116,71.282,71.44800000000001,71.614,71.78,71.946,72.112,72.27799999999999,72.444,72.61,72.77600000000001,72.94200000000001,73.108,73.274,73.44,73.606,73.77199999999999,73.938,74.104,74.27000000000001,74.436,74.602,74.768,74.934,75.1,75.26599999999999,75.432,75.598,75.76400000000001,75.93,76.096,76.262,76.428,76.594,76.75999999999999,76.926,77.092,77.25800000000001,77.424,77.59,77.756,77.922,78.088,78.25399999999999,78.42,78.586,78.75200000000001,78.918,79.084,79.25,79.416,79.582,79.74799999999999,79.914,80.08,80.24600000000001,80.412,80.578,80.744,80.91,81.076,81.242,81.408,81.574,81.74,81.906,82.072,82.238,82.404,82.57,82.736,82.902,83.068,83.234,83.4,83.566,83.732,83.898,84.064,84.23,84.396,84.562,84.728,84.894,85.06,85.226,85.392,85.558,85.724,85.89,86.056,86.222,86.388,86.554,86.72,86.886,87.052,87.218,87.384,87.55,87.716,87.882,88.048,88.214,88.38,88.546,88.712,88.878,89.044,89.21,89.376,89.542,89.708,89.874,90.04,90.206,90.372,90.538,90.704,90.87,91.036,91.202,91.368,91.534,91.7,91.866,92.032,92.198,92.364,92.53,92.696,92.862,93.028,93.194,93.36,93.526,93.692,93.858,94.024,94.19,94.356,94.522,94.688,94.854,95.02,95.186,95.352,95.518,95.684,95.85,96.016,96.182,96.348,96.514,96.68,96.846,97.012,97.178,97.344,97.51,97.676,97.842,98.008,98.174,98.34,98.506,98.672,98.838,99.004,99.17,99.336,99.502,99.668,99.834],\"xaxis\":\"x\",\"y\":[0.000180287208005165,0.00018647014006922626,0.00019283132167203924,0.00019938271866134943,0.0002061364054679789,0.00021310440263503668,0.00022029850713331176,0.00022773011801257678,0.0002354100601163146,0.00024334840871811792,0.0002515543180174095,0.0002600358564568459,0.0002687998517915596,0.000277851748750262,0.00028719548198041247,0.0002968333667657145,0.0003067660097469211,0.0003169922415705051,0.00032750907303939666,0.00033831167595218517,0.00034939338939930293,0.00036074575184493645,0.000372358558870688,0.00038421994600058515,0.0003963164955765102,0.0004086333662180558,0.00042115444299057947,0.0004338625060287524,0.0004467394150284869,0.00045976630673511643,0.00047292380232663394,0.0004861922214226318,0.0004995517993464286,0.0005129829042318356,0.0005264662505983204,0.0005399831061180636,0.0005535154884637131,0.0005670463493526497,0.0005805597431875801,0.0005940409780277625,0.0006074767470030215,0.0006208552386954634,0.0006341662254525827,0.0006474011290505655,0.0006605530635884833,0.0006736168559525266,0.0006865890446351565,0.0006994678581174089,0.0007122531744151799,0.0007249464637441646,0.0007375507165662873,0.0007500703595373206,0.0007625111620761788,0.0007748801364179709,0.0007871854340933107,0.0007994362417949128,0.0008116426795500189,0.000823815704015464,0.0008359670195544651,0.0008481089995445154,0.0008602546201093095,0.0008724174081701131,0.0008846114053799647,0.0008968511491444171,0.0009091516715523849,0.0009215285166471947,0.0009339977760687192,0.0009465761426990828,0.0009592809815540441,0.0009721304167858322,0.0009851434333068496,0.000998339991212428,0.0010117411508794552,0.001025369206349833,0.0010392478243770207,0.0010534021863225192,0.0010678591299394511,0.001082647287973118,0.0010977972204450628,0.001113341537467043,0.0011293150094549204,0.0011457546616785446,0.001162699850191275,0.0011801923163304723,0.0011982762171660578,0.0012169981294962917,0.0012364070252455926,0.0012565542164064546,0.0012774932679828113,0.001299279877733387,0.0013219717218769236,0.0013456282663034385,0.001370310543233629,0.00139608089367801,0.0014230026764648946,0.0014511399450278309,0.0014805570935642822,0.0015113184745941452,0.0015434879903552389,0.0015771286608677873,0.0016123021718786636,0.0016490684062525649,0.0016874849627092525,0.0017276066661078076,0.0017694850737485167,0.0018131679823956066,0.0018586989409176975,0.0019061167735934935,0.0019554551192371007,0.002006741991356214,0.002059999364567579,0.0021152427924553494,0.002172481061967859,0.002231715889307552,0.0022929416620763557,0.0023561452321945414,0.0024213057638168105,0.0024883946401242536,0.0025573754324771133,0.0026282039349718846,0.002700828266959164,0.0027751890455475245,0.0028512196295458684,0.002928846435685774,0.003007989327317728,0.00308856207509679,0.0031704728884653683,0.0032536250160110814,0.0033379174120292156,0.0034232454658582484,0.0035095017897921435,0.003596577060608068,0.0036843609089946133,0.003772742850430147,0.003861613250353603,0.003950864315800577,0.004040391105056507,0.0041300925463179,0.004219872455858825,0.004309640545791265,0.00439931341118629,0.004488815486106392,0.0045780799579906465,0.004667049629847311,0.004755677719844864,0.004843928588162634,0.004931778381366145,0.005019215585113899,0.005106241476680262,0.005192870469591341,0.005279130343610948,0.005365062354377041,0.005450721218161505,0.005536174968500776,0.00562150468280137,0.005706804078452724,0.00579217897945543,0.005877746656082369,0.005963635041607016,0.006049981831640281,0.006136933473089688,0.006224644051172223,0.006313274084251052,0.00640298923750897,0.006493958967594758,0.006586355111366679,0.006680350432693875,0.006776117141945054,0.006873825403287712,0.00697364184522541,0.007075728089914424,0.007180239316717653,0.007287322875174332,0.007397116962091133,0.0075097493767989024,0.007625336367777398,0.007743981582839724,0.007865775133900209,0.007990792786041983,0.00811909527916744,0.008250727788976866,0.008385719532399694,0.008524083520915184,0.008665816463472292,0.00881089881897129,0.008959294996526472,0.009110953700010494,0.009265808411713705,0.009423778008349207,0.009584767501128067,0.00974866889022775,0.009915362122706706,0.010084716141791182,0.0102565900144947,0.010430834123734597,0.010607291410500635,0.010785798651210467,0.01096618775516509,0.0111482870669962,0.011331922659178128,0.011516919600057223,0.01170310318342531,0.011890300106426107,0.012078339583519,0.012267054385327294,0.012456281792441324,0.01264586445562414,0.012835651155349452,0.013025497455167108,0.013215266245019196,0.013404828172292358,0.013594061960058166,0.013782854613603988,0.013971101517959664,0.014158706430649742,0.014345581375333738,0.014531646443297385,0.014716829510918347,0.014901065882220463,0.015084297866441809,0.015266474301151554,0.015447550031865343,0.015627485359297345,0.01580624546537873,0.015983799828943147,0.016160121641553265,0.016335187233327594,0.01650897551782777,0.01668146746412684,0.01685264560309085,0.01702249357372068,0.017190995714138065,0.017358136700475077,0.0175239012356012,0.01768827378829546,0.017851238382194372,0.018012778432644417,0.018172876628484193,0.018331514854809036,0.018488674151942715,0.01864433470518903,0.018798475859461112,0.018951076152605852,0.01910211336116776,0.01925156455244719,0.019399406137033597,0.019545613916487268,0.019690163121524797,0.019833028436886217,0.01997418401002349,0.020113603441816775,0.020251259758664958,0.02038712536648828,0.020521171988382665,0.020653370588848894,0.02078369128864949,0.02091210327539395,0.02103857471587645,0.021163072676979408,0.021285563062562275,0.021406010574175047,0.0215243787036395,0.021640629765517273,0.02175472497722703,0.021866624594070024,0.021976288105688576,0.022083674499506604,0.022188742595512234,0.02229145145534373,0.022391760867067435,0.02248963190529946,0.022585027564474506,0.022677913461118027,0.022768258598989885,0.02285603618896136,0.022941224513525663,0.02302380782394607,0.02310377725627672,0.023181131750887946,0.02325587895872538,0.02332803611637667,0.023397630871150488,0.02346470203680892,0.02352930026038185,0.023591488580635214,0.02365134285929272,0.023708952067027878,0.02376441840754685,0.023817857264777958,0.023869396960248392,0.023919178310143906,0.023967353974291852,0.024014087592328582,0.024059552705588322,0.024103931466715613,0.024147413142599015,0.024190192419914,0.024232467526249357,0.024274438183435058,0.024316303413203424,0.024358259218641074,0.024400496167953874,0.024443196909805377,0.024486533651841707,0.024530665635926815,0.024575736645030256,0.024621872577593785,0.02466917912553062,0.02471773959173369,0.02476761288212054,0.02481883170576604,0.02487140101463113,0.024925296711783552,0.02498046465385259,0.02503681996983824,0.02509424671432859,0.02515259786875064,0.025211695699557442,0.025271332477311826,0.02533127155555615,0.025391248803230973,0.025450974379327772,0.025510134833511187,0.025568395511700124,0.02562540324116294,0.025680789265604315,0.025734172397089226,0.02578516234852446,0.025833363207826397,0.025878377012923812,0.025919807385363095,0.025957263179551788,0.025990362104575906,0.026018734276061432,0.026042025656697568,0.026059901345770475,0.026072048680332548,0.02607818011339786,0.02607803583777273,0.02607138612770372,0.02605803337443498,0.026037813795891998,0.026010598805017326,0.025976296025681397,0.02593484994951577,0.02588624223139976,0.02583049162560469,0.02576765356871869,0.02569781941936423,0.025621115368356682,0.025537701036289242,0.02544776777852536,0.025351536720230498,0.02524925654635171,0.025141201073351716,0.02502766663101883,0.02490896928382028,0.024785441922037563,0.024657431253345744,0.024525294725593477,0.02438939741131253,0.024250108883981065,0.024107800115292285,0.023962840421666697,0.023815594487029995,0.023666419487464778,0.023515662341777648,0.023363657110307454,0.023210722562464654,0.02305715993156444,0.02290325087348394,0.022749255643591693,0.022595411504243348,0.022441931372942356,0.022289002719039774,0.022136786714586843,0.02198541764269069,0.021835002564446437,0.02168562124325212,0.02153732632306213,0.021390143754913382,0.021244073463873393,0.021099090246446347,0.020955144886415103,0.020812165475145868,0.02067005892053304,0.020528712627045347,0.02038799632776923,0.020247764047953275,0.020107856178354432,0.01996810163570503,0.01982832008685799,0.019688324212670517,0.019547921987437232,0.019406918949726418,0.019265120440786463,0.01912233378729985,0.018978370406160214,0.01883304781012276,0.01868619149464016,0.018537636687900278,0.018387229948043034,0.01823483059369558,0.018080311956318342,0.017923562445360003,0.017764486419835565,0.017603004862633782,0.01743905585658488,0.01727259486402474,0.01710359481424718,0.01693204600578035,0.016757955832826195,0.016581348347414655,0.01640226367081302,0.01622075726945639,0.01603689911210596,0.015850772726065766,0.015662474171083705,0.015472110950014589,0.015279800875432384,0.015085670911139121,0.014889856006949932,0.014692497944247094,0.014493744208611256,0.014293746904394729,0.014092661724419258,0.0138906469861102,0.013687862743354769,0.013484469981237595,0.013280629898619278,0.013076503281310405,0.01287224996641957,0.012668028396349609,0.012463995258932012,0.012260305208356208,0.012057110659908053,0.011854561650105415,0.01165280575263391,0.011451988039557682,0.011252251076625015,0.011053734941105687,0.010856577250492947,0.010660913190566544,0.010466875531735436,0.010274594623242818,0.010084198355703154,0.009895812083521912,0.009709558500003641,0.009525557459348773,0.009343925741242699,0.009164776755325113,0.008988220184458785,0.008814361567362365,0.008643301822805025,0.008475136719152057,0.008309956294569433,0.008147844234626903,0.007988877215348841,0.007833124220943384,0.007680645846467353,0.00753149359654709,0.007385709191962755,0.007243323896405885,0.007104357876027875,0.0069688196045137535,0.006836705326330061,0.006707998590513434,0.006582669866889936,0.006460676255941407,0.0063419613026794155,0.006226454923848702,0.006114073456574414,0.006004719835200287,0.005898283901553427,0.005794642852228583,0.005693661824729074,0.005595194622456054,0.00549908457661754,0.00540516554116577,0.005313263014885859,0.005223195382782973,0.005134775266974389,0.005047810975424261,0.004962108035085159,0.004877470794373657,0.004793704078429331,0.004710614879325297,0.004628014062337369,0.004545718068568704,0.004463550593686133,0.004381344222277169,0.004298941997393802,0.004216198905222776,0.004132983255515397,0.00404917793942066,0.003964681547686516,0.003879409333810011,0.0037932940086079915,0.0037062863548177755,0.003618355652691802],\"yaxis\":\"y\",\"type\":\"scatter\"},{\"legendgroup\":\"readingscore data\",\"marker\":{\"color\":\"rgb(31, 119, 180)\",\"symbol\":\"line-ns-open\"},\"mode\":\"markers\",\"name\":\"readingscore data\",\"showlegend\":false,\"x\":[72,90,95,57,78,83,95,43,64,60,54,52,81,72,53,75,89,32,42,58,69,75,54,73,71,74,54,69,70,70,74,65,72,42,87,81,81,64,90,56,61,73,58,65,56,54,65,71,74,84,55,69,44,78,84,41,85,55,59,17,74,39,61,80,58,64,37,72,58,64,63,55,51,57,49,41,26,78,74,68,49,45,47,64,39,80,83,71,70,86,72,34,79,45,86,81,66,72,67,67,67,74,91,44,86,67,100,63,76,64,89,55,53,58,100,77,85,82,63,69,92,89,93,57,80,95,68,77,82,49,84,37,74,81,79,55,54,55,66,61,72,62,55,43,73,39,84,68,75,100,67,67,70,49,67,89,74,60,86,62,78,88,53,53,92,100,51,76,83,75,73,88,86,67,51,91,54,77,70,100,68,64,50,69,52,67,76,66,52,88,65,83,64,62,84,55,69,56,53,79,84,81,77,69,41,71,62,80,81,61,79,28,62,51,91,83,86,42,77,56,68,85,65,80,66,56,72,50,72,95,64,43,86,87,82,75,66,60,52,80,68,83,52,51,74,76,76,70,64,60,49,83,70,80,52,73,73,77,75,81,79,79,50,93,73,42,75,72,92,76,63,49,53,70,85,78,92,63,86,56,52,48,79,78,46,82,82,89,75,76,70,73,60,73,77,62,41,74,46,87,78,54,84,76,75,67,87,52,71,57,76,60,61,67,64,66,82,72,71,65,79,86,81,53,46,90,61,23,75,55,60,37,56,78,93,68,70,51,38,55,61,73,76,72,73,80,61,94,74,74,65,57,78,58,71,72,61,66,62,90,62,84,58,34,60,58,58,66,64,84,77,73,74,97,70,43,90,95,83,64,86,100,81,49,43,76,73,78,64,70,67,68,67,54,74,45,67,89,63,59,54,43,65,99,59,73,65,80,57,84,71,83,66,67,72,73,74,73,59,56,93,58,58,85,39,67,83,71,59,63,66,72,56,59,66,48,68,66,56,88,81,81,73,83,82,74,66,81,46,73,85,92,77,58,61,56,89,54,100,65,58,54,70,90,58,87,31,67,88,74,85,69,86,67,90,76,62,68,64,71,71,59,68,52,52,74,47,75,53,82,85,64,83,88,64,64,48,78,69,71,79,87,61,89,59,82,70,59,78,92,71,50,49,61,97,87,89,74,78,78,49,86,58,59,52,60,61,53,41,74,67,54,61,88,69,83,60,66,66,92,69,82,77,95,63,83,100,67,67,72,76,90,48,62,45,39,72,67,70,66,75,74,90,80,51,43,100,71,48,68,75,96,62,66,81,55,51,91,56,61,97,79,73,75,77,76,73,63,64,66,57,62,68,76,100,79,24,54,77,82,60,29,78,57,89,72,84,58,64,63,60,59,90,77,93,68,45,78,81,73,61,63,51,96,58,97,70,48,57,51,64,60,74,88,84,74,80,92,76,74,52,88,81,79,65,81,70,62,53,79,56,80,86,70,79,67,67,66,60,87,77,66,71,69,63,60,73,85,74,72,76,57,78,84,77,64,78,82,75,61,72,68,55,40,66,99,75,78,58,90,53,76,74,77,63,89,82,72,78,66,81,67,84,64,63,72,34,59,87,61,84,85,100,81,70,94,78,96,76,73,72,59,90,48,43,74,75,51,92,39,77,46,89,47,58,57,79,66,71,60,73,57,84,73,55,79,75,64,60,84,69,72,77,90,55,95,58,68,59,77,72,58,81,62,63,72,75,62,71,60,48,73,67,78,65,58,72,44,79,85,56,90,85,59,81,51,79,38,65,65,62,66,74,84,52,68,70,84,60,55,73,80,94,85,76,81,74,45,75,54,31,47,64,84,80,86,59,70,72,91,90,90,52,87,58,67,68,69,86,54,60,86,60,82,50,64,64,82,57,77,52,58,44,77,65,85,85,54,72,75,67,68,85,67,64,97,68,79,49,73,62,86,42,71,93,82,53,42,74,51,58,72,84,90,62,64,82,61,72,76,64,70,73,46,51,76,100,72,65,51,85,92,67,74,62,34,29,78,54,78,84,78,48,100,84,77,48,84,75,64,42,84,61,62,61,70,100,61,77,96,70,53,66,65,70,64,56,61,43,56,74,57,71,75,87,63,57,58,81,68,66,91,66,62,68,61,82,58,50,75,73,77,74,52,69,57,87,100,63,81,58,54,100,76,57,70,68,63,76,84,100,72,50,65,63,82,62,65,41,95,24,78,85,87,75,51,59,75,45,86,81,82,76,72,63,99,55,71,78,86],\"xaxis\":\"x\",\"y\":[\"readingscore data\",\"readingscore data\",\"readingscore data\",\"readingscore data\",\"readingscore data\",\"readingscore data\",\"readingscore data\",\"readingscore data\",\"readingscore data\",\"readingscore data\",\"readingscore data\",\"readingscore data\",\"readingscore data\",\"readingscore data\",\"readingscore data\",\"readingscore data\",\"readingscore data\",\"readingscore data\",\"readingscore data\",\"readingscore data\",\"readingscore data\",\"readingscore data\",\"readingscore data\",\"readingscore data\",\"readingscore data\",\"readingscore data\",\"readingscore data\",\"readingscore data\",\"readingscore data\",\"readingscore data\",\"readingscore data\",\"readingscore data\",\"readingscore data\",\"readingscore data\",\"readingscore data\",\"readingscore data\",\"readingscore data\",\"readingscore data\",\"readingscore data\",\"readingscore data\",\"readingscore data\",\"readingscore data\",\"readingscore data\",\"readingscore data\",\"readingscore data\",\"readingscore data\",\"readingscore data\",\"readingscore data\",\"readingscore data\",\"readingscore data\",\"readingscore data\",\"readingscore data\",\"readingscore data\",\"readingscore data\",\"readingscore data\",\"readingscore data\",\"readingscore data\",\"readingscore data\",\"readingscore data\",\"readingscore data\",\"readingscore data\",\"readingscore data\",\"readingscore data\",\"readingscore data\",\"readingscore data\",\"readingscore data\",\"readingscore data\",\"readingscore data\",\"readingscore data\",\"readingscore data\",\"readingscore data\",\"readingscore data\",\"readingscore data\",\"readingscore data\",\"readingscore data\",\"readingscore data\",\"readingscore data\",\"readingscore data\",\"readingscore data\",\"readingscore data\",\"readingscore data\",\"readingscore data\",\"readingscore data\",\"readingscore data\",\"readingscore data\",\"readingscore data\",\"readingscore data\",\"readingscore data\",\"readingscore data\",\"readingscore data\",\"readingscore data\",\"readingscore data\",\"readingscore data\",\"readingscore data\",\"readingscore data\",\"readingscore data\",\"readingscore data\",\"readingscore data\",\"readingscore data\",\"readingscore data\",\"readingscore data\",\"readingscore data\",\"readingscore data\",\"readingscore data\",\"readingscore data\",\"readingscore data\",\"readingscore data\",\"readingscore data\",\"readingscore data\",\"readingscore data\",\"readingscore data\",\"readingscore data\",\"readingscore data\",\"readingscore data\",\"readingscore data\",\"readingscore data\",\"readingscore data\",\"readingscore data\",\"readingscore data\",\"readingscore data\",\"readingscore data\",\"readingscore data\",\"readingscore data\",\"readingscore data\",\"readingscore data\",\"readingscore data\",\"readingscore data\",\"readingscore data\",\"readingscore data\",\"readingscore data\",\"readingscore data\",\"readingscore data\",\"readingscore data\",\"readingscore data\",\"readingscore data\",\"readingscore data\",\"readingscore data\",\"readingscore data\",\"readingscore data\",\"readingscore data\",\"readingscore data\",\"readingscore data\",\"readingscore data\",\"readingscore data\",\"readingscore data\",\"readingscore data\",\"readingscore data\",\"readingscore data\",\"readingscore data\",\"readingscore data\",\"readingscore data\",\"readingscore data\",\"readingscore data\",\"readingscore data\",\"readingscore data\",\"readingscore data\",\"readingscore data\",\"readingscore data\",\"readingscore data\",\"readingscore data\",\"readingscore data\",\"readingscore data\",\"readingscore data\",\"readingscore data\",\"readingscore data\",\"readingscore data\",\"readingscore data\",\"readingscore data\",\"readingscore data\",\"readingscore data\",\"readingscore data\",\"readingscore data\",\"readingscore data\",\"readingscore data\",\"readingscore data\",\"readingscore data\",\"readingscore data\",\"readingscore data\",\"readingscore data\",\"readingscore data\",\"readingscore data\",\"readingscore data\",\"readingscore data\",\"readingscore data\",\"readingscore data\",\"readingscore data\",\"readingscore data\",\"readingscore data\",\"readingscore data\",\"readingscore data\",\"readingscore data\",\"readingscore data\",\"readingscore data\",\"readingscore data\",\"readingscore data\",\"readingscore data\",\"readingscore data\",\"readingscore data\",\"readingscore data\",\"readingscore data\",\"readingscore data\",\"readingscore data\",\"readingscore data\",\"readingscore data\",\"readingscore data\",\"readingscore data\",\"readingscore data\",\"readingscore data\",\"readingscore data\",\"readingscore data\",\"readingscore data\",\"readingscore data\",\"readingscore data\",\"readingscore data\",\"readingscore data\",\"readingscore data\",\"readingscore data\",\"readingscore data\",\"readingscore data\",\"readingscore data\",\"readingscore data\",\"readingscore data\",\"readingscore data\",\"readingscore data\",\"readingscore data\",\"readingscore data\",\"readingscore data\",\"readingscore data\",\"readingscore data\",\"readingscore data\",\"readingscore data\",\"readingscore data\",\"readingscore data\",\"readingscore data\",\"readingscore data\",\"readingscore data\",\"readingscore data\",\"readingscore data\",\"readingscore data\",\"readingscore data\",\"readingscore data\",\"readingscore data\",\"readingscore data\",\"readingscore data\",\"readingscore data\",\"readingscore data\",\"readingscore data\",\"readingscore data\",\"readingscore data\",\"readingscore data\",\"readingscore data\",\"readingscore data\",\"readingscore data\",\"readingscore data\",\"readingscore data\",\"readingscore data\",\"readingscore data\",\"readingscore data\",\"readingscore data\",\"readingscore data\",\"readingscore data\",\"readingscore data\",\"readingscore data\",\"readingscore data\",\"readingscore data\",\"readingscore data\",\"readingscore data\",\"readingscore data\",\"readingscore data\",\"readingscore data\",\"readingscore data\",\"readingscore data\",\"readingscore data\",\"readingscore data\",\"readingscore data\",\"readingscore data\",\"readingscore data\",\"readingscore data\",\"readingscore data\",\"readingscore data\",\"readingscore data\",\"readingscore data\",\"readingscore data\",\"readingscore data\",\"readingscore data\",\"readingscore data\",\"readingscore data\",\"readingscore data\",\"readingscore data\",\"readingscore data\",\"readingscore data\",\"readingscore data\",\"readingscore data\",\"readingscore data\",\"readingscore data\",\"readingscore data\",\"readingscore data\",\"readingscore data\",\"readingscore data\",\"readingscore data\",\"readingscore data\",\"readingscore data\",\"readingscore data\",\"readingscore data\",\"readingscore data\",\"readingscore data\",\"readingscore data\",\"readingscore data\",\"readingscore data\",\"readingscore data\",\"readingscore data\",\"readingscore data\",\"readingscore data\",\"readingscore data\",\"readingscore data\",\"readingscore data\",\"readingscore data\",\"readingscore data\",\"readingscore data\",\"readingscore data\",\"readingscore data\",\"readingscore data\",\"readingscore data\",\"readingscore data\",\"readingscore data\",\"readingscore data\",\"readingscore data\",\"readingscore data\",\"readingscore data\",\"readingscore data\",\"readingscore data\",\"readingscore data\",\"readingscore data\",\"readingscore data\",\"readingscore data\",\"readingscore data\",\"readingscore data\",\"readingscore data\",\"readingscore data\",\"readingscore data\",\"readingscore data\",\"readingscore data\",\"readingscore data\",\"readingscore data\",\"readingscore data\",\"readingscore data\",\"readingscore data\",\"readingscore data\",\"readingscore data\",\"readingscore data\",\"readingscore data\",\"readingscore data\",\"readingscore data\",\"readingscore data\",\"readingscore data\",\"readingscore data\",\"readingscore data\",\"readingscore data\",\"readingscore data\",\"readingscore data\",\"readingscore data\",\"readingscore data\",\"readingscore data\",\"readingscore data\",\"readingscore data\",\"readingscore data\",\"readingscore data\",\"readingscore data\",\"readingscore data\",\"readingscore data\",\"readingscore data\",\"readingscore data\",\"readingscore data\",\"readingscore data\",\"readingscore data\",\"readingscore data\",\"readingscore data\",\"readingscore data\",\"readingscore data\",\"readingscore data\",\"readingscore data\",\"readingscore data\",\"readingscore data\",\"readingscore data\",\"readingscore data\",\"readingscore data\",\"readingscore data\",\"readingscore data\",\"readingscore data\",\"readingscore data\",\"readingscore data\",\"readingscore data\",\"readingscore data\",\"readingscore data\",\"readingscore data\",\"readingscore data\",\"readingscore data\",\"readingscore data\",\"readingscore data\",\"readingscore data\",\"readingscore data\",\"readingscore data\",\"readingscore data\",\"readingscore data\",\"readingscore data\",\"readingscore data\",\"readingscore data\",\"readingscore data\",\"readingscore data\",\"readingscore data\",\"readingscore data\",\"readingscore data\",\"readingscore data\",\"readingscore data\",\"readingscore data\",\"readingscore data\",\"readingscore data\",\"readingscore data\",\"readingscore data\",\"readingscore data\",\"readingscore data\",\"readingscore data\",\"readingscore data\",\"readingscore data\",\"readingscore data\",\"readingscore data\",\"readingscore data\",\"readingscore data\",\"readingscore data\",\"readingscore data\",\"readingscore data\",\"readingscore data\",\"readingscore data\",\"readingscore data\",\"readingscore data\",\"readingscore data\",\"readingscore data\",\"readingscore data\",\"readingscore data\",\"readingscore data\",\"readingscore data\",\"readingscore data\",\"readingscore data\",\"readingscore data\",\"readingscore data\",\"readingscore data\",\"readingscore data\",\"readingscore data\",\"readingscore data\",\"readingscore data\",\"readingscore data\",\"readingscore data\",\"readingscore data\",\"readingscore data\",\"readingscore data\",\"readingscore data\",\"readingscore data\",\"readingscore data\",\"readingscore data\",\"readingscore data\",\"readingscore data\",\"readingscore data\",\"readingscore data\",\"readingscore data\",\"readingscore data\",\"readingscore data\",\"readingscore data\",\"readingscore data\",\"readingscore data\",\"readingscore data\",\"readingscore data\",\"readingscore data\",\"readingscore data\",\"readingscore data\",\"readingscore data\",\"readingscore data\",\"readingscore data\",\"readingscore data\",\"readingscore data\",\"readingscore data\",\"readingscore data\",\"readingscore data\",\"readingscore data\",\"readingscore data\",\"readingscore data\",\"readingscore data\",\"readingscore data\",\"readingscore data\",\"readingscore data\",\"readingscore data\",\"readingscore data\",\"readingscore data\",\"readingscore data\",\"readingscore data\",\"readingscore data\",\"readingscore data\",\"readingscore data\",\"readingscore data\",\"readingscore data\",\"readingscore data\",\"readingscore data\",\"readingscore data\",\"readingscore data\",\"readingscore data\",\"readingscore data\",\"readingscore data\",\"readingscore data\",\"readingscore data\",\"readingscore data\",\"readingscore data\",\"readingscore data\",\"readingscore data\",\"readingscore data\",\"readingscore data\",\"readingscore data\",\"readingscore data\",\"readingscore data\",\"readingscore data\",\"readingscore data\",\"readingscore data\",\"readingscore data\",\"readingscore data\",\"readingscore data\",\"readingscore data\",\"readingscore data\",\"readingscore data\",\"readingscore data\",\"readingscore data\",\"readingscore data\",\"readingscore data\",\"readingscore data\",\"readingscore data\",\"readingscore data\",\"readingscore data\",\"readingscore data\",\"readingscore data\",\"readingscore data\",\"readingscore data\",\"readingscore data\",\"readingscore data\",\"readingscore data\",\"readingscore data\",\"readingscore data\",\"readingscore data\",\"readingscore data\",\"readingscore data\",\"readingscore data\",\"readingscore data\",\"readingscore data\",\"readingscore data\",\"readingscore data\",\"readingscore data\",\"readingscore data\",\"readingscore data\",\"readingscore data\",\"readingscore data\",\"readingscore data\",\"readingscore data\",\"readingscore data\",\"readingscore data\",\"readingscore data\",\"readingscore data\",\"readingscore data\",\"readingscore data\",\"readingscore data\",\"readingscore data\",\"readingscore data\",\"readingscore data\",\"readingscore data\",\"readingscore data\",\"readingscore data\",\"readingscore data\",\"readingscore data\",\"readingscore data\",\"readingscore data\",\"readingscore data\",\"readingscore data\",\"readingscore data\",\"readingscore data\",\"readingscore data\",\"readingscore data\",\"readingscore data\",\"readingscore data\",\"readingscore data\",\"readingscore data\",\"readingscore data\",\"readingscore data\",\"readingscore data\",\"readingscore data\",\"readingscore data\",\"readingscore data\",\"readingscore data\",\"readingscore data\",\"readingscore data\",\"readingscore data\",\"readingscore data\",\"readingscore data\",\"readingscore data\",\"readingscore data\",\"readingscore data\",\"readingscore data\",\"readingscore data\",\"readingscore data\",\"readingscore data\",\"readingscore data\",\"readingscore data\",\"readingscore data\",\"readingscore data\",\"readingscore data\",\"readingscore data\",\"readingscore data\",\"readingscore data\",\"readingscore data\",\"readingscore data\",\"readingscore data\",\"readingscore data\",\"readingscore data\",\"readingscore data\",\"readingscore data\",\"readingscore data\",\"readingscore data\",\"readingscore data\",\"readingscore data\",\"readingscore data\",\"readingscore data\",\"readingscore data\",\"readingscore data\",\"readingscore data\",\"readingscore data\",\"readingscore data\",\"readingscore data\",\"readingscore data\",\"readingscore data\",\"readingscore data\",\"readingscore data\",\"readingscore data\",\"readingscore data\",\"readingscore data\",\"readingscore data\",\"readingscore data\",\"readingscore data\",\"readingscore data\",\"readingscore data\",\"readingscore data\",\"readingscore data\",\"readingscore data\",\"readingscore data\",\"readingscore data\",\"readingscore data\",\"readingscore data\",\"readingscore data\",\"readingscore data\",\"readingscore data\",\"readingscore data\",\"readingscore data\",\"readingscore data\",\"readingscore data\",\"readingscore data\",\"readingscore data\",\"readingscore data\",\"readingscore data\",\"readingscore data\",\"readingscore data\",\"readingscore data\",\"readingscore data\",\"readingscore data\",\"readingscore data\",\"readingscore data\",\"readingscore data\",\"readingscore data\",\"readingscore data\",\"readingscore data\",\"readingscore data\",\"readingscore data\",\"readingscore data\",\"readingscore data\",\"readingscore data\",\"readingscore data\",\"readingscore data\",\"readingscore data\",\"readingscore data\",\"readingscore data\",\"readingscore data\",\"readingscore data\",\"readingscore data\",\"readingscore data\",\"readingscore data\",\"readingscore data\",\"readingscore data\",\"readingscore data\",\"readingscore data\",\"readingscore data\",\"readingscore data\",\"readingscore data\",\"readingscore data\",\"readingscore data\",\"readingscore data\",\"readingscore data\",\"readingscore data\",\"readingscore data\",\"readingscore data\",\"readingscore data\",\"readingscore data\",\"readingscore data\",\"readingscore data\",\"readingscore data\",\"readingscore data\",\"readingscore data\",\"readingscore data\",\"readingscore data\",\"readingscore data\",\"readingscore data\",\"readingscore data\",\"readingscore data\",\"readingscore data\",\"readingscore data\",\"readingscore data\",\"readingscore data\",\"readingscore data\",\"readingscore data\",\"readingscore data\",\"readingscore data\",\"readingscore data\",\"readingscore data\",\"readingscore data\",\"readingscore data\",\"readingscore data\",\"readingscore data\",\"readingscore data\",\"readingscore data\",\"readingscore data\",\"readingscore data\",\"readingscore data\",\"readingscore data\",\"readingscore data\",\"readingscore data\",\"readingscore data\",\"readingscore data\",\"readingscore data\",\"readingscore data\",\"readingscore data\",\"readingscore data\",\"readingscore data\",\"readingscore data\",\"readingscore data\",\"readingscore data\",\"readingscore data\",\"readingscore data\",\"readingscore data\",\"readingscore data\",\"readingscore data\",\"readingscore data\",\"readingscore data\",\"readingscore data\",\"readingscore data\",\"readingscore data\",\"readingscore data\",\"readingscore data\",\"readingscore data\",\"readingscore data\",\"readingscore data\",\"readingscore data\",\"readingscore data\",\"readingscore data\",\"readingscore data\",\"readingscore data\",\"readingscore data\",\"readingscore data\",\"readingscore data\",\"readingscore data\",\"readingscore data\",\"readingscore data\",\"readingscore data\",\"readingscore data\",\"readingscore data\",\"readingscore data\",\"readingscore data\",\"readingscore data\",\"readingscore data\",\"readingscore data\",\"readingscore data\",\"readingscore data\",\"readingscore data\",\"readingscore data\",\"readingscore data\",\"readingscore data\",\"readingscore data\",\"readingscore data\",\"readingscore data\",\"readingscore data\",\"readingscore data\",\"readingscore data\",\"readingscore data\",\"readingscore data\",\"readingscore data\",\"readingscore data\",\"readingscore data\",\"readingscore data\",\"readingscore data\",\"readingscore data\",\"readingscore data\",\"readingscore data\",\"readingscore data\",\"readingscore data\",\"readingscore data\",\"readingscore data\",\"readingscore data\",\"readingscore data\",\"readingscore data\",\"readingscore data\",\"readingscore data\",\"readingscore data\",\"readingscore data\",\"readingscore data\",\"readingscore data\",\"readingscore data\",\"readingscore data\",\"readingscore data\",\"readingscore data\",\"readingscore data\",\"readingscore data\",\"readingscore data\",\"readingscore data\",\"readingscore data\",\"readingscore data\",\"readingscore data\",\"readingscore data\",\"readingscore data\",\"readingscore data\",\"readingscore data\",\"readingscore data\",\"readingscore data\",\"readingscore data\",\"readingscore data\",\"readingscore data\",\"readingscore data\",\"readingscore data\",\"readingscore data\",\"readingscore data\",\"readingscore data\",\"readingscore data\",\"readingscore data\",\"readingscore data\",\"readingscore data\",\"readingscore data\",\"readingscore data\",\"readingscore data\",\"readingscore data\",\"readingscore data\",\"readingscore data\",\"readingscore data\",\"readingscore data\",\"readingscore data\",\"readingscore data\",\"readingscore data\",\"readingscore data\",\"readingscore data\",\"readingscore data\",\"readingscore data\",\"readingscore data\",\"readingscore data\",\"readingscore data\",\"readingscore data\",\"readingscore data\",\"readingscore data\",\"readingscore data\",\"readingscore data\",\"readingscore data\",\"readingscore data\",\"readingscore data\",\"readingscore data\",\"readingscore data\",\"readingscore data\",\"readingscore data\",\"readingscore data\",\"readingscore data\",\"readingscore data\",\"readingscore data\",\"readingscore data\",\"readingscore data\",\"readingscore data\",\"readingscore data\",\"readingscore data\",\"readingscore data\",\"readingscore data\",\"readingscore data\",\"readingscore data\",\"readingscore data\",\"readingscore data\",\"readingscore data\",\"readingscore data\",\"readingscore data\",\"readingscore data\",\"readingscore data\",\"readingscore data\",\"readingscore data\",\"readingscore data\",\"readingscore data\",\"readingscore data\",\"readingscore data\",\"readingscore data\",\"readingscore data\",\"readingscore data\",\"readingscore data\",\"readingscore data\",\"readingscore data\",\"readingscore data\",\"readingscore data\",\"readingscore data\",\"readingscore data\",\"readingscore data\",\"readingscore data\",\"readingscore data\",\"readingscore data\",\"readingscore data\",\"readingscore data\",\"readingscore data\",\"readingscore data\",\"readingscore data\",\"readingscore data\",\"readingscore data\",\"readingscore data\",\"readingscore data\",\"readingscore data\",\"readingscore data\",\"readingscore data\",\"readingscore data\",\"readingscore data\",\"readingscore data\",\"readingscore data\",\"readingscore data\",\"readingscore data\",\"readingscore data\",\"readingscore data\",\"readingscore data\",\"readingscore data\",\"readingscore data\",\"readingscore data\",\"readingscore data\",\"readingscore data\",\"readingscore data\",\"readingscore data\",\"readingscore data\",\"readingscore data\",\"readingscore data\",\"readingscore data\",\"readingscore data\",\"readingscore data\",\"readingscore data\",\"readingscore data\",\"readingscore data\",\"readingscore data\",\"readingscore data\",\"readingscore data\",\"readingscore data\",\"readingscore data\",\"readingscore data\",\"readingscore data\",\"readingscore data\",\"readingscore data\",\"readingscore data\",\"readingscore data\",\"readingscore data\",\"readingscore data\",\"readingscore data\",\"readingscore data\",\"readingscore data\",\"readingscore data\",\"readingscore data\",\"readingscore data\",\"readingscore data\",\"readingscore data\",\"readingscore data\",\"readingscore data\",\"readingscore data\",\"readingscore data\",\"readingscore data\",\"readingscore data\",\"readingscore data\",\"readingscore data\",\"readingscore data\",\"readingscore data\",\"readingscore data\",\"readingscore data\",\"readingscore data\",\"readingscore data\",\"readingscore data\",\"readingscore data\",\"readingscore data\",\"readingscore data\",\"readingscore data\",\"readingscore data\",\"readingscore data\",\"readingscore data\",\"readingscore data\",\"readingscore data\",\"readingscore data\",\"readingscore data\",\"readingscore data\",\"readingscore data\"],\"yaxis\":\"y2\",\"type\":\"scatter\"}],                        {\"barmode\":\"overlay\",\"hovermode\":\"closest\",\"legend\":{\"traceorder\":\"reversed\"},\"xaxis\":{\"anchor\":\"y2\",\"domain\":[0.0,1.0],\"zeroline\":false},\"yaxis\":{\"anchor\":\"free\",\"domain\":[0.35,1],\"position\":0.0},\"yaxis2\":{\"anchor\":\"x\",\"domain\":[0,0.25],\"dtick\":1,\"showticklabels\":false},\"template\":{\"data\":{\"histogram2dcontour\":[{\"type\":\"histogram2dcontour\",\"colorbar\":{\"outlinewidth\":0,\"ticks\":\"\"},\"colorscale\":[[0.0,\"#0d0887\"],[0.1111111111111111,\"#46039f\"],[0.2222222222222222,\"#7201a8\"],[0.3333333333333333,\"#9c179e\"],[0.4444444444444444,\"#bd3786\"],[0.5555555555555556,\"#d8576b\"],[0.6666666666666666,\"#ed7953\"],[0.7777777777777778,\"#fb9f3a\"],[0.8888888888888888,\"#fdca26\"],[1.0,\"#f0f921\"]]}],\"choropleth\":[{\"type\":\"choropleth\",\"colorbar\":{\"outlinewidth\":0,\"ticks\":\"\"}}],\"histogram2d\":[{\"type\":\"histogram2d\",\"colorbar\":{\"outlinewidth\":0,\"ticks\":\"\"},\"colorscale\":[[0.0,\"#0d0887\"],[0.1111111111111111,\"#46039f\"],[0.2222222222222222,\"#7201a8\"],[0.3333333333333333,\"#9c179e\"],[0.4444444444444444,\"#bd3786\"],[0.5555555555555556,\"#d8576b\"],[0.6666666666666666,\"#ed7953\"],[0.7777777777777778,\"#fb9f3a\"],[0.8888888888888888,\"#fdca26\"],[1.0,\"#f0f921\"]]}],\"heatmap\":[{\"type\":\"heatmap\",\"colorbar\":{\"outlinewidth\":0,\"ticks\":\"\"},\"colorscale\":[[0.0,\"#0d0887\"],[0.1111111111111111,\"#46039f\"],[0.2222222222222222,\"#7201a8\"],[0.3333333333333333,\"#9c179e\"],[0.4444444444444444,\"#bd3786\"],[0.5555555555555556,\"#d8576b\"],[0.6666666666666666,\"#ed7953\"],[0.7777777777777778,\"#fb9f3a\"],[0.8888888888888888,\"#fdca26\"],[1.0,\"#f0f921\"]]}],\"heatmapgl\":[{\"type\":\"heatmapgl\",\"colorbar\":{\"outlinewidth\":0,\"ticks\":\"\"},\"colorscale\":[[0.0,\"#0d0887\"],[0.1111111111111111,\"#46039f\"],[0.2222222222222222,\"#7201a8\"],[0.3333333333333333,\"#9c179e\"],[0.4444444444444444,\"#bd3786\"],[0.5555555555555556,\"#d8576b\"],[0.6666666666666666,\"#ed7953\"],[0.7777777777777778,\"#fb9f3a\"],[0.8888888888888888,\"#fdca26\"],[1.0,\"#f0f921\"]]}],\"contourcarpet\":[{\"type\":\"contourcarpet\",\"colorbar\":{\"outlinewidth\":0,\"ticks\":\"\"}}],\"contour\":[{\"type\":\"contour\",\"colorbar\":{\"outlinewidth\":0,\"ticks\":\"\"},\"colorscale\":[[0.0,\"#0d0887\"],[0.1111111111111111,\"#46039f\"],[0.2222222222222222,\"#7201a8\"],[0.3333333333333333,\"#9c179e\"],[0.4444444444444444,\"#bd3786\"],[0.5555555555555556,\"#d8576b\"],[0.6666666666666666,\"#ed7953\"],[0.7777777777777778,\"#fb9f3a\"],[0.8888888888888888,\"#fdca26\"],[1.0,\"#f0f921\"]]}],\"surface\":[{\"type\":\"surface\",\"colorbar\":{\"outlinewidth\":0,\"ticks\":\"\"},\"colorscale\":[[0.0,\"#0d0887\"],[0.1111111111111111,\"#46039f\"],[0.2222222222222222,\"#7201a8\"],[0.3333333333333333,\"#9c179e\"],[0.4444444444444444,\"#bd3786\"],[0.5555555555555556,\"#d8576b\"],[0.6666666666666666,\"#ed7953\"],[0.7777777777777778,\"#fb9f3a\"],[0.8888888888888888,\"#fdca26\"],[1.0,\"#f0f921\"]]}],\"mesh3d\":[{\"type\":\"mesh3d\",\"colorbar\":{\"outlinewidth\":0,\"ticks\":\"\"}}],\"scatter\":[{\"fillpattern\":{\"fillmode\":\"overlay\",\"size\":10,\"solidity\":0.2},\"type\":\"scatter\"}],\"parcoords\":[{\"type\":\"parcoords\",\"line\":{\"colorbar\":{\"outlinewidth\":0,\"ticks\":\"\"}}}],\"scatterpolargl\":[{\"type\":\"scatterpolargl\",\"marker\":{\"colorbar\":{\"outlinewidth\":0,\"ticks\":\"\"}}}],\"bar\":[{\"error_x\":{\"color\":\"#2a3f5f\"},\"error_y\":{\"color\":\"#2a3f5f\"},\"marker\":{\"line\":{\"color\":\"#E5ECF6\",\"width\":0.5},\"pattern\":{\"fillmode\":\"overlay\",\"size\":10,\"solidity\":0.2}},\"type\":\"bar\"}],\"scattergeo\":[{\"type\":\"scattergeo\",\"marker\":{\"colorbar\":{\"outlinewidth\":0,\"ticks\":\"\"}}}],\"scatterpolar\":[{\"type\":\"scatterpolar\",\"marker\":{\"colorbar\":{\"outlinewidth\":0,\"ticks\":\"\"}}}],\"histogram\":[{\"marker\":{\"pattern\":{\"fillmode\":\"overlay\",\"size\":10,\"solidity\":0.2}},\"type\":\"histogram\"}],\"scattergl\":[{\"type\":\"scattergl\",\"marker\":{\"colorbar\":{\"outlinewidth\":0,\"ticks\":\"\"}}}],\"scatter3d\":[{\"type\":\"scatter3d\",\"line\":{\"colorbar\":{\"outlinewidth\":0,\"ticks\":\"\"}},\"marker\":{\"colorbar\":{\"outlinewidth\":0,\"ticks\":\"\"}}}],\"scattermapbox\":[{\"type\":\"scattermapbox\",\"marker\":{\"colorbar\":{\"outlinewidth\":0,\"ticks\":\"\"}}}],\"scatterternary\":[{\"type\":\"scatterternary\",\"marker\":{\"colorbar\":{\"outlinewidth\":0,\"ticks\":\"\"}}}],\"scattercarpet\":[{\"type\":\"scattercarpet\",\"marker\":{\"colorbar\":{\"outlinewidth\":0,\"ticks\":\"\"}}}],\"carpet\":[{\"aaxis\":{\"endlinecolor\":\"#2a3f5f\",\"gridcolor\":\"white\",\"linecolor\":\"white\",\"minorgridcolor\":\"white\",\"startlinecolor\":\"#2a3f5f\"},\"baxis\":{\"endlinecolor\":\"#2a3f5f\",\"gridcolor\":\"white\",\"linecolor\":\"white\",\"minorgridcolor\":\"white\",\"startlinecolor\":\"#2a3f5f\"},\"type\":\"carpet\"}],\"table\":[{\"cells\":{\"fill\":{\"color\":\"#EBF0F8\"},\"line\":{\"color\":\"white\"}},\"header\":{\"fill\":{\"color\":\"#C8D4E3\"},\"line\":{\"color\":\"white\"}},\"type\":\"table\"}],\"barpolar\":[{\"marker\":{\"line\":{\"color\":\"#E5ECF6\",\"width\":0.5},\"pattern\":{\"fillmode\":\"overlay\",\"size\":10,\"solidity\":0.2}},\"type\":\"barpolar\"}],\"pie\":[{\"automargin\":true,\"type\":\"pie\"}]},\"layout\":{\"autotypenumbers\":\"strict\",\"colorway\":[\"#636efa\",\"#EF553B\",\"#00cc96\",\"#ab63fa\",\"#FFA15A\",\"#19d3f3\",\"#FF6692\",\"#B6E880\",\"#FF97FF\",\"#FECB52\"],\"font\":{\"color\":\"#2a3f5f\"},\"hovermode\":\"closest\",\"hoverlabel\":{\"align\":\"left\"},\"paper_bgcolor\":\"white\",\"plot_bgcolor\":\"#E5ECF6\",\"polar\":{\"bgcolor\":\"#E5ECF6\",\"angularaxis\":{\"gridcolor\":\"white\",\"linecolor\":\"white\",\"ticks\":\"\"},\"radialaxis\":{\"gridcolor\":\"white\",\"linecolor\":\"white\",\"ticks\":\"\"}},\"ternary\":{\"bgcolor\":\"#E5ECF6\",\"aaxis\":{\"gridcolor\":\"white\",\"linecolor\":\"white\",\"ticks\":\"\"},\"baxis\":{\"gridcolor\":\"white\",\"linecolor\":\"white\",\"ticks\":\"\"},\"caxis\":{\"gridcolor\":\"white\",\"linecolor\":\"white\",\"ticks\":\"\"}},\"coloraxis\":{\"colorbar\":{\"outlinewidth\":0,\"ticks\":\"\"}},\"colorscale\":{\"sequential\":[[0.0,\"#0d0887\"],[0.1111111111111111,\"#46039f\"],[0.2222222222222222,\"#7201a8\"],[0.3333333333333333,\"#9c179e\"],[0.4444444444444444,\"#bd3786\"],[0.5555555555555556,\"#d8576b\"],[0.6666666666666666,\"#ed7953\"],[0.7777777777777778,\"#fb9f3a\"],[0.8888888888888888,\"#fdca26\"],[1.0,\"#f0f921\"]],\"sequentialminus\":[[0.0,\"#0d0887\"],[0.1111111111111111,\"#46039f\"],[0.2222222222222222,\"#7201a8\"],[0.3333333333333333,\"#9c179e\"],[0.4444444444444444,\"#bd3786\"],[0.5555555555555556,\"#d8576b\"],[0.6666666666666666,\"#ed7953\"],[0.7777777777777778,\"#fb9f3a\"],[0.8888888888888888,\"#fdca26\"],[1.0,\"#f0f921\"]],\"diverging\":[[0,\"#8e0152\"],[0.1,\"#c51b7d\"],[0.2,\"#de77ae\"],[0.3,\"#f1b6da\"],[0.4,\"#fde0ef\"],[0.5,\"#f7f7f7\"],[0.6,\"#e6f5d0\"],[0.7,\"#b8e186\"],[0.8,\"#7fbc41\"],[0.9,\"#4d9221\"],[1,\"#276419\"]]},\"xaxis\":{\"gridcolor\":\"white\",\"linecolor\":\"white\",\"ticks\":\"\",\"title\":{\"standoff\":15},\"zerolinecolor\":\"white\",\"automargin\":true,\"zerolinewidth\":2},\"yaxis\":{\"gridcolor\":\"white\",\"linecolor\":\"white\",\"ticks\":\"\",\"title\":{\"standoff\":15},\"zerolinecolor\":\"white\",\"automargin\":true,\"zerolinewidth\":2},\"scene\":{\"xaxis\":{\"backgroundcolor\":\"#E5ECF6\",\"gridcolor\":\"white\",\"linecolor\":\"white\",\"showbackground\":true,\"ticks\":\"\",\"zerolinecolor\":\"white\",\"gridwidth\":2},\"yaxis\":{\"backgroundcolor\":\"#E5ECF6\",\"gridcolor\":\"white\",\"linecolor\":\"white\",\"showbackground\":true,\"ticks\":\"\",\"zerolinecolor\":\"white\",\"gridwidth\":2},\"zaxis\":{\"backgroundcolor\":\"#E5ECF6\",\"gridcolor\":\"white\",\"linecolor\":\"white\",\"showbackground\":true,\"ticks\":\"\",\"zerolinecolor\":\"white\",\"gridwidth\":2}},\"shapedefaults\":{\"line\":{\"color\":\"#2a3f5f\"}},\"annotationdefaults\":{\"arrowcolor\":\"#2a3f5f\",\"arrowhead\":0,\"arrowwidth\":1},\"geo\":{\"bgcolor\":\"white\",\"landcolor\":\"#E5ECF6\",\"subunitcolor\":\"white\",\"showland\":true,\"showlakes\":true,\"lakecolor\":\"white\"},\"title\":{\"x\":0.05},\"mapbox\":{\"style\":\"light\"}}}},                        {\"responsive\": true}                    ).then(function(){\n",
              "                            \n",
              "var gd = document.getElementById('9fba2bae-0d1e-43a9-92c6-52c00c6e7349');\n",
              "var x = new MutationObserver(function (mutations, observer) {{\n",
              "        var display = window.getComputedStyle(gd).display;\n",
              "        if (!display || display === 'none') {{\n",
              "            console.log([gd, 'removed!']);\n",
              "            Plotly.purge(gd);\n",
              "            observer.disconnect();\n",
              "        }}\n",
              "}});\n",
              "\n",
              "// Listen for the removal of the full notebook cells\n",
              "var notebookContainer = gd.closest('#notebook-container');\n",
              "if (notebookContainer) {{\n",
              "    x.observe(notebookContainer, {childList: true});\n",
              "}}\n",
              "\n",
              "// Listen for the clearing of the current output cell\n",
              "var outputEl = gd.closest('.output');\n",
              "if (outputEl) {{\n",
              "    x.observe(outputEl, {childList: true});\n",
              "}}\n",
              "\n",
              "                        })                };                            </script>        </div>\n",
              "</body>\n",
              "</html>"
            ]
          },
          "metadata": {}
        }
      ]
    },
    {
      "cell_type": "code",
      "source": [
        "sscore1=df['reading score'].skew()                # skewness=0 perfect data, -0.5 to 0.5 =mild skewness ignore it.\n",
        "sscore1"
      ],
      "metadata": {
        "colab": {
          "base_uri": "https://localhost:8080/"
        },
        "id": "br9oUxKvOIlC",
        "outputId": "c44887d0-5d5a-43ba-c383-fc54f866741c"
      },
      "execution_count": null,
      "outputs": [
        {
          "output_type": "execute_result",
          "data": {
            "text/plain": [
              "np.float64(-0.25910451810923063)"
            ]
          },
          "metadata": {},
          "execution_count": 89
        }
      ]
    },
    {
      "cell_type": "code",
      "source": [
        "q1rs=df['reading score'].quantile(0.25)      # to find Q1, Q3, IQR, LowerBound, UpperBound\n",
        "q3rs=df['reading score'].quantile(0.75)\n",
        "IQR_rs=q3rs-q1rs\n",
        "lower_boundrs=q1rs-1.5*IQR_rs\n",
        "upper_boundrs=q3rs+1.5*IQR_rs\n",
        "\n",
        "print(f\"\"\"Q1:{q1rs}\n",
        "Q3:{q3rs}\n",
        "IQR:{IQR_rs}\n",
        "Lowerbound:{lower_boundrs}\n",
        "Upperbound:{upper_boundrs}\"\"\")\n"
      ],
      "metadata": {
        "colab": {
          "base_uri": "https://localhost:8080/"
        },
        "id": "_O8g0udMOIr7",
        "outputId": "47a459b7-6d4d-4e97-8838-07c19bcfc2aa"
      },
      "execution_count": null,
      "outputs": [
        {
          "output_type": "stream",
          "name": "stdout",
          "text": [
            "Q1:59.0\n",
            "Q3:79.0\n",
            "IQR:20.0\n",
            "Lowerbound:29.0\n",
            "Upperbound:109.0\n"
          ]
        }
      ]
    },
    {
      "cell_type": "code",
      "source": [
        "df['reading score'].shape"
      ],
      "metadata": {
        "colab": {
          "base_uri": "https://localhost:8080/"
        },
        "id": "C5pKpeBJOIy-",
        "outputId": "67f6e6fe-76b8-46e2-d203-1023854c72b6"
      },
      "execution_count": null,
      "outputs": [
        {
          "output_type": "execute_result",
          "data": {
            "text/plain": [
              "(1000,)"
            ]
          },
          "metadata": {},
          "execution_count": 91
        }
      ]
    },
    {
      "cell_type": "code",
      "source": [
        "newdfrs=df[(df['reading score']>lower_boundrs) & (df['reading score']<upper_boundrs)]        # outlier removal\n",
        "newdfrs.shape"
      ],
      "metadata": {
        "colab": {
          "base_uri": "https://localhost:8080/"
        },
        "id": "OmOj60EIOJEu",
        "outputId": "0c504375-dc1b-4c62-e063-e4a8118ce3ff"
      },
      "execution_count": null,
      "outputs": [
        {
          "output_type": "execute_result",
          "data": {
            "text/plain": [
              "(992, 8)"
            ]
          },
          "metadata": {},
          "execution_count": 104
        }
      ]
    },
    {
      "cell_type": "code",
      "source": [
        "1000-992"
      ],
      "metadata": {
        "colab": {
          "base_uri": "https://localhost:8080/"
        },
        "id": "5XwkbiD5OJS0",
        "outputId": "a7f5127f-8daf-45e7-cc13-4cd74f41327b"
      },
      "execution_count": null,
      "outputs": [
        {
          "output_type": "execute_result",
          "data": {
            "text/plain": [
              "8"
            ]
          },
          "metadata": {},
          "execution_count": 105
        }
      ]
    },
    {
      "cell_type": "code",
      "source": [
        "new_rssscore=newdfrs['reading score'].skew()         # after oulier removal skewness score\n",
        "new_rssscore"
      ],
      "metadata": {
        "colab": {
          "base_uri": "https://localhost:8080/"
        },
        "id": "Bmei1iZDYddd",
        "outputId": "f4ba29ef-4f78-40ff-d904-cb35809a6352"
      },
      "execution_count": null,
      "outputs": [
        {
          "output_type": "execute_result",
          "data": {
            "text/plain": [
              "np.float64(-0.11177771461583842)"
            ]
          },
          "metadata": {},
          "execution_count": 106
        }
      ]
    },
    {
      "cell_type": "code",
      "source": [
        "sns.boxplot(x=newdfrs['reading score'])          # after outlier removal"
      ],
      "metadata": {
        "colab": {
          "base_uri": "https://localhost:8080/",
          "height": 466
        },
        "id": "ioXLETEfREKV",
        "outputId": "b6e19e5f-8a98-46ea-e074-8bad108d8aa0"
      },
      "execution_count": null,
      "outputs": [
        {
          "output_type": "execute_result",
          "data": {
            "text/plain": [
              "<Axes: xlabel='reading score'>"
            ]
          },
          "metadata": {},
          "execution_count": 107
        },
        {
          "output_type": "display_data",
          "data": {
            "text/plain": [
              "<Figure size 640x480 with 1 Axes>"
            ],
            "image/png": "[encoded data removed]"
          },
          "metadata": {}
        }
      ]
    },
    {
      "cell_type": "code",
      "source": [
        "figrs=ff.create_distplot([newdfrs['reading score']],['readingscore data'],show_hist=False)    #   after outlier removal Skewness graph\n",
        "figrs.show()"
      ],
      "metadata": {
        "colab": {
          "base_uri": "https://localhost:8080/",
          "height": 542
        },
        "id": "AiNtwxaqREgr",
        "outputId": "cc8f9641-29ec-4116-f92a-4bdd7a42230a"
      },
      "execution_count": null,
      "outputs": [
        {
          "output_type": "display_data",
          "data": {
            "text/html": [
              "<html>\n",
              "<head><meta charset=\"utf-8\" /></head>\n",
              "<body>\n",
              "    <div>            <script src=\"https://cdnjs.cloudflare.com/ajax/libs/mathjax/2.7.5/MathJax.js?config=TeX-AMS-MML_SVG\"></script><script type=\"text/javascript\">if (window.MathJax && window.MathJax.Hub && window.MathJax.Hub.Config) {window.MathJax.Hub.Config({SVG: {font: \"STIX-Web\"}});}</script>                <script type=\"text/javascript\">window.PlotlyConfig = {MathJaxConfig: 'local'};</script>\n",
              "        <script charset=\"utf-8\" src=\"https://cdn.plot.ly/plotly-2.35.2.min.js\"></script>                <div id=\"296b5442-b984-4e4c-a96c-ce862dd25f65\" class=\"plotly-graph-div\" style=\"height:525px; width:100%;\"></div>            <script type=\"text/javascript\">                                    window.PLOTLYENV=window.PLOTLYENV || {};                                    if (document.getElementById(\"296b5442-b984-4e4c-a96c-ce862dd25f65\")) {                    Plotly.newPlot(                        \"296b5442-b984-4e4c-a96c-ce862dd25f65\",                        [{\"legendgroup\":\"readingscore data\",\"marker\":{\"color\":\"rgb(31, 119, 180)\"},\"mode\":\"lines\",\"name\":\"readingscore data\",\"showlegend\":true,\"x\":[31.0,31.138,31.276,31.414,31.552,31.69,31.828,31.966,32.104,32.242,32.38,32.518,32.656,32.794,32.932,33.07,33.208,33.346000000000004,33.484,33.622,33.76,33.898,34.036,34.174,34.312,34.45,34.588,34.726,34.864,35.002,35.14,35.278,35.416,35.554,35.692,35.83,35.968,36.106,36.244,36.382,36.519999999999996,36.658,36.796,36.934,37.072,37.21,37.348,37.486,37.624,37.762,37.9,38.038,38.176,38.314,38.452,38.59,38.728,38.866,39.004,39.141999999999996,39.28,39.418,39.556,39.694,39.832,39.97,40.108000000000004,40.246,40.384,40.522,40.66,40.798,40.936,41.074,41.212,41.35,41.488,41.626,41.763999999999996,41.902,42.04,42.178,42.316,42.454,42.592,42.730000000000004,42.868,43.006,43.144,43.282,43.42,43.558,43.696,43.834,43.972,44.11,44.248,44.385999999999996,44.524,44.662,44.8,44.938,45.076,45.214,45.352000000000004,45.49,45.628,45.766,45.903999999999996,46.042,46.18,46.318,46.456,46.594,46.732,46.87,47.007999999999996,47.146,47.284,47.422,47.56,47.698,47.836,47.974000000000004,48.111999999999995,48.25,48.388000000000005,48.525999999999996,48.664,48.802,48.94,49.078,49.216,49.354,49.492000000000004,49.629999999999995,49.768,49.906,50.044,50.182,50.32,50.458,50.596000000000004,50.734,50.872,51.010000000000005,51.147999999999996,51.286,51.424,51.562,51.7,51.838,51.976,52.114000000000004,52.251999999999995,52.39,52.528,52.666,52.804,52.942,53.08,53.218,53.356,53.494,53.632000000000005,53.769999999999996,53.908,54.046,54.184,54.322,54.46,54.598,54.736000000000004,54.873999999999995,55.012,55.15,55.288,55.426,55.564,55.702,55.84,55.978,56.116,56.254000000000005,56.391999999999996,56.53,56.668,56.806,56.944,57.082,57.22,57.358000000000004,57.495999999999995,57.634,57.772,57.91,58.048,58.186,58.324,58.462,58.6,58.738,58.876000000000005,59.013999999999996,59.152,59.29,59.428,59.566,59.704,59.842,59.980000000000004,60.117999999999995,60.256,60.394,60.532,60.67,60.808,60.946,61.084,61.222,61.36,61.498000000000005,61.635999999999996,61.774,61.912,62.05,62.188,62.326,62.464,62.602000000000004,62.739999999999995,62.878,63.016,63.154,63.292,63.43,63.568,63.706,63.844,63.982,64.12,64.25800000000001,64.396,64.53399999999999,64.672,64.81,64.94800000000001,65.086,65.22399999999999,65.362,65.5,65.638,65.77600000000001,65.914,66.05199999999999,66.19,66.328,66.46600000000001,66.604,66.74199999999999,66.88,67.018,67.156,67.294,67.432,67.57,67.708,67.846,67.98400000000001,68.122,68.25999999999999,68.398,68.536,68.674,68.812,68.95,69.088,69.226,69.364,69.50200000000001,69.64,69.77799999999999,69.916,70.054,70.19200000000001,70.33,70.468,70.606,70.744,70.882,71.02000000000001,71.158,71.29599999999999,71.434,71.572,71.71000000000001,71.848,71.98599999999999,72.124,72.262,72.4,72.538,72.676,72.814,72.952,73.09,73.22800000000001,73.366,73.50399999999999,73.642,73.78,73.918,74.056,74.194,74.332,74.47,74.608,74.74600000000001,74.884,75.02199999999999,75.16,75.298,75.436,75.574,75.712,75.85,75.988,76.126,76.26400000000001,76.402,76.53999999999999,76.678,76.816,76.95400000000001,77.092,77.22999999999999,77.368,77.506,77.644,77.782,77.92,78.05799999999999,78.196,78.334,78.47200000000001,78.61,78.74799999999999,78.886,79.024,79.162,79.3,79.438,79.576,79.714,79.852,79.99000000000001,80.128,80.26599999999999,80.404,80.542,80.68,80.818,80.956,81.094,81.232,81.37,81.50800000000001,81.646,81.78399999999999,81.922,82.06,82.19800000000001,82.336,82.47399999999999,82.612,82.75,82.888,83.02600000000001,83.164,83.30199999999999,83.44,83.578,83.71600000000001,83.854,83.99199999999999,84.13,84.268,84.406,84.544,84.682,84.82,84.958,85.096,85.23400000000001,85.372,85.50999999999999,85.648,85.786,85.924,86.062,86.2,86.338,86.476,86.614,86.75200000000001,86.89,87.02799999999999,87.166,87.304,87.44200000000001,87.58,87.718,87.856,87.994,88.132,88.27000000000001,88.408,88.54599999999999,88.684,88.822,88.96000000000001,89.098,89.23599999999999,89.374,89.512,89.65,89.788,89.926,90.064,90.202,90.34,90.47800000000001,90.616,90.75399999999999,90.892,91.03,91.168,91.306,91.444,91.582,91.72,91.858,91.99600000000001,92.134,92.27199999999999,92.41,92.548,92.686,92.824,92.962,93.1,93.238,93.376,93.51400000000001,93.652,93.78999999999999,93.928,94.066,94.20400000000001,94.342,94.47999999999999,94.618,94.756,94.894,95.032,95.17,95.308,95.446,95.584,95.722,95.86,95.998,96.136,96.274,96.412,96.55,96.688,96.826,96.964,97.102,97.24,97.378,97.516,97.654,97.792,97.93,98.068,98.206,98.344,98.482,98.62,98.758,98.896,99.034,99.172,99.31,99.448,99.586,99.724,99.862],\"xaxis\":\"x\",\"y\":[0.0008482473564547144,0.0008758291464091136,0.0009038170613187624,0.0009322187212608922,0.0009610437798863587,0.0009903039697351124,0.0010200131294146573,0.0010501872117493671,0.0010808442721674258,0.0011120044367622832,0.0011436898496447463,0.001175924599388915,0.0012087346245676955,0.001242147598569704,0.0012761927940872324,0.0013109009278619028,0.0013463039864692477,0.0013824350341131262,0.0014193280035841472,0.0014570174717107025,0.0014955384207955035,0.0015349259876828798,0.001575215202240804,0.0016164407171658922,0.001658636531128023,0.0017018357073626158,0.0017460700898932475,0.001791370019623213,0.0018377640525733012,0.0018852786825625078,0.0019339380706305523,0.001983763783485051,0.0020347745432221123,0.002086985990519549,0.0021404104634345647,0.0021950567938564085,0.0022509301235675012,0.0023080317417568186,0.0023663589457061404,0.0024259049262355704,0.0024866586793490884,0.0025486049453659365,0.0026117241766593613,0.0026759925349518314,0.002741381918936488,0.002807860022808097,0.0028753904260947144,0.002943932714984263,0.0030134426351379057,0.0030838722757768125,0.0031551702846192454,0.0032272821130338355,0.0033001502905605244,0.0033737147277362765,0.003447913045946886,0.003522680932812223,0.003597952521397776,0.003673660791336832,0.003749737989739467,0.0038261160695652243,0.0039027271429416138,0.003979503946726864,0.004056380317440661,0.004133291672525534,0.004210175494755186,0.004286971816476978,0.004363623700264759,0.004440077712470001,0.0045162843860934564,0.004592198669359603,0.004667780356363807,0.004742994496178907,0.004817811776855237,0.004892208880827707,0.004966168808355818,0.005039681165768336,0.005112742415463815,0.005185356084831394,0.005257532931501226,0.0053292910626130535,0.005400656006096854,0.005471660732297244,0.005542345624633403,0.00561275839837094,0.005682953966985769,0.005752994256019198,0.005822947964755295,0.005892890276489325,0.005962902518599906,0.0060330717740762355,0.006103490446587333,0.006174255781603685,0.006245469346489296,0.006317236472870478,0.006389665664950683,0.006462867977776304,0.006536956369759472,0.006612045034030822,0.006688248713422533,0.00676568200406625,0.006844458652732743,0.006924690853135333,0.007006488546467384,0.007089958731445389,0.0071752047890828,0.0072623258273247235,0.007351416050533232,0.007442564158627254,0.007535852780451521,0.007631357945677795,0.00772914859923452,0.007829286161913425,0.007931824140428477,0.008036807789793536,0.008144273830457212,0.008254250222181703,0.00836675599618355,0.008481801146575686,0.008599386581659724,0.008719504135127433,0.008842136636736572,0.008967258041540874,0.009094833616275675,0.009224820181036006,0.009357166403936967,0.00949181314601956,0.00962869385326363,0.009767734992196277,0.009908856525241962,0.010051972421652943,0.010196991199588645,0.010343816494682023,0.010492347650242127,0.010642480324096145,0.010794107106977525,0.010947118147309316,0.011101401777229462,0.011256845134743298,0.011413334776980262,0.011570757279664534,0.011728999818094192,0.011887950725147912,0.01204750002210926,0.012207539918406287,0.012367965276714108,0.012528674040248019,0.012689567619487136,0.012850551236008149,0.013011534221569799,0.013172430271064798,0.013333157648448016,0.013493639345244156,0.013653803191736502,0.013813581921429804,0.013972913189861332,0.0141317395492999,0.014290008381314731,0.014447671789610006,0.014604686455904086,0.01476101346197324,0.0149166180812851,0.015071469543897445,0.0152255407785049,0.01537880813567001,0.015531251096369304,0.015682851970030578,0.01583359558622188,0.015983468984082358,0.01613246110346154,0.016280562481555075,0.016427764958598004,0.016574061395903915,0.01671944540922078,0.016863911120024562,0.017007452926985807,0.01715006529943639,0.01729174259423705,0.01743247889700591,0.017572267888225343,0.01771110273430385,0.017848976003237597,0.017985879604102407,0.018121804749216982,0.0182567419374553,0.018390680956863845,0.018523610904454434,0.01865552022080488,0.018786396736913857,0.01891622773061876,0.019044999989806202,0.01917269987962111,0.01929931341091039,0.019424826307226885,0.01954922406786035,0.01967249202455571,0.019794615389819067,0.019915579294999226,0.020035368816653718,0.020153968990066964,0.02027136480916977,0.02038754121251534,0.02050248305537939,0.02061617506847638,0.02072860180420184,0.02083974757171911,0.02094959636260131,0.021058131769108375,0.02116533689751047,0.021271194279171828,0.021375685782357046,0.021478792527931674,0.02158049481227213,0.02168077204079943,0.02177960267557411,0.021876964200363086,0.02197283310648907,0.022067184902612235,0.02215999415136776,0.022251234535493387,0.02234087895573438,0.022428899662405646,0.022515268422035013,0.02259995672000786,0.02268293599958604,0.022764177937095814,0.022843654752474116,0.022921339553733034,0.022997206713272225,0.023071232273326046,0.023143394377204,0.02321367372236985,0.023282054030814153,0.023348522531625723,0.023413070450154276,0.023475693497706392,0.023536392355316193,0.023595173144815313,0.023652047880170043,0.023707034891896697,0.02376015921728502,0.023811452949176134,0.02386095553616209,0.023908714027280707,0.023954783254597548,0.023999225947484035,0.024042112772909924,0.024083522296685998,0.02412354086129019,0.024162262376704713,0.024199788021558172,0.024236225852811603,0.02427169032322528,0.0243063017069016,0.024340185434290083,0.024373471339159233,0.024406292821175134,0.02443878592885285,0.024471088368763404,0.024503338447962323,0.024535673957636617,0.02456823100694916,0.02460114281694798,0.024634538485225864,0.024668541732711057,0.02470326964456292,0.024738831417612378,0.024775327127105246,0.024812846525696222,0.024851467887675605,0.024891256911283365,0.024932265691701108,0.024974531776868297,0.025018077317699308,0.025062908323532362,0.02510901403277645,0.025156366407708197,0.02520491976124443,0.025254610522274203,0.02530535714479539,0.025357060164693745,0.025409602406511283,0.025462849341041,0.025516649593025496,0.025570835596687873,0.025625224395282118,0.025679618579335376,0.025733807356803865,0.025787567746973435,0.025840665888638908,0.025892858451896573,0.025943894141813778,0.025993515281289025,0.02604145945961338,0.02608746123259719,0.026131253859627005,0.026172571062694612,0.026211148792269365,0.026246726984891937,0.0262790512975292,0.026307874804051508,0.026332959639673536,0.026354078579813627,0.026371016540582038,0.02638357198898025,0.026391558251877417,0.026394804713902105,0.026393157895546585,0.02638648240399481,0.026374661750450758,0.026357599029037393,0.02633521745365168,0.02630746075045799,0.026274293405009634,0.02623570076423847,0.026191688994779676,0.026142284900263966,0.02608753560130365,0.0260275080829339,0.025962288615206157,0.02589198205349323,0.02581671102582663,0.02573661501525631,0.025651849345795875,0.025562584080991838,0.025469002844532775,0.02537130157260572,0.025269687207897452,0.025164376345254407,0.02505559383904262,0.02494357138220318,0.02482854606688661,0.02471075893637218,0.024590453537742536,0.024467874484503868,0.02434326603801041,0.02421687071618929,0.024088927937662773,0.023959672708937806,0.023829334361887458,0.02369813534827939,0.023566290097625966,0.023434003944135976,0.023301472128044228,0.023168878876082644,0.023036396565341094,0.0229041849742393,0.022772390623804487,0.02264114621191889,0.02251057014266116,0.022380766152329278,0.022251823033184525,0.02212381445541419,0.021996798887254133,0.021870819612663784,0.02174590484539168,0.021622067937711296,0.021499307681559374,0.021377608699255264,0.021256941920439306,0.021137265141332427,0.021018523661899123,0.02090065099599026,0.020783569649059645,0.020667191957586224,0.02055142098390791,0.02043615145977792,0.02032127077160016,0.02020665997999098,0.020092194866055152,0.019977746996561026,0.019863184800049775,0.019748374645833587,0.019633181917818633,0.019517472075141217,0.019401111691723857,0.01928396946705872,0.019165917200785032,0.019046830723970204,0.018926590780409886,0.018805083851740755,0.018682202920695168,0.01855784816743293,0.018431927594532858,0.018304357576932193,0.018175063333842178,0.01804397932044264,0.01791104953795679,0.01777622776151969,0.01763947768607231,0.017500772991323535,0.017360097327623846,0.017217444225361814,0.017072816931237078,0.01692622817545248,0.016777699874509305,0.01662726277486732,0.016474956043237895,0.016320826809712273,0.016164929670275555,0.016007326155521445,0.015848084172558296,0.015687277427179847,0.0155249848333635,0.015361289917063268,0.015196280221073083,0.015030046717463079,0.014862683233737935,0.014694285898436563,0.01452495261139676,0.014354782543350389,0.014183875668913016,0.014012332336377796,0.013840252877052104,0.0136677372561717,0.013494884766722677,0.013321793766791948,0.013148561460373027,0.01297528372088024,0.012802054955979195,0.012628968011742757,0.01245611411358433,0.012283582840921833,0.01211146213209045,0.011939838315648847,0.011768796163923703,0.01159841896441166,0.011428788604502332,0.011259985664908387,0.011092089517185339,0.010925178420787893,0.010759329615247629,0.010594619403254846,0.010431123220687935,0.010268915689946303,0.010108070653306102,0.009948661183418491,0.00979075956851023,0.009634437270308488,0.009479764853198631,0.009326811883621392,0.009175646799218777,0.009026336747744064,0.00887894739624651,0.008733542711527455,0.008590184713330328,0.008448933202171629,0.008309845464137156,0.008172975955354047,0.00803837596920143,0.007906093289639125,0.0077761718343116425,0.007648651291320024,0.007523566753752714,0.007400948356217154,0.007280820917726407,0.007163203595360956,0.007048109553151113,0.006935545650606135,0.006825512155254588,0.006718002483458149,0.006613002973614035,0.006510492695677678,0.006410443300708958,0.006312818913882239,0.006217576074095885,0.006124663722978018,0.006034023245709738,0.005945588565678034,0.005859286294531053,0.005775035938738221,0.005692750163262318,0.005612335112430934,0.005533690787556586,0.005456711480299878,0.005381286260204894,0.005307299514264712,0.005234631535803357,0.0051631591593943255,0.005092756437981107,0.0050232953578300725,0.004954646586434713,0.004886680248012989,0.004819266720800419,0.004752277449949318,0.004685585769505492,0.004619067726654483,0.004552602901214455,0.004486075213210348,0.004419373711295199,0.004352393334795338,0.004285035642249159,0.004217209499484212,0.00414883172053715,0.004079827655063168,0.004010131716304609,0.003939687844189073,0.0038684498987006195,0.0037963819793080675,0.0037234586669350855,0.003649665185708959],\"yaxis\":\"y\",\"type\":\"scatter\"},{\"legendgroup\":\"readingscore data\",\"marker\":{\"color\":\"rgb(31, 119, 180)\",\"symbol\":\"line-ns-open\"},\"mode\":\"markers\",\"name\":\"readingscore data\",\"showlegend\":false,\"x\":[72,90,95,57,78,83,95,43,64,60,54,52,81,72,53,75,89,32,42,58,69,75,54,73,71,74,54,69,70,70,74,65,72,42,87,81,81,64,90,56,61,73,58,65,56,54,65,71,74,84,55,69,44,78,84,41,85,55,59,74,39,61,80,58,64,37,72,58,64,63,55,51,57,49,41,78,74,68,49,45,47,64,39,80,83,71,70,86,72,34,79,45,86,81,66,72,67,67,67,74,91,44,86,67,100,63,76,64,89,55,53,58,100,77,85,82,63,69,92,89,93,57,80,95,68,77,82,49,84,37,74,81,79,55,54,55,66,61,72,62,55,43,73,39,84,68,75,100,67,67,70,49,67,89,74,60,86,62,78,88,53,53,92,100,51,76,83,75,73,88,86,67,51,91,54,77,70,100,68,64,50,69,52,67,76,66,52,88,65,83,64,62,84,55,69,56,53,79,84,81,77,69,41,71,62,80,81,61,79,62,51,91,83,86,42,77,56,68,85,65,80,66,56,72,50,72,95,64,43,86,87,82,75,66,60,52,80,68,83,52,51,74,76,76,70,64,60,49,83,70,80,52,73,73,77,75,81,79,79,50,93,73,42,75,72,92,76,63,49,53,70,85,78,92,63,86,56,52,48,79,78,46,82,82,89,75,76,70,73,60,73,77,62,41,74,46,87,78,54,84,76,75,67,87,52,71,57,76,60,61,67,64,66,82,72,71,65,79,86,81,53,46,90,61,75,55,60,37,56,78,93,68,70,51,38,55,61,73,76,72,73,80,61,94,74,74,65,57,78,58,71,72,61,66,62,90,62,84,58,34,60,58,58,66,64,84,77,73,74,97,70,43,90,95,83,64,86,100,81,49,43,76,73,78,64,70,67,68,67,54,74,45,67,89,63,59,54,43,65,99,59,73,65,80,57,84,71,83,66,67,72,73,74,73,59,56,93,58,58,85,39,67,83,71,59,63,66,72,56,59,66,48,68,66,56,88,81,81,73,83,82,74,66,81,46,73,85,92,77,58,61,56,89,54,100,65,58,54,70,90,58,87,31,67,88,74,85,69,86,67,90,76,62,68,64,71,71,59,68,52,52,74,47,75,53,82,85,64,83,88,64,64,48,78,69,71,79,87,61,89,59,82,70,59,78,92,71,50,49,61,97,87,89,74,78,78,49,86,58,59,52,60,61,53,41,74,67,54,61,88,69,83,60,66,66,92,69,82,77,95,63,83,100,67,67,72,76,90,48,62,45,39,72,67,70,66,75,74,90,80,51,43,100,71,48,68,75,96,62,66,81,55,51,91,56,61,97,79,73,75,77,76,73,63,64,66,57,62,68,76,100,79,54,77,82,60,78,57,89,72,84,58,64,63,60,59,90,77,93,68,45,78,81,73,61,63,51,96,58,97,70,48,57,51,64,60,74,88,84,74,80,92,76,74,52,88,81,79,65,81,70,62,53,79,56,80,86,70,79,67,67,66,60,87,77,66,71,69,63,60,73,85,74,72,76,57,78,84,77,64,78,82,75,61,72,68,55,40,66,99,75,78,58,90,53,76,74,77,63,89,82,72,78,66,81,67,84,64,63,72,34,59,87,61,84,85,100,81,70,94,78,96,76,73,72,59,90,48,43,74,75,51,92,39,77,46,89,47,58,57,79,66,71,60,73,57,84,73,55,79,75,64,60,84,69,72,77,90,55,95,58,68,59,77,72,58,81,62,63,72,75,62,71,60,48,73,67,78,65,58,72,44,79,85,56,90,85,59,81,51,79,38,65,65,62,66,74,84,52,68,70,84,60,55,73,80,94,85,76,81,74,45,75,54,31,47,64,84,80,86,59,70,72,91,90,90,52,87,58,67,68,69,86,54,60,86,60,82,50,64,64,82,57,77,52,58,44,77,65,85,85,54,72,75,67,68,85,67,64,97,68,79,49,73,62,86,42,71,93,82,53,42,74,51,58,72,84,90,62,64,82,61,72,76,64,70,73,46,51,76,100,72,65,51,85,92,67,74,62,34,78,54,78,84,78,48,100,84,77,48,84,75,64,42,84,61,62,61,70,100,61,77,96,70,53,66,65,70,64,56,61,43,56,74,57,71,75,87,63,57,58,81,68,66,91,66,62,68,61,82,58,50,75,73,77,74,52,69,57,87,100,63,81,58,54,100,76,57,70,68,63,76,84,100,72,50,65,63,82,62,65,41,95,78,85,87,75,51,59,75,45,86,81,82,76,72,63,99,55,71,78,86],\"xaxis\":\"x\",\"y\":[\"readingscore data\",\"readingscore data\",\"readingscore data\",\"readingscore data\",\"readingscore data\",\"readingscore data\",\"readingscore data\",\"readingscore data\",\"readingscore data\",\"readingscore data\",\"readingscore data\",\"readingscore data\",\"readingscore data\",\"readingscore data\",\"readingscore data\",\"readingscore data\",\"readingscore data\",\"readingscore data\",\"readingscore data\",\"readingscore data\",\"readingscore data\",\"readingscore data\",\"readingscore data\",\"readingscore data\",\"readingscore data\",\"readingscore data\",\"readingscore data\",\"readingscore data\",\"readingscore data\",\"readingscore data\",\"readingscore data\",\"readingscore data\",\"readingscore data\",\"readingscore data\",\"readingscore data\",\"readingscore data\",\"readingscore data\",\"readingscore data\",\"readingscore data\",\"readingscore data\",\"readingscore data\",\"readingscore data\",\"readingscore data\",\"readingscore data\",\"readingscore data\",\"readingscore data\",\"readingscore data\",\"readingscore data\",\"readingscore data\",\"readingscore data\",\"readingscore data\",\"readingscore data\",\"readingscore data\",\"readingscore data\",\"readingscore data\",\"readingscore data\",\"readingscore data\",\"readingscore data\",\"readingscore data\",\"readingscore data\",\"readingscore data\",\"readingscore data\",\"readingscore data\",\"readingscore data\",\"readingscore data\",\"readingscore data\",\"readingscore data\",\"readingscore data\",\"readingscore data\",\"readingscore data\",\"readingscore data\",\"readingscore data\",\"readingscore data\",\"readingscore data\",\"readingscore data\",\"readingscore data\",\"readingscore data\",\"readingscore data\",\"readingscore data\",\"readingscore data\",\"readingscore data\",\"readingscore data\",\"readingscore data\",\"readingscore data\",\"readingscore data\",\"readingscore data\",\"readingscore data\",\"readingscore data\",\"readingscore data\",\"readingscore data\",\"readingscore data\",\"readingscore data\",\"readingscore data\",\"readingscore data\",\"readingscore data\",\"readingscore data\",\"readingscore data\",\"readingscore data\",\"readingscore data\",\"readingscore data\",\"readingscore data\",\"readingscore data\",\"readingscore data\",\"readingscore data\",\"readingscore data\",\"readingscore data\",\"readingscore data\",\"readingscore data\",\"readingscore data\",\"readingscore data\",\"readingscore data\",\"readingscore data\",\"readingscore data\",\"readingscore data\",\"readingscore data\",\"readingscore data\",\"readingscore data\",\"readingscore data\",\"readingscore data\",\"readingscore data\",\"readingscore data\",\"readingscore data\",\"readingscore data\",\"readingscore data\",\"readingscore data\",\"readingscore data\",\"readingscore data\",\"readingscore data\",\"readingscore data\",\"readingscore data\",\"readingscore data\",\"readingscore data\",\"readingscore data\",\"readingscore data\",\"readingscore data\",\"readingscore data\",\"readingscore data\",\"readingscore data\",\"readingscore data\",\"readingscore data\",\"readingscore data\",\"readingscore data\",\"readingscore data\",\"readingscore data\",\"readingscore data\",\"readingscore data\",\"readingscore data\",\"readingscore data\",\"readingscore data\",\"readingscore data\",\"readingscore data\",\"readingscore data\",\"readingscore data\",\"readingscore data\",\"readingscore data\",\"readingscore data\",\"readingscore data\",\"readingscore data\",\"readingscore data\",\"readingscore data\",\"readingscore data\",\"readingscore data\",\"readingscore data\",\"readingscore data\",\"readingscore data\",\"readingscore data\",\"readingscore data\",\"readingscore data\",\"readingscore data\",\"readingscore data\",\"readingscore data\",\"readingscore data\",\"readingscore data\",\"readingscore data\",\"readingscore data\",\"readingscore data\",\"readingscore data\",\"readingscore data\",\"readingscore data\",\"readingscore data\",\"readingscore data\",\"readingscore data\",\"readingscore data\",\"readingscore data\",\"readingscore data\",\"readingscore data\",\"readingscore data\",\"readingscore data\",\"readingscore data\",\"readingscore data\",\"readingscore data\",\"readingscore data\",\"readingscore data\",\"readingscore data\",\"readingscore data\",\"readingscore data\",\"readingscore data\",\"readingscore data\",\"readingscore data\",\"readingscore data\",\"readingscore data\",\"readingscore data\",\"readingscore data\",\"readingscore data\",\"readingscore data\",\"readingscore data\",\"readingscore data\",\"readingscore data\",\"readingscore data\",\"readingscore data\",\"readingscore data\",\"readingscore data\",\"readingscore data\",\"readingscore data\",\"readingscore data\",\"readingscore data\",\"readingscore data\",\"readingscore data\",\"readingscore data\",\"readingscore data\",\"readingscore data\",\"readingscore data\",\"readingscore data\",\"readingscore data\",\"readingscore data\",\"readingscore data\",\"readingscore data\",\"readingscore data\",\"readingscore data\",\"readingscore data\",\"readingscore data\",\"readingscore data\",\"readingscore data\",\"readingscore data\",\"readingscore data\",\"readingscore data\",\"readingscore data\",\"readingscore data\",\"readingscore data\",\"readingscore data\",\"readingscore data\",\"readingscore data\",\"readingscore data\",\"readingscore data\",\"readingscore data\",\"readingscore data\",\"readingscore data\",\"readingscore data\",\"readingscore data\",\"readingscore data\",\"readingscore data\",\"readingscore data\",\"readingscore data\",\"readingscore data\",\"readingscore data\",\"readingscore data\",\"readingscore data\",\"readingscore data\",\"readingscore data\",\"readingscore data\",\"readingscore data\",\"readingscore data\",\"readingscore data\",\"readingscore data\",\"readingscore data\",\"readingscore data\",\"readingscore data\",\"readingscore data\",\"readingscore data\",\"readingscore data\",\"readingscore data\",\"readingscore data\",\"readingscore data\",\"readingscore data\",\"readingscore data\",\"readingscore data\",\"readingscore data\",\"readingscore data\",\"readingscore data\",\"readingscore data\",\"readingscore data\",\"readingscore data\",\"readingscore data\",\"readingscore data\",\"readingscore data\",\"readingscore data\",\"readingscore data\",\"readingscore data\",\"readingscore data\",\"readingscore data\",\"readingscore data\",\"readingscore data\",\"readingscore data\",\"readingscore data\",\"readingscore data\",\"readingscore data\",\"readingscore data\",\"readingscore data\",\"readingscore data\",\"readingscore data\",\"readingscore data\",\"readingscore data\",\"readingscore data\",\"readingscore data\",\"readingscore data\",\"readingscore data\",\"readingscore data\",\"readingscore data\",\"readingscore data\",\"readingscore data\",\"readingscore data\",\"readingscore data\",\"readingscore data\",\"readingscore data\",\"readingscore data\",\"readingscore data\",\"readingscore data\",\"readingscore data\",\"readingscore data\",\"readingscore data\",\"readingscore data\",\"readingscore data\",\"readingscore data\",\"readingscore data\",\"readingscore data\",\"readingscore data\",\"readingscore data\",\"readingscore data\",\"readingscore data\",\"readingscore data\",\"readingscore data\",\"readingscore data\",\"readingscore data\",\"readingscore data\",\"readingscore data\",\"readingscore data\",\"readingscore data\",\"readingscore data\",\"readingscore data\",\"readingscore data\",\"readingscore data\",\"readingscore data\",\"readingscore data\",\"readingscore data\",\"readingscore data\",\"readingscore data\",\"readingscore data\",\"readingscore data\",\"readingscore data\",\"readingscore data\",\"readingscore data\",\"readingscore data\",\"readingscore data\",\"readingscore data\",\"readingscore data\",\"readingscore data\",\"readingscore data\",\"readingscore data\",\"readingscore data\",\"readingscore data\",\"readingscore data\",\"readingscore data\",\"readingscore data\",\"readingscore data\",\"readingscore data\",\"readingscore data\",\"readingscore data\",\"readingscore data\",\"readingscore data\",\"readingscore data\",\"readingscore data\",\"readingscore data\",\"readingscore data\",\"readingscore data\",\"readingscore data\",\"readingscore data\",\"readingscore data\",\"readingscore data\",\"readingscore data\",\"readingscore data\",\"readingscore data\",\"readingscore data\",\"readingscore data\",\"readingscore data\",\"readingscore data\",\"readingscore data\",\"readingscore data\",\"readingscore data\",\"readingscore data\",\"readingscore data\",\"readingscore data\",\"readingscore data\",\"readingscore data\",\"readingscore data\",\"readingscore data\",\"readingscore data\",\"readingscore data\",\"readingscore data\",\"readingscore data\",\"readingscore data\",\"readingscore data\",\"readingscore data\",\"readingscore data\",\"readingscore data\",\"readingscore data\",\"readingscore data\",\"readingscore data\",\"readingscore data\",\"readingscore data\",\"readingscore data\",\"readingscore data\",\"readingscore data\",\"readingscore data\",\"readingscore data\",\"readingscore data\",\"readingscore data\",\"readingscore data\",\"readingscore data\",\"readingscore data\",\"readingscore data\",\"readingscore data\",\"readingscore data\",\"readingscore data\",\"readingscore data\",\"readingscore data\",\"readingscore data\",\"readingscore data\",\"readingscore data\",\"readingscore data\",\"readingscore data\",\"readingscore data\",\"readingscore data\",\"readingscore data\",\"readingscore data\",\"readingscore data\",\"readingscore data\",\"readingscore data\",\"readingscore data\",\"readingscore data\",\"readingscore data\",\"readingscore data\",\"readingscore data\",\"readingscore data\",\"readingscore data\",\"readingscore data\",\"readingscore data\",\"readingscore data\",\"readingscore data\",\"readingscore data\",\"readingscore data\",\"readingscore data\",\"readingscore data\",\"readingscore data\",\"readingscore data\",\"readingscore data\",\"readingscore data\",\"readingscore data\",\"readingscore data\",\"readingscore data\",\"readingscore data\",\"readingscore data\",\"readingscore data\",\"readingscore data\",\"readingscore data\",\"readingscore data\",\"readingscore data\",\"readingscore data\",\"readingscore data\",\"readingscore data\",\"readingscore data\",\"readingscore data\",\"readingscore data\",\"readingscore data\",\"readingscore data\",\"readingscore data\",\"readingscore data\",\"readingscore data\",\"readingscore data\",\"readingscore data\",\"readingscore data\",\"readingscore data\",\"readingscore data\",\"readingscore data\",\"readingscore data\",\"readingscore data\",\"readingscore data\",\"readingscore data\",\"readingscore data\",\"readingscore data\",\"readingscore data\",\"readingscore data\",\"readingscore data\",\"readingscore data\",\"readingscore data\",\"readingscore data\",\"readingscore data\",\"readingscore data\",\"readingscore data\",\"readingscore data\",\"readingscore data\",\"readingscore data\",\"readingscore data\",\"readingscore data\",\"readingscore data\",\"readingscore data\",\"readingscore data\",\"readingscore data\",\"readingscore data\",\"readingscore data\",\"readingscore data\",\"readingscore data\",\"readingscore data\",\"readingscore data\",\"readingscore data\",\"readingscore data\",\"readingscore data\",\"readingscore data\",\"readingscore data\",\"readingscore data\",\"readingscore data\",\"readingscore data\",\"readingscore data\",\"readingscore data\",\"readingscore data\",\"readingscore data\",\"readingscore data\",\"readingscore data\",\"readingscore data\",\"readingscore data\",\"readingscore data\",\"readingscore data\",\"readingscore data\",\"readingscore data\",\"readingscore data\",\"readingscore data\",\"readingscore data\",\"readingscore data\",\"readingscore data\",\"readingscore data\",\"readingscore data\",\"readingscore data\",\"readingscore data\",\"readingscore data\",\"readingscore data\",\"readingscore data\",\"readingscore data\",\"readingscore data\",\"readingscore data\",\"readingscore data\",\"readingscore data\",\"readingscore data\",\"readingscore data\",\"readingscore data\",\"readingscore data\",\"readingscore data\",\"readingscore data\",\"readingscore data\",\"readingscore data\",\"readingscore data\",\"readingscore data\",\"readingscore data\",\"readingscore data\",\"readingscore data\",\"readingscore data\",\"readingscore data\",\"readingscore data\",\"readingscore data\",\"readingscore data\",\"readingscore data\",\"readingscore data\",\"readingscore data\",\"readingscore data\",\"readingscore data\",\"readingscore data\",\"readingscore data\",\"readingscore data\",\"readingscore data\",\"readingscore data\",\"readingscore data\",\"readingscore data\",\"readingscore data\",\"readingscore data\",\"readingscore data\",\"readingscore data\",\"readingscore data\",\"readingscore data\",\"readingscore data\",\"readingscore data\",\"readingscore data\",\"readingscore data\",\"readingscore data\",\"readingscore data\",\"readingscore data\",\"readingscore data\",\"readingscore data\",\"readingscore data\",\"readingscore data\",\"readingscore data\",\"readingscore data\",\"readingscore data\",\"readingscore data\",\"readingscore data\",\"readingscore data\",\"readingscore data\",\"readingscore data\",\"readingscore data\",\"readingscore data\",\"readingscore data\",\"readingscore data\",\"readingscore data\",\"readingscore data\",\"readingscore data\",\"readingscore data\",\"readingscore data\",\"readingscore data\",\"readingscore data\",\"readingscore data\",\"readingscore data\",\"readingscore data\",\"readingscore data\",\"readingscore data\",\"readingscore data\",\"readingscore data\",\"readingscore data\",\"readingscore data\",\"readingscore data\",\"readingscore data\",\"readingscore data\",\"readingscore data\",\"readingscore data\",\"readingscore data\",\"readingscore data\",\"readingscore data\",\"readingscore data\",\"readingscore data\",\"readingscore data\",\"readingscore data\",\"readingscore data\",\"readingscore data\",\"readingscore data\",\"readingscore data\",\"readingscore data\",\"readingscore data\",\"readingscore data\",\"readingscore data\",\"readingscore data\",\"readingscore data\",\"readingscore data\",\"readingscore data\",\"readingscore data\",\"readingscore data\",\"readingscore data\",\"readingscore data\",\"readingscore data\",\"readingscore data\",\"readingscore data\",\"readingscore data\",\"readingscore data\",\"readingscore data\",\"readingscore data\",\"readingscore data\",\"readingscore data\",\"readingscore data\",\"readingscore data\",\"readingscore data\",\"readingscore data\",\"readingscore data\",\"readingscore data\",\"readingscore data\",\"readingscore data\",\"readingscore data\",\"readingscore data\",\"readingscore data\",\"readingscore data\",\"readingscore data\",\"readingscore data\",\"readingscore data\",\"readingscore data\",\"readingscore data\",\"readingscore data\",\"readingscore data\",\"readingscore data\",\"readingscore data\",\"readingscore data\",\"readingscore data\",\"readingscore data\",\"readingscore data\",\"readingscore data\",\"readingscore data\",\"readingscore data\",\"readingscore data\",\"readingscore data\",\"readingscore data\",\"readingscore data\",\"readingscore data\",\"readingscore data\",\"readingscore data\",\"readingscore data\",\"readingscore data\",\"readingscore data\",\"readingscore data\",\"readingscore data\",\"readingscore data\",\"readingscore data\",\"readingscore data\",\"readingscore data\",\"readingscore data\",\"readingscore data\",\"readingscore data\",\"readingscore data\",\"readingscore data\",\"readingscore data\",\"readingscore data\",\"readingscore data\",\"readingscore data\",\"readingscore data\",\"readingscore data\",\"readingscore data\",\"readingscore data\",\"readingscore data\",\"readingscore data\",\"readingscore data\",\"readingscore data\",\"readingscore data\",\"readingscore data\",\"readingscore data\",\"readingscore data\",\"readingscore data\",\"readingscore data\",\"readingscore data\",\"readingscore data\",\"readingscore data\",\"readingscore data\",\"readingscore data\",\"readingscore data\",\"readingscore data\",\"readingscore data\",\"readingscore data\",\"readingscore data\",\"readingscore data\",\"readingscore data\",\"readingscore data\",\"readingscore data\",\"readingscore data\",\"readingscore data\",\"readingscore data\",\"readingscore data\",\"readingscore data\",\"readingscore data\",\"readingscore data\",\"readingscore data\",\"readingscore data\",\"readingscore data\",\"readingscore data\",\"readingscore data\",\"readingscore data\",\"readingscore data\",\"readingscore data\",\"readingscore data\",\"readingscore data\",\"readingscore data\",\"readingscore data\",\"readingscore data\",\"readingscore data\",\"readingscore data\",\"readingscore data\",\"readingscore data\",\"readingscore data\",\"readingscore data\",\"readingscore data\",\"readingscore data\",\"readingscore data\",\"readingscore data\",\"readingscore data\",\"readingscore data\",\"readingscore data\",\"readingscore data\",\"readingscore data\",\"readingscore data\",\"readingscore data\",\"readingscore data\",\"readingscore data\",\"readingscore data\",\"readingscore data\",\"readingscore data\",\"readingscore data\",\"readingscore data\",\"readingscore data\",\"readingscore data\",\"readingscore data\",\"readingscore data\",\"readingscore data\",\"readingscore data\",\"readingscore data\",\"readingscore data\",\"readingscore data\",\"readingscore data\",\"readingscore data\",\"readingscore data\",\"readingscore data\",\"readingscore data\",\"readingscore data\",\"readingscore data\",\"readingscore data\",\"readingscore data\",\"readingscore data\",\"readingscore data\",\"readingscore data\",\"readingscore data\",\"readingscore data\",\"readingscore data\",\"readingscore data\",\"readingscore data\",\"readingscore data\",\"readingscore data\",\"readingscore data\",\"readingscore data\",\"readingscore data\",\"readingscore data\",\"readingscore data\",\"readingscore data\",\"readingscore data\",\"readingscore data\",\"readingscore data\",\"readingscore data\",\"readingscore data\",\"readingscore data\",\"readingscore data\",\"readingscore data\",\"readingscore data\",\"readingscore data\",\"readingscore data\",\"readingscore data\",\"readingscore data\",\"readingscore data\",\"readingscore data\",\"readingscore data\",\"readingscore data\",\"readingscore data\",\"readingscore data\",\"readingscore data\",\"readingscore data\",\"readingscore data\",\"readingscore data\",\"readingscore data\",\"readingscore data\",\"readingscore data\",\"readingscore data\",\"readingscore data\",\"readingscore data\",\"readingscore data\",\"readingscore data\",\"readingscore data\",\"readingscore data\",\"readingscore data\",\"readingscore data\",\"readingscore data\",\"readingscore data\",\"readingscore data\",\"readingscore data\",\"readingscore data\",\"readingscore data\",\"readingscore data\",\"readingscore data\",\"readingscore data\",\"readingscore data\",\"readingscore data\",\"readingscore data\",\"readingscore data\",\"readingscore data\",\"readingscore data\",\"readingscore data\",\"readingscore data\",\"readingscore data\",\"readingscore data\",\"readingscore data\",\"readingscore data\",\"readingscore data\",\"readingscore data\",\"readingscore data\",\"readingscore data\",\"readingscore data\",\"readingscore data\",\"readingscore data\",\"readingscore data\",\"readingscore data\",\"readingscore data\",\"readingscore data\",\"readingscore data\",\"readingscore data\",\"readingscore data\",\"readingscore data\",\"readingscore data\",\"readingscore data\",\"readingscore data\",\"readingscore data\",\"readingscore data\",\"readingscore data\",\"readingscore data\",\"readingscore data\",\"readingscore data\",\"readingscore data\",\"readingscore data\",\"readingscore data\",\"readingscore data\",\"readingscore data\",\"readingscore data\",\"readingscore data\",\"readingscore data\",\"readingscore data\",\"readingscore data\",\"readingscore data\",\"readingscore data\",\"readingscore data\",\"readingscore data\",\"readingscore data\",\"readingscore data\",\"readingscore data\",\"readingscore data\",\"readingscore data\",\"readingscore data\",\"readingscore data\",\"readingscore data\",\"readingscore data\",\"readingscore data\",\"readingscore data\",\"readingscore data\",\"readingscore data\",\"readingscore data\",\"readingscore data\",\"readingscore data\",\"readingscore data\",\"readingscore data\",\"readingscore data\",\"readingscore data\",\"readingscore data\",\"readingscore data\",\"readingscore data\",\"readingscore data\",\"readingscore data\",\"readingscore data\",\"readingscore data\",\"readingscore data\",\"readingscore data\",\"readingscore data\",\"readingscore data\",\"readingscore data\",\"readingscore data\",\"readingscore data\",\"readingscore data\",\"readingscore data\",\"readingscore data\",\"readingscore data\",\"readingscore data\",\"readingscore data\",\"readingscore data\",\"readingscore data\",\"readingscore data\",\"readingscore data\",\"readingscore data\",\"readingscore data\",\"readingscore data\",\"readingscore data\",\"readingscore data\",\"readingscore data\",\"readingscore data\",\"readingscore data\",\"readingscore data\",\"readingscore data\",\"readingscore data\",\"readingscore data\",\"readingscore data\",\"readingscore data\",\"readingscore data\",\"readingscore data\",\"readingscore data\",\"readingscore data\",\"readingscore data\",\"readingscore data\",\"readingscore data\",\"readingscore data\",\"readingscore data\",\"readingscore data\",\"readingscore data\",\"readingscore data\",\"readingscore data\",\"readingscore data\",\"readingscore data\",\"readingscore data\",\"readingscore data\",\"readingscore data\",\"readingscore data\"],\"yaxis\":\"y2\",\"type\":\"scatter\"}],                        {\"barmode\":\"overlay\",\"hovermode\":\"closest\",\"legend\":{\"traceorder\":\"reversed\"},\"xaxis\":{\"anchor\":\"y2\",\"domain\":[0.0,1.0],\"zeroline\":false},\"yaxis\":{\"anchor\":\"free\",\"domain\":[0.35,1],\"position\":0.0},\"yaxis2\":{\"anchor\":\"x\",\"domain\":[0,0.25],\"dtick\":1,\"showticklabels\":false},\"template\":{\"data\":{\"histogram2dcontour\":[{\"type\":\"histogram2dcontour\",\"colorbar\":{\"outlinewidth\":0,\"ticks\":\"\"},\"colorscale\":[[0.0,\"#0d0887\"],[0.1111111111111111,\"#46039f\"],[0.2222222222222222,\"#7201a8\"],[0.3333333333333333,\"#9c179e\"],[0.4444444444444444,\"#bd3786\"],[0.5555555555555556,\"#d8576b\"],[0.6666666666666666,\"#ed7953\"],[0.7777777777777778,\"#fb9f3a\"],[0.8888888888888888,\"#fdca26\"],[1.0,\"#f0f921\"]]}],\"choropleth\":[{\"type\":\"choropleth\",\"colorbar\":{\"outlinewidth\":0,\"ticks\":\"\"}}],\"histogram2d\":[{\"type\":\"histogram2d\",\"colorbar\":{\"outlinewidth\":0,\"ticks\":\"\"},\"colorscale\":[[0.0,\"#0d0887\"],[0.1111111111111111,\"#46039f\"],[0.2222222222222222,\"#7201a8\"],[0.3333333333333333,\"#9c179e\"],[0.4444444444444444,\"#bd3786\"],[0.5555555555555556,\"#d8576b\"],[0.6666666666666666,\"#ed7953\"],[0.7777777777777778,\"#fb9f3a\"],[0.8888888888888888,\"#fdca26\"],[1.0,\"#f0f921\"]]}],\"heatmap\":[{\"type\":\"heatmap\",\"colorbar\":{\"outlinewidth\":0,\"ticks\":\"\"},\"colorscale\":[[0.0,\"#0d0887\"],[0.1111111111111111,\"#46039f\"],[0.2222222222222222,\"#7201a8\"],[0.3333333333333333,\"#9c179e\"],[0.4444444444444444,\"#bd3786\"],[0.5555555555555556,\"#d8576b\"],[0.6666666666666666,\"#ed7953\"],[0.7777777777777778,\"#fb9f3a\"],[0.8888888888888888,\"#fdca26\"],[1.0,\"#f0f921\"]]}],\"heatmapgl\":[{\"type\":\"heatmapgl\",\"colorbar\":{\"outlinewidth\":0,\"ticks\":\"\"},\"colorscale\":[[0.0,\"#0d0887\"],[0.1111111111111111,\"#46039f\"],[0.2222222222222222,\"#7201a8\"],[0.3333333333333333,\"#9c179e\"],[0.4444444444444444,\"#bd3786\"],[0.5555555555555556,\"#d8576b\"],[0.6666666666666666,\"#ed7953\"],[0.7777777777777778,\"#fb9f3a\"],[0.8888888888888888,\"#fdca26\"],[1.0,\"#f0f921\"]]}],\"contourcarpet\":[{\"type\":\"contourcarpet\",\"colorbar\":{\"outlinewidth\":0,\"ticks\":\"\"}}],\"contour\":[{\"type\":\"contour\",\"colorbar\":{\"outlinewidth\":0,\"ticks\":\"\"},\"colorscale\":[[0.0,\"#0d0887\"],[0.1111111111111111,\"#46039f\"],[0.2222222222222222,\"#7201a8\"],[0.3333333333333333,\"#9c179e\"],[0.4444444444444444,\"#bd3786\"],[0.5555555555555556,\"#d8576b\"],[0.6666666666666666,\"#ed7953\"],[0.7777777777777778,\"#fb9f3a\"],[0.8888888888888888,\"#fdca26\"],[1.0,\"#f0f921\"]]}],\"surface\":[{\"type\":\"surface\",\"colorbar\":{\"outlinewidth\":0,\"ticks\":\"\"},\"colorscale\":[[0.0,\"#0d0887\"],[0.1111111111111111,\"#46039f\"],[0.2222222222222222,\"#7201a8\"],[0.3333333333333333,\"#9c179e\"],[0.4444444444444444,\"#bd3786\"],[0.5555555555555556,\"#d8576b\"],[0.6666666666666666,\"#ed7953\"],[0.7777777777777778,\"#fb9f3a\"],[0.8888888888888888,\"#fdca26\"],[1.0,\"#f0f921\"]]}],\"mesh3d\":[{\"type\":\"mesh3d\",\"colorbar\":{\"outlinewidth\":0,\"ticks\":\"\"}}],\"scatter\":[{\"fillpattern\":{\"fillmode\":\"overlay\",\"size\":10,\"solidity\":0.2},\"type\":\"scatter\"}],\"parcoords\":[{\"type\":\"parcoords\",\"line\":{\"colorbar\":{\"outlinewidth\":0,\"ticks\":\"\"}}}],\"scatterpolargl\":[{\"type\":\"scatterpolargl\",\"marker\":{\"colorbar\":{\"outlinewidth\":0,\"ticks\":\"\"}}}],\"bar\":[{\"error_x\":{\"color\":\"#2a3f5f\"},\"error_y\":{\"color\":\"#2a3f5f\"},\"marker\":{\"line\":{\"color\":\"#E5ECF6\",\"width\":0.5},\"pattern\":{\"fillmode\":\"overlay\",\"size\":10,\"solidity\":0.2}},\"type\":\"bar\"}],\"scattergeo\":[{\"type\":\"scattergeo\",\"marker\":{\"colorbar\":{\"outlinewidth\":0,\"ticks\":\"\"}}}],\"scatterpolar\":[{\"type\":\"scatterpolar\",\"marker\":{\"colorbar\":{\"outlinewidth\":0,\"ticks\":\"\"}}}],\"histogram\":[{\"marker\":{\"pattern\":{\"fillmode\":\"overlay\",\"size\":10,\"solidity\":0.2}},\"type\":\"histogram\"}],\"scattergl\":[{\"type\":\"scattergl\",\"marker\":{\"colorbar\":{\"outlinewidth\":0,\"ticks\":\"\"}}}],\"scatter3d\":[{\"type\":\"scatter3d\",\"line\":{\"colorbar\":{\"outlinewidth\":0,\"ticks\":\"\"}},\"marker\":{\"colorbar\":{\"outlinewidth\":0,\"ticks\":\"\"}}}],\"scattermapbox\":[{\"type\":\"scattermapbox\",\"marker\":{\"colorbar\":{\"outlinewidth\":0,\"ticks\":\"\"}}}],\"scatterternary\":[{\"type\":\"scatterternary\",\"marker\":{\"colorbar\":{\"outlinewidth\":0,\"ticks\":\"\"}}}],\"scattercarpet\":[{\"type\":\"scattercarpet\",\"marker\":{\"colorbar\":{\"outlinewidth\":0,\"ticks\":\"\"}}}],\"carpet\":[{\"aaxis\":{\"endlinecolor\":\"#2a3f5f\",\"gridcolor\":\"white\",\"linecolor\":\"white\",\"minorgridcolor\":\"white\",\"startlinecolor\":\"#2a3f5f\"},\"baxis\":{\"endlinecolor\":\"#2a3f5f\",\"gridcolor\":\"white\",\"linecolor\":\"white\",\"minorgridcolor\":\"white\",\"startlinecolor\":\"#2a3f5f\"},\"type\":\"carpet\"}],\"table\":[{\"cells\":{\"fill\":{\"color\":\"#EBF0F8\"},\"line\":{\"color\":\"white\"}},\"header\":{\"fill\":{\"color\":\"#C8D4E3\"},\"line\":{\"color\":\"white\"}},\"type\":\"table\"}],\"barpolar\":[{\"marker\":{\"line\":{\"color\":\"#E5ECF6\",\"width\":0.5},\"pattern\":{\"fillmode\":\"overlay\",\"size\":10,\"solidity\":0.2}},\"type\":\"barpolar\"}],\"pie\":[{\"automargin\":true,\"type\":\"pie\"}]},\"layout\":{\"autotypenumbers\":\"strict\",\"colorway\":[\"#636efa\",\"#EF553B\",\"#00cc96\",\"#ab63fa\",\"#FFA15A\",\"#19d3f3\",\"#FF6692\",\"#B6E880\",\"#FF97FF\",\"#FECB52\"],\"font\":{\"color\":\"#2a3f5f\"},\"hovermode\":\"closest\",\"hoverlabel\":{\"align\":\"left\"},\"paper_bgcolor\":\"white\",\"plot_bgcolor\":\"#E5ECF6\",\"polar\":{\"bgcolor\":\"#E5ECF6\",\"angularaxis\":{\"gridcolor\":\"white\",\"linecolor\":\"white\",\"ticks\":\"\"},\"radialaxis\":{\"gridcolor\":\"white\",\"linecolor\":\"white\",\"ticks\":\"\"}},\"ternary\":{\"bgcolor\":\"#E5ECF6\",\"aaxis\":{\"gridcolor\":\"white\",\"linecolor\":\"white\",\"ticks\":\"\"},\"baxis\":{\"gridcolor\":\"white\",\"linecolor\":\"white\",\"ticks\":\"\"},\"caxis\":{\"gridcolor\":\"white\",\"linecolor\":\"white\",\"ticks\":\"\"}},\"coloraxis\":{\"colorbar\":{\"outlinewidth\":0,\"ticks\":\"\"}},\"colorscale\":{\"sequential\":[[0.0,\"#0d0887\"],[0.1111111111111111,\"#46039f\"],[0.2222222222222222,\"#7201a8\"],[0.3333333333333333,\"#9c179e\"],[0.4444444444444444,\"#bd3786\"],[0.5555555555555556,\"#d8576b\"],[0.6666666666666666,\"#ed7953\"],[0.7777777777777778,\"#fb9f3a\"],[0.8888888888888888,\"#fdca26\"],[1.0,\"#f0f921\"]],\"sequentialminus\":[[0.0,\"#0d0887\"],[0.1111111111111111,\"#46039f\"],[0.2222222222222222,\"#7201a8\"],[0.3333333333333333,\"#9c179e\"],[0.4444444444444444,\"#bd3786\"],[0.5555555555555556,\"#d8576b\"],[0.6666666666666666,\"#ed7953\"],[0.7777777777777778,\"#fb9f3a\"],[0.8888888888888888,\"#fdca26\"],[1.0,\"#f0f921\"]],\"diverging\":[[0,\"#8e0152\"],[0.1,\"#c51b7d\"],[0.2,\"#de77ae\"],[0.3,\"#f1b6da\"],[0.4,\"#fde0ef\"],[0.5,\"#f7f7f7\"],[0.6,\"#e6f5d0\"],[0.7,\"#b8e186\"],[0.8,\"#7fbc41\"],[0.9,\"#4d9221\"],[1,\"#276419\"]]},\"xaxis\":{\"gridcolor\":\"white\",\"linecolor\":\"white\",\"ticks\":\"\",\"title\":{\"standoff\":15},\"zerolinecolor\":\"white\",\"automargin\":true,\"zerolinewidth\":2},\"yaxis\":{\"gridcolor\":\"white\",\"linecolor\":\"white\",\"ticks\":\"\",\"title\":{\"standoff\":15},\"zerolinecolor\":\"white\",\"automargin\":true,\"zerolinewidth\":2},\"scene\":{\"xaxis\":{\"backgroundcolor\":\"#E5ECF6\",\"gridcolor\":\"white\",\"linecolor\":\"white\",\"showbackground\":true,\"ticks\":\"\",\"zerolinecolor\":\"white\",\"gridwidth\":2},\"yaxis\":{\"backgroundcolor\":\"#E5ECF6\",\"gridcolor\":\"white\",\"linecolor\":\"white\",\"showbackground\":true,\"ticks\":\"\",\"zerolinecolor\":\"white\",\"gridwidth\":2},\"zaxis\":{\"backgroundcolor\":\"#E5ECF6\",\"gridcolor\":\"white\",\"linecolor\":\"white\",\"showbackground\":true,\"ticks\":\"\",\"zerolinecolor\":\"white\",\"gridwidth\":2}},\"shapedefaults\":{\"line\":{\"color\":\"#2a3f5f\"}},\"annotationdefaults\":{\"arrowcolor\":\"#2a3f5f\",\"arrowhead\":0,\"arrowwidth\":1},\"geo\":{\"bgcolor\":\"white\",\"landcolor\":\"#E5ECF6\",\"subunitcolor\":\"white\",\"showland\":true,\"showlakes\":true,\"lakecolor\":\"white\"},\"title\":{\"x\":0.05},\"mapbox\":{\"style\":\"light\"}}}},                        {\"responsive\": true}                    ).then(function(){\n",
              "                            \n",
              "var gd = document.getElementById('296b5442-b984-4e4c-a96c-ce862dd25f65');\n",
              "var x = new MutationObserver(function (mutations, observer) {{\n",
              "        var display = window.getComputedStyle(gd).display;\n",
              "        if (!display || display === 'none') {{\n",
              "            console.log([gd, 'removed!']);\n",
              "            Plotly.purge(gd);\n",
              "            observer.disconnect();\n",
              "        }}\n",
              "}});\n",
              "\n",
              "// Listen for the removal of the full notebook cells\n",
              "var notebookContainer = gd.closest('#notebook-container');\n",
              "if (notebookContainer) {{\n",
              "    x.observe(notebookContainer, {childList: true});\n",
              "}}\n",
              "\n",
              "// Listen for the clearing of the current output cell\n",
              "var outputEl = gd.closest('.output');\n",
              "if (outputEl) {{\n",
              "    x.observe(outputEl, {childList: true});\n",
              "}}\n",
              "\n",
              "                        })                };                            </script>        </div>\n",
              "</body>\n",
              "</html>"
            ]
          },
          "metadata": {}
        }
      ]
    },
    {
      "cell_type": "markdown",
      "source": [
        "**SUMMARY: In (reading score) column Before Outlier removal i have 1000 records,after outlier removal i have 992 records. 8 data points are outliers.**"
      ],
      "metadata": {
        "id": "SaG7Hd8GSqJN"
      }
    },
    {
      "cell_type": "markdown",
      "source": [
        "###**writing score column:**\n",
        "\n",
        "\n",
        "**checking outliers, skewness, and calculate**\n",
        "\n",
        " Q1\n",
        "\n",
        " Q3\n",
        "\n",
        " IQR\n",
        "\n",
        " Lowerbound\n",
        "\n",
        " Upperbound\n",
        "\n",
        " Outlier Removal\n"
      ],
      "metadata": {
        "id": "JoAek_9oS9YO"
      }
    },
    {
      "cell_type": "code",
      "source": [
        "sns.boxplot(df['writing score'])    # # Before outlier removal , in this graph has ouliers."
      ],
      "metadata": {
        "colab": {
          "base_uri": "https://localhost:8080/",
          "height": 428
        },
        "id": "UGnQiXUm7PoI",
        "outputId": "11eea85a-dd02-42cb-a047-9fc0223433d2"
      },
      "execution_count": null,
      "outputs": [
        {
          "output_type": "execute_result",
          "data": {
            "text/plain": [
              "<Axes: ylabel='writing score'>"
            ]
          },
          "metadata": {},
          "execution_count": 28
        },
        {
          "output_type": "display_data",
          "data": {
            "text/plain": [
              "<Figure size 640x480 with 1 Axes>"
            ],
            "image/png": "[encoded data removed]"
          },
          "metadata": {}
        }
      ]
    },
    {
      "cell_type": "code",
      "source": [
        "fig2=ff.create_distplot([df['writing score']],['writingscore data'],show_hist=False)    #   before outlier removal Skewness graph\n",
        "fig2.show()"
      ],
      "metadata": {
        "colab": {
          "base_uri": "https://localhost:8080/",
          "height": 542
        },
        "id": "kIVKCPGF7Pq6",
        "outputId": "45216a08-c6bd-44dd-cdc4-b1c269ac2fa3"
      },
      "execution_count": null,
      "outputs": [
        {
          "output_type": "display_data",
          "data": {
            "text/html": [
              "<html>\n",
              "<head><meta charset=\"utf-8\" /></head>\n",
              "<body>\n",
              "    <div>            <script src=\"https://cdnjs.cloudflare.com/ajax/libs/mathjax/2.7.5/MathJax.js?config=TeX-AMS-MML_SVG\"></script><script type=\"text/javascript\">if (window.MathJax && window.MathJax.Hub && window.MathJax.Hub.Config) {window.MathJax.Hub.Config({SVG: {font: \"STIX-Web\"}});}</script>                <script type=\"text/javascript\">window.PlotlyConfig = {MathJaxConfig: 'local'};</script>\n",
              "        <script charset=\"utf-8\" src=\"https://cdn.plot.ly/plotly-2.35.2.min.js\"></script>                <div id=\"ac6f86f8-dc9a-4cf0-a38d-38198bb8f157\" class=\"plotly-graph-div\" style=\"height:525px; width:100%;\"></div>            <script type=\"text/javascript\">                                    window.PLOTLYENV=window.PLOTLYENV || {};                                    if (document.getElementById(\"ac6f86f8-dc9a-4cf0-a38d-38198bb8f157\")) {                    Plotly.newPlot(                        \"ac6f86f8-dc9a-4cf0-a38d-38198bb8f157\",                        [{\"legendgroup\":\"writingscore data\",\"marker\":{\"color\":\"rgb(31, 119, 180)\"},\"mode\":\"lines\",\"name\":\"writingscore data\",\"showlegend\":true,\"x\":[10.0,10.18,10.36,10.54,10.72,10.9,11.08,11.26,11.44,11.620000000000001,11.8,11.98,12.16,12.34,12.52,12.7,12.879999999999999,13.06,13.24,13.42,13.6,13.78,13.96,14.14,14.32,14.5,14.68,14.86,15.04,15.219999999999999,15.4,15.58,15.76,15.940000000000001,16.12,16.3,16.48,16.66,16.84,17.02,17.2,17.38,17.56,17.740000000000002,17.92,18.1,18.28,18.46,18.64,18.82,19.0,19.18,19.36,19.54,19.72,19.9,20.08,20.259999999999998,20.439999999999998,20.619999999999997,20.8,20.98,21.16,21.34,21.52,21.7,21.880000000000003,22.060000000000002,22.240000000000002,22.42,22.6,22.78,22.96,23.14,23.32,23.5,23.68,23.86,24.04,24.22,24.4,24.58,24.759999999999998,24.939999999999998,25.119999999999997,25.3,25.48,25.66,25.84,26.02,26.2,26.38,26.56,26.74,26.92,27.1,27.28,27.46,27.64,27.82,28.0,28.18,28.36,28.54,28.72,28.9,29.08,29.26,29.44,29.62,29.8,29.98,30.16,30.34,30.52,30.7,30.88,31.06,31.24,31.42,31.6,31.78,31.96,32.14,32.32,32.5,32.68,32.86,33.04,33.22,33.4,33.58,33.760000000000005,33.94,34.120000000000005,34.3,34.480000000000004,34.66,34.84,35.019999999999996,35.2,35.379999999999995,35.56,35.739999999999995,35.92,36.1,36.28,36.46,36.64,36.82,37.0,37.18,37.36,37.54,37.72,37.9,38.08,38.260000000000005,38.44,38.620000000000005,38.8,38.980000000000004,39.16,39.34,39.519999999999996,39.7,39.879999999999995,40.06,40.239999999999995,40.42,40.6,40.78,40.96,41.14,41.32,41.5,41.68,41.86,42.04,42.22,42.4,42.58,42.76,42.94,43.12,43.3,43.48,43.66,43.84,44.02,44.2,44.38,44.56,44.74,44.92,45.1,45.28,45.46,45.64,45.82,46.0,46.18,46.36,46.54,46.72,46.9,47.08,47.26,47.44,47.62,47.8,47.98,48.16,48.34,48.52,48.7,48.88,49.06,49.24,49.42,49.6,49.78,49.96,50.14,50.32,50.5,50.68,50.86,51.04,51.22,51.4,51.58,51.76,51.94,52.12,52.3,52.48,52.66,52.84,53.02,53.2,53.38,53.56,53.74,53.92,54.1,54.28,54.46,54.64,54.82,55.0,55.18,55.36,55.54,55.72,55.9,56.08,56.26,56.44,56.62,56.8,56.98,57.16,57.34,57.52,57.7,57.88,58.06,58.24,58.42,58.6,58.78,58.96,59.14,59.32,59.5,59.68,59.86,60.04,60.22,60.4,60.58,60.76,60.94,61.12,61.3,61.48,61.66,61.84,62.02,62.2,62.38,62.56,62.74,62.92,63.1,63.28,63.46,63.64,63.82,64.0,64.18,64.36,64.53999999999999,64.72,64.9,65.08,65.25999999999999,65.44,65.62,65.8,65.97999999999999,66.16,66.34,66.52000000000001,66.7,66.88,67.06,67.24000000000001,67.42,67.6,67.78,67.96000000000001,68.14,68.32,68.5,68.68,68.86,69.03999999999999,69.22,69.4,69.58,69.75999999999999,69.94,70.12,70.3,70.47999999999999,70.66,70.84,71.02000000000001,71.2,71.38,71.56,71.74000000000001,71.92,72.1,72.28,72.46000000000001,72.64,72.82,73.0,73.18,73.36,73.53999999999999,73.72,73.9,74.08,74.26,74.44,74.62,74.8,74.98,75.16,75.34,75.52,75.7,75.88,76.06,76.24,76.42,76.6,76.78,76.96,77.14,77.32,77.5,77.68,77.86,78.04,78.22,78.4,78.58,78.76,78.94,79.12,79.3,79.48,79.66,79.84,80.02,80.2,80.38,80.56,80.74,80.92,81.1,81.28,81.46,81.64,81.82,82.0,82.18,82.36,82.54,82.72,82.9,83.08,83.26,83.44,83.62,83.8,83.98,84.16,84.34,84.52,84.7,84.88,85.06,85.24,85.42,85.6,85.78,85.96,86.14,86.32,86.5,86.68,86.86,87.04,87.22,87.4,87.58,87.76,87.94,88.12,88.3,88.48,88.66,88.84,89.02,89.2,89.38,89.56,89.74,89.92,90.1,90.28,90.46,90.64,90.82,91.0,91.18,91.36,91.54,91.72,91.9,92.08,92.26,92.44,92.62,92.8,92.98,93.16,93.34,93.52,93.7,93.88,94.06,94.24,94.42,94.6,94.78,94.96,95.14,95.32,95.5,95.68,95.86,96.04,96.22,96.4,96.58,96.76,96.94,97.12,97.3,97.48,97.66,97.84,98.02,98.2,98.38,98.56,98.74,98.92,99.1,99.28,99.46,99.64,99.82],\"xaxis\":\"x\",\"y\":[0.00015640114764033593,0.0001599883560964786,0.00016350200049432227,0.00016694250729221288,0.0001703111726920997,0.00017361013573472786,0.00017684234332056696,0.00018001150798285825,0.0001831220593278496,0.00018617909012275197,0.000189188298053409,0.00019215592419113771,0.00019508868920234182,0.0001979937283066469,0.000200878525941404,0.00020375085102491898,0.00020661869363057587,0.00020949020379233037,0.00021237363306227954,0.00021527727933662256,0.00021820943536075555,0.00022117834122074788,0.00022419214102998536,0.00022725884392895123,0.00023038628943506013,0.00023358211710975042,0.00023685374045272494,0.00024020832488874495,0.00024365276968055957,0.0002471936935817456,0.00025083742403419427,0.00025458998971514,0.00025845711624598026,0.0002624442248874929,0.00026655643406111744,0.0002707985635513562,0.0002751751412578645,0.0002796904123754405,0.00028434835088417206,0.00028915267322924247,0.00029410685405949487,0.00029921414387560334,0.00030447758841290054,0.00030990004955149127,0.0003154842275085807,0.00032123268402707296,0.0003271478662326226,0.0003332321307913041,0.00033948776796474456,0.000345917025131952,0.00035252212933019035,0.00035930530836381,0.0003662688100423968,0.0003734149191399614,0.00038074597171640703,0.0003882643665119619,0.0003959725732143622,0.00040387313750637864,0.0004119686829258612,0.0004202619097090123,0.00042875559093641787,0.00043745256645610453,0.0004463557352133431,0.0004554680467675312,0.0004647924929162457,0.0004743321004693401,0.00048408992631564175,0.0004940690559956916,0.0005042726070306486,0.0005147037382555914,0.0005253656663613488,0.0005362616907602283,0.0005473952277567598,0.0005587698548249128,0.0005703893655704154,0.0005822578356941345,0.0005943796999751622,0.000606759839966821,0.0006194036817532958,0.0006323173027579938,0.0006455075462373679,0.0006589821417463591,0.0006727498295350689,0.0006868204865420548,0.0007012052513982957,0.0007159166456579227,0.0007309686883360313,0.0007463770007682738,0.0007621588988172566,0.0007783334695413038,0.0007949216296136367,0.0008119461630341865,0.0008294317360089886,0.0008474048872785567,0.0008658939926488605,0.0008849292030068635,0.0009045423556752895,0.0009247668595648005,0.0009456375552011622,0.0009671905513246902,0.0009894630403624453,0.0010124930956442754,0.0010363194537554759,0.0010609812858762733,0.0010865179623377385,0.0011129688149122982,0.001140372901545162,0.0011687687783117696,0.0011981942833516185,0.0012286863373768644,0.0012602807650861757,0.0012930121414329615,0.0013269136662089347,0.001362017069817398,0.0013983525524371497,0.0014359487580312784,0.0014748327838503522,0.0015150302252342873,0.0015565652546496304,0.0015994607330276835,0.0016437383506144022,0.0016894187937233753,0.0017365219330182252,0.0017850670282582497,0.0018350729438374376,0.0018865583689479223,0.001939542035817165,0.0019940429292154382,0.002050080480314712,0.00210767473800927,0.002166846510984118,0.0022276174741433443,0.002290010233482315,0.002354048344103377,0.0024197562768253113,0.002487159329714428,0.0025562834818564245,0.0026271551877790644,0.0026998011121107317,0.0027742478052982496,0.00285052132249161,0.002928646789009116,0.003008647917103268,0.003090546480029646,0.0031743617506555673,0.0032601099130071345,0.0033478034562177475,0.003437450561285679,0.003529054491849623,0.0036226130008283446,0.0037181177652241488,0.0038155538616443854,0.003914899295134627,0.004016124593732888,0.00411919248073668,0.004224057636023668,0.004330666556878974,0.004438957527666444,0.004548860706345129,0.004660298334289427,0.00477318507414171,0.0048874284785309415,0.005002929590456032,0.005119583673990925,0.005237281071748554,0.005355908183283344,0.005475348556350819,0.005595484080718715,0.00571619627207745,0.005837367631564999,0.005958883064544603,0.006080631340587418,0.006202506575151465,0.006324409712244742,0.006446249986441793,0.0065679463420109776,0.006689428786627205,0.006810639657199575,0.006931534775748666,0.007052084474024767,0.007172274466662352,0.007292106554110212,0.007411599138348959,0.007530787536483618,0.007649724079662209,0.007768477987385418,0.007887135010112237,0.008005796836090638,0.008124580261512436,0.008243616126370538,0.008363048021730818,0.008483030777486363,0.00860372874298254,0.008725313876146001,0.008847963659871049,0.008971858867365519,0.009097181200893733,0.009224110830828894,0.009352823864104921,0.009483489772996215,0.009616268816621433,0.00975130948863109,0.009888746025173126,0.010028696007412592,0.010171258092596646,0.010316509906890434,0.010464506131962743,0.01061527681557043,0.010768825934191147,0.010925130233095664,0.011084138366165992,0.011245770354273297,0.011409917377183956,0.011576441909789821,0.01174517820903299,0.011915933153257003,0.01208848743093995,0.01226259707091637,0.012437995301347964,0.012614394719929457,0.012791489753197735,0.012968959378422752,0.013146470077473367,0.01332367898834379,0.013500237216761326,0.01367579326754416,0.013849996553180043,0.014022500935515598,0.014192968255503284,0.014361071805687771,0.01452649970053032,0.014688958100777876,0.014848174249870597,0.015003899282825063,0.015155910771100806,0.015304014970600563,0.01544804874412328,0.015587881134209834,0.015723414567319786,0.015854585675575548,0.015981365727811996,0.01610376066728821,0.0162218107590565,0.016335589855544463,0.016445204294299732,0.016550791446976975,0.016652517943433115,0.01675057759915332,0.01684518907809572,0.01693659332634022,0.017025050814624153,0.017110838629886178,0.01719424745730498,0.017275578494990663,0.01735514034346278,0.017433245911335483,0.017510209377261953,0.01758634324618391,0.017661955535349737,0.0177373471224485,0.01781280928463259,0.017888621453228278,0.017965049204656823,0.018042342503568516,0.01812073420953994,0.018200438853967934,0.018281651689109737,0.018364548006655653,0.018449282718849137,0.018535990191084362,0.018624784311164804,0.018715758777081756,0.018808987582305904,0.0189045256752371,0.019002409767650254,0.0191026592657449,0.01920527729674543,0.019310251803929413,0.019417556683446174,0.019527152937327603,0.019638989818626523,0.019753005946623287,0.019869130372440386,0.01998728357815552,0.020107378395516923,0.020229320833575436,0.020353010807875407,0.020478342767204352,0.020605206217213654,0.02073348614340987,0.020863063338996287,0.020993814645757287,0.021125613118555018,0.021258328125991762,0.021391825401352305,0.021525967059025434,0.021660611592215048,0.021795613867857676,0.02193082513429884,0.022066093056423243,0.022201261791663138,0.022336172118616722,0.022470661627986485,0.022604564983232652,0.02273771425580648,0.022869939337155427,0.023001068426961844,0.02313092859434307,0.023259346406127215,0.023386148613845525,0.02351116288887289,0.0236342185932233,0.023755147571960362,0.023873784952017862,0.023989969931520572,0.02410354654342897,0.024214364377545664,0.02432227924558684,0.02442715377513098,0.02452885791977867,0.02462726937474104,0.02472227388927404,0.02481376546982217,0.0249016464703653,0.02498582756918682,0.02506622763404995,0.025142773480459762,0.02521539953027608,0.025284047380300528,0.02534866529257288,0.025409207619871664,0.025465634181314735,0.025517909603921696,0.025566002646537477,0.02560988552259059,0.02564953323778179,0.025684922957984344,0.02571603342140444,0.02574284440745153,0.025765336272843928,0.02578348956328939,0.0257972847066973,0.02580670179138011,0.02581172043014629,0.02581231970867561,0.025808478214144764,0.025800174137845976,0.025787385443536003,0.02577009009157717,0.02574826630757065,0.025721892883244137,0.025690949496797566,0.02565541703979897,0.025615277938020715,0.025570516454322047,0.025521118962774505,0.025467074184678563,0.02540837337884403,0.025345010480505463,0.025276982185383195,0.025204287977679096,0.0251269301030875,0.025044913490173112,0.024958245625617978,0.02486693639082532,0.02477099786910668,0.024670444134134047,0.02456529103144916,0.024455555965562852,0.02434125770551821,0.02422241622172491,0.02409905256638973,0.02397118880899065,0.023838848036986365,0.023702054430348406,0.023560833416609632,0.023415211910966263,0.023265218643634764,0.023110884574190443,0.022952243390090967,0.022789332084051754,0.02262219160250123,0.02245086755501355,0.022275410972511553,0.022095879100158256,0.021912336209298302,0.021724854411580573,0.021533514457546036,0.021338406501498586,0.021139630814423816,0.020937298427065716,0.02073153168601028,0.020522464706748997,0.020310243709158682,0.020095027222624465,0.019876986150084677,0.01965630368257039,0.019433175058266867,0.019207807162719418,0.018980417969452115,0.01875123582294318,0.018520498568523877,0.018288452536307523,0.01805535138865673,0.017821454842912022,0.01758702728310898,0.01735233627616638,0.017117651009500655,0.016883240668217798,0.016649372770910647,0.01641631148367229,0.016184315932199954,0.01595363853183834,0.015724523355087935,0.015497204555517476,0.015271904866177629,0.015048834189545526,0.014828188294762018,0.01461014763647929,0.014394876308050652,0.01418252114008753,0.013973210953612742,0.01376705597518517,0.01356414741947094,0.013364557242831115,0.013168338069591272,0.012975523290786117,0.012786127333338233,0.012600146095860623,0.012417557545570621,0.01223832246918558,0.01206238536914757,0.011889675495096253,0.011720107999196754,0.011553585202723768,0.011389997960222492,0.011229227106607792,0.011071144971739262,0.010915616946317768,0.010762503082403611,0.010611659711454105,0.010462941062536724,0.010316200863285706,0.01017129390625284,0.010028077563557893,0.00988641323317259,0.009746167700788148,0.00960721440201175,0.00946943457062376,0.009332718259797701,0.009196965224539827,0.009062085655137901,0.008928000753112926,0.008794643143029211,0.008661957115524225,0.008529898699052001,0.008398435560068472,0.008267546733701005,0.008137222189306556,0.008007462237701143,0.00787827678920534,0.0077496844739541335,0.0076217116381315135,0.007494391231863745,0.007367761606406825,0.00724186523994655,0.007116747412759545,0.006992454853624491,0.0068690343801864175,0.006746531556442778,0.006624989390607862,0.00650444709630723,0.006384938939348527,0.006266493191199964,0.006149131208796985,0.006032866658395206,0.005917704898925526,0.005803642537708579,0.005690667168494446,0.005578757298653801,0.005467882469015294,0.00535800356637798,0.005249073325194331,0.0051410370113873375,0.005033833277803644,0.004927395177487736,0.004821651317857467,0.004716527136038167,0.004611946273133306,0.004507832023130747,0.004404108830514587,0.004300703809513378,0.004197548257294098,0.004094579133330247,0.0039917404776324125,0.00388898474153107,0.003786274006222578,0.0036835810663018533,0.0035808903579687443,0.0034781987144564606],\"yaxis\":\"y\",\"type\":\"scatter\"},{\"legendgroup\":\"writingscore data\",\"marker\":{\"color\":\"rgb(31, 119, 180)\",\"symbol\":\"line-ns-open\"},\"mode\":\"markers\",\"name\":\"writingscore data\",\"showlegend\":false,\"x\":[74,88,93,44,75,78,92,39,67,50,52,43,73,70,58,78,86,28,46,61,63,70,53,73,80,72,55,75,65,75,74,61,65,38,82,79,83,59,88,57,54,68,65,66,54,57,62,76,76,82,48,68,42,75,87,43,86,49,58,10,72,34,55,71,59,61,37,74,56,57,73,63,48,56,41,38,22,81,72,68,50,45,54,63,34,82,88,74,67,82,74,36,71,50,92,82,62,70,62,62,67,74,89,47,90,72,100,64,70,72,98,49,47,54,100,74,82,79,61,65,89,92,93,56,73,86,67,74,74,51,82,40,70,84,75,48,41,56,67,69,71,64,54,47,78,33,75,66,81,93,69,68,66,47,61,88,78,60,87,64,74,85,52,49,91,100,51,78,78,70,74,78,81,70,54,87,58,77,62,100,75,66,47,70,49,65,65,68,45,87,69,79,66,62,85,52,65,51,55,76,86,77,69,68,42,78,62,76,76,66,79,27,60,56,81,75,88,39,70,56,74,73,62,75,73,54,71,54,64,94,66,42,83,78,84,77,67,74,51,80,66,83,55,43,69,71,74,68,62,53,49,83,70,72,52,70,68,77,78,81,77,78,51,90,68,41,81,77,95,70,61,42,58,71,76,73,93,75,80,57,42,46,84,78,46,82,88,82,76,77,68,70,57,75,80,60,43,68,50,75,81,52,81,64,83,69,81,44,67,52,80,57,68,69,75,65,91,78,69,63,84,79,80,53,43,94,62,19,77,51,61,35,53,81,95,66,69,43,27,60,52,63,74,67,67,75,57,95,66,76,69,52,80,57,70,70,61,69,61,89,59,78,58,32,58,60,53,61,58,85,71,70,72,96,73,41,82,100,77,62,83,95,71,45,43,75,70,67,64,75,59,77,67,56,77,41,63,95,57,54,67,43,55,100,62,68,63,77,56,85,74,78,60,67,79,69,68,67,62,54,93,64,67,80,34,62,86,65,53,54,59,70,55,50,66,53,64,73,51,82,79,80,69,76,73,77,60,80,42,72,85,97,74,49,62,47,89,48,100,68,55,45,76,91,62,91,38,65,85,76,90,74,84,61,91,83,66,72,70,67,68,56,61,46,54,71,56,74,57,82,76,70,90,90,68,66,52,76,68,72,82,92,54,92,54,80,66,54,77,87,73,43,52,62,94,85,84,73,78,79,52,84,57,50,49,59,60,43,47,70,73,53,58,94,68,83,58,62,71,86,68,80,79,89,66,80,97,64,64,69,65,88,50,64,40,33,79,66,70,62,79,74,92,80,46,45,100,78,47,67,70,92,56,64,71,53,52,89,58,68,96,80,78,80,77,76,73,62,65,65,54,50,64,73,99,72,15,48,73,81,63,30,80,51,90,62,82,54,62,65,63,66,91,74,93,72,38,83,84,68,54,56,52,86,62,99,63,46,46,55,70,65,81,85,80,64,81,88,74,73,51,90,79,80,60,81,65,68,55,81,53,76,98,74,79,67,64,61,58,85,73,63,69,67,63,60,71,87,61,77,68,50,76,84,78,66,76,76,78,60,74,60,54,44,68,100,68,73,44,83,53,78,81,73,56,86,90,70,79,59,82,72,87,67,64,65,36,52,79,58,90,85,99,84,74,87,72,99,74,80,70,59,88,42,41,71,77,57,84,37,80,43,94,44,57,59,84,73,73,55,72,56,82,72,47,74,71,68,59,86,68,65,75,85,53,92,52,72,65,77,64,54,86,63,59,72,77,60,75,57,49,74,72,79,60,55,70,43,82,82,57,84,82,62,79,44,77,32,61,61,60,70,69,77,51,73,70,81,54,57,68,73,95,87,78,74,75,40,69,51,36,49,67,76,83,87,64,76,68,88,92,93,51,82,52,58,70,76,81,53,57,89,58,89,45,74,57,79,53,73,46,51,36,76,64,84,85,50,68,69,67,63,93,61,55,96,65,81,46,72,53,87,38,80,91,88,52,41,72,51,47,76,78,82,61,66,84,54,80,74,66,70,71,44,54,80,95,59,74,48,91,85,73,75,69,38,27,79,63,82,89,74,41,100,84,77,51,91,72,70,48,82,66,66,55,66,100,52,80,91,67,46,66,65,69,60,52,71,44,51,70,62,73,74,90,58,53,57,85,69,72,96,64,61,61,58,80,60,52,73,71,83,72,54,69,62,81,100,59,71,64,53,100,75,58,72,64,60,67,80,100,69,60,61,67,77,60,58,48,94,23,78,86,91,82,54,51,76,45,83,75,78,76,74,62,95,55,65,77,86],\"xaxis\":\"x\",\"y\":[\"writingscore data\",\"writingscore data\",\"writingscore data\",\"writingscore data\",\"writingscore data\",\"writingscore data\",\"writingscore data\",\"writingscore data\",\"writingscore data\",\"writingscore data\",\"writingscore data\",\"writingscore data\",\"writingscore data\",\"writingscore data\",\"writingscore data\",\"writingscore data\",\"writingscore data\",\"writingscore data\",\"writingscore data\",\"writingscore data\",\"writingscore data\",\"writingscore data\",\"writingscore data\",\"writingscore data\",\"writingscore data\",\"writingscore data\",\"writingscore data\",\"writingscore data\",\"writingscore data\",\"writingscore data\",\"writingscore data\",\"writingscore data\",\"writingscore data\",\"writingscore data\",\"writingscore data\",\"writingscore data\",\"writingscore data\",\"writingscore data\",\"writingscore data\",\"writingscore data\",\"writingscore data\",\"writingscore data\",\"writingscore data\",\"writingscore data\",\"writingscore data\",\"writingscore data\",\"writingscore data\",\"writingscore data\",\"writingscore data\",\"writingscore data\",\"writingscore data\",\"writingscore data\",\"writingscore data\",\"writingscore data\",\"writingscore data\",\"writingscore data\",\"writingscore data\",\"writingscore data\",\"writingscore data\",\"writingscore data\",\"writingscore data\",\"writingscore data\",\"writingscore data\",\"writingscore data\",\"writingscore data\",\"writingscore data\",\"writingscore data\",\"writingscore data\",\"writingscore data\",\"writingscore data\",\"writingscore data\",\"writingscore data\",\"writingscore data\",\"writingscore data\",\"writingscore data\",\"writingscore data\",\"writingscore data\",\"writingscore data\",\"writingscore data\",\"writingscore data\",\"writingscore data\",\"writingscore data\",\"writingscore data\",\"writingscore data\",\"writingscore data\",\"writingscore data\",\"writingscore data\",\"writingscore data\",\"writingscore data\",\"writingscore data\",\"writingscore data\",\"writingscore data\",\"writingscore data\",\"writingscore data\",\"writingscore data\",\"writingscore data\",\"writingscore data\",\"writingscore data\",\"writingscore data\",\"writingscore data\",\"writingscore data\",\"writingscore data\",\"writingscore data\",\"writingscore data\",\"writingscore data\",\"writingscore data\",\"writingscore data\",\"writingscore data\",\"writingscore data\",\"writingscore data\",\"writingscore data\",\"writingscore data\",\"writingscore data\",\"writingscore data\",\"writingscore data\",\"writingscore data\",\"writingscore data\",\"writingscore data\",\"writingscore data\",\"writingscore data\",\"writingscore data\",\"writingscore data\",\"writingscore data\",\"writingscore data\",\"writingscore data\",\"writingscore data\",\"writingscore data\",\"writingscore data\",\"writingscore data\",\"writingscore data\",\"writingscore data\",\"writingscore data\",\"writingscore data\",\"writingscore data\",\"writingscore data\",\"writingscore data\",\"writingscore data\",\"writingscore data\",\"writingscore data\",\"writingscore data\",\"writingscore data\",\"writingscore data\",\"writingscore data\",\"writingscore data\",\"writingscore data\",\"writingscore data\",\"writingscore data\",\"writingscore data\",\"writingscore data\",\"writingscore data\",\"writingscore data\",\"writingscore data\",\"writingscore data\",\"writingscore data\",\"writingscore data\",\"writingscore data\",\"writingscore data\",\"writingscore data\",\"writingscore data\",\"writingscore data\",\"writingscore data\",\"writingscore data\",\"writingscore data\",\"writingscore data\",\"writingscore data\",\"writingscore data\",\"writingscore data\",\"writingscore data\",\"writingscore data\",\"writingscore data\",\"writingscore data\",\"writingscore data\",\"writingscore data\",\"writingscore data\",\"writingscore data\",\"writingscore data\",\"writingscore data\",\"writingscore data\",\"writingscore data\",\"writingscore data\",\"writingscore data\",\"writingscore data\",\"writingscore data\",\"writingscore data\",\"writingscore data\",\"writingscore data\",\"writingscore data\",\"writingscore data\",\"writingscore data\",\"writingscore data\",\"writingscore data\",\"writingscore data\",\"writingscore data\",\"writingscore data\",\"writingscore data\",\"writingscore data\",\"writingscore data\",\"writingscore data\",\"writingscore data\",\"writingscore data\",\"writingscore data\",\"writingscore data\",\"writingscore data\",\"writingscore data\",\"writingscore data\",\"writingscore data\",\"writingscore data\",\"writingscore data\",\"writingscore data\",\"writingscore data\",\"writingscore data\",\"writingscore data\",\"writingscore data\",\"writingscore data\",\"writingscore data\",\"writingscore data\",\"writingscore data\",\"writingscore data\",\"writingscore data\",\"writingscore data\",\"writingscore data\",\"writingscore data\",\"writingscore data\",\"writingscore data\",\"writingscore data\",\"writingscore data\",\"writingscore data\",\"writingscore data\",\"writingscore data\",\"writingscore data\",\"writingscore data\",\"writingscore data\",\"writingscore data\",\"writingscore data\",\"writingscore data\",\"writingscore data\",\"writingscore data\",\"writingscore data\",\"writingscore data\",\"writingscore data\",\"writingscore data\",\"writingscore data\",\"writingscore data\",\"writingscore data\",\"writingscore data\",\"writingscore data\",\"writingscore data\",\"writingscore data\",\"writingscore data\",\"writingscore data\",\"writingscore data\",\"writingscore data\",\"writingscore data\",\"writingscore data\",\"writingscore data\",\"writingscore data\",\"writingscore data\",\"writingscore data\",\"writingscore data\",\"writingscore data\",\"writingscore data\",\"writingscore data\",\"writingscore data\",\"writingscore data\",\"writingscore data\",\"writingscore data\",\"writingscore data\",\"writingscore data\",\"writingscore data\",\"writingscore data\",\"writingscore data\",\"writingscore data\",\"writingscore data\",\"writingscore data\",\"writingscore data\",\"writingscore data\",\"writingscore data\",\"writingscore data\",\"writingscore data\",\"writingscore data\",\"writingscore data\",\"writingscore data\",\"writingscore data\",\"writingscore data\",\"writingscore data\",\"writingscore data\",\"writingscore data\",\"writingscore data\",\"writingscore data\",\"writingscore data\",\"writingscore data\",\"writingscore data\",\"writingscore data\",\"writingscore data\",\"writingscore data\",\"writingscore data\",\"writingscore data\",\"writingscore data\",\"writingscore data\",\"writingscore data\",\"writingscore data\",\"writingscore data\",\"writingscore data\",\"writingscore data\",\"writingscore data\",\"writingscore data\",\"writingscore data\",\"writingscore data\",\"writingscore data\",\"writingscore data\",\"writingscore data\",\"writingscore data\",\"writingscore data\",\"writingscore data\",\"writingscore data\",\"writingscore data\",\"writingscore data\",\"writingscore data\",\"writingscore data\",\"writingscore data\",\"writingscore data\",\"writingscore data\",\"writingscore data\",\"writingscore data\",\"writingscore data\",\"writingscore data\",\"writingscore data\",\"writingscore data\",\"writingscore data\",\"writingscore data\",\"writingscore data\",\"writingscore data\",\"writingscore data\",\"writingscore data\",\"writingscore data\",\"writingscore data\",\"writingscore data\",\"writingscore data\",\"writingscore data\",\"writingscore data\",\"writingscore data\",\"writingscore data\",\"writingscore data\",\"writingscore data\",\"writingscore data\",\"writingscore data\",\"writingscore data\",\"writingscore data\",\"writingscore data\",\"writingscore data\",\"writingscore data\",\"writingscore data\",\"writingscore data\",\"writingscore data\",\"writingscore data\",\"writingscore data\",\"writingscore data\",\"writingscore data\",\"writingscore data\",\"writingscore data\",\"writingscore data\",\"writingscore data\",\"writingscore data\",\"writingscore data\",\"writingscore data\",\"writingscore data\",\"writingscore data\",\"writingscore data\",\"writingscore data\",\"writingscore data\",\"writingscore data\",\"writingscore data\",\"writingscore data\",\"writingscore data\",\"writingscore data\",\"writingscore data\",\"writingscore data\",\"writingscore data\",\"writingscore data\",\"writingscore data\",\"writingscore data\",\"writingscore data\",\"writingscore data\",\"writingscore data\",\"writingscore data\",\"writingscore data\",\"writingscore data\",\"writingscore data\",\"writingscore data\",\"writingscore data\",\"writingscore data\",\"writingscore data\",\"writingscore data\",\"writingscore data\",\"writingscore data\",\"writingscore data\",\"writingscore data\",\"writingscore data\",\"writingscore data\",\"writingscore data\",\"writingscore data\",\"writingscore data\",\"writingscore data\",\"writingscore data\",\"writingscore data\",\"writingscore data\",\"writingscore data\",\"writingscore data\",\"writingscore data\",\"writingscore data\",\"writingscore data\",\"writingscore data\",\"writingscore data\",\"writingscore data\",\"writingscore data\",\"writingscore data\",\"writingscore data\",\"writingscore data\",\"writingscore data\",\"writingscore data\",\"writingscore data\",\"writingscore data\",\"writingscore data\",\"writingscore data\",\"writingscore data\",\"writingscore data\",\"writingscore data\",\"writingscore data\",\"writingscore data\",\"writingscore data\",\"writingscore data\",\"writingscore data\",\"writingscore data\",\"writingscore data\",\"writingscore data\",\"writingscore data\",\"writingscore data\",\"writingscore data\",\"writingscore data\",\"writingscore data\",\"writingscore data\",\"writingscore data\",\"writingscore data\",\"writingscore data\",\"writingscore data\",\"writingscore data\",\"writingscore data\",\"writingscore data\",\"writingscore data\",\"writingscore data\",\"writingscore data\",\"writingscore data\",\"writingscore data\",\"writingscore data\",\"writingscore data\",\"writingscore data\",\"writingscore data\",\"writingscore data\",\"writingscore data\",\"writingscore data\",\"writingscore data\",\"writingscore data\",\"writingscore data\",\"writingscore data\",\"writingscore data\",\"writingscore data\",\"writingscore data\",\"writingscore data\",\"writingscore data\",\"writingscore data\",\"writingscore data\",\"writingscore data\",\"writingscore data\",\"writingscore data\",\"writingscore data\",\"writingscore data\",\"writingscore data\",\"writingscore data\",\"writingscore data\",\"writingscore data\",\"writingscore data\",\"writingscore data\",\"writingscore data\",\"writingscore data\",\"writingscore data\",\"writingscore data\",\"writingscore data\",\"writingscore data\",\"writingscore data\",\"writingscore data\",\"writingscore data\",\"writingscore data\",\"writingscore data\",\"writingscore data\",\"writingscore data\",\"writingscore data\",\"writingscore data\",\"writingscore data\",\"writingscore data\",\"writingscore data\",\"writingscore data\",\"writingscore data\",\"writingscore data\",\"writingscore data\",\"writingscore data\",\"writingscore data\",\"writingscore data\",\"writingscore data\",\"writingscore data\",\"writingscore data\",\"writingscore data\",\"writingscore data\",\"writingscore data\",\"writingscore data\",\"writingscore data\",\"writingscore data\",\"writingscore data\",\"writingscore data\",\"writingscore data\",\"writingscore data\",\"writingscore data\",\"writingscore data\",\"writingscore data\",\"writingscore data\",\"writingscore data\",\"writingscore data\",\"writingscore data\",\"writingscore data\",\"writingscore data\",\"writingscore data\",\"writingscore data\",\"writingscore data\",\"writingscore data\",\"writingscore data\",\"writingscore data\",\"writingscore data\",\"writingscore data\",\"writingscore data\",\"writingscore data\",\"writingscore data\",\"writingscore data\",\"writingscore data\",\"writingscore data\",\"writingscore data\",\"writingscore data\",\"writingscore data\",\"writingscore data\",\"writingscore data\",\"writingscore data\",\"writingscore data\",\"writingscore data\",\"writingscore data\",\"writingscore data\",\"writingscore data\",\"writingscore data\",\"writingscore data\",\"writingscore data\",\"writingscore data\",\"writingscore data\",\"writingscore data\",\"writingscore data\",\"writingscore data\",\"writingscore data\",\"writingscore data\",\"writingscore data\",\"writingscore data\",\"writingscore data\",\"writingscore data\",\"writingscore data\",\"writingscore data\",\"writingscore data\",\"writingscore data\",\"writingscore data\",\"writingscore data\",\"writingscore data\",\"writingscore data\",\"writingscore data\",\"writingscore data\",\"writingscore data\",\"writingscore data\",\"writingscore data\",\"writingscore data\",\"writingscore data\",\"writingscore data\",\"writingscore data\",\"writingscore data\",\"writingscore data\",\"writingscore data\",\"writingscore data\",\"writingscore data\",\"writingscore data\",\"writingscore data\",\"writingscore data\",\"writingscore data\",\"writingscore data\",\"writingscore data\",\"writingscore data\",\"writingscore data\",\"writingscore data\",\"writingscore data\",\"writingscore data\",\"writingscore data\",\"writingscore data\",\"writingscore data\",\"writingscore data\",\"writingscore data\",\"writingscore data\",\"writingscore data\",\"writingscore data\",\"writingscore data\",\"writingscore data\",\"writingscore data\",\"writingscore data\",\"writingscore data\",\"writingscore data\",\"writingscore data\",\"writingscore data\",\"writingscore data\",\"writingscore data\",\"writingscore data\",\"writingscore data\",\"writingscore data\",\"writingscore data\",\"writingscore data\",\"writingscore data\",\"writingscore data\",\"writingscore data\",\"writingscore data\",\"writingscore data\",\"writingscore data\",\"writingscore data\",\"writingscore data\",\"writingscore data\",\"writingscore data\",\"writingscore data\",\"writingscore data\",\"writingscore data\",\"writingscore data\",\"writingscore data\",\"writingscore data\",\"writingscore data\",\"writingscore data\",\"writingscore data\",\"writingscore data\",\"writingscore data\",\"writingscore data\",\"writingscore data\",\"writingscore data\",\"writingscore data\",\"writingscore data\",\"writingscore data\",\"writingscore data\",\"writingscore data\",\"writingscore data\",\"writingscore data\",\"writingscore data\",\"writingscore data\",\"writingscore data\",\"writingscore data\",\"writingscore data\",\"writingscore data\",\"writingscore data\",\"writingscore data\",\"writingscore data\",\"writingscore data\",\"writingscore data\",\"writingscore data\",\"writingscore data\",\"writingscore data\",\"writingscore data\",\"writingscore data\",\"writingscore data\",\"writingscore data\",\"writingscore data\",\"writingscore data\",\"writingscore data\",\"writingscore data\",\"writingscore data\",\"writingscore data\",\"writingscore data\",\"writingscore data\",\"writingscore data\",\"writingscore data\",\"writingscore data\",\"writingscore data\",\"writingscore data\",\"writingscore data\",\"writingscore data\",\"writingscore data\",\"writingscore data\",\"writingscore data\",\"writingscore data\",\"writingscore data\",\"writingscore data\",\"writingscore data\",\"writingscore data\",\"writingscore data\",\"writingscore data\",\"writingscore data\",\"writingscore data\",\"writingscore data\",\"writingscore data\",\"writingscore data\",\"writingscore data\",\"writingscore data\",\"writingscore data\",\"writingscore data\",\"writingscore data\",\"writingscore data\",\"writingscore data\",\"writingscore data\",\"writingscore data\",\"writingscore data\",\"writingscore data\",\"writingscore data\",\"writingscore data\",\"writingscore data\",\"writingscore data\",\"writingscore data\",\"writingscore data\",\"writingscore data\",\"writingscore data\",\"writingscore data\",\"writingscore data\",\"writingscore data\",\"writingscore data\",\"writingscore data\",\"writingscore data\",\"writingscore data\",\"writingscore data\",\"writingscore data\",\"writingscore data\",\"writingscore data\",\"writingscore data\",\"writingscore data\",\"writingscore data\",\"writingscore data\",\"writingscore data\",\"writingscore data\",\"writingscore data\",\"writingscore data\",\"writingscore data\",\"writingscore data\",\"writingscore data\",\"writingscore data\",\"writingscore data\",\"writingscore data\",\"writingscore data\",\"writingscore data\",\"writingscore data\",\"writingscore data\",\"writingscore data\",\"writingscore data\",\"writingscore data\",\"writingscore data\",\"writingscore data\",\"writingscore data\",\"writingscore data\",\"writingscore data\",\"writingscore data\",\"writingscore data\",\"writingscore data\",\"writingscore data\",\"writingscore data\",\"writingscore data\",\"writingscore data\",\"writingscore data\",\"writingscore data\",\"writingscore data\",\"writingscore data\",\"writingscore data\",\"writingscore data\",\"writingscore data\",\"writingscore data\",\"writingscore data\",\"writingscore data\",\"writingscore data\",\"writingscore data\",\"writingscore data\",\"writingscore data\",\"writingscore data\",\"writingscore data\",\"writingscore data\",\"writingscore data\",\"writingscore data\",\"writingscore data\",\"writingscore data\",\"writingscore data\",\"writingscore data\",\"writingscore data\",\"writingscore data\",\"writingscore data\",\"writingscore data\",\"writingscore data\",\"writingscore data\",\"writingscore data\",\"writingscore data\",\"writingscore data\",\"writingscore data\",\"writingscore data\",\"writingscore data\",\"writingscore data\",\"writingscore data\",\"writingscore data\",\"writingscore data\",\"writingscore data\",\"writingscore data\",\"writingscore data\",\"writingscore data\",\"writingscore data\",\"writingscore data\",\"writingscore data\",\"writingscore data\",\"writingscore data\",\"writingscore data\",\"writingscore data\",\"writingscore data\",\"writingscore data\",\"writingscore data\",\"writingscore data\",\"writingscore data\",\"writingscore data\",\"writingscore data\",\"writingscore data\",\"writingscore data\",\"writingscore data\",\"writingscore data\",\"writingscore data\",\"writingscore data\",\"writingscore data\",\"writingscore data\",\"writingscore data\",\"writingscore data\",\"writingscore data\",\"writingscore data\",\"writingscore data\",\"writingscore data\",\"writingscore data\",\"writingscore data\",\"writingscore data\",\"writingscore data\",\"writingscore data\",\"writingscore data\",\"writingscore data\",\"writingscore data\",\"writingscore data\",\"writingscore data\",\"writingscore data\",\"writingscore data\",\"writingscore data\",\"writingscore data\",\"writingscore data\",\"writingscore data\",\"writingscore data\",\"writingscore data\",\"writingscore data\",\"writingscore data\",\"writingscore data\",\"writingscore data\",\"writingscore data\",\"writingscore data\",\"writingscore data\",\"writingscore data\",\"writingscore data\",\"writingscore data\",\"writingscore data\",\"writingscore data\",\"writingscore data\",\"writingscore data\",\"writingscore data\",\"writingscore data\",\"writingscore data\",\"writingscore data\",\"writingscore data\",\"writingscore data\",\"writingscore data\",\"writingscore data\",\"writingscore data\",\"writingscore data\",\"writingscore data\",\"writingscore data\",\"writingscore data\",\"writingscore data\",\"writingscore data\",\"writingscore data\",\"writingscore data\",\"writingscore data\",\"writingscore data\",\"writingscore data\",\"writingscore data\",\"writingscore data\",\"writingscore data\",\"writingscore data\",\"writingscore data\",\"writingscore data\",\"writingscore data\",\"writingscore data\",\"writingscore data\",\"writingscore data\",\"writingscore data\",\"writingscore data\",\"writingscore data\",\"writingscore data\",\"writingscore data\",\"writingscore data\",\"writingscore data\",\"writingscore data\",\"writingscore data\",\"writingscore data\",\"writingscore data\",\"writingscore data\",\"writingscore data\",\"writingscore data\",\"writingscore data\",\"writingscore data\",\"writingscore data\",\"writingscore data\",\"writingscore data\",\"writingscore data\",\"writingscore data\",\"writingscore data\",\"writingscore data\",\"writingscore data\",\"writingscore data\",\"writingscore data\",\"writingscore data\",\"writingscore data\",\"writingscore data\",\"writingscore data\",\"writingscore data\",\"writingscore data\",\"writingscore data\",\"writingscore data\",\"writingscore data\",\"writingscore data\",\"writingscore data\",\"writingscore data\",\"writingscore data\",\"writingscore data\",\"writingscore data\",\"writingscore data\",\"writingscore data\",\"writingscore data\",\"writingscore data\",\"writingscore data\",\"writingscore data\",\"writingscore data\",\"writingscore data\",\"writingscore data\",\"writingscore data\",\"writingscore data\",\"writingscore data\",\"writingscore data\",\"writingscore data\",\"writingscore data\",\"writingscore data\",\"writingscore data\",\"writingscore data\",\"writingscore data\",\"writingscore data\",\"writingscore data\",\"writingscore data\",\"writingscore data\",\"writingscore data\",\"writingscore data\",\"writingscore data\",\"writingscore data\",\"writingscore data\",\"writingscore data\",\"writingscore data\",\"writingscore data\",\"writingscore data\",\"writingscore data\",\"writingscore data\",\"writingscore data\",\"writingscore data\",\"writingscore data\",\"writingscore data\",\"writingscore data\",\"writingscore data\",\"writingscore data\",\"writingscore data\",\"writingscore data\",\"writingscore data\",\"writingscore data\",\"writingscore data\",\"writingscore data\",\"writingscore data\",\"writingscore data\",\"writingscore data\",\"writingscore data\",\"writingscore data\",\"writingscore data\",\"writingscore data\",\"writingscore data\",\"writingscore data\",\"writingscore data\",\"writingscore data\",\"writingscore data\",\"writingscore data\"],\"yaxis\":\"y2\",\"type\":\"scatter\"}],                        {\"barmode\":\"overlay\",\"hovermode\":\"closest\",\"legend\":{\"traceorder\":\"reversed\"},\"xaxis\":{\"anchor\":\"y2\",\"domain\":[0.0,1.0],\"zeroline\":false},\"yaxis\":{\"anchor\":\"free\",\"domain\":[0.35,1],\"position\":0.0},\"yaxis2\":{\"anchor\":\"x\",\"domain\":[0,0.25],\"dtick\":1,\"showticklabels\":false},\"template\":{\"data\":{\"histogram2dcontour\":[{\"type\":\"histogram2dcontour\",\"colorbar\":{\"outlinewidth\":0,\"ticks\":\"\"},\"colorscale\":[[0.0,\"#0d0887\"],[0.1111111111111111,\"#46039f\"],[0.2222222222222222,\"#7201a8\"],[0.3333333333333333,\"#9c179e\"],[0.4444444444444444,\"#bd3786\"],[0.5555555555555556,\"#d8576b\"],[0.6666666666666666,\"#ed7953\"],[0.7777777777777778,\"#fb9f3a\"],[0.8888888888888888,\"#fdca26\"],[1.0,\"#f0f921\"]]}],\"choropleth\":[{\"type\":\"choropleth\",\"colorbar\":{\"outlinewidth\":0,\"ticks\":\"\"}}],\"histogram2d\":[{\"type\":\"histogram2d\",\"colorbar\":{\"outlinewidth\":0,\"ticks\":\"\"},\"colorscale\":[[0.0,\"#0d0887\"],[0.1111111111111111,\"#46039f\"],[0.2222222222222222,\"#7201a8\"],[0.3333333333333333,\"#9c179e\"],[0.4444444444444444,\"#bd3786\"],[0.5555555555555556,\"#d8576b\"],[0.6666666666666666,\"#ed7953\"],[0.7777777777777778,\"#fb9f3a\"],[0.8888888888888888,\"#fdca26\"],[1.0,\"#f0f921\"]]}],\"heatmap\":[{\"type\":\"heatmap\",\"colorbar\":{\"outlinewidth\":0,\"ticks\":\"\"},\"colorscale\":[[0.0,\"#0d0887\"],[0.1111111111111111,\"#46039f\"],[0.2222222222222222,\"#7201a8\"],[0.3333333333333333,\"#9c179e\"],[0.4444444444444444,\"#bd3786\"],[0.5555555555555556,\"#d8576b\"],[0.6666666666666666,\"#ed7953\"],[0.7777777777777778,\"#fb9f3a\"],[0.8888888888888888,\"#fdca26\"],[1.0,\"#f0f921\"]]}],\"heatmapgl\":[{\"type\":\"heatmapgl\",\"colorbar\":{\"outlinewidth\":0,\"ticks\":\"\"},\"colorscale\":[[0.0,\"#0d0887\"],[0.1111111111111111,\"#46039f\"],[0.2222222222222222,\"#7201a8\"],[0.3333333333333333,\"#9c179e\"],[0.4444444444444444,\"#bd3786\"],[0.5555555555555556,\"#d8576b\"],[0.6666666666666666,\"#ed7953\"],[0.7777777777777778,\"#fb9f3a\"],[0.8888888888888888,\"#fdca26\"],[1.0,\"#f0f921\"]]}],\"contourcarpet\":[{\"type\":\"contourcarpet\",\"colorbar\":{\"outlinewidth\":0,\"ticks\":\"\"}}],\"contour\":[{\"type\":\"contour\",\"colorbar\":{\"outlinewidth\":0,\"ticks\":\"\"},\"colorscale\":[[0.0,\"#0d0887\"],[0.1111111111111111,\"#46039f\"],[0.2222222222222222,\"#7201a8\"],[0.3333333333333333,\"#9c179e\"],[0.4444444444444444,\"#bd3786\"],[0.5555555555555556,\"#d8576b\"],[0.6666666666666666,\"#ed7953\"],[0.7777777777777778,\"#fb9f3a\"],[0.8888888888888888,\"#fdca26\"],[1.0,\"#f0f921\"]]}],\"surface\":[{\"type\":\"surface\",\"colorbar\":{\"outlinewidth\":0,\"ticks\":\"\"},\"colorscale\":[[0.0,\"#0d0887\"],[0.1111111111111111,\"#46039f\"],[0.2222222222222222,\"#7201a8\"],[0.3333333333333333,\"#9c179e\"],[0.4444444444444444,\"#bd3786\"],[0.5555555555555556,\"#d8576b\"],[0.6666666666666666,\"#ed7953\"],[0.7777777777777778,\"#fb9f3a\"],[0.8888888888888888,\"#fdca26\"],[1.0,\"#f0f921\"]]}],\"mesh3d\":[{\"type\":\"mesh3d\",\"colorbar\":{\"outlinewidth\":0,\"ticks\":\"\"}}],\"scatter\":[{\"fillpattern\":{\"fillmode\":\"overlay\",\"size\":10,\"solidity\":0.2},\"type\":\"scatter\"}],\"parcoords\":[{\"type\":\"parcoords\",\"line\":{\"colorbar\":{\"outlinewidth\":0,\"ticks\":\"\"}}}],\"scatterpolargl\":[{\"type\":\"scatterpolargl\",\"marker\":{\"colorbar\":{\"outlinewidth\":0,\"ticks\":\"\"}}}],\"bar\":[{\"error_x\":{\"color\":\"#2a3f5f\"},\"error_y\":{\"color\":\"#2a3f5f\"},\"marker\":{\"line\":{\"color\":\"#E5ECF6\",\"width\":0.5},\"pattern\":{\"fillmode\":\"overlay\",\"size\":10,\"solidity\":0.2}},\"type\":\"bar\"}],\"scattergeo\":[{\"type\":\"scattergeo\",\"marker\":{\"colorbar\":{\"outlinewidth\":0,\"ticks\":\"\"}}}],\"scatterpolar\":[{\"type\":\"scatterpolar\",\"marker\":{\"colorbar\":{\"outlinewidth\":0,\"ticks\":\"\"}}}],\"histogram\":[{\"marker\":{\"pattern\":{\"fillmode\":\"overlay\",\"size\":10,\"solidity\":0.2}},\"type\":\"histogram\"}],\"scattergl\":[{\"type\":\"scattergl\",\"marker\":{\"colorbar\":{\"outlinewidth\":0,\"ticks\":\"\"}}}],\"scatter3d\":[{\"type\":\"scatter3d\",\"line\":{\"colorbar\":{\"outlinewidth\":0,\"ticks\":\"\"}},\"marker\":{\"colorbar\":{\"outlinewidth\":0,\"ticks\":\"\"}}}],\"scattermapbox\":[{\"type\":\"scattermapbox\",\"marker\":{\"colorbar\":{\"outlinewidth\":0,\"ticks\":\"\"}}}],\"scatterternary\":[{\"type\":\"scatterternary\",\"marker\":{\"colorbar\":{\"outlinewidth\":0,\"ticks\":\"\"}}}],\"scattercarpet\":[{\"type\":\"scattercarpet\",\"marker\":{\"colorbar\":{\"outlinewidth\":0,\"ticks\":\"\"}}}],\"carpet\":[{\"aaxis\":{\"endlinecolor\":\"#2a3f5f\",\"gridcolor\":\"white\",\"linecolor\":\"white\",\"minorgridcolor\":\"white\",\"startlinecolor\":\"#2a3f5f\"},\"baxis\":{\"endlinecolor\":\"#2a3f5f\",\"gridcolor\":\"white\",\"linecolor\":\"white\",\"minorgridcolor\":\"white\",\"startlinecolor\":\"#2a3f5f\"},\"type\":\"carpet\"}],\"table\":[{\"cells\":{\"fill\":{\"color\":\"#EBF0F8\"},\"line\":{\"color\":\"white\"}},\"header\":{\"fill\":{\"color\":\"#C8D4E3\"},\"line\":{\"color\":\"white\"}},\"type\":\"table\"}],\"barpolar\":[{\"marker\":{\"line\":{\"color\":\"#E5ECF6\",\"width\":0.5},\"pattern\":{\"fillmode\":\"overlay\",\"size\":10,\"solidity\":0.2}},\"type\":\"barpolar\"}],\"pie\":[{\"automargin\":true,\"type\":\"pie\"}]},\"layout\":{\"autotypenumbers\":\"strict\",\"colorway\":[\"#636efa\",\"#EF553B\",\"#00cc96\",\"#ab63fa\",\"#FFA15A\",\"#19d3f3\",\"#FF6692\",\"#B6E880\",\"#FF97FF\",\"#FECB52\"],\"font\":{\"color\":\"#2a3f5f\"},\"hovermode\":\"closest\",\"hoverlabel\":{\"align\":\"left\"},\"paper_bgcolor\":\"white\",\"plot_bgcolor\":\"#E5ECF6\",\"polar\":{\"bgcolor\":\"#E5ECF6\",\"angularaxis\":{\"gridcolor\":\"white\",\"linecolor\":\"white\",\"ticks\":\"\"},\"radialaxis\":{\"gridcolor\":\"white\",\"linecolor\":\"white\",\"ticks\":\"\"}},\"ternary\":{\"bgcolor\":\"#E5ECF6\",\"aaxis\":{\"gridcolor\":\"white\",\"linecolor\":\"white\",\"ticks\":\"\"},\"baxis\":{\"gridcolor\":\"white\",\"linecolor\":\"white\",\"ticks\":\"\"},\"caxis\":{\"gridcolor\":\"white\",\"linecolor\":\"white\",\"ticks\":\"\"}},\"coloraxis\":{\"colorbar\":{\"outlinewidth\":0,\"ticks\":\"\"}},\"colorscale\":{\"sequential\":[[0.0,\"#0d0887\"],[0.1111111111111111,\"#46039f\"],[0.2222222222222222,\"#7201a8\"],[0.3333333333333333,\"#9c179e\"],[0.4444444444444444,\"#bd3786\"],[0.5555555555555556,\"#d8576b\"],[0.6666666666666666,\"#ed7953\"],[0.7777777777777778,\"#fb9f3a\"],[0.8888888888888888,\"#fdca26\"],[1.0,\"#f0f921\"]],\"sequentialminus\":[[0.0,\"#0d0887\"],[0.1111111111111111,\"#46039f\"],[0.2222222222222222,\"#7201a8\"],[0.3333333333333333,\"#9c179e\"],[0.4444444444444444,\"#bd3786\"],[0.5555555555555556,\"#d8576b\"],[0.6666666666666666,\"#ed7953\"],[0.7777777777777778,\"#fb9f3a\"],[0.8888888888888888,\"#fdca26\"],[1.0,\"#f0f921\"]],\"diverging\":[[0,\"#8e0152\"],[0.1,\"#c51b7d\"],[0.2,\"#de77ae\"],[0.3,\"#f1b6da\"],[0.4,\"#fde0ef\"],[0.5,\"#f7f7f7\"],[0.6,\"#e6f5d0\"],[0.7,\"#b8e186\"],[0.8,\"#7fbc41\"],[0.9,\"#4d9221\"],[1,\"#276419\"]]},\"xaxis\":{\"gridcolor\":\"white\",\"linecolor\":\"white\",\"ticks\":\"\",\"title\":{\"standoff\":15},\"zerolinecolor\":\"white\",\"automargin\":true,\"zerolinewidth\":2},\"yaxis\":{\"gridcolor\":\"white\",\"linecolor\":\"white\",\"ticks\":\"\",\"title\":{\"standoff\":15},\"zerolinecolor\":\"white\",\"automargin\":true,\"zerolinewidth\":2},\"scene\":{\"xaxis\":{\"backgroundcolor\":\"#E5ECF6\",\"gridcolor\":\"white\",\"linecolor\":\"white\",\"showbackground\":true,\"ticks\":\"\",\"zerolinecolor\":\"white\",\"gridwidth\":2},\"yaxis\":{\"backgroundcolor\":\"#E5ECF6\",\"gridcolor\":\"white\",\"linecolor\":\"white\",\"showbackground\":true,\"ticks\":\"\",\"zerolinecolor\":\"white\",\"gridwidth\":2},\"zaxis\":{\"backgroundcolor\":\"#E5ECF6\",\"gridcolor\":\"white\",\"linecolor\":\"white\",\"showbackground\":true,\"ticks\":\"\",\"zerolinecolor\":\"white\",\"gridwidth\":2}},\"shapedefaults\":{\"line\":{\"color\":\"#2a3f5f\"}},\"annotationdefaults\":{\"arrowcolor\":\"#2a3f5f\",\"arrowhead\":0,\"arrowwidth\":1},\"geo\":{\"bgcolor\":\"white\",\"landcolor\":\"#E5ECF6\",\"subunitcolor\":\"white\",\"showland\":true,\"showlakes\":true,\"lakecolor\":\"white\"},\"title\":{\"x\":0.05},\"mapbox\":{\"style\":\"light\"}}}},                        {\"responsive\": true}                    ).then(function(){\n",
              "                            \n",
              "var gd = document.getElementById('ac6f86f8-dc9a-4cf0-a38d-38198bb8f157');\n",
              "var x = new MutationObserver(function (mutations, observer) {{\n",
              "        var display = window.getComputedStyle(gd).display;\n",
              "        if (!display || display === 'none') {{\n",
              "            console.log([gd, 'removed!']);\n",
              "            Plotly.purge(gd);\n",
              "            observer.disconnect();\n",
              "        }}\n",
              "}});\n",
              "\n",
              "// Listen for the removal of the full notebook cells\n",
              "var notebookContainer = gd.closest('#notebook-container');\n",
              "if (notebookContainer) {{\n",
              "    x.observe(notebookContainer, {childList: true});\n",
              "}}\n",
              "\n",
              "// Listen for the clearing of the current output cell\n",
              "var outputEl = gd.closest('.output');\n",
              "if (outputEl) {{\n",
              "    x.observe(outputEl, {childList: true});\n",
              "}}\n",
              "\n",
              "                        })                };                            </script>        </div>\n",
              "</body>\n",
              "</html>"
            ]
          },
          "metadata": {}
        }
      ]
    },
    {
      "cell_type": "code",
      "source": [
        "sscore2=df['writing score'].skew()                # skewness=0 perfect data, -0.5 to 0.5 =mild skewness ignore it.\n",
        "sscore2"
      ],
      "metadata": {
        "colab": {
          "base_uri": "https://localhost:8080/"
        },
        "id": "2i73hu2U7P9v",
        "outputId": "534d0cc1-d26e-4584-f059-2510ec485ab7"
      },
      "execution_count": null,
      "outputs": [
        {
          "output_type": "execute_result",
          "data": {
            "text/plain": [
              "np.float64(-0.28944397150761897)"
            ]
          },
          "metadata": {},
          "execution_count": 101
        }
      ]
    },
    {
      "cell_type": "code",
      "source": [
        "q1ws=df['writing score'].quantile(0.25)      # to find Q1, Q3, IQR, LowerBound, UpperBound\n",
        "q3ws=df['writing score'].quantile(0.75)\n",
        "IQR_ws=q3ws-q1ws\n",
        "lower_boundws=q1ws-1.5*IQR_ws\n",
        "upper_boundws=q3ws+1.5*IQR_ws\n",
        "\n",
        "print(f\"\"\"Q1:{q1ws}\n",
        "Q3:{q3ws}\n",
        "IQR:{IQR_ws}\n",
        "Lowerbound:{lower_boundws}\n",
        "Upperbound:{upper_boundws}\"\"\")"
      ],
      "metadata": {
        "colab": {
          "base_uri": "https://localhost:8080/"
        },
        "id": "_JQUcZcX7QAz",
        "outputId": "52a9b7bc-00bd-4c44-97a3-9d1bf1b5ff3f"
      },
      "execution_count": null,
      "outputs": [
        {
          "output_type": "stream",
          "name": "stdout",
          "text": [
            "Q1:57.75\n",
            "Q3:79.0\n",
            "IQR:21.25\n",
            "Lowerbound:25.875\n",
            "Upperbound:110.875\n"
          ]
        }
      ]
    },
    {
      "cell_type": "code",
      "source": [
        "df['writing score'].shape"
      ],
      "metadata": {
        "colab": {
          "base_uri": "https://localhost:8080/"
        },
        "id": "jkKq_g8AWFrI",
        "outputId": "d389681d-baae-44c2-a586-beeb628dcaa5"
      },
      "execution_count": null,
      "outputs": [
        {
          "output_type": "execute_result",
          "data": {
            "text/plain": [
              "(1000,)"
            ]
          },
          "metadata": {},
          "execution_count": 110
        }
      ]
    },
    {
      "cell_type": "code",
      "source": [
        "newdfws=df[(df['writing score']>lower_boundws) & (df['writing score']<upper_boundws)]        # outlier removal\n",
        "newdfws.shape"
      ],
      "metadata": {
        "colab": {
          "base_uri": "https://localhost:8080/"
        },
        "id": "ZFw6i8u9WF8U",
        "outputId": "68b8aadc-73b8-49a1-9d0e-a30f338425f6"
      },
      "execution_count": null,
      "outputs": [
        {
          "output_type": "execute_result",
          "data": {
            "text/plain": [
              "(995, 8)"
            ]
          },
          "metadata": {},
          "execution_count": 111
        }
      ]
    },
    {
      "cell_type": "code",
      "source": [
        "1000-995"
      ],
      "metadata": {
        "colab": {
          "base_uri": "https://localhost:8080/"
        },
        "outputId": "fe34233a-faf9-42a1-b68a-4619960deb0f",
        "id": "f4L_cz07Z6cI"
      },
      "execution_count": null,
      "outputs": [
        {
          "output_type": "execute_result",
          "data": {
            "text/plain": [
              "5"
            ]
          },
          "metadata": {},
          "execution_count": 113
        }
      ]
    },
    {
      "cell_type": "code",
      "source": [
        "new_wssscore=newdfws['writing score'].skew()         # after oulier removal skewness score\n",
        "new_wssscore"
      ],
      "metadata": {
        "colab": {
          "base_uri": "https://localhost:8080/"
        },
        "id": "BwF3hA7KWGPV",
        "outputId": "09b6d3e5-5e88-4883-850d-1be51eba548e"
      },
      "execution_count": null,
      "outputs": [
        {
          "output_type": "execute_result",
          "data": {
            "text/plain": [
              "np.float64(-0.1632353356440884)"
            ]
          },
          "metadata": {},
          "execution_count": 115
        }
      ]
    },
    {
      "cell_type": "code",
      "source": [
        "sns.boxplot(x=newdfws['writing score'])          # after outlier removal"
      ],
      "metadata": {
        "colab": {
          "base_uri": "https://localhost:8080/",
          "height": 466
        },
        "id": "Yuoe5oVobIfJ",
        "outputId": "f677070f-bfe2-4648-8574-b002916b1a3a"
      },
      "execution_count": null,
      "outputs": [
        {
          "output_type": "execute_result",
          "data": {
            "text/plain": [
              "<Axes: xlabel='writing score'>"
            ]
          },
          "metadata": {},
          "execution_count": 116
        },
        {
          "output_type": "display_data",
          "data": {
            "text/plain": [
              "<Figure size 640x480 with 1 Axes>"
            ],
            "image/png": "[encoded data removed]"
          },
          "metadata": {}
        }
      ]
    },
    {
      "cell_type": "code",
      "source": [
        "figws=ff.create_distplot([newdfrs['writing score']],['writingscore data'],show_hist=False)    #   after outlier removal Skewness graph\n",
        "figws.show()"
      ],
      "metadata": {
        "colab": {
          "base_uri": "https://localhost:8080/",
          "height": 542
        },
        "id": "JQVbjWGxbIxj",
        "outputId": "b068d23d-aace-464c-ec25-431c6b9240e2"
      },
      "execution_count": null,
      "outputs": [
        {
          "output_type": "display_data",
          "data": {
            "text/html": [
              "<html>\n",
              "<head><meta charset=\"utf-8\" /></head>\n",
              "<body>\n",
              "    <div>            <script src=\"https://cdnjs.cloudflare.com/ajax/libs/mathjax/2.7.5/MathJax.js?config=TeX-AMS-MML_SVG\"></script><script type=\"text/javascript\">if (window.MathJax && window.MathJax.Hub && window.MathJax.Hub.Config) {window.MathJax.Hub.Config({SVG: {font: \"STIX-Web\"}});}</script>                <script type=\"text/javascript\">window.PlotlyConfig = {MathJaxConfig: 'local'};</script>\n",
              "        <script charset=\"utf-8\" src=\"https://cdn.plot.ly/plotly-2.35.2.min.js\"></script>                <div id=\"786d81ad-ec62-4ef0-9500-b5e8d9e21b0d\" class=\"plotly-graph-div\" style=\"height:525px; width:100%;\"></div>            <script type=\"text/javascript\">                                    window.PLOTLYENV=window.PLOTLYENV || {};                                    if (document.getElementById(\"786d81ad-ec62-4ef0-9500-b5e8d9e21b0d\")) {                    Plotly.newPlot(                        \"786d81ad-ec62-4ef0-9500-b5e8d9e21b0d\",                        [{\"legendgroup\":\"writingscore data\",\"marker\":{\"color\":\"rgb(31, 119, 180)\"},\"mode\":\"lines\",\"name\":\"writingscore data\",\"showlegend\":true,\"x\":[27.0,27.146,27.292,27.438,27.584,27.73,27.876,28.022,28.168,28.314,28.46,28.606,28.752,28.898,29.044,29.19,29.336,29.482,29.628,29.774,29.92,30.066,30.212,30.358,30.504,30.65,30.796,30.942,31.088,31.234,31.38,31.526,31.672,31.817999999999998,31.964,32.11,32.256,32.402,32.548,32.694,32.84,32.986,33.132,33.278,33.424,33.57,33.716,33.862,34.008,34.153999999999996,34.3,34.446,34.592,34.738,34.884,35.03,35.176,35.322,35.468,35.614000000000004,35.76,35.906,36.052,36.198,36.344,36.49,36.635999999999996,36.782,36.928,37.074,37.22,37.366,37.512,37.658,37.804,37.95,38.096000000000004,38.242000000000004,38.388,38.534,38.68,38.826,38.972,39.118,39.263999999999996,39.41,39.556,39.702,39.848,39.994,40.14,40.286,40.432,40.578,40.724000000000004,40.87,41.016,41.162,41.308,41.454,41.6,41.746,41.891999999999996,42.038,42.184,42.33,42.476,42.622,42.768,42.914,43.06,43.206,43.352000000000004,43.498000000000005,43.644,43.79,43.936,44.082,44.228,44.373999999999995,44.519999999999996,44.666,44.812,44.958,45.104,45.25,45.396,45.542,45.688,45.834,45.980000000000004,46.126000000000005,46.272,46.418,46.564,46.71,46.856,47.001999999999995,47.147999999999996,47.294,47.44,47.586,47.732,47.878,48.024,48.17,48.316,48.462,48.608000000000004,48.754000000000005,48.9,49.046,49.192,49.338,49.484,49.629999999999995,49.775999999999996,49.922,50.068,50.214,50.36,50.506,50.652,50.798,50.944,51.09,51.236000000000004,51.382000000000005,51.528,51.674,51.82,51.966,52.111999999999995,52.257999999999996,52.403999999999996,52.55,52.696,52.842,52.988,53.134,53.28,53.426,53.572,53.718,53.864000000000004,54.010000000000005,54.156,54.302,54.448,54.594,54.739999999999995,54.885999999999996,55.032,55.178,55.324,55.47,55.616,55.762,55.908,56.054,56.2,56.346000000000004,56.492000000000004,56.638000000000005,56.784,56.93,57.076,57.222,57.367999999999995,57.513999999999996,57.66,57.806,57.952,58.098,58.244,58.39,58.536,58.682,58.828,58.974000000000004,59.12,59.266,59.412,59.558,59.704,59.85,59.996,60.142,60.288,60.434,60.58,60.726,60.872,61.018,61.164,61.31,61.456,61.602,61.748,61.894,62.04,62.186,62.332,62.478,62.624,62.77,62.916,63.062,63.208,63.354,63.5,63.646,63.792,63.938,64.084,64.22999999999999,64.376,64.52199999999999,64.668,64.814,64.96000000000001,65.106,65.25200000000001,65.398,65.544,65.69,65.836,65.982,66.128,66.274,66.42,66.566,66.712,66.858,67.00399999999999,67.15,67.29599999999999,67.44200000000001,67.588,67.73400000000001,67.88,68.02600000000001,68.172,68.318,68.464,68.61,68.756,68.902,69.048,69.194,69.34,69.48599999999999,69.632,69.77799999999999,69.924,70.07,70.21600000000001,70.362,70.50800000000001,70.654,70.8,70.946,71.092,71.238,71.384,71.53,71.676,71.822,71.968,72.114,72.25999999999999,72.406,72.55199999999999,72.69800000000001,72.844,72.99000000000001,73.136,73.282,73.428,73.574,73.72,73.866,74.012,74.158,74.304,74.45,74.596,74.74199999999999,74.888,75.03399999999999,75.18,75.326,75.47200000000001,75.618,75.76400000000001,75.91,76.056,76.202,76.348,76.494,76.64,76.786,76.932,77.078,77.22399999999999,77.37,77.51599999999999,77.662,77.80799999999999,77.95400000000001,78.1,78.24600000000001,78.392,78.538,78.684,78.83,78.976,79.122,79.268,79.414,79.56,79.706,79.852,79.99799999999999,80.144,80.28999999999999,80.436,80.582,80.72800000000001,80.874,81.02000000000001,81.166,81.312,81.458,81.604,81.75,81.896,82.042,82.188,82.334,82.47999999999999,82.626,82.77199999999999,82.918,83.064,83.21000000000001,83.356,83.50200000000001,83.648,83.794,83.94,84.086,84.232,84.378,84.524,84.67,84.816,84.962,85.108,85.25399999999999,85.4,85.54599999999999,85.69200000000001,85.838,85.98400000000001,86.13,86.27600000000001,86.422,86.568,86.714,86.86,87.006,87.152,87.298,87.444,87.59,87.73599999999999,87.882,88.02799999999999,88.174,88.32,88.46600000000001,88.612,88.75800000000001,88.904,89.05,89.196,89.342,89.488,89.634,89.78,89.926,90.072,90.218,90.364,90.50999999999999,90.656,90.80199999999999,90.94800000000001,91.094,91.24,91.386,91.532,91.678,91.824,91.97,92.116,92.262,92.408,92.554,92.7,92.846,92.992,93.138,93.284,93.43,93.576,93.722,93.868,94.014,94.16,94.306,94.452,94.598,94.744,94.89,95.036,95.182,95.328,95.474,95.62,95.766,95.912,96.058,96.204,96.35,96.496,96.642,96.788,96.934,97.08,97.226,97.372,97.518,97.664,97.81,97.956,98.102,98.248,98.394,98.54,98.686,98.832,98.978,99.124,99.27,99.416,99.562,99.708,99.854],\"xaxis\":\"x\",\"y\":[0.00046173880209485625,0.00048055280139433986,0.0004999796264590036,0.0005200384872409074,0.000540748719574081,0.0005621296807489811,0.0005842006405081689,0.000606980668735055,0.0006304885212052453,0.0006547425248503726,0.0006797604640456503,0.0007055594694731654,0.0007321559111316682,0.000759565297059823,0.0007878021793123258,0.0008168800686775679,0.0008468113595509172,0.0008776072662803879,0.0009092777721820828,0.0009418315922825484,0.0009752761506858023,0.0010096175732860497,0.0010448606963553797,0.001081009091331152,0.0011180651059134743,0.0011560299213614182,0.001194903625650937,0.0012346853019303097,0.0012753731314840287,0.0013169645101960238,0.0013594561772908831,0.0014028443549309396,0.0014471248970595956,0.0014922934457104718,0.0015383455928496487,0.0015852770456874939,0.0016330837932881028,0.0016817622722209778,0.0017313095289422803,0.0017817233765622248,0.0018330025436529682,0.0018851468127772271,0.0019381571464721417,0.0019920357985058505,0.0020467864083352637,0.0021024140768313997,0.0021589254215034514,0.0022163286096421805,0.0022746333680162857,0.0023338509679907186,0.002393994185190251,0.0024550772331046102,0.0025171156703187388,0.0025801262813528996,0.0026441269314068662,0.002709136395620689,0.002775174163785472,0.0028422602217596984,0.0029104148111663425,0.002979658169259606,0.0030500102511540244,0.003121490436900247,0.003194117226165962,0.0032679079235354964,0.0033428783176725255,0.0034190423577943603,0.003496411831080661,0.0035749960447799952,0.0036548015168818195,0.0037358316792882405,0.0038180865974436285,0.0039015627103623947,0.003986252594932355,0.00407214475826207,0.004159223461686168,0.0042474685798411585,0.004336855497976738,0.004427355050375865,0.004518933502421295,0.004611552578469638,0.004705169537279784,0.004799737296292504,0.004895204605578478,0.004991516271764534,0.005088613431721054,0.005186433875248479,0.0052849124154480944,0.005383981304903648,0.005483570695245161,0.005583609137119631,0.005684024117061764,0.005784742627248887,0.005885691763642564,0.005986799347573316,0.006087994565417579,0.006189208620657337,0.006290375392300501,0.006391432093388892,0.006492319923123431,0.0065929847060056,0.0066933775113255795,0.006793455246329227,0.006893181216462527,0.006992525646230982,0.007091466154413992,0.007189988177649643,0.007288085336739823,0.007385759740428465,0.007483022221864496,0.007579892503477459,0.0076763992865621945,0.007772580262482427,0.007868482043060461,0.007964160008411625,0.008059678071204106,0.008155108357072513,0.008250530801673471,0.008346032665649875,0.008441707969544548,0.008537656851481853,0.008633984851200639,0.008730802124771422,0.008828222595057037,0.008926363043673094,0.00902534215086456,0.009125279490333772,0.009226294486624402,0.00932850534318127,0.009432027949661324,0.009536974777461344,0.009643453772747565,0.009751567256518087,0.009861410841395026,0.009973072374927552,0.010086630919186245,0.010202155776338989,0.010319705569721416,0.010439327389643404,0.0105610560128156,0.01068491320382573,0.010810907106557058,0.010939031732813806,0.011069266554706648,0.011201576206564682,0.011335910301272525,0.011472203365004001,0.011610374893326609,0.011750329530609824,0.011891957373579651,0.012035134398738274,0.012179723012225014,0.012325572719534392,0.012472520911351159,0.012620393760616487,0.012769007224819771,0.012918168146427088,0.013067675443325964,0.013217321380194273,0.0133668929108097,0.0135161730805036,0.013664942477254865,0.013812980719312605,0.013960067966748984,0.01410598644397871,0.014250521960042926,0.01439346541335877,0.01453461426766674,0.014673773986086809,0.014810759410506788,0.014945396073975712,0.015077521434361748,0.01520698601824233,0.01533365446482896,0.01545740646067108,0.015578137556929503,0.015695759862147402,0.01581020260465784,0.01592141256004589,0.016029354340408405,0.016134010543516458,0.016235381761361307,0.016333486448947068,0.016428360655559325,0.016520057622075365,0.01660864724917296,0.01669421544252896,0.016776863342252143,0.016856706444871604,0.01693387362716692,0.01700850608199721,0.017080756177020526,0.017150786247820245,0.017218767337436314,0.01728487789464701,0.017349302443557656,0.01741223023711664,0.017473853907112667,0.017534368122992076,0.017593968271495557,0.01765284916864223,0.017711203814997026,0.017769222204453004,0.017827090195956876,0.01788498845670307,0.01794309148434783,0.01800156671474812,0.018060573720629462,0.018120263505450346,0.018180777895562977,0.018242249032596386,0.01830479896681075,0.01836853935101896,0.018433571233543437,0.018499984947596228,0.018567860093446544,0.018637265608784287,0.01870825992181599,0.018780891180841686,0.01885519755337809,0.018931207587314355,0.019008940626116123,0.01908840726974786,0.01916960987274777,0.01925254307078461,0.01933719432703388,0.019423544489842424,0.01951156835339579,0.01960123521346159,0.019692509410739484,0.019785350854906986,0.019879715523094522,0.01997555592724067,0.020072821545564716,0.020171459214228617,0.020271413476137302,0.020372626884722887,0.02047504026147345,0.02057859290687101,0.02068322276529247,0.020788866545287915,0.020895459797457716,0.021002936952909355,0.02111123132595434,0.02122027508531373,0.021329999198611456,0.021440333355353086,0.02155120587390225,0.021662543598165523,0.021774271789799016,0.021886314021724328,0.021998592078617818,0.022111025869799072,0.022223533359609145,0.022336030519929273,0.022448431308977227,0.02256064767991232,0.022672589622120428,0.022784165237326924,0.022895280851931522,0.02300584116617005,0.02311574943991263,0.02322490771411966,0.023333217066194557,0.0234405778967411,0.023546890244527708,0.023652054125840555,0.02375596989382975,0.023858538612987087,0.023959662443496472,0.024059245029913752,0.02415719188844993,0.024253410787049803,0.02434781211250185,0.024440309218948797,0.024530818752428213,0.02461926094641759,0.024705559883810846,0.024789643721288137,0.02487144487265267,0.024950900148387554,0.025027950849414914,0.025102542813811513,0.025174626416028002,0.025244156518962575,0.025311092380036142,0.025375397513192358,0.025437039509485917,0.025495989819610765,0.025552223502347524,0.025605718943458942,0.025656457550027854,0.025704423425604372,0.02574960303179772,0.02579198484211381,0.02583155899389169,0.025868316944142704,0.025902251134929277,0.02593335467365505,0.02596162103327867,0.025987043776995962,0.02600961631140945,0.026029331671589825,0.0260461823407683,0.02606016010668927,0.026071255955910044,0.026079460006580568,0.02608476147947303,0.026087148706296664,0.02608660917361298,0.026083129600003127,0.026076696043522245,0.02606729403593398,0.026054908739752032,0.026039525123737185,0.02602112815221983,0.02599970298342841,0.025975235171929855,0.025947710870310003,0.02591711702534457,0.025883441564141903,0.025846673566051918,0.025806803416545152,0.02576382293974765,0.025717725506864388,0.025668506118338763,0.025616161458233127,0.025560689920005375,0.025502091603542165,0.025440368284006858,0.025375523353745048,0.025307561739139943,0.02523648979492896,0.025162315179051965,0.025085046711604185,0.025004694221882912,0.024921268387871325,0.024834780572746733,0.024745242663163632,0.024652666914128037,0.024557065805238962,0.02445845191294806,0.024356837803250278,0.024252235948913282,0.02414465867494531,0.024034118135515606,0.023920626325012316,0.023804195125299805,0.023684836390597132,0.02356256207071269,0.02343738437265905,0.023309315959957576,0.023178370188227344,0.02304456137495699,0.022907905100685536,0.02276841853819048,0.022626120805702594,0.022481033339644758,0.022333180281945267,0.0221825888765991,0.022029289869857825,0.02187331790822704,0.021714711928323804,0.021553515532631174,0.02138977734524062,0.021223551341830026,0.02105489714836123,0.02088388030329728,0.02071057247853522,0.020535051654709455,0.020357402247043258,0.0201777151784997,0.019996087897600833,0.019812624338930513,0.019627434825013952,0.019440635908948647,0.019252350157853284,0.01906270587788332,0.01887183678223028,0.018679881604162975,0.01848698365778092,0.018293290349719365,0.01809895264557067,0.01790412449525729,0.017708962222009593,0.0175136238799549,0.0173182685856188,0.017123055828868868,0.01692814476899402,0.016733693521713958,0.01653985844294919,0.01634679341515937,0.01615464914197473,0.01596357245670937,0.015773705650157087,0.015585185822838238,0.015398144266588762,0.015212705880073497,0.015028988622459705,0.014847103009118675,0.014667151652832701,0.014489228853575566,0.014313420239515732,0.014139802461466608,0.01396844294257493,0.013799399684612614,0.01363272113180835,0.013468446092738754,0.01330660372038874,0.013147213550091044,0.012990285594673507,0.01283582049576825,0.012683809729886576,0.012534235867521332,0.012387072883222867,0.012242286514285662,0.012099834665402152,0.011959667856370123,0.011821729709690202,0.011685957474660688,0.011552282584360413,0.011420631241717502,0.011290925030683907,0.011163081548379224,0.01103701505392726,0.010912637129592598,0.01078985734972627,0.010668583952954693,0.010548724512993454,0.010430186603440963,0.010312878451902202,0.010196709578819739,0.010081591416440381,0.009967437903428373,0.009854166050750067,0.009741696474600218,0.00962995389231813,0.009518867577455872,0.009408371770407938,0.009298406041293068,0.009188915602098254,0.009079851565445414,0.008971171147726914,0.00886283781477427,0.008754821368671891,0.00864709797480448,0.008539650128726727,0.008432466562968406,0.008325542094427976,0.008218877413561084,0.0081124788171338,0.008006357886874472,0.00790053111691993,0.00779501949350485,0.007689848030879256,0.007585045267951881,0.007480642730643963,0.007376674365382395,0.007273175949566864,0.007170184485199402,0.007067737582160842,0.006965872837852433,0.006864627220088363,0.006764036460214249,0.006664134463444364,0.006564952743342847,0.006466519887224911,0.006368861059022116,0.006271997545835962,0.006175946354004652,0.006080719860024087,0.005986325521104914,0.005892765649514564,0.0058000372541548275,0.005708131952065966,0.005617035951740832,0.0055267301092812885,0.005437190057548832,0.005348386407561182,0.005260285020478723,0.005172847347622385,0.005086030835079299,0.0049997893885985354,0.004914073893667601,0.004828832784905005,0.0047440126582153986,0.004659558918543574,0.004575416455541918,0.004491530339040206,0.004407846525886535,0.004324312569518086,0.004240878323524929,0.004157496630491731,0.004074123987543128,0.003990721180274312,0.003907253877120726,0.0038236931766995916,0.0037400161012399753,0.0036562060298947975,0.0035722530664901247,0.003488154337102682],\"yaxis\":\"y\",\"type\":\"scatter\"},{\"legendgroup\":\"writingscore data\",\"marker\":{\"color\":\"rgb(31, 119, 180)\",\"symbol\":\"line-ns-open\"},\"mode\":\"markers\",\"name\":\"writingscore data\",\"showlegend\":false,\"x\":[74,88,93,44,75,78,92,39,67,50,52,43,73,70,58,78,86,28,46,61,63,70,53,73,80,72,55,75,65,75,74,61,65,38,82,79,83,59,88,57,54,68,65,66,54,57,62,76,76,82,48,68,42,75,87,43,86,49,58,72,34,55,71,59,61,37,74,56,57,73,63,48,56,41,38,81,72,68,50,45,54,63,34,82,88,74,67,82,74,36,71,50,92,82,62,70,62,62,67,74,89,47,90,72,100,64,70,72,98,49,47,54,100,74,82,79,61,65,89,92,93,56,73,86,67,74,74,51,82,40,70,84,75,48,41,56,67,69,71,64,54,47,78,33,75,66,81,93,69,68,66,47,61,88,78,60,87,64,74,85,52,49,91,100,51,78,78,70,74,78,81,70,54,87,58,77,62,100,75,66,47,70,49,65,65,68,45,87,69,79,66,62,85,52,65,51,55,76,86,77,69,68,42,78,62,76,76,66,79,60,56,81,75,88,39,70,56,74,73,62,75,73,54,71,54,64,94,66,42,83,78,84,77,67,74,51,80,66,83,55,43,69,71,74,68,62,53,49,83,70,72,52,70,68,77,78,81,77,78,51,90,68,41,81,77,95,70,61,42,58,71,76,73,93,75,80,57,42,46,84,78,46,82,88,82,76,77,68,70,57,75,80,60,43,68,50,75,81,52,81,64,83,69,81,44,67,52,80,57,68,69,75,65,91,78,69,63,84,79,80,53,43,94,62,77,51,61,35,53,81,95,66,69,43,27,60,52,63,74,67,67,75,57,95,66,76,69,52,80,57,70,70,61,69,61,89,59,78,58,32,58,60,53,61,58,85,71,70,72,96,73,41,82,100,77,62,83,95,71,45,43,75,70,67,64,75,59,77,67,56,77,41,63,95,57,54,67,43,55,100,62,68,63,77,56,85,74,78,60,67,79,69,68,67,62,54,93,64,67,80,34,62,86,65,53,54,59,70,55,50,66,53,64,73,51,82,79,80,69,76,73,77,60,80,42,72,85,97,74,49,62,47,89,48,100,68,55,45,76,91,62,91,38,65,85,76,90,74,84,61,91,83,66,72,70,67,68,56,61,46,54,71,56,74,57,82,76,70,90,90,68,66,52,76,68,72,82,92,54,92,54,80,66,54,77,87,73,43,52,62,94,85,84,73,78,79,52,84,57,50,49,59,60,43,47,70,73,53,58,94,68,83,58,62,71,86,68,80,79,89,66,80,97,64,64,69,65,88,50,64,40,33,79,66,70,62,79,74,92,80,46,45,100,78,47,67,70,92,56,64,71,53,52,89,58,68,96,80,78,80,77,76,73,62,65,65,54,50,64,73,99,72,48,73,81,63,80,51,90,62,82,54,62,65,63,66,91,74,93,72,38,83,84,68,54,56,52,86,62,99,63,46,46,55,70,65,81,85,80,64,81,88,74,73,51,90,79,80,60,81,65,68,55,81,53,76,98,74,79,67,64,61,58,85,73,63,69,67,63,60,71,87,61,77,68,50,76,84,78,66,76,76,78,60,74,60,54,44,68,100,68,73,44,83,53,78,81,73,56,86,90,70,79,59,82,72,87,67,64,65,36,52,79,58,90,85,99,84,74,87,72,99,74,80,70,59,88,42,41,71,77,57,84,37,80,43,94,44,57,59,84,73,73,55,72,56,82,72,47,74,71,68,59,86,68,65,75,85,53,92,52,72,65,77,64,54,86,63,59,72,77,60,75,57,49,74,72,79,60,55,70,43,82,82,57,84,82,62,79,44,77,32,61,61,60,70,69,77,51,73,70,81,54,57,68,73,95,87,78,74,75,40,69,51,36,49,67,76,83,87,64,76,68,88,92,93,51,82,52,58,70,76,81,53,57,89,58,89,45,74,57,79,53,73,46,51,36,76,64,84,85,50,68,69,67,63,93,61,55,96,65,81,46,72,53,87,38,80,91,88,52,41,72,51,47,76,78,82,61,66,84,54,80,74,66,70,71,44,54,80,95,59,74,48,91,85,73,75,69,38,79,63,82,89,74,41,100,84,77,51,91,72,70,48,82,66,66,55,66,100,52,80,91,67,46,66,65,69,60,52,71,44,51,70,62,73,74,90,58,53,57,85,69,72,96,64,61,61,58,80,60,52,73,71,83,72,54,69,62,81,100,59,71,64,53,100,75,58,72,64,60,67,80,100,69,60,61,67,77,60,58,48,94,78,86,91,82,54,51,76,45,83,75,78,76,74,62,95,55,65,77,86],\"xaxis\":\"x\",\"y\":[\"writingscore data\",\"writingscore data\",\"writingscore data\",\"writingscore data\",\"writingscore data\",\"writingscore data\",\"writingscore data\",\"writingscore data\",\"writingscore data\",\"writingscore data\",\"writingscore data\",\"writingscore data\",\"writingscore data\",\"writingscore data\",\"writingscore data\",\"writingscore data\",\"writingscore data\",\"writingscore data\",\"writingscore data\",\"writingscore data\",\"writingscore data\",\"writingscore data\",\"writingscore data\",\"writingscore data\",\"writingscore data\",\"writingscore data\",\"writingscore data\",\"writingscore data\",\"writingscore data\",\"writingscore data\",\"writingscore data\",\"writingscore data\",\"writingscore data\",\"writingscore data\",\"writingscore data\",\"writingscore data\",\"writingscore data\",\"writingscore data\",\"writingscore data\",\"writingscore data\",\"writingscore data\",\"writingscore data\",\"writingscore data\",\"writingscore data\",\"writingscore data\",\"writingscore data\",\"writingscore data\",\"writingscore data\",\"writingscore data\",\"writingscore data\",\"writingscore data\",\"writingscore data\",\"writingscore data\",\"writingscore data\",\"writingscore data\",\"writingscore data\",\"writingscore data\",\"writingscore data\",\"writingscore data\",\"writingscore data\",\"writingscore data\",\"writingscore data\",\"writingscore data\",\"writingscore data\",\"writingscore data\",\"writingscore data\",\"writingscore data\",\"writingscore data\",\"writingscore data\",\"writingscore data\",\"writingscore data\",\"writingscore data\",\"writingscore data\",\"writingscore data\",\"writingscore data\",\"writingscore data\",\"writingscore data\",\"writingscore data\",\"writingscore data\",\"writingscore data\",\"writingscore data\",\"writingscore data\",\"writingscore data\",\"writingscore data\",\"writingscore data\",\"writingscore data\",\"writingscore data\",\"writingscore data\",\"writingscore data\",\"writingscore data\",\"writingscore data\",\"writingscore data\",\"writingscore data\",\"writingscore data\",\"writingscore data\",\"writingscore data\",\"writingscore data\",\"writingscore data\",\"writingscore data\",\"writingscore data\",\"writingscore data\",\"writingscore data\",\"writingscore data\",\"writingscore data\",\"writingscore data\",\"writingscore data\",\"writingscore data\",\"writingscore data\",\"writingscore data\",\"writingscore data\",\"writingscore data\",\"writingscore data\",\"writingscore data\",\"writingscore data\",\"writingscore data\",\"writingscore data\",\"writingscore data\",\"writingscore data\",\"writingscore data\",\"writingscore data\",\"writingscore data\",\"writingscore data\",\"writingscore data\",\"writingscore data\",\"writingscore data\",\"writingscore data\",\"writingscore data\",\"writingscore data\",\"writingscore data\",\"writingscore data\",\"writingscore data\",\"writingscore data\",\"writingscore data\",\"writingscore data\",\"writingscore data\",\"writingscore data\",\"writingscore data\",\"writingscore data\",\"writingscore data\",\"writingscore data\",\"writingscore data\",\"writingscore data\",\"writingscore data\",\"writingscore data\",\"writingscore data\",\"writingscore data\",\"writingscore data\",\"writingscore data\",\"writingscore data\",\"writingscore data\",\"writingscore data\",\"writingscore data\",\"writingscore data\",\"writingscore data\",\"writingscore data\",\"writingscore data\",\"writingscore data\",\"writingscore data\",\"writingscore data\",\"writingscore data\",\"writingscore data\",\"writingscore data\",\"writingscore data\",\"writingscore data\",\"writingscore data\",\"writingscore data\",\"writingscore data\",\"writingscore data\",\"writingscore data\",\"writingscore data\",\"writingscore data\",\"writingscore data\",\"writingscore data\",\"writingscore data\",\"writingscore data\",\"writingscore data\",\"writingscore data\",\"writingscore data\",\"writingscore data\",\"writingscore data\",\"writingscore data\",\"writingscore data\",\"writingscore data\",\"writingscore data\",\"writingscore data\",\"writingscore data\",\"writingscore data\",\"writingscore data\",\"writingscore data\",\"writingscore data\",\"writingscore data\",\"writingscore data\",\"writingscore data\",\"writingscore data\",\"writingscore data\",\"writingscore data\",\"writingscore data\",\"writingscore data\",\"writingscore data\",\"writingscore data\",\"writingscore data\",\"writingscore data\",\"writingscore data\",\"writingscore data\",\"writingscore data\",\"writingscore data\",\"writingscore data\",\"writingscore data\",\"writingscore data\",\"writingscore data\",\"writingscore data\",\"writingscore data\",\"writingscore data\",\"writingscore data\",\"writingscore data\",\"writingscore data\",\"writingscore data\",\"writingscore data\",\"writingscore data\",\"writingscore data\",\"writingscore data\",\"writingscore data\",\"writingscore data\",\"writingscore data\",\"writingscore data\",\"writingscore data\",\"writingscore data\",\"writingscore data\",\"writingscore data\",\"writingscore data\",\"writingscore data\",\"writingscore data\",\"writingscore data\",\"writingscore data\",\"writingscore data\",\"writingscore data\",\"writingscore data\",\"writingscore data\",\"writingscore data\",\"writingscore data\",\"writingscore data\",\"writingscore data\",\"writingscore data\",\"writingscore data\",\"writingscore data\",\"writingscore data\",\"writingscore data\",\"writingscore data\",\"writingscore data\",\"writingscore data\",\"writingscore data\",\"writingscore data\",\"writingscore data\",\"writingscore data\",\"writingscore data\",\"writingscore data\",\"writingscore data\",\"writingscore data\",\"writingscore data\",\"writingscore data\",\"writingscore data\",\"writingscore data\",\"writingscore data\",\"writingscore data\",\"writingscore data\",\"writingscore data\",\"writingscore data\",\"writingscore data\",\"writingscore data\",\"writingscore data\",\"writingscore data\",\"writingscore data\",\"writingscore data\",\"writingscore data\",\"writingscore data\",\"writingscore data\",\"writingscore data\",\"writingscore data\",\"writingscore data\",\"writingscore data\",\"writingscore data\",\"writingscore data\",\"writingscore data\",\"writingscore data\",\"writingscore data\",\"writingscore data\",\"writingscore data\",\"writingscore data\",\"writingscore data\",\"writingscore data\",\"writingscore data\",\"writingscore data\",\"writingscore data\",\"writingscore data\",\"writingscore data\",\"writingscore data\",\"writingscore data\",\"writingscore data\",\"writingscore data\",\"writingscore data\",\"writingscore data\",\"writingscore data\",\"writingscore data\",\"writingscore data\",\"writingscore data\",\"writingscore data\",\"writingscore data\",\"writingscore data\",\"writingscore data\",\"writingscore data\",\"writingscore data\",\"writingscore data\",\"writingscore data\",\"writingscore data\",\"writingscore data\",\"writingscore data\",\"writingscore data\",\"writingscore data\",\"writingscore data\",\"writingscore data\",\"writingscore data\",\"writingscore data\",\"writingscore data\",\"writingscore data\",\"writingscore data\",\"writingscore data\",\"writingscore data\",\"writingscore data\",\"writingscore data\",\"writingscore data\",\"writingscore data\",\"writingscore data\",\"writingscore data\",\"writingscore data\",\"writingscore data\",\"writingscore data\",\"writingscore data\",\"writingscore data\",\"writingscore data\",\"writingscore data\",\"writingscore data\",\"writingscore data\",\"writingscore data\",\"writingscore data\",\"writingscore data\",\"writingscore data\",\"writingscore data\",\"writingscore data\",\"writingscore data\",\"writingscore data\",\"writingscore data\",\"writingscore data\",\"writingscore data\",\"writingscore data\",\"writingscore data\",\"writingscore data\",\"writingscore data\",\"writingscore data\",\"writingscore data\",\"writingscore data\",\"writingscore data\",\"writingscore data\",\"writingscore data\",\"writingscore data\",\"writingscore data\",\"writingscore data\",\"writingscore data\",\"writingscore data\",\"writingscore data\",\"writingscore data\",\"writingscore data\",\"writingscore data\",\"writingscore data\",\"writingscore data\",\"writingscore data\",\"writingscore data\",\"writingscore data\",\"writingscore data\",\"writingscore data\",\"writingscore data\",\"writingscore data\",\"writingscore data\",\"writingscore data\",\"writingscore data\",\"writingscore data\",\"writingscore data\",\"writingscore data\",\"writingscore data\",\"writingscore data\",\"writingscore data\",\"writingscore data\",\"writingscore data\",\"writingscore data\",\"writingscore data\",\"writingscore data\",\"writingscore data\",\"writingscore data\",\"writingscore data\",\"writingscore data\",\"writingscore data\",\"writingscore data\",\"writingscore data\",\"writingscore data\",\"writingscore data\",\"writingscore data\",\"writingscore data\",\"writingscore data\",\"writingscore data\",\"writingscore data\",\"writingscore data\",\"writingscore data\",\"writingscore data\",\"writingscore data\",\"writingscore data\",\"writingscore data\",\"writingscore data\",\"writingscore data\",\"writingscore data\",\"writingscore data\",\"writingscore data\",\"writingscore data\",\"writingscore data\",\"writingscore data\",\"writingscore data\",\"writingscore data\",\"writingscore data\",\"writingscore data\",\"writingscore data\",\"writingscore data\",\"writingscore data\",\"writingscore data\",\"writingscore data\",\"writingscore data\",\"writingscore data\",\"writingscore data\",\"writingscore data\",\"writingscore data\",\"writingscore data\",\"writingscore data\",\"writingscore data\",\"writingscore data\",\"writingscore data\",\"writingscore data\",\"writingscore data\",\"writingscore data\",\"writingscore data\",\"writingscore data\",\"writingscore data\",\"writingscore data\",\"writingscore data\",\"writingscore data\",\"writingscore data\",\"writingscore data\",\"writingscore data\",\"writingscore data\",\"writingscore data\",\"writingscore data\",\"writingscore data\",\"writingscore data\",\"writingscore data\",\"writingscore data\",\"writingscore data\",\"writingscore data\",\"writingscore data\",\"writingscore data\",\"writingscore data\",\"writingscore data\",\"writingscore data\",\"writingscore data\",\"writingscore data\",\"writingscore data\",\"writingscore data\",\"writingscore data\",\"writingscore data\",\"writingscore data\",\"writingscore data\",\"writingscore data\",\"writingscore data\",\"writingscore data\",\"writingscore data\",\"writingscore data\",\"writingscore data\",\"writingscore data\",\"writingscore data\",\"writingscore data\",\"writingscore data\",\"writingscore data\",\"writingscore data\",\"writingscore data\",\"writingscore data\",\"writingscore data\",\"writingscore data\",\"writingscore data\",\"writingscore data\",\"writingscore data\",\"writingscore data\",\"writingscore data\",\"writingscore data\",\"writingscore data\",\"writingscore data\",\"writingscore data\",\"writingscore data\",\"writingscore data\",\"writingscore data\",\"writingscore data\",\"writingscore data\",\"writingscore data\",\"writingscore data\",\"writingscore data\",\"writingscore data\",\"writingscore data\",\"writingscore data\",\"writingscore data\",\"writingscore data\",\"writingscore data\",\"writingscore data\",\"writingscore data\",\"writingscore data\",\"writingscore data\",\"writingscore data\",\"writingscore data\",\"writingscore data\",\"writingscore data\",\"writingscore data\",\"writingscore data\",\"writingscore data\",\"writingscore data\",\"writingscore data\",\"writingscore data\",\"writingscore data\",\"writingscore data\",\"writingscore data\",\"writingscore data\",\"writingscore data\",\"writingscore data\",\"writingscore data\",\"writingscore data\",\"writingscore data\",\"writingscore data\",\"writingscore data\",\"writingscore data\",\"writingscore data\",\"writingscore data\",\"writingscore data\",\"writingscore data\",\"writingscore data\",\"writingscore data\",\"writingscore data\",\"writingscore data\",\"writingscore data\",\"writingscore data\",\"writingscore data\",\"writingscore data\",\"writingscore data\",\"writingscore data\",\"writingscore data\",\"writingscore data\",\"writingscore data\",\"writingscore data\",\"writingscore data\",\"writingscore data\",\"writingscore data\",\"writingscore data\",\"writingscore data\",\"writingscore data\",\"writingscore data\",\"writingscore data\",\"writingscore data\",\"writingscore data\",\"writingscore data\",\"writingscore data\",\"writingscore data\",\"writingscore data\",\"writingscore data\",\"writingscore data\",\"writingscore data\",\"writingscore data\",\"writingscore data\",\"writingscore data\",\"writingscore data\",\"writingscore data\",\"writingscore data\",\"writingscore data\",\"writingscore data\",\"writingscore data\",\"writingscore data\",\"writingscore data\",\"writingscore data\",\"writingscore data\",\"writingscore data\",\"writingscore data\",\"writingscore data\",\"writingscore data\",\"writingscore data\",\"writingscore data\",\"writingscore data\",\"writingscore data\",\"writingscore data\",\"writingscore data\",\"writingscore data\",\"writingscore data\",\"writingscore data\",\"writingscore data\",\"writingscore data\",\"writingscore data\",\"writingscore data\",\"writingscore data\",\"writingscore data\",\"writingscore data\",\"writingscore data\",\"writingscore data\",\"writingscore data\",\"writingscore data\",\"writingscore data\",\"writingscore data\",\"writingscore data\",\"writingscore data\",\"writingscore data\",\"writingscore data\",\"writingscore data\",\"writingscore data\",\"writingscore data\",\"writingscore data\",\"writingscore data\",\"writingscore data\",\"writingscore data\",\"writingscore data\",\"writingscore data\",\"writingscore data\",\"writingscore data\",\"writingscore data\",\"writingscore data\",\"writingscore data\",\"writingscore data\",\"writingscore data\",\"writingscore data\",\"writingscore data\",\"writingscore data\",\"writingscore data\",\"writingscore data\",\"writingscore data\",\"writingscore data\",\"writingscore data\",\"writingscore data\",\"writingscore data\",\"writingscore data\",\"writingscore data\",\"writingscore data\",\"writingscore data\",\"writingscore data\",\"writingscore data\",\"writingscore data\",\"writingscore data\",\"writingscore data\",\"writingscore data\",\"writingscore data\",\"writingscore data\",\"writingscore data\",\"writingscore data\",\"writingscore data\",\"writingscore data\",\"writingscore data\",\"writingscore data\",\"writingscore data\",\"writingscore data\",\"writingscore data\",\"writingscore data\",\"writingscore data\",\"writingscore data\",\"writingscore data\",\"writingscore data\",\"writingscore data\",\"writingscore data\",\"writingscore data\",\"writingscore data\",\"writingscore data\",\"writingscore data\",\"writingscore data\",\"writingscore data\",\"writingscore data\",\"writingscore data\",\"writingscore data\",\"writingscore data\",\"writingscore data\",\"writingscore data\",\"writingscore data\",\"writingscore data\",\"writingscore data\",\"writingscore data\",\"writingscore data\",\"writingscore data\",\"writingscore data\",\"writingscore data\",\"writingscore data\",\"writingscore data\",\"writingscore data\",\"writingscore data\",\"writingscore data\",\"writingscore data\",\"writingscore data\",\"writingscore data\",\"writingscore data\",\"writingscore data\",\"writingscore data\",\"writingscore data\",\"writingscore data\",\"writingscore data\",\"writingscore data\",\"writingscore data\",\"writingscore data\",\"writingscore data\",\"writingscore data\",\"writingscore data\",\"writingscore data\",\"writingscore data\",\"writingscore data\",\"writingscore data\",\"writingscore data\",\"writingscore data\",\"writingscore data\",\"writingscore data\",\"writingscore data\",\"writingscore data\",\"writingscore data\",\"writingscore data\",\"writingscore data\",\"writingscore data\",\"writingscore data\",\"writingscore data\",\"writingscore data\",\"writingscore data\",\"writingscore data\",\"writingscore data\",\"writingscore data\",\"writingscore data\",\"writingscore data\",\"writingscore data\",\"writingscore data\",\"writingscore data\",\"writingscore data\",\"writingscore data\",\"writingscore data\",\"writingscore data\",\"writingscore data\",\"writingscore data\",\"writingscore data\",\"writingscore data\",\"writingscore data\",\"writingscore data\",\"writingscore data\",\"writingscore data\",\"writingscore data\",\"writingscore data\",\"writingscore data\",\"writingscore data\",\"writingscore data\",\"writingscore data\",\"writingscore data\",\"writingscore data\",\"writingscore data\",\"writingscore data\",\"writingscore data\",\"writingscore data\",\"writingscore data\",\"writingscore data\",\"writingscore data\",\"writingscore data\",\"writingscore data\",\"writingscore data\",\"writingscore data\",\"writingscore data\",\"writingscore data\",\"writingscore data\",\"writingscore data\",\"writingscore data\",\"writingscore data\",\"writingscore data\",\"writingscore data\",\"writingscore data\",\"writingscore data\",\"writingscore data\",\"writingscore data\",\"writingscore data\",\"writingscore data\",\"writingscore data\",\"writingscore data\",\"writingscore data\",\"writingscore data\",\"writingscore data\",\"writingscore data\",\"writingscore data\",\"writingscore data\",\"writingscore data\",\"writingscore data\",\"writingscore data\",\"writingscore data\",\"writingscore data\",\"writingscore data\",\"writingscore data\",\"writingscore data\",\"writingscore data\",\"writingscore data\",\"writingscore data\",\"writingscore data\",\"writingscore data\",\"writingscore data\",\"writingscore data\",\"writingscore data\",\"writingscore data\",\"writingscore data\",\"writingscore data\",\"writingscore data\",\"writingscore data\",\"writingscore data\",\"writingscore data\",\"writingscore data\",\"writingscore data\",\"writingscore data\",\"writingscore data\",\"writingscore data\",\"writingscore data\",\"writingscore data\",\"writingscore data\",\"writingscore data\",\"writingscore data\",\"writingscore data\",\"writingscore data\",\"writingscore data\",\"writingscore data\",\"writingscore data\",\"writingscore data\",\"writingscore data\",\"writingscore data\",\"writingscore data\",\"writingscore data\",\"writingscore data\",\"writingscore data\",\"writingscore data\",\"writingscore data\",\"writingscore data\",\"writingscore data\",\"writingscore data\",\"writingscore data\",\"writingscore data\",\"writingscore data\",\"writingscore data\",\"writingscore data\",\"writingscore data\",\"writingscore data\",\"writingscore data\",\"writingscore data\",\"writingscore data\",\"writingscore data\",\"writingscore data\",\"writingscore data\",\"writingscore data\",\"writingscore data\",\"writingscore data\",\"writingscore data\",\"writingscore data\",\"writingscore data\",\"writingscore data\",\"writingscore data\",\"writingscore data\",\"writingscore data\",\"writingscore data\",\"writingscore data\",\"writingscore data\",\"writingscore data\",\"writingscore data\",\"writingscore data\",\"writingscore data\",\"writingscore data\",\"writingscore data\",\"writingscore data\",\"writingscore data\",\"writingscore data\",\"writingscore data\",\"writingscore data\",\"writingscore data\",\"writingscore data\",\"writingscore data\",\"writingscore data\",\"writingscore data\",\"writingscore data\",\"writingscore data\",\"writingscore data\",\"writingscore data\",\"writingscore data\",\"writingscore data\",\"writingscore data\",\"writingscore data\",\"writingscore data\",\"writingscore data\",\"writingscore data\",\"writingscore data\",\"writingscore data\",\"writingscore data\",\"writingscore data\",\"writingscore data\",\"writingscore data\",\"writingscore data\",\"writingscore data\",\"writingscore data\",\"writingscore data\",\"writingscore data\",\"writingscore data\",\"writingscore data\",\"writingscore data\",\"writingscore data\",\"writingscore data\",\"writingscore data\",\"writingscore data\",\"writingscore data\",\"writingscore data\",\"writingscore data\",\"writingscore data\",\"writingscore data\",\"writingscore data\",\"writingscore data\",\"writingscore data\",\"writingscore data\",\"writingscore data\",\"writingscore data\",\"writingscore data\",\"writingscore data\",\"writingscore data\",\"writingscore data\",\"writingscore data\",\"writingscore data\",\"writingscore data\",\"writingscore data\",\"writingscore data\",\"writingscore data\",\"writingscore data\",\"writingscore data\",\"writingscore data\",\"writingscore data\",\"writingscore data\",\"writingscore data\",\"writingscore data\",\"writingscore data\",\"writingscore data\",\"writingscore data\",\"writingscore data\",\"writingscore data\",\"writingscore data\",\"writingscore data\",\"writingscore data\",\"writingscore data\",\"writingscore data\",\"writingscore data\",\"writingscore data\",\"writingscore data\",\"writingscore data\",\"writingscore data\",\"writingscore data\",\"writingscore data\",\"writingscore data\",\"writingscore data\",\"writingscore data\",\"writingscore data\",\"writingscore data\",\"writingscore data\",\"writingscore data\",\"writingscore data\",\"writingscore data\",\"writingscore data\",\"writingscore data\",\"writingscore data\",\"writingscore data\",\"writingscore data\",\"writingscore data\",\"writingscore data\",\"writingscore data\",\"writingscore data\",\"writingscore data\",\"writingscore data\",\"writingscore data\",\"writingscore data\",\"writingscore data\",\"writingscore data\",\"writingscore data\",\"writingscore data\",\"writingscore data\",\"writingscore data\",\"writingscore data\",\"writingscore data\",\"writingscore data\",\"writingscore data\",\"writingscore data\",\"writingscore data\"],\"yaxis\":\"y2\",\"type\":\"scatter\"}],                        {\"barmode\":\"overlay\",\"hovermode\":\"closest\",\"legend\":{\"traceorder\":\"reversed\"},\"xaxis\":{\"anchor\":\"y2\",\"domain\":[0.0,1.0],\"zeroline\":false},\"yaxis\":{\"anchor\":\"free\",\"domain\":[0.35,1],\"position\":0.0},\"yaxis2\":{\"anchor\":\"x\",\"domain\":[0,0.25],\"dtick\":1,\"showticklabels\":false},\"template\":{\"data\":{\"histogram2dcontour\":[{\"type\":\"histogram2dcontour\",\"colorbar\":{\"outlinewidth\":0,\"ticks\":\"\"},\"colorscale\":[[0.0,\"#0d0887\"],[0.1111111111111111,\"#46039f\"],[0.2222222222222222,\"#7201a8\"],[0.3333333333333333,\"#9c179e\"],[0.4444444444444444,\"#bd3786\"],[0.5555555555555556,\"#d8576b\"],[0.6666666666666666,\"#ed7953\"],[0.7777777777777778,\"#fb9f3a\"],[0.8888888888888888,\"#fdca26\"],[1.0,\"#f0f921\"]]}],\"choropleth\":[{\"type\":\"choropleth\",\"colorbar\":{\"outlinewidth\":0,\"ticks\":\"\"}}],\"histogram2d\":[{\"type\":\"histogram2d\",\"colorbar\":{\"outlinewidth\":0,\"ticks\":\"\"},\"colorscale\":[[0.0,\"#0d0887\"],[0.1111111111111111,\"#46039f\"],[0.2222222222222222,\"#7201a8\"],[0.3333333333333333,\"#9c179e\"],[0.4444444444444444,\"#bd3786\"],[0.5555555555555556,\"#d8576b\"],[0.6666666666666666,\"#ed7953\"],[0.7777777777777778,\"#fb9f3a\"],[0.8888888888888888,\"#fdca26\"],[1.0,\"#f0f921\"]]}],\"heatmap\":[{\"type\":\"heatmap\",\"colorbar\":{\"outlinewidth\":0,\"ticks\":\"\"},\"colorscale\":[[0.0,\"#0d0887\"],[0.1111111111111111,\"#46039f\"],[0.2222222222222222,\"#7201a8\"],[0.3333333333333333,\"#9c179e\"],[0.4444444444444444,\"#bd3786\"],[0.5555555555555556,\"#d8576b\"],[0.6666666666666666,\"#ed7953\"],[0.7777777777777778,\"#fb9f3a\"],[0.8888888888888888,\"#fdca26\"],[1.0,\"#f0f921\"]]}],\"heatmapgl\":[{\"type\":\"heatmapgl\",\"colorbar\":{\"outlinewidth\":0,\"ticks\":\"\"},\"colorscale\":[[0.0,\"#0d0887\"],[0.1111111111111111,\"#46039f\"],[0.2222222222222222,\"#7201a8\"],[0.3333333333333333,\"#9c179e\"],[0.4444444444444444,\"#bd3786\"],[0.5555555555555556,\"#d8576b\"],[0.6666666666666666,\"#ed7953\"],[0.7777777777777778,\"#fb9f3a\"],[0.8888888888888888,\"#fdca26\"],[1.0,\"#f0f921\"]]}],\"contourcarpet\":[{\"type\":\"contourcarpet\",\"colorbar\":{\"outlinewidth\":0,\"ticks\":\"\"}}],\"contour\":[{\"type\":\"contour\",\"colorbar\":{\"outlinewidth\":0,\"ticks\":\"\"},\"colorscale\":[[0.0,\"#0d0887\"],[0.1111111111111111,\"#46039f\"],[0.2222222222222222,\"#7201a8\"],[0.3333333333333333,\"#9c179e\"],[0.4444444444444444,\"#bd3786\"],[0.5555555555555556,\"#d8576b\"],[0.6666666666666666,\"#ed7953\"],[0.7777777777777778,\"#fb9f3a\"],[0.8888888888888888,\"#fdca26\"],[1.0,\"#f0f921\"]]}],\"surface\":[{\"type\":\"surface\",\"colorbar\":{\"outlinewidth\":0,\"ticks\":\"\"},\"colorscale\":[[0.0,\"#0d0887\"],[0.1111111111111111,\"#46039f\"],[0.2222222222222222,\"#7201a8\"],[0.3333333333333333,\"#9c179e\"],[0.4444444444444444,\"#bd3786\"],[0.5555555555555556,\"#d8576b\"],[0.6666666666666666,\"#ed7953\"],[0.7777777777777778,\"#fb9f3a\"],[0.8888888888888888,\"#fdca26\"],[1.0,\"#f0f921\"]]}],\"mesh3d\":[{\"type\":\"mesh3d\",\"colorbar\":{\"outlinewidth\":0,\"ticks\":\"\"}}],\"scatter\":[{\"fillpattern\":{\"fillmode\":\"overlay\",\"size\":10,\"solidity\":0.2},\"type\":\"scatter\"}],\"parcoords\":[{\"type\":\"parcoords\",\"line\":{\"colorbar\":{\"outlinewidth\":0,\"ticks\":\"\"}}}],\"scatterpolargl\":[{\"type\":\"scatterpolargl\",\"marker\":{\"colorbar\":{\"outlinewidth\":0,\"ticks\":\"\"}}}],\"bar\":[{\"error_x\":{\"color\":\"#2a3f5f\"},\"error_y\":{\"color\":\"#2a3f5f\"},\"marker\":{\"line\":{\"color\":\"#E5ECF6\",\"width\":0.5},\"pattern\":{\"fillmode\":\"overlay\",\"size\":10,\"solidity\":0.2}},\"type\":\"bar\"}],\"scattergeo\":[{\"type\":\"scattergeo\",\"marker\":{\"colorbar\":{\"outlinewidth\":0,\"ticks\":\"\"}}}],\"scatterpolar\":[{\"type\":\"scatterpolar\",\"marker\":{\"colorbar\":{\"outlinewidth\":0,\"ticks\":\"\"}}}],\"histogram\":[{\"marker\":{\"pattern\":{\"fillmode\":\"overlay\",\"size\":10,\"solidity\":0.2}},\"type\":\"histogram\"}],\"scattergl\":[{\"type\":\"scattergl\",\"marker\":{\"colorbar\":{\"outlinewidth\":0,\"ticks\":\"\"}}}],\"scatter3d\":[{\"type\":\"scatter3d\",\"line\":{\"colorbar\":{\"outlinewidth\":0,\"ticks\":\"\"}},\"marker\":{\"colorbar\":{\"outlinewidth\":0,\"ticks\":\"\"}}}],\"scattermapbox\":[{\"type\":\"scattermapbox\",\"marker\":{\"colorbar\":{\"outlinewidth\":0,\"ticks\":\"\"}}}],\"scatterternary\":[{\"type\":\"scatterternary\",\"marker\":{\"colorbar\":{\"outlinewidth\":0,\"ticks\":\"\"}}}],\"scattercarpet\":[{\"type\":\"scattercarpet\",\"marker\":{\"colorbar\":{\"outlinewidth\":0,\"ticks\":\"\"}}}],\"carpet\":[{\"aaxis\":{\"endlinecolor\":\"#2a3f5f\",\"gridcolor\":\"white\",\"linecolor\":\"white\",\"minorgridcolor\":\"white\",\"startlinecolor\":\"#2a3f5f\"},\"baxis\":{\"endlinecolor\":\"#2a3f5f\",\"gridcolor\":\"white\",\"linecolor\":\"white\",\"minorgridcolor\":\"white\",\"startlinecolor\":\"#2a3f5f\"},\"type\":\"carpet\"}],\"table\":[{\"cells\":{\"fill\":{\"color\":\"#EBF0F8\"},\"line\":{\"color\":\"white\"}},\"header\":{\"fill\":{\"color\":\"#C8D4E3\"},\"line\":{\"color\":\"white\"}},\"type\":\"table\"}],\"barpolar\":[{\"marker\":{\"line\":{\"color\":\"#E5ECF6\",\"width\":0.5},\"pattern\":{\"fillmode\":\"overlay\",\"size\":10,\"solidity\":0.2}},\"type\":\"barpolar\"}],\"pie\":[{\"automargin\":true,\"type\":\"pie\"}]},\"layout\":{\"autotypenumbers\":\"strict\",\"colorway\":[\"#636efa\",\"#EF553B\",\"#00cc96\",\"#ab63fa\",\"#FFA15A\",\"#19d3f3\",\"#FF6692\",\"#B6E880\",\"#FF97FF\",\"#FECB52\"],\"font\":{\"color\":\"#2a3f5f\"},\"hovermode\":\"closest\",\"hoverlabel\":{\"align\":\"left\"},\"paper_bgcolor\":\"white\",\"plot_bgcolor\":\"#E5ECF6\",\"polar\":{\"bgcolor\":\"#E5ECF6\",\"angularaxis\":{\"gridcolor\":\"white\",\"linecolor\":\"white\",\"ticks\":\"\"},\"radialaxis\":{\"gridcolor\":\"white\",\"linecolor\":\"white\",\"ticks\":\"\"}},\"ternary\":{\"bgcolor\":\"#E5ECF6\",\"aaxis\":{\"gridcolor\":\"white\",\"linecolor\":\"white\",\"ticks\":\"\"},\"baxis\":{\"gridcolor\":\"white\",\"linecolor\":\"white\",\"ticks\":\"\"},\"caxis\":{\"gridcolor\":\"white\",\"linecolor\":\"white\",\"ticks\":\"\"}},\"coloraxis\":{\"colorbar\":{\"outlinewidth\":0,\"ticks\":\"\"}},\"colorscale\":{\"sequential\":[[0.0,\"#0d0887\"],[0.1111111111111111,\"#46039f\"],[0.2222222222222222,\"#7201a8\"],[0.3333333333333333,\"#9c179e\"],[0.4444444444444444,\"#bd3786\"],[0.5555555555555556,\"#d8576b\"],[0.6666666666666666,\"#ed7953\"],[0.7777777777777778,\"#fb9f3a\"],[0.8888888888888888,\"#fdca26\"],[1.0,\"#f0f921\"]],\"sequentialminus\":[[0.0,\"#0d0887\"],[0.1111111111111111,\"#46039f\"],[0.2222222222222222,\"#7201a8\"],[0.3333333333333333,\"#9c179e\"],[0.4444444444444444,\"#bd3786\"],[0.5555555555555556,\"#d8576b\"],[0.6666666666666666,\"#ed7953\"],[0.7777777777777778,\"#fb9f3a\"],[0.8888888888888888,\"#fdca26\"],[1.0,\"#f0f921\"]],\"diverging\":[[0,\"#8e0152\"],[0.1,\"#c51b7d\"],[0.2,\"#de77ae\"],[0.3,\"#f1b6da\"],[0.4,\"#fde0ef\"],[0.5,\"#f7f7f7\"],[0.6,\"#e6f5d0\"],[0.7,\"#b8e186\"],[0.8,\"#7fbc41\"],[0.9,\"#4d9221\"],[1,\"#276419\"]]},\"xaxis\":{\"gridcolor\":\"white\",\"linecolor\":\"white\",\"ticks\":\"\",\"title\":{\"standoff\":15},\"zerolinecolor\":\"white\",\"automargin\":true,\"zerolinewidth\":2},\"yaxis\":{\"gridcolor\":\"white\",\"linecolor\":\"white\",\"ticks\":\"\",\"title\":{\"standoff\":15},\"zerolinecolor\":\"white\",\"automargin\":true,\"zerolinewidth\":2},\"scene\":{\"xaxis\":{\"backgroundcolor\":\"#E5ECF6\",\"gridcolor\":\"white\",\"linecolor\":\"white\",\"showbackground\":true,\"ticks\":\"\",\"zerolinecolor\":\"white\",\"gridwidth\":2},\"yaxis\":{\"backgroundcolor\":\"#E5ECF6\",\"gridcolor\":\"white\",\"linecolor\":\"white\",\"showbackground\":true,\"ticks\":\"\",\"zerolinecolor\":\"white\",\"gridwidth\":2},\"zaxis\":{\"backgroundcolor\":\"#E5ECF6\",\"gridcolor\":\"white\",\"linecolor\":\"white\",\"showbackground\":true,\"ticks\":\"\",\"zerolinecolor\":\"white\",\"gridwidth\":2}},\"shapedefaults\":{\"line\":{\"color\":\"#2a3f5f\"}},\"annotationdefaults\":{\"arrowcolor\":\"#2a3f5f\",\"arrowhead\":0,\"arrowwidth\":1},\"geo\":{\"bgcolor\":\"white\",\"landcolor\":\"#E5ECF6\",\"subunitcolor\":\"white\",\"showland\":true,\"showlakes\":true,\"lakecolor\":\"white\"},\"title\":{\"x\":0.05},\"mapbox\":{\"style\":\"light\"}}}},                        {\"responsive\": true}                    ).then(function(){\n",
              "                            \n",
              "var gd = document.getElementById('786d81ad-ec62-4ef0-9500-b5e8d9e21b0d');\n",
              "var x = new MutationObserver(function (mutations, observer) {{\n",
              "        var display = window.getComputedStyle(gd).display;\n",
              "        if (!display || display === 'none') {{\n",
              "            console.log([gd, 'removed!']);\n",
              "            Plotly.purge(gd);\n",
              "            observer.disconnect();\n",
              "        }}\n",
              "}});\n",
              "\n",
              "// Listen for the removal of the full notebook cells\n",
              "var notebookContainer = gd.closest('#notebook-container');\n",
              "if (notebookContainer) {{\n",
              "    x.observe(notebookContainer, {childList: true});\n",
              "}}\n",
              "\n",
              "// Listen for the clearing of the current output cell\n",
              "var outputEl = gd.closest('.output');\n",
              "if (outputEl) {{\n",
              "    x.observe(outputEl, {childList: true});\n",
              "}}\n",
              "\n",
              "                        })                };                            </script>        </div>\n",
              "</body>\n",
              "</html>"
            ]
          },
          "metadata": {}
        }
      ]
    },
    {
      "cell_type": "markdown",
      "source": [
        "**SUMMARY: In (writing score) column Before Outlier removal i have 1000 records,after outlier removal i have 995 records. 5 data points are outliers.**"
      ],
      "metadata": {
        "id": "ESSJ36Fycbdk"
      }
    },
    {
      "cell_type": "markdown",
      "source": [
        "## **Check Distribution and Skewness:**\n",
        "\n",
        "**Plot histograms and/or density plots for math score, reading score, and writing score to visualize their distributions.**\n",
        "\n",
        "**Calculate and interpret the skewness for each of these score columns.**\n",
        "\n",
        "**Discuss whether the distributions are skewed to the left or right and suggest any appropriate transformations if needed to address skewness.**\n"
      ],
      "metadata": {
        "id": "xrn9zPrj0MU6"
      }
    },
    {
      "cell_type": "markdown",
      "source": [
        "**before outlier removal Hist plot :**"
      ],
      "metadata": {
        "id": "kNOJvquqc8Ws"
      }
    },
    {
      "cell_type": "code",
      "source": [
        "math=df['math score']\n",
        "read=df['reading score']\n",
        "write=df['writing score']\n",
        "\n",
        "sns.histplot(math,kde=True,label='math score data')\n",
        "sns.histplot(read,kde=True,label='reading score data')\n",
        "sns.histplot(write,kde=True,label='writing score data')\n",
        "plt.legend()\n",
        "plt.show()\n"
      ],
      "metadata": {
        "id": "DimNL7d01giG",
        "colab": {
          "base_uri": "https://localhost:8080/",
          "height": 449
        },
        "outputId": "8889d73f-a3cf-44e8-bbdb-6e26f61f9db7"
      },
      "execution_count": null,
      "outputs": [
        {
          "output_type": "display_data",
          "data": {
            "text/plain": [
              "<Figure size 640x480 with 1 Axes>"
            ],
            "image/png": "[encoded data removed]"
          },
          "metadata": {}
        }
      ]
    },
    {
      "cell_type": "markdown",
      "source": [
        "**After outlier removal hist plot:**"
      ],
      "metadata": {
        "id": "DBlzxSvwhwA8"
      }
    },
    {
      "cell_type": "code",
      "source": [
        "newmath=newdf['math score']\n",
        "newread=newdfrs['reading score']\n",
        "newwrite=newdfws['writing score']\n",
        "\n",
        "sns.histplot(newmath,kde=True,label='math score data')\n",
        "sns.histplot(newread,kde=True,label='reading score data')\n",
        "sns.histplot(newwrite,kde=True,label='writing score data')\n",
        "plt.legend()\n",
        "plt.show()"
      ],
      "metadata": {
        "id": "KMRoHIXx1g0P",
        "colab": {
          "base_uri": "https://localhost:8080/",
          "height": 449
        },
        "outputId": "a59d1c95-c2a5-4c5e-fa99-ae0061a680ad"
      },
      "execution_count": null,
      "outputs": [
        {
          "output_type": "display_data",
          "data": {
            "text/plain": [
              "<Figure size 640x480 with 1 Axes>"
            ],
            "image/png": "[encoded data removed]"
          },
          "metadata": {}
        }
      ]
    },
    {
      "cell_type": "code",
      "source": [
        "new_msscore=newdf['math score'].skew()               # after oulier removal skewness score\n",
        "new_msscore"
      ],
      "metadata": {
        "colab": {
          "base_uri": "https://localhost:8080/"
        },
        "id": "2_Qhi9eujUcU",
        "outputId": "8a66dd89-e12c-4902-8b9a-e497f7851244"
      },
      "execution_count": null,
      "outputs": [
        {
          "output_type": "execute_result",
          "data": {
            "text/plain": [
              "np.float64(-0.04619025513163576)"
            ]
          },
          "metadata": {},
          "execution_count": 129
        }
      ]
    },
    {
      "cell_type": "code",
      "source": [
        "new_rssscore=newdfrs['reading score'].skew()         # after oulier removal skewness score\n",
        "new_rssscore"
      ],
      "metadata": {
        "colab": {
          "base_uri": "https://localhost:8080/"
        },
        "id": "3fIMbrPYjUyp",
        "outputId": "12de215f-7233-4901-c183-e55445e38945"
      },
      "execution_count": null,
      "outputs": [
        {
          "output_type": "execute_result",
          "data": {
            "text/plain": [
              "np.float64(-0.11177771461583842)"
            ]
          },
          "metadata": {},
          "execution_count": 130
        }
      ]
    },
    {
      "cell_type": "code",
      "source": [
        "new_wssscore=newdfws['writing score'].skew()         # after oulier removal skewness score\n",
        "new_wssscore"
      ],
      "metadata": {
        "colab": {
          "base_uri": "https://localhost:8080/"
        },
        "id": "seDnK9TBjVFJ",
        "outputId": "18927a7a-a9b4-4529-9236-b6921d4dbdbc"
      },
      "execution_count": null,
      "outputs": [
        {
          "output_type": "execute_result",
          "data": {
            "text/plain": [
              "np.float64(-0.1632353356440884)"
            ]
          },
          "metadata": {},
          "execution_count": 131
        }
      ]
    },
    {
      "cell_type": "markdown",
      "source": [
        "##**Interpretation:**\n",
        "\n",
        "**If skewness is 0 = no skewness perfect data.**\n",
        "\n",
        "**If skewness is between -0.5 and 0.5 = mild skewness approximately normal,we can ignore it.**\n",
        "\n",
        "**If skewness is > 0.5, it's right-skewed. (use square root)**\n",
        "\n",
        "**If skewness is < -0.5, it's left-skewed.(use square root, cube)**\n",
        "\n",
        "**In this dataset has mild skweness here. we ignore it.**"
      ],
      "metadata": {
        "id": "-upkWS0pmwZ6"
      }
    },
    {
      "cell_type": "markdown",
      "source": [
        "##**Hypothesis Testing:**\n",
        "\n",
        "###**Formulate Hypotheses:**\n",
        "\n",
        "State the null and alternative hypotheses to test whether the mean math score differs between students who completed the test preparation course and those who did not."
      ],
      "metadata": {
        "id": "4XN2EQeB0Mh0"
      }
    },
    {
      "cell_type": "markdown",
      "source": [
        "###**Null Hypothesis(H0):**\n",
        "The Null hypothesis is a standard that there is no effect or no difference. mean math score  not differs between students who completed the test preparation course or not.\n",
        "\n",
        "\n",
        "###**Alternate Hypothesis(H1):**\n",
        "the Alternate hypothesis is a statement that there is an effect or a difference.mean of  math score differbetween students who completed the test preparation course or Not."
      ],
      "metadata": {
        "id": "1x-4DiMau_w6"
      }
    },
    {
      "cell_type": "code",
      "source": [
        "df.head()"
      ],
      "metadata": {
        "id": "Ov3BBGTX1iEh",
        "colab": {
          "base_uri": "https://localhost:8080/",
          "height": 206
        },
        "outputId": "6d7296f4-2f56-4ca6-b85d-cc209d3adf52"
      },
      "execution_count": null,
      "outputs": [
        {
          "output_type": "execute_result",
          "data": {
            "text/plain": [
              "   gender race/ethnicity parental level of education         lunch  \\\n",
              "0  female        group B           bachelor's degree      standard   \n",
              "1  female        group C                some college      standard   \n",
              "2  female        group B             master's degree      standard   \n",
              "3    male        group A          associate's degree  free/reduced   \n",
              "4    male        group C                some college      standard   \n",
              "\n",
              "  test preparation course  math score  reading score  writing score  \n",
              "0                    none          72             72             74  \n",
              "1               completed          69             90             88  \n",
              "2                    none          90             95             93  \n",
              "3                    none          47             57             44  \n",
              "4                    none          76             78             75  "
            ],
            "text/html": [
              "\n",
              "  <div id=\"df-007fd3cb-a9f8-48ad-b2de-077fa62e413a\" class=\"colab-df-container\">\n",
              "    <div>\n",
              "<style scoped>\n",
              "    .dataframe tbody tr th:only-of-type {\n",
              "        vertical-align: middle;\n",
              "    }\n",
              "\n",
              "    .dataframe tbody tr th {\n",
              "        vertical-align: top;\n",
              "    }\n",
              "\n",
              "    .dataframe thead th {\n",
              "        text-align: right;\n",
              "    }\n",
              "</style>\n",
              "<table border=\"1\" class=\"dataframe\">\n",
              "  <thead>\n",
              "    <tr style=\"text-align: right;\">\n",
              "      <th></th>\n",
              "      <th>gender</th>\n",
              "      <th>race/ethnicity</th>\n",
              "      <th>parental level of education</th>\n",
              "      <th>lunch</th>\n",
              "      <th>test preparation course</th>\n",
              "      <th>math score</th>\n",
              "      <th>reading score</th>\n",
              "      <th>writing score</th>\n",
              "    </tr>\n",
              "  </thead>\n",
              "  <tbody>\n",
              "    <tr>\n",
              "      <th>0</th>\n",
              "      <td>female</td>\n",
              "      <td>group B</td>\n",
              "      <td>bachelor's degree</td>\n",
              "      <td>standard</td>\n",
              "      <td>none</td>\n",
              "      <td>72</td>\n",
              "      <td>72</td>\n",
              "      <td>74</td>\n",
              "    </tr>\n",
              "    <tr>\n",
              "      <th>1</th>\n",
              "      <td>female</td>\n",
              "      <td>group C</td>\n",
              "      <td>some college</td>\n",
              "      <td>standard</td>\n",
              "      <td>completed</td>\n",
              "      <td>69</td>\n",
              "      <td>90</td>\n",
              "      <td>88</td>\n",
              "    </tr>\n",
              "    <tr>\n",
              "      <th>2</th>\n",
              "      <td>female</td>\n",
              "      <td>group B</td>\n",
              "      <td>master's degree</td>\n",
              "      <td>standard</td>\n",
              "      <td>none</td>\n",
              "      <td>90</td>\n",
              "      <td>95</td>\n",
              "      <td>93</td>\n",
              "    </tr>\n",
              "    <tr>\n",
              "      <th>3</th>\n",
              "      <td>male</td>\n",
              "      <td>group A</td>\n",
              "      <td>associate's degree</td>\n",
              "      <td>free/reduced</td>\n",
              "      <td>none</td>\n",
              "      <td>47</td>\n",
              "      <td>57</td>\n",
              "      <td>44</td>\n",
              "    </tr>\n",
              "    <tr>\n",
              "      <th>4</th>\n",
              "      <td>male</td>\n",
              "      <td>group C</td>\n",
              "      <td>some college</td>\n",
              "      <td>standard</td>\n",
              "      <td>none</td>\n",
              "      <td>76</td>\n",
              "      <td>78</td>\n",
              "      <td>75</td>\n",
              "    </tr>\n",
              "  </tbody>\n",
              "</table>\n",
              "</div>\n",
              "    <div class=\"colab-df-buttons\">\n",
              "\n",
              "  <div class=\"colab-df-container\">\n",
              "    <button class=\"colab-df-convert\" onclick=\"convertToInteractive('df-007fd3cb-a9f8-48ad-b2de-077fa62e413a')\"\n",
              "            title=\"Convert this dataframe to an interactive table.\"\n",
              "            style=\"display:none;\">\n",
              "\n",
              "  <svg xmlns=\"http://www.w3.org/2000/svg\" height=\"24px\" viewBox=\"0 -960 960 960\">\n",
              "    <path d=\"M120-120v-720h720v720H120Zm60-500h600v-160H180v160Zm220 220h160v-160H400v160Zm0 220h160v-160H400v160ZM180-400h160v-160H180v160Zm440 0h160v-160H620v160ZM180-180h160v-160H180v160Zm440 0h160v-160H620v160Z\"/>\n",
              "  </svg>\n",
              "    </button>\n",
              "\n",
              "  <style>\n",
              "    .colab-df-container {\n",
              "      display:flex;\n",
              "      gap: 12px;\n",
              "    }\n",
              "\n",
              "    .colab-df-convert {\n",
              "      background-color: #E8F0FE;\n",
              "      border: none;\n",
              "      border-radius: 50%;\n",
              "      cursor: pointer;\n",
              "      display: none;\n",
              "      fill: #1967D2;\n",
              "      height: 32px;\n",
              "      padding: 0 0 0 0;\n",
              "      width: 32px;\n",
              "    }\n",
              "\n",
              "    .colab-df-convert:hover {\n",
              "      background-color: #E2EBFA;\n",
              "      box-shadow: 0px 1px 2px rgba(60, 64, 67, 0.3), 0px 1px 3px 1px rgba(60, 64, 67, 0.15);\n",
              "      fill: #174EA6;\n",
              "    }\n",
              "\n",
              "    .colab-df-buttons div {\n",
              "      margin-bottom: 4px;\n",
              "    }\n",
              "\n",
              "    [theme=dark] .colab-df-convert {\n",
              "      background-color: #3B4455;\n",
              "      fill: #D2E3FC;\n",
              "    }\n",
              "\n",
              "    [theme=dark] .colab-df-convert:hover {\n",
              "      background-color: #434B5C;\n",
              "      box-shadow: 0px 1px 3px 1px rgba(0, 0, 0, 0.15);\n",
              "      filter: drop-shadow(0px 1px 2px rgba(0, 0, 0, 0.3));\n",
              "      fill: #FFFFFF;\n",
              "    }\n",
              "  </style>\n",
              "\n",
              "    <script>\n",
              "      const buttonEl =\n",
              "        document.querySelector('#df-007fd3cb-a9f8-48ad-b2de-077fa62e413a button.colab-df-convert');\n",
              "      buttonEl.style.display =\n",
              "        google.colab.kernel.accessAllowed ? 'block' : 'none';\n",
              "\n",
              "      async function convertToInteractive(key) {\n",
              "        const element = document.querySelector('#df-007fd3cb-a9f8-48ad-b2de-077fa62e413a');\n",
              "        const dataTable =\n",
              "          await google.colab.kernel.invokeFunction('convertToInteractive',\n",
              "                                                    [key], {});\n",
              "        if (!dataTable) return;\n",
              "\n",
              "        const docLinkHtml = 'Like what you see? Visit the ' +\n",
              "          '<a target=\"_blank\" href=https://colab.research.google.com/notebooks/data_table.ipynb>data table notebook</a>'\n",
              "          + ' to learn more about interactive tables.';\n",
              "        element.innerHTML = '';\n",
              "        dataTable['output_type'] = 'display_data';\n",
              "        await google.colab.output.renderOutput(dataTable, element);\n",
              "        const docLink = document.createElement('div');\n",
              "        docLink.innerHTML = docLinkHtml;\n",
              "        element.appendChild(docLink);\n",
              "      }\n",
              "    </script>\n",
              "  </div>\n",
              "\n",
              "\n",
              "    <div id=\"df-1a8e4794-f8ce-4a70-855b-08e537f8a751\">\n",
              "      <button class=\"colab-df-quickchart\" onclick=\"quickchart('df-1a8e4794-f8ce-4a70-855b-08e537f8a751')\"\n",
              "                title=\"Suggest charts\"\n",
              "                style=\"display:none;\">\n",
              "\n",
              "<svg xmlns=\"http://www.w3.org/2000/svg\" height=\"24px\"viewBox=\"0 0 24 24\"\n",
              "     width=\"24px\">\n",
              "    <g>\n",
              "        <path d=\"M19 3H5c-1.1 0-2 .9-2 2v14c0 1.1.9 2 2 2h14c1.1 0 2-.9 2-2V5c0-1.1-.9-2-2-2zM9 17H7v-7h2v7zm4 0h-2V7h2v10zm4 0h-2v-4h2v4z\"/>\n",
              "    </g>\n",
              "</svg>\n",
              "      </button>\n",
              "\n",
              "<style>\n",
              "  .colab-df-quickchart {\n",
              "      --bg-color: #E8F0FE;\n",
              "      --fill-color: #1967D2;\n",
              "      --hover-bg-color: #E2EBFA;\n",
              "      --hover-fill-color: #174EA6;\n",
              "      --disabled-fill-color: #AAA;\n",
              "      --disabled-bg-color: #DDD;\n",
              "  }\n",
              "\n",
              "  [theme=dark] .colab-df-quickchart {\n",
              "      --bg-color: #3B4455;\n",
              "      --fill-color: #D2E3FC;\n",
              "      --hover-bg-color: #434B5C;\n",
              "      --hover-fill-color: #FFFFFF;\n",
              "      --disabled-bg-color: #3B4455;\n",
              "      --disabled-fill-color: #666;\n",
              "  }\n",
              "\n",
              "  .colab-df-quickchart {\n",
              "    background-color: var(--bg-color);\n",
              "    border: none;\n",
              "    border-radius: 50%;\n",
              "    cursor: pointer;\n",
              "    display: none;\n",
              "    fill: var(--fill-color);\n",
              "    height: 32px;\n",
              "    padding: 0;\n",
              "    width: 32px;\n",
              "  }\n",
              "\n",
              "  .colab-df-quickchart:hover {\n",
              "    background-color: var(--hover-bg-color);\n",
              "    box-shadow: 0 1px 2px rgba(60, 64, 67, 0.3), 0 1px 3px 1px rgba(60, 64, 67, 0.15);\n",
              "    fill: var(--button-hover-fill-color);\n",
              "  }\n",
              "\n",
              "  .colab-df-quickchart-complete:disabled,\n",
              "  .colab-df-quickchart-complete:disabled:hover {\n",
              "    background-color: var(--disabled-bg-color);\n",
              "    fill: var(--disabled-fill-color);\n",
              "    box-shadow: none;\n",
              "  }\n",
              "\n",
              "  .colab-df-spinner {\n",
              "    border: 2px solid var(--fill-color);\n",
              "    border-color: transparent;\n",
              "    border-bottom-color: var(--fill-color);\n",
              "    animation:\n",
              "      spin 1s steps(1) infinite;\n",
              "  }\n",
              "\n",
              "  @keyframes spin {\n",
              "    0% {\n",
              "      border-color: transparent;\n",
              "      border-bottom-color: var(--fill-color);\n",
              "      border-left-color: var(--fill-color);\n",
              "    }\n",
              "    20% {\n",
              "      border-color: transparent;\n",
              "      border-left-color: var(--fill-color);\n",
              "      border-top-color: var(--fill-color);\n",
              "    }\n",
              "    30% {\n",
              "      border-color: transparent;\n",
              "      border-left-color: var(--fill-color);\n",
              "      border-top-color: var(--fill-color);\n",
              "      border-right-color: var(--fill-color);\n",
              "    }\n",
              "    40% {\n",
              "      border-color: transparent;\n",
              "      border-right-color: var(--fill-color);\n",
              "      border-top-color: var(--fill-color);\n",
              "    }\n",
              "    60% {\n",
              "      border-color: transparent;\n",
              "      border-right-color: var(--fill-color);\n",
              "    }\n",
              "    80% {\n",
              "      border-color: transparent;\n",
              "      border-right-color: var(--fill-color);\n",
              "      border-bottom-color: var(--fill-color);\n",
              "    }\n",
              "    90% {\n",
              "      border-color: transparent;\n",
              "      border-bottom-color: var(--fill-color);\n",
              "    }\n",
              "  }\n",
              "</style>\n",
              "\n",
              "      <script>\n",
              "        async function quickchart(key) {\n",
              "          const quickchartButtonEl =\n",
              "            document.querySelector('#' + key + ' button');\n",
              "          quickchartButtonEl.disabled = true;  // To prevent multiple clicks.\n",
              "          quickchartButtonEl.classList.add('colab-df-spinner');\n",
              "          try {\n",
              "            const charts = await google.colab.kernel.invokeFunction(\n",
              "                'suggestCharts', [key], {});\n",
              "          } catch (error) {\n",
              "            console.error('Error during call to suggestCharts:', error);\n",
              "          }\n",
              "          quickchartButtonEl.classList.remove('colab-df-spinner');\n",
              "          quickchartButtonEl.classList.add('colab-df-quickchart-complete');\n",
              "        }\n",
              "        (() => {\n",
              "          let quickchartButtonEl =\n",
              "            document.querySelector('#df-1a8e4794-f8ce-4a70-855b-08e537f8a751 button');\n",
              "          quickchartButtonEl.style.display =\n",
              "            google.colab.kernel.accessAllowed ? 'block' : 'none';\n",
              "        })();\n",
              "      </script>\n",
              "    </div>\n",
              "\n",
              "    </div>\n",
              "  </div>\n"
            ],
            "application/vnd.google.colaboratory.intrinsic+json": {
              "type": "dataframe",
              "variable_name": "df",
              "summary": "{\n  \"name\": \"df\",\n  \"rows\": 1000,\n  \"fields\": [\n    {\n      \"column\": \"gender\",\n      \"properties\": {\n        \"dtype\": \"category\",\n        \"num_unique_values\": 2,\n        \"samples\": [\n          \"male\",\n          \"female\"\n        ],\n        \"semantic_type\": \"\",\n        \"description\": \"\"\n      }\n    },\n    {\n      \"column\": \"race/ethnicity\",\n      \"properties\": {\n        \"dtype\": \"category\",\n        \"num_unique_values\": 5,\n        \"samples\": [\n          \"group C\",\n          \"group E\"\n        ],\n        \"semantic_type\": \"\",\n        \"description\": \"\"\n      }\n    },\n    {\n      \"column\": \"parental level of education\",\n      \"properties\": {\n        \"dtype\": \"category\",\n        \"num_unique_values\": 6,\n        \"samples\": [\n          \"bachelor's degree\",\n          \"some college\"\n        ],\n        \"semantic_type\": \"\",\n        \"description\": \"\"\n      }\n    },\n    {\n      \"column\": \"lunch\",\n      \"properties\": {\n        \"dtype\": \"category\",\n        \"num_unique_values\": 2,\n        \"samples\": [\n          \"free/reduced\",\n          \"standard\"\n        ],\n        \"semantic_type\": \"\",\n        \"description\": \"\"\n      }\n    },\n    {\n      \"column\": \"test preparation course\",\n      \"properties\": {\n        \"dtype\": \"category\",\n        \"num_unique_values\": 2,\n        \"samples\": [\n          \"completed\",\n          \"none\"\n        ],\n        \"semantic_type\": \"\",\n        \"description\": \"\"\n      }\n    },\n    {\n      \"column\": \"math score\",\n      \"properties\": {\n        \"dtype\": \"number\",\n        \"std\": 15,\n        \"min\": 0,\n        \"max\": 100,\n        \"num_unique_values\": 81,\n        \"samples\": [\n          55,\n          72\n        ],\n        \"semantic_type\": \"\",\n        \"description\": \"\"\n      }\n    },\n    {\n      \"column\": \"reading score\",\n      \"properties\": {\n        \"dtype\": \"number\",\n        \"std\": 14,\n        \"min\": 17,\n        \"max\": 100,\n        \"num_unique_values\": 72,\n        \"samples\": [\n          78,\n          23\n        ],\n        \"semantic_type\": \"\",\n        \"description\": \"\"\n      }\n    },\n    {\n      \"column\": \"writing score\",\n      \"properties\": {\n        \"dtype\": \"number\",\n        \"std\": 15,\n        \"min\": 10,\n        \"max\": 100,\n        \"num_unique_values\": 77,\n        \"samples\": [\n          75,\n          76\n        ],\n        \"semantic_type\": \"\",\n        \"description\": \"\"\n      }\n    }\n  ]\n}"
            }
          },
          "metadata": {},
          "execution_count": 156
        }
      ]
    },
    {
      "cell_type": "code",
      "source": [
        "df['test preparation course'].unique()"
      ],
      "metadata": {
        "id": "7viLKlZZ1iHt",
        "colab": {
          "base_uri": "https://localhost:8080/"
        },
        "outputId": "b917c90b-1352-4e3c-c3f6-607cf58c07d0"
      },
      "execution_count": null,
      "outputs": [
        {
          "output_type": "execute_result",
          "data": {
            "text/plain": [
              "array(['none', 'completed'], dtype=object)"
            ]
          },
          "metadata": {},
          "execution_count": 143
        }
      ]
    },
    {
      "cell_type": "code",
      "source": [
        "df['test preparation course'].value_counts()"
      ],
      "metadata": {
        "colab": {
          "base_uri": "https://localhost:8080/",
          "height": 178
        },
        "id": "Z-oHNRpe0XZM",
        "outputId": "34013a77-b75b-4b37-9871-a12d150c91e4"
      },
      "execution_count": null,
      "outputs": [
        {
          "output_type": "execute_result",
          "data": {
            "text/plain": [
              "test preparation course\n",
              "none         642\n",
              "completed    358\n",
              "Name: count, dtype: int64"
            ],
            "text/html": [
              "<div>\n",
              "<style scoped>\n",
              "    .dataframe tbody tr th:only-of-type {\n",
              "        vertical-align: middle;\n",
              "    }\n",
              "\n",
              "    .dataframe tbody tr th {\n",
              "        vertical-align: top;\n",
              "    }\n",
              "\n",
              "    .dataframe thead th {\n",
              "        text-align: right;\n",
              "    }\n",
              "</style>\n",
              "<table border=\"1\" class=\"dataframe\">\n",
              "  <thead>\n",
              "    <tr style=\"text-align: right;\">\n",
              "      <th></th>\n",
              "      <th>count</th>\n",
              "    </tr>\n",
              "    <tr>\n",
              "      <th>test preparation course</th>\n",
              "      <th></th>\n",
              "    </tr>\n",
              "  </thead>\n",
              "  <tbody>\n",
              "    <tr>\n",
              "      <th>none</th>\n",
              "      <td>642</td>\n",
              "    </tr>\n",
              "    <tr>\n",
              "      <th>completed</th>\n",
              "      <td>358</td>\n",
              "    </tr>\n",
              "  </tbody>\n",
              "</table>\n",
              "</div><br><label><b>dtype:</b> int64</label>"
            ]
          },
          "metadata": {},
          "execution_count": 147
        }
      ]
    },
    {
      "cell_type": "code",
      "source": [
        "testdone = df[df['test preparation course'] == 'completed']['math score']\n",
        "testdone.shape"
      ],
      "metadata": {
        "colab": {
          "base_uri": "https://localhost:8080/"
        },
        "id": "jIFPhsnV1Pzs",
        "outputId": "56aa3735-a267-4c0a-f824-8fb00f6dce7a"
      },
      "execution_count": null,
      "outputs": [
        {
          "output_type": "execute_result",
          "data": {
            "text/plain": [
              "(358,)"
            ]
          },
          "metadata": {},
          "execution_count": 151
        }
      ]
    },
    {
      "cell_type": "code",
      "source": [
        "testnone = df[df['test preparation course'] == 'none']['math score']\n",
        "testnone.shape"
      ],
      "metadata": {
        "colab": {
          "base_uri": "https://localhost:8080/"
        },
        "id": "TxVfrNjV1QFP",
        "outputId": "f4aee35d-3b7c-4115-bdfa-cc6296b5f2b7"
      },
      "execution_count": null,
      "outputs": [
        {
          "output_type": "execute_result",
          "data": {
            "text/plain": [
              "(642,)"
            ]
          },
          "metadata": {},
          "execution_count": 152
        }
      ]
    },
    {
      "cell_type": "code",
      "source": [
        "testnone.head(2)"
      ],
      "metadata": {
        "colab": {
          "base_uri": "https://localhost:8080/",
          "height": 147
        },
        "id": "PPAGoT4_1QVg",
        "outputId": "c5016b0a-95af-42fe-cc00-74e22c35b314"
      },
      "execution_count": null,
      "outputs": [
        {
          "output_type": "execute_result",
          "data": {
            "text/plain": [
              "0    72\n",
              "2    90\n",
              "Name: math score, dtype: int64"
            ],
            "text/html": [
              "<div>\n",
              "<style scoped>\n",
              "    .dataframe tbody tr th:only-of-type {\n",
              "        vertical-align: middle;\n",
              "    }\n",
              "\n",
              "    .dataframe tbody tr th {\n",
              "        vertical-align: top;\n",
              "    }\n",
              "\n",
              "    .dataframe thead th {\n",
              "        text-align: right;\n",
              "    }\n",
              "</style>\n",
              "<table border=\"1\" class=\"dataframe\">\n",
              "  <thead>\n",
              "    <tr style=\"text-align: right;\">\n",
              "      <th></th>\n",
              "      <th>math score</th>\n",
              "    </tr>\n",
              "  </thead>\n",
              "  <tbody>\n",
              "    <tr>\n",
              "      <th>0</th>\n",
              "      <td>72</td>\n",
              "    </tr>\n",
              "    <tr>\n",
              "      <th>2</th>\n",
              "      <td>90</td>\n",
              "    </tr>\n",
              "  </tbody>\n",
              "</table>\n",
              "</div><br><label><b>dtype:</b> int64</label>"
            ]
          },
          "metadata": {},
          "execution_count": 153
        }
      ]
    },
    {
      "cell_type": "markdown",
      "source": [
        "###**Significance Level:**\n",
        "\n",
        "Specify the significance level (α - alpha) you will use for the hypothesis test.\n",
        "\n",
        "Common choice is α = 0.05."
      ],
      "metadata": {
        "id": "iPruRb5Y6biK"
      }
    },
    {
      "cell_type": "code",
      "source": [
        "from scipy.stats import ttest_ind\n",
        "alpha=0.05"
      ],
      "metadata": {
        "id": "6mJ5uBPH1Qky"
      },
      "execution_count": null,
      "outputs": []
    },
    {
      "cell_type": "markdown",
      "source": [
        "###**t-test Test Statistic & p-value:**\n",
        "\n",
        "Perform a t-test to compare the means of the two groups.\n",
        "\n",
        "Calculate the test statistic and p-value.\n",
        "\n",
        "Provide the results and interpret them in the context of the hypothesis.\n"
      ],
      "metadata": {
        "id": "uDlLtLBy6i7d"
      }
    },
    {
      "cell_type": "code",
      "source": [
        "t_score, pval = ttest_ind(testdone,testnone, equal_var = False)\n",
        "print(f\"t_score, pval :{t_score, pval}\")"
      ],
      "metadata": {
        "colab": {
          "base_uri": "https://localhost:8080/"
        },
        "id": "hH7v4MK01Q0Y",
        "outputId": "fea1fa34-b756-4d3b-8e58-45fb1da83b06"
      },
      "execution_count": null,
      "outputs": [
        {
          "output_type": "stream",
          "name": "stdout",
          "text": [
            "t_score, pval :(np.float64(5.786983157907755), np.float64(1.0425616722069513e-08))\n"
          ]
        }
      ]
    },
    {
      "cell_type": "code",
      "source": [
        "pval"
      ],
      "metadata": {
        "colab": {
          "base_uri": "https://localhost:8080/"
        },
        "id": "E1bRsmxY5ziA",
        "outputId": "e20c0e73-c656-4205-a78d-1425f5ceadff"
      },
      "execution_count": null,
      "outputs": [
        {
          "output_type": "execute_result",
          "data": {
            "text/plain": [
              "np.float64(1.0425616722069513e-08)"
            ]
          },
          "metadata": {},
          "execution_count": 165
        }
      ]
    },
    {
      "cell_type": "code",
      "source": [
        "t_score"
      ],
      "metadata": {
        "colab": {
          "base_uri": "https://localhost:8080/"
        },
        "id": "rDJspoOP5z0C",
        "outputId": "20c306da-4175-4150-9678-2e6b296e6878"
      },
      "execution_count": null,
      "outputs": [
        {
          "output_type": "execute_result",
          "data": {
            "text/plain": [
              "np.float64(5.786983157907755)"
            ]
          },
          "metadata": {},
          "execution_count": 166
        }
      ]
    },
    {
      "cell_type": "markdown",
      "source": [
        "###**Decision:**\n",
        "\n",
        "Based on the p-value or the t-statistic, decide whether to reject or fail to reject the null hypothesis.\n",
        "\n",
        "Discuss the implications of your decision in relation to the context of the problem."
      ],
      "metadata": {
        "id": "nrLyBIaz6vO6"
      }
    },
    {
      "cell_type": "code",
      "source": [
        "if pval<alpha:\n",
        "  print(\"Reject the null hypothesis: There is a significant difference in math scores.\")\n",
        "else:\n",
        "  print(\"Fail to reject the null hypothesis: No significant difference in math scores.\")"
      ],
      "metadata": {
        "colab": {
          "base_uri": "https://localhost:8080/"
        },
        "id": "upHjSfiQ1RZf",
        "outputId": "453f84a7-7fe8-42ad-f648-31bb8f12139b"
      },
      "execution_count": null,
      "outputs": [
        {
          "output_type": "stream",
          "name": "stdout",
          "text": [
            "Reject the null hypothesis: There is a significant difference in math scores.\n"
          ]
        }
      ]
    },
    {
      "cell_type": "code",
      "source": [
        "pval<alpha"
      ],
      "metadata": {
        "colab": {
          "base_uri": "https://localhost:8080/"
        },
        "id": "mWugJjRl7ONp",
        "outputId": "94f03e20-339a-4fbc-c554-661b95c3a7ec"
      },
      "execution_count": null,
      "outputs": [
        {
          "output_type": "execute_result",
          "data": {
            "text/plain": [
              "np.True_"
            ]
          },
          "metadata": {},
          "execution_count": 168
        }
      ]
    },
    {
      "cell_type": "markdown",
      "source": [
        "Interpretation:\n",
        "\n",
        "There is a significant difference in math scores between students who completed the test preparation course and those who did not.\n",
        "\n",
        "pvalue is lesser to alpha so we can reject the null hypo!"
      ],
      "metadata": {
        "id": "adh6dxBG0NJY"
      }
    },
    {
      "cell_type": "code",
      "source": [],
      "metadata": {
        "id": "RbRIjUzhra8u"
      },
      "execution_count": null,
      "outputs": []
    }
  ]
}